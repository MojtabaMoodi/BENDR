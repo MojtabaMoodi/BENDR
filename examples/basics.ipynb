{
 "cells": [
  {
   "cell_type": "markdown",
   "metadata": {
    "collapsed": true,
    "pycharm": {
     "name": "#%% md\n"
    }
   },
   "source": [
    "Basics\n",
    "------\n",
    "This covers a fundamental use-case for DN<sup>3</sup>. Here, the TIDNet architecture from *Kostas & Rudzicz 2020\n",
    "(https://doi.org/10.1088/1741-2552/abb7a7)* is evaluated using the Physionet motor dataset in a\n",
    "*\"leave multiple subjects out\"* (aka person-stratified cross validation) training procedure.\n",
    "This means, the number of subjects are divided into approximately evenly numbered sets, and the test performance of\n",
    "each set is evaluated. The remaining sets for each test will be used to develop a neural network classifier.\n",
    "\n",
    "Here we will focus on classifying imagined hand vs. foot movement, which are the runs 6, 10 and 14. So create a\n",
    "configuration for the configuratron that specifies a single dataset, the length of the trials to cut for the dataset\n",
    " (6s), the events we are looking for (T1 and T2), and then to exclude all those sessions that are not 6, 10 and 14\n",
    "(the sessions by default are listed as \"S{subject number}R{run number}.edf\". Finally, due to some issues with a few\n",
    "people's recordings in the dataset, we can ignore those troublemakers. The following is the contents of a file named\n",
    "\"my_config.yml\".\n",
    "\n",
    "```yaml\n",
    "Configuratron:\n",
    "  preload: True\n",
    "\n",
    "use_gpu: False\n",
    "\n",
    "mmidb:\n",
    "  name: \"Physionet MMIDB\"\n",
    "  toplevel: /path/to/eegmmidb\n",
    "  tmin: 0\n",
    "  tlen: 6\n",
    "  data_max: 0.001\n",
    "  data_min: -0.001\n",
    "  events:\n",
    "    - T1\n",
    "    - T2\n",
    "  exclude_sessions:\n",
    "    - \"*R0[!48].edf\"  # equivalently \"*R0[1235679].edf\"\n",
    "    - \"*R1[!2].edf\"   # equivalently \"*R1[134].edf\"\n",
    "  exclude_people:\n",
    "    - S088\n",
    "    - S090\n",
    "    - S092\n",
    "    - S100\n",
    "  train_params:\n",
    "    epochs: 7\n",
    "    batch_size: 4\n",
    "  lr: 0.0001\n",
    "  folds: 5\n",
    "```\n",
    "\n",
    "Notice that in addition to the dataset and special `Configuratron` section we also include a `train_params` with the\n",
    "dataset.\n",
    "This last part is definitely *not mandatory*, it is an arbitrarily named additional set of configuration values that\n",
    "will be used in our experiment, put there for convenience. See it in action below, but if you don't like it,\n",
    "don't use it."
   ]
  },
  {
   "cell_type": "code",
   "execution_count": 1,
   "metadata": {
    "collapsed": false,
    "pycharm": {
     "name": "#%%\n"
    }
   },
   "outputs": [],
   "source": [
    "from dn3.configuratron import ExperimentConfig\n",
    "from dn3.trainable.processes import StandardClassification\n",
    "from dn3.trainable.models import TIDNet\n",
    "\n",
    "# Since we are doing a lot of loading, this is nice to suppress some tedious information\n",
    "import mne\n",
    "mne.set_log_level(False)"
   ]
  },
  {
   "cell_type": "markdown",
   "metadata": {
    "collapsed": false
   },
   "source": [
    "First things first, we use `ExperimentConfig`, and the subsequently constructed `DatasetConfig` to rapidly construct\n",
    "our `dataset`."
   ]
  },
  {
   "cell_type": "code",
   "execution_count": 2,
   "metadata": {
    "collapsed": false,
    "pycharm": {
     "name": "#%%\n"
    }
   },
   "outputs": [
    {
     "name": "stdout",
     "output_type": "stream",
     "text": [
      "Adding additional configuration entries: dict_keys(['train_params', 'folds', 'lr'])\n",
      "Configuratron found 1 datasets.\n"
     ]
    },
    {
     "name": "stderr",
     "output_type": "stream",
     "text": [
      "Scanning /Volumes/Data/MMI. If there are a lot of files, this may take a while...: 100%|██████████| 4/4 [00:00<00:00,  5.92it/s, extension=.gdf]\n"
     ]
    },
    {
     "name": "stdout",
     "output_type": "stream",
     "text": [
      "Creating dataset of 315 Preloaded Epoched recordings from 105 people.\n"
     ]
    },
    {
     "name": "stderr",
     "output_type": "stream",
     "text": [
      "Loading Physionet MMIDB: 100%|██████████| 105/105 [00:17<00:00,  5.94person/s]\n"
     ]
    },
    {
     "name": "stdout",
     "output_type": "stream",
     "text": [
      ">> Physionet MMIDB | DSID: None | 105 people | 4408 trials | 90 channels | 1536 samples/trial | 256Hz | 0 transforms\n",
      "Constructed 1 channel maps\n",
      "====================\n",
      "Used by 315 recordings:\n",
      "EEG (original(new)): Fc5.(FC5) Fc3.(FC3) Fc1.(FC1) Fcz.(FCZ) Fc2.(FC2) Fc4.(FC4) Fc6.(FC6) C5..(C5) C3..(C3) C1..(C1) Cz..(CZ) C2..(C2) C4..(C4) C6..(C6) Cp5.(CP5) Cp3.(CP3) Cp1.(CP1) Cpz.(CPZ) Cp2.(CP2) Cp4.(CP4) Cp6.(CP6) Fp1.(FP1) Fpz.(FPZ) Fp2.(FP2) Af7.(AF7) Af3.(AF3) Afz.(AFZ) Af4.(AF4) Af8.(AF8) F7..(F7) F5..(F5) F3..(F3) F1..(F1) Fz..(FZ) F2..(F2) F4..(F4) F6..(F6) F8..(F8) Ft7.(FT7) Ft8.(FT8) T7..(T7) T8..(T8) T9..(T9) T10.(T10) Tp7.(TP7) Tp8.(TP8) P7..(P7) P5..(P5) P3..(P3) P1..(P1) Pz..(PZ) P2..(P2) P4..(P4) P6..(P6) P8..(P8) Po7.(PO7) Po3.(PO3) Poz.(POZ) Po4.(PO4) Po8.(PO8) O1..(O1) Oz..(OZ) O2..(O2) Iz..(IZ) \n",
      "EOG (original(new)): \n",
      "REF (original(new)): \n",
      "EXTRA (original(new)): \n",
      "Heuristically Assigned: Fc5.(FC5)  Fc3.(FC3)  Fc1.(FC1)  Fcz.(FCZ)  Fc2.(FC2)  Fc4.(FC4)  Fc6.(FC6)  C5..(C5)  C3..(C3)  C1..(C1)  Cz..(CZ)  C2..(C2)  C4..(C4)  C6..(C6)  Cp5.(CP5)  Cp3.(CP3)  Cp1.(CP1)  Cpz.(CPZ)  Cp2.(CP2)  Cp4.(CP4)  Cp6.(CP6)  Fp1.(FP1)  Fpz.(FPZ)  Fp2.(FP2)  Af7.(AF7)  Af3.(AF3)  Afz.(AFZ)  Af4.(AF4)  Af8.(AF8)  F7..(F7)  F5..(F5)  F3..(F3)  F1..(F1)  Fz..(FZ)  F2..(F2)  F4..(F4)  F6..(F6)  F8..(F8)  Ft7.(FT7)  Ft8.(FT8)  T7..(T7)  T8..(T8)  T9..(T9)  T10.(T10)  Tp7.(TP7)  Tp8.(TP8)  P7..(P7)  P5..(P5)  P3..(P3)  P1..(P1)  Pz..(PZ)  P2..(P2)  P4..(P4)  P6..(P6)  P8..(P8)  Po7.(PO7)  Po3.(PO3)  Poz.(POZ)  Po4.(PO4)  Po8.(PO8)  O1..(O1)  Oz..(OZ)  O2..(O2)  Iz..(IZ) \n",
      "--------------------\n",
      "Excluded []\n",
      "====================\n"
     ]
    }
   ],
   "source": [
    "config_filename = 'my_config.yml'\n",
    "experiment = ExperimentConfig(config_filename)\n",
    "ds_config = experiment.datasets['mmidb']\n",
    "\n",
    "dataset = ds_config.auto_construct_dataset()"
   ]
  },
  {
   "cell_type": "markdown",
   "metadata": {
    "collapsed": false,
    "pycharm": {
     "name": "#%% md\n"
    }
   },
   "source": [
    "Let's create a function that makes a new model for each set of training people and a trainable process for\n",
    "`StandardClassification`. The `cuda` argument handles whether the GPU is used to train the neural network if a\n",
    "cuda-compatible PyTorch installation is operational."
   ]
  },
  {
   "cell_type": "code",
   "execution_count": 3,
   "metadata": {
    "collapsed": false,
    "pycharm": {
     "name": "#%%\n"
    }
   },
   "outputs": [],
   "source": [
    "def make_model_and_process():\n",
    "    tidnet = TIDNet.from_dataset(dataset)\n",
    "    return StandardClassification(tidnet, cuda=experiment.use_gpu, learning_rate=ds_config.lr)"
   ]
  },
  {
   "cell_type": "markdown",
   "metadata": {
    "collapsed": false
   },
   "source": [
    "That's pretty much it! We use a helper that initializes a TIDNet from any `Dataset/Thinker/EpochedRecording` and wrap\n",
    "it with a `StandardClassification` process. Invoking this process will train the classifier.\n",
    "Have a look through all the `trainable.processes`, they can wrap the *same model* to learn in stages (e.g. some sort\n",
    " of fine-tuning procedure from a general model -- covered in `examples/finetuning.ipynb`).\n",
    "\n",
    "Now, we loop through five folds, *leaving multiple subjects out* (`dataset.lmso()`), fit the classifier,\n",
    "then check the test results."
   ]
  },
  {
   "cell_type": "code",
   "execution_count": 4,
   "metadata": {},
   "outputs": [
    {
     "data": {
      "text/plain": [
       "{'epochs': 7, 'batch_size': 4}"
      ]
     },
     "execution_count": 4,
     "metadata": {},
     "output_type": "execute_result"
    }
   ],
   "source": [
    "vars(ds_config.train_params)"
   ]
  },
  {
   "cell_type": "code",
   "execution_count": 5,
   "metadata": {
    "collapsed": false,
    "pycharm": {
     "is_executing": true,
     "name": "#%%\n"
    }
   },
   "outputs": [
    {
     "name": "stdout",
     "output_type": "stream",
     "text": [
      "Training:   >> Physionet MMIDB | DSID: None | 63 people | 2646 trials | 90 channels | 1536 samples/trial | 256Hz | 0 transforms\n",
      "Validation: >> Physionet MMIDB | DSID: None | 21 people | 880 trials | 90 channels | 1536 samples/trial | 256Hz | 0 transforms\n",
      "Test:       >> Physionet MMIDB | DSID: None | 21 people | 882 trials | 90 channels | 1536 samples/trial | 256Hz | 0 transforms\n",
      "Creating TIDNet using: 90 channels x 1536 samples at 256Hz | 2 targets\n",
      "Apple M-series GPU detected: training and model execution will be performed on MPS.\n"
     ]
    },
    {
     "name": "stderr",
     "output_type": "stream",
     "text": [
      "/Users/mojtaba/Library/CloudStorage/OneDrive-UniversityofWaterloo/Think/Time Management/UWaterloo/Research/my research/BENDR/env/lib/python3.12/site-packages/torch/nn/utils/weight_norm.py:143: FutureWarning: `torch.nn.utils.weight_norm` is deprecated in favor of `torch.nn.utils.parametrizations.weight_norm`.\n",
      "  WeightNorm.apply(module, name, dim)\n"
     ]
    },
    {
     "name": "stdout",
     "output_type": "stream",
     "text": [
      "Loading data with 0 additional workers\n"
     ]
    },
    {
     "data": {
      "application/vnd.jupyter.widget-view+json": {
       "model_id": "fafe77a5d7f74fa88d999484d920e77a",
       "version_major": 2,
       "version_minor": 0
      },
      "text/plain": [
       "Epoch:  14%|#4        | 1/7 [00:00<?, ?epoch/s]"
      ]
     },
     "metadata": {},
     "output_type": "display_data"
    },
    {
     "data": {
      "application/vnd.jupyter.widget-view+json": {
       "model_id": "a5b4d14b6727421d8189b0029ff2e490",
       "version_major": 2,
       "version_minor": 0
      },
      "text/plain": [
       "Iteration:   0%|          | 1/661 [00:00<?, ?batches/s]"
      ]
     },
     "metadata": {},
     "output_type": "display_data"
    },
    {
     "name": "stdout",
     "output_type": "stream",
     "text": [
      "Training: End of Epoch 1 | Accuracy: 63.99% | loss: 0.708 | lr: 3.539e-05 | momentum: 0.917 | epoch: 1.000 |\n"
     ]
    },
    {
     "data": {
      "application/vnd.jupyter.widget-view+json": {
       "model_id": "1b3f525a091c4c0987b85ab96b6328aa",
       "version_major": 2,
       "version_minor": 0
      },
      "text/plain": [
       "Predicting:   0%|          | 0/220 [00:00<?, ?it/s]"
      ]
     },
     "metadata": {},
     "output_type": "display_data"
    },
    {
     "name": "stdout",
     "output_type": "stream",
     "text": [
      "Validation: End of Epoch 1 | Accuracy: 80.45% | loss: 0.408 |\n",
      "Best loss. Retaining checkpoint...\n"
     ]
    },
    {
     "data": {
      "application/vnd.jupyter.widget-view+json": {
       "model_id": "8a829b0495c44484ae970779fcbe8420",
       "version_major": 2,
       "version_minor": 0
      },
      "text/plain": [
       "Iteration:   0%|          | 1/661 [00:00<?, ?batches/s]"
      ]
     },
     "metadata": {},
     "output_type": "display_data"
    },
    {
     "name": "stdout",
     "output_type": "stream",
     "text": [
      "Training: End of Epoch 2 | Accuracy: 83.09% | loss: 0.389 | lr: 9.699e-05 | momentum: 0.853 | epoch: 2.000 |\n"
     ]
    },
    {
     "data": {
      "application/vnd.jupyter.widget-view+json": {
       "model_id": "8cd170ced2f440b786677191f8a648a3",
       "version_major": 2,
       "version_minor": 0
      },
      "text/plain": [
       "Predicting:   0%|          | 0/220 [00:00<?, ?it/s]"
      ]
     },
     "metadata": {},
     "output_type": "display_data"
    },
    {
     "name": "stdout",
     "output_type": "stream",
     "text": [
      "Validation: End of Epoch 2 | Accuracy: 82.95% | loss: 0.368 |\n",
      "Best loss. Retaining checkpoint...\n"
     ]
    },
    {
     "data": {
      "application/vnd.jupyter.widget-view+json": {
       "model_id": "2253629892214762930c9d4be10a911a",
       "version_major": 2,
       "version_minor": 0
      },
      "text/plain": [
       "Iteration:   0%|          | 1/661 [00:00<?, ?batches/s]"
      ]
     },
     "metadata": {},
     "output_type": "display_data"
    },
    {
     "name": "stdout",
     "output_type": "stream",
     "text": [
      "Training: End of Epoch 3 | Accuracy: 85.36% | loss: 0.337 | lr: 9.021e-05 | momentum: 0.860 | epoch: 3.000 |\n"
     ]
    },
    {
     "data": {
      "application/vnd.jupyter.widget-view+json": {
       "model_id": "d03b729dfbca4e2582075a8a13d49761",
       "version_major": 2,
       "version_minor": 0
      },
      "text/plain": [
       "Predicting:   0%|          | 0/220 [00:00<?, ?it/s]"
      ]
     },
     "metadata": {},
     "output_type": "display_data"
    },
    {
     "name": "stdout",
     "output_type": "stream",
     "text": [
      "Validation: End of Epoch 3 | Accuracy: 84.66% | loss: 0.344 |\n",
      "Best loss. Retaining checkpoint...\n"
     ]
    },
    {
     "data": {
      "application/vnd.jupyter.widget-view+json": {
       "model_id": "73e845f427464594b07ca8b2957b3eeb",
       "version_major": 2,
       "version_minor": 0
      },
      "text/plain": [
       "Iteration:   0%|          | 1/661 [00:00<?, ?batches/s]"
      ]
     },
     "metadata": {},
     "output_type": "display_data"
    },
    {
     "name": "stdout",
     "output_type": "stream",
     "text": [
      "Training: End of Epoch 4 | Accuracy: 87.10% | loss: 0.307 | lr: 6.883e-05 | momentum: 0.881 | epoch: 4.000 |\n"
     ]
    },
    {
     "data": {
      "application/vnd.jupyter.widget-view+json": {
       "model_id": "3737eaad2efd4d28bd488342d036d7f8",
       "version_major": 2,
       "version_minor": 0
      },
      "text/plain": [
       "Predicting:   0%|          | 0/220 [00:00<?, ?it/s]"
      ]
     },
     "metadata": {},
     "output_type": "display_data"
    },
    {
     "name": "stdout",
     "output_type": "stream",
     "text": [
      "Validation: End of Epoch 4 | Accuracy: 85.68% | loss: 0.323 |\n",
      "Best loss. Retaining checkpoint...\n"
     ]
    },
    {
     "data": {
      "application/vnd.jupyter.widget-view+json": {
       "model_id": "3e77e7298ff94be38f06b7275256a56a",
       "version_major": 2,
       "version_minor": 0
      },
      "text/plain": [
       "Iteration:   0%|          | 1/661 [00:00<?, ?batches/s]"
      ]
     },
     "metadata": {},
     "output_type": "display_data"
    },
    {
     "name": "stdout",
     "output_type": "stream",
     "text": [
      "Training: End of Epoch 5 | Accuracy: 88.62% | loss: 0.285 | lr: 4.167e-05 | momentum: 0.908 | epoch: 5.000 |\n"
     ]
    },
    {
     "data": {
      "application/vnd.jupyter.widget-view+json": {
       "model_id": "18f60bebdb9e45bca4f3474bfd6d2e8a",
       "version_major": 2,
       "version_minor": 0
      },
      "text/plain": [
       "Predicting:   0%|          | 0/220 [00:00<?, ?it/s]"
      ]
     },
     "metadata": {},
     "output_type": "display_data"
    },
    {
     "name": "stdout",
     "output_type": "stream",
     "text": [
      "Validation: End of Epoch 5 | Accuracy: 84.89% | loss: 0.342 |\n"
     ]
    },
    {
     "data": {
      "application/vnd.jupyter.widget-view+json": {
       "model_id": "5d0c432b40284036a6f150961f35f461",
       "version_major": 2,
       "version_minor": 0
      },
      "text/plain": [
       "Iteration:   0%|          | 1/661 [00:00<?, ?batches/s]"
      ]
     },
     "metadata": {},
     "output_type": "display_data"
    },
    {
     "name": "stdout",
     "output_type": "stream",
     "text": [
      "Training: End of Epoch 6 | Accuracy: 88.69% | loss: 0.259 | lr: 1.707e-05 | momentum: 0.933 | epoch: 6.000 |\n"
     ]
    },
    {
     "data": {
      "application/vnd.jupyter.widget-view+json": {
       "model_id": "d2f84aeebf8a4f42be1814cd7af947f5",
       "version_major": 2,
       "version_minor": 0
      },
      "text/plain": [
       "Predicting:   0%|          | 0/220 [00:00<?, ?it/s]"
      ]
     },
     "metadata": {},
     "output_type": "display_data"
    },
    {
     "name": "stdout",
     "output_type": "stream",
     "text": [
      "Validation: End of Epoch 6 | Accuracy: 84.89% | loss: 0.331 |\n"
     ]
    },
    {
     "data": {
      "application/vnd.jupyter.widget-view+json": {
       "model_id": "5015f721e5f84cdb8ef1b43fdff8b10e",
       "version_major": 2,
       "version_minor": 0
      },
      "text/plain": [
       "Iteration:   0%|          | 1/661 [00:00<?, ?batches/s]"
      ]
     },
     "metadata": {},
     "output_type": "display_data"
    },
    {
     "name": "stdout",
     "output_type": "stream",
     "text": [
      "Training: End of Epoch 7 | Accuracy: 90.32% | loss: 0.232 | lr: 2.565e-06 | momentum: 0.947 | epoch: 7.000 |\n"
     ]
    },
    {
     "data": {
      "application/vnd.jupyter.widget-view+json": {
       "model_id": "d49d0b42fe7f40a38529b98eb674e088",
       "version_major": 2,
       "version_minor": 0
      },
      "text/plain": [
       "Predicting:   0%|          | 0/220 [00:00<?, ?it/s]"
      ]
     },
     "metadata": {},
     "output_type": "display_data"
    },
    {
     "name": "stdout",
     "output_type": "stream",
     "text": [
      "Validation: End of Epoch 7 | Accuracy: 85.23% | loss: 0.331 |\n",
      "Loading best model...\n"
     ]
    },
    {
     "data": {
      "application/vnd.jupyter.widget-view+json": {
       "model_id": "0a739a81978a404083b093eb99c4986e",
       "version_major": 2,
       "version_minor": 0
      },
      "text/plain": [
       "Predicting:   0%|          | 0/882 [00:00<?, ?it/s]"
      ]
     },
     "metadata": {},
     "output_type": "display_data"
    },
    {
     "name": "stdout",
     "output_type": "stream",
     "text": [
      "Training:   >> Physionet MMIDB | DSID: None | 63 people | 2644 trials | 90 channels | 1536 samples/trial | 256Hz | 0 transforms\n",
      "Validation: >> Physionet MMIDB | DSID: None | 21 people | 882 trials | 90 channels | 1536 samples/trial | 256Hz | 0 transforms\n",
      "Test:       >> Physionet MMIDB | DSID: None | 21 people | 882 trials | 90 channels | 1536 samples/trial | 256Hz | 0 transforms\n",
      "Creating TIDNet using: 90 channels x 1536 samples at 256Hz | 2 targets\n",
      "Apple M-series GPU detected: training and model execution will be performed on MPS.\n",
      "Loading data with 0 additional workers\n"
     ]
    },
    {
     "name": "stderr",
     "output_type": "stream",
     "text": [
      "/Users/mojtaba/Library/CloudStorage/OneDrive-UniversityofWaterloo/Think/Time Management/UWaterloo/Research/my research/BENDR/env/lib/python3.12/site-packages/torch/nn/utils/weight_norm.py:143: FutureWarning: `torch.nn.utils.weight_norm` is deprecated in favor of `torch.nn.utils.parametrizations.weight_norm`.\n",
      "  WeightNorm.apply(module, name, dim)\n"
     ]
    },
    {
     "data": {
      "application/vnd.jupyter.widget-view+json": {
       "model_id": "c7ccb068d65d423580eec2795bbdb87c",
       "version_major": 2,
       "version_minor": 0
      },
      "text/plain": [
       "Epoch:  14%|#4        | 1/7 [00:00<?, ?epoch/s]"
      ]
     },
     "metadata": {},
     "output_type": "display_data"
    },
    {
     "data": {
      "application/vnd.jupyter.widget-view+json": {
       "model_id": "994f544ebb5042278710a761a6d139f8",
       "version_major": 2,
       "version_minor": 0
      },
      "text/plain": [
       "Iteration:   0%|          | 1/661 [00:00<?, ?batches/s]"
      ]
     },
     "metadata": {},
     "output_type": "display_data"
    },
    {
     "name": "stdout",
     "output_type": "stream",
     "text": [
      "Training: End of Epoch 1 | Accuracy: 63.99% | loss: 0.690 | lr: 3.539e-05 | momentum: 0.917 | epoch: 1.000 |\n"
     ]
    },
    {
     "data": {
      "application/vnd.jupyter.widget-view+json": {
       "model_id": "61aeca3cba924c3c91233a233722f05d",
       "version_major": 2,
       "version_minor": 0
      },
      "text/plain": [
       "Predicting:   0%|          | 0/221 [00:00<?, ?it/s]"
      ]
     },
     "metadata": {},
     "output_type": "display_data"
    },
    {
     "name": "stdout",
     "output_type": "stream",
     "text": [
      "Validation: End of Epoch 1 | Accuracy: 85.37% | loss: 0.363 |\n",
      "Best loss. Retaining checkpoint...\n"
     ]
    },
    {
     "data": {
      "application/vnd.jupyter.widget-view+json": {
       "model_id": "333793c3ef27417ab08dc76342da2938",
       "version_major": 2,
       "version_minor": 0
      },
      "text/plain": [
       "Iteration:   0%|          | 1/661 [00:00<?, ?batches/s]"
      ]
     },
     "metadata": {},
     "output_type": "display_data"
    },
    {
     "name": "stdout",
     "output_type": "stream",
     "text": [
      "Training: End of Epoch 2 | Accuracy: 82.72% | loss: 0.398 | lr: 9.699e-05 | momentum: 0.853 | epoch: 2.000 |\n"
     ]
    },
    {
     "data": {
      "application/vnd.jupyter.widget-view+json": {
       "model_id": "9b326b1c0685414e8150120db706af0b",
       "version_major": 2,
       "version_minor": 0
      },
      "text/plain": [
       "Predicting:   0%|          | 0/221 [00:00<?, ?it/s]"
      ]
     },
     "metadata": {},
     "output_type": "display_data"
    },
    {
     "name": "stdout",
     "output_type": "stream",
     "text": [
      "Validation: End of Epoch 2 | Accuracy: 87.07% | loss: 0.306 |\n",
      "Best loss. Retaining checkpoint...\n"
     ]
    },
    {
     "data": {
      "application/vnd.jupyter.widget-view+json": {
       "model_id": "fed2c0957bb84c9b84a857c9740ab9a9",
       "version_major": 2,
       "version_minor": 0
      },
      "text/plain": [
       "Iteration:   0%|          | 1/661 [00:00<?, ?batches/s]"
      ]
     },
     "metadata": {},
     "output_type": "display_data"
    },
    {
     "name": "stdout",
     "output_type": "stream",
     "text": [
      "Training: End of Epoch 3 | Accuracy: 85.25% | loss: 0.346 | lr: 9.021e-05 | momentum: 0.860 | epoch: 3.000 |\n"
     ]
    },
    {
     "data": {
      "application/vnd.jupyter.widget-view+json": {
       "model_id": "7eee41a71e1843408a0d991fb6f4218f",
       "version_major": 2,
       "version_minor": 0
      },
      "text/plain": [
       "Predicting:   0%|          | 0/221 [00:00<?, ?it/s]"
      ]
     },
     "metadata": {},
     "output_type": "display_data"
    },
    {
     "name": "stdout",
     "output_type": "stream",
     "text": [
      "Validation: End of Epoch 3 | Accuracy: 88.89% | loss: 0.277 |\n",
      "Best loss. Retaining checkpoint...\n"
     ]
    },
    {
     "data": {
      "application/vnd.jupyter.widget-view+json": {
       "model_id": "a01bd897855c48faa1c736d658042ef7",
       "version_major": 2,
       "version_minor": 0
      },
      "text/plain": [
       "Iteration:   0%|          | 1/661 [00:00<?, ?batches/s]"
      ]
     },
     "metadata": {},
     "output_type": "display_data"
    },
    {
     "name": "stdout",
     "output_type": "stream",
     "text": [
      "Training: End of Epoch 4 | Accuracy: 85.36% | loss: 0.323 | lr: 6.883e-05 | momentum: 0.881 | epoch: 4.000 |\n"
     ]
    },
    {
     "data": {
      "application/vnd.jupyter.widget-view+json": {
       "model_id": "f0339a34aa7b452cb4d11d7e32b2e0ad",
       "version_major": 2,
       "version_minor": 0
      },
      "text/plain": [
       "Predicting:   0%|          | 0/221 [00:00<?, ?it/s]"
      ]
     },
     "metadata": {},
     "output_type": "display_data"
    },
    {
     "name": "stdout",
     "output_type": "stream",
     "text": [
      "Validation: End of Epoch 4 | Accuracy: 88.78% | loss: 0.267 |\n",
      "Best loss. Retaining checkpoint...\n"
     ]
    },
    {
     "data": {
      "application/vnd.jupyter.widget-view+json": {
       "model_id": "ac69e0dd83364d0ba75c7cf08fb1d00f",
       "version_major": 2,
       "version_minor": 0
      },
      "text/plain": [
       "Iteration:   0%|          | 1/661 [00:00<?, ?batches/s]"
      ]
     },
     "metadata": {},
     "output_type": "display_data"
    },
    {
     "name": "stdout",
     "output_type": "stream",
     "text": [
      "Training: End of Epoch 5 | Accuracy: 87.03% | loss: 0.296 | lr: 4.167e-05 | momentum: 0.908 | epoch: 5.000 |\n"
     ]
    },
    {
     "data": {
      "application/vnd.jupyter.widget-view+json": {
       "model_id": "5595a7ed7bb74a309907e220e300d132",
       "version_major": 2,
       "version_minor": 0
      },
      "text/plain": [
       "Predicting:   0%|          | 0/221 [00:00<?, ?it/s]"
      ]
     },
     "metadata": {},
     "output_type": "display_data"
    },
    {
     "name": "stdout",
     "output_type": "stream",
     "text": [
      "Validation: End of Epoch 5 | Accuracy: 88.89% | loss: 0.267 |\n",
      "Best loss. Retaining checkpoint...\n"
     ]
    },
    {
     "data": {
      "application/vnd.jupyter.widget-view+json": {
       "model_id": "c6e1835e76ef428ea9c67b873403a63f",
       "version_major": 2,
       "version_minor": 0
      },
      "text/plain": [
       "Iteration:   0%|          | 1/661 [00:00<?, ?batches/s]"
      ]
     },
     "metadata": {},
     "output_type": "display_data"
    },
    {
     "name": "stdout",
     "output_type": "stream",
     "text": [
      "Training: End of Epoch 6 | Accuracy: 89.22% | loss: 0.263 | lr: 1.707e-05 | momentum: 0.933 | epoch: 6.000 |\n"
     ]
    },
    {
     "data": {
      "application/vnd.jupyter.widget-view+json": {
       "model_id": "1eab89591cfc4afa980cd06bc077dd40",
       "version_major": 2,
       "version_minor": 0
      },
      "text/plain": [
       "Predicting:   0%|          | 0/221 [00:00<?, ?it/s]"
      ]
     },
     "metadata": {},
     "output_type": "display_data"
    },
    {
     "name": "stdout",
     "output_type": "stream",
     "text": [
      "Validation: End of Epoch 6 | Accuracy: 90.36% | loss: 0.252 |\n",
      "Best loss. Retaining checkpoint...\n"
     ]
    },
    {
     "data": {
      "application/vnd.jupyter.widget-view+json": {
       "model_id": "2a172f6db06542c0b300ae579ae31495",
       "version_major": 2,
       "version_minor": 0
      },
      "text/plain": [
       "Iteration:   0%|          | 1/661 [00:00<?, ?batches/s]"
      ]
     },
     "metadata": {},
     "output_type": "display_data"
    },
    {
     "name": "stdout",
     "output_type": "stream",
     "text": [
      "Training: End of Epoch 7 | Accuracy: 89.83% | loss: 0.240 | lr: 2.565e-06 | momentum: 0.947 | epoch: 7.000 |\n"
     ]
    },
    {
     "data": {
      "application/vnd.jupyter.widget-view+json": {
       "model_id": "1179741f6fae4574b9e0da77d4b02e91",
       "version_major": 2,
       "version_minor": 0
      },
      "text/plain": [
       "Predicting:   0%|          | 0/221 [00:00<?, ?it/s]"
      ]
     },
     "metadata": {},
     "output_type": "display_data"
    },
    {
     "name": "stdout",
     "output_type": "stream",
     "text": [
      "Validation: End of Epoch 7 | Accuracy: 90.36% | loss: 0.246 |\n",
      "Best loss. Retaining checkpoint...\n",
      "Loading best model...\n"
     ]
    },
    {
     "data": {
      "application/vnd.jupyter.widget-view+json": {
       "model_id": "e0076bfa175147c1935ce9d110eb469d",
       "version_major": 2,
       "version_minor": 0
      },
      "text/plain": [
       "Predicting:   0%|          | 0/882 [00:00<?, ?it/s]"
      ]
     },
     "metadata": {},
     "output_type": "display_data"
    },
    {
     "name": "stdout",
     "output_type": "stream",
     "text": [
      "Training:   >> Physionet MMIDB | DSID: None | 63 people | 2644 trials | 90 channels | 1536 samples/trial | 256Hz | 0 transforms\n",
      "Validation: >> Physionet MMIDB | DSID: None | 21 people | 882 trials | 90 channels | 1536 samples/trial | 256Hz | 0 transforms\n",
      "Test:       >> Physionet MMIDB | DSID: None | 21 people | 882 trials | 90 channels | 1536 samples/trial | 256Hz | 0 transforms\n",
      "Creating TIDNet using: 90 channels x 1536 samples at 256Hz | 2 targets\n",
      "Apple M-series GPU detected: training and model execution will be performed on MPS.\n",
      "Loading data with 0 additional workers\n"
     ]
    },
    {
     "data": {
      "application/vnd.jupyter.widget-view+json": {
       "model_id": "eae8836cb86a4e2cb170600127eb812c",
       "version_major": 2,
       "version_minor": 0
      },
      "text/plain": [
       "Epoch:  14%|#4        | 1/7 [00:00<?, ?epoch/s]"
      ]
     },
     "metadata": {},
     "output_type": "display_data"
    },
    {
     "data": {
      "application/vnd.jupyter.widget-view+json": {
       "model_id": "6db17e7cfccb47fdbed75ba7de8caf1e",
       "version_major": 2,
       "version_minor": 0
      },
      "text/plain": [
       "Iteration:   0%|          | 1/661 [00:00<?, ?batches/s]"
      ]
     },
     "metadata": {},
     "output_type": "display_data"
    },
    {
     "name": "stdout",
     "output_type": "stream",
     "text": [
      "Training: End of Epoch 1 | Accuracy: 65.89% | loss: 0.676 | lr: 3.539e-05 | momentum: 0.917 | epoch: 1.000 |\n"
     ]
    },
    {
     "data": {
      "application/vnd.jupyter.widget-view+json": {
       "model_id": "83064e43e4d54d2bb9a7250388e12297",
       "version_major": 2,
       "version_minor": 0
      },
      "text/plain": [
       "Predicting:   0%|          | 0/221 [00:00<?, ?it/s]"
      ]
     },
     "metadata": {},
     "output_type": "display_data"
    },
    {
     "name": "stdout",
     "output_type": "stream",
     "text": [
      "Validation: End of Epoch 1 | Accuracy: 83.79% | loss: 0.375 |\n",
      "Best loss. Retaining checkpoint...\n"
     ]
    },
    {
     "data": {
      "application/vnd.jupyter.widget-view+json": {
       "model_id": "6b524e9644234807a961d79cd0adb156",
       "version_major": 2,
       "version_minor": 0
      },
      "text/plain": [
       "Iteration:   0%|          | 1/661 [00:00<?, ?batches/s]"
      ]
     },
     "metadata": {},
     "output_type": "display_data"
    },
    {
     "name": "stdout",
     "output_type": "stream",
     "text": [
      "Training: End of Epoch 2 | Accuracy: 81.77% | loss: 0.428 | lr: 9.699e-05 | momentum: 0.853 | epoch: 2.000 |\n"
     ]
    },
    {
     "data": {
      "application/vnd.jupyter.widget-view+json": {
       "model_id": "b4e8a50c5cea4905805fe884a64de62a",
       "version_major": 2,
       "version_minor": 0
      },
      "text/plain": [
       "Predicting:   0%|          | 0/221 [00:00<?, ?it/s]"
      ]
     },
     "metadata": {},
     "output_type": "display_data"
    },
    {
     "name": "stdout",
     "output_type": "stream",
     "text": [
      "Validation: End of Epoch 2 | Accuracy: 86.51% | loss: 0.329 |\n",
      "Best loss. Retaining checkpoint...\n"
     ]
    },
    {
     "data": {
      "application/vnd.jupyter.widget-view+json": {
       "model_id": "1bae75e1296943ba82e776cd8619392e",
       "version_major": 2,
       "version_minor": 0
      },
      "text/plain": [
       "Iteration:   0%|          | 1/661 [00:00<?, ?batches/s]"
      ]
     },
     "metadata": {},
     "output_type": "display_data"
    },
    {
     "name": "stdout",
     "output_type": "stream",
     "text": [
      "Training: End of Epoch 3 | Accuracy: 85.29% | loss: 0.357 | lr: 9.021e-05 | momentum: 0.860 | epoch: 3.000 |\n"
     ]
    },
    {
     "data": {
      "application/vnd.jupyter.widget-view+json": {
       "model_id": "81d0f067539347f09863c6d2633b9940",
       "version_major": 2,
       "version_minor": 0
      },
      "text/plain": [
       "Predicting:   0%|          | 0/221 [00:00<?, ?it/s]"
      ]
     },
     "metadata": {},
     "output_type": "display_data"
    },
    {
     "name": "stdout",
     "output_type": "stream",
     "text": [
      "Validation: End of Epoch 3 | Accuracy: 86.62% | loss: 0.324 |\n",
      "Best loss. Retaining checkpoint...\n"
     ]
    },
    {
     "data": {
      "application/vnd.jupyter.widget-view+json": {
       "model_id": "a979496d61194a05b6b61760219c6520",
       "version_major": 2,
       "version_minor": 0
      },
      "text/plain": [
       "Iteration:   0%|          | 1/661 [00:00<?, ?batches/s]"
      ]
     },
     "metadata": {},
     "output_type": "display_data"
    },
    {
     "name": "stdout",
     "output_type": "stream",
     "text": [
      "Training: End of Epoch 4 | Accuracy: 86.50% | loss: 0.319 | lr: 6.883e-05 | momentum: 0.881 | epoch: 4.000 |\n"
     ]
    },
    {
     "data": {
      "application/vnd.jupyter.widget-view+json": {
       "model_id": "91e4993effc849378f3bfbcb366e8bf5",
       "version_major": 2,
       "version_minor": 0
      },
      "text/plain": [
       "Predicting:   0%|          | 0/221 [00:00<?, ?it/s]"
      ]
     },
     "metadata": {},
     "output_type": "display_data"
    },
    {
     "name": "stdout",
     "output_type": "stream",
     "text": [
      "Validation: End of Epoch 4 | Accuracy: 87.87% | loss: 0.307 |\n",
      "Best loss. Retaining checkpoint...\n"
     ]
    },
    {
     "data": {
      "application/vnd.jupyter.widget-view+json": {
       "model_id": "ad940fd9555b4d489c9729275f05e3cf",
       "version_major": 2,
       "version_minor": 0
      },
      "text/plain": [
       "Iteration:   0%|          | 1/661 [00:00<?, ?batches/s]"
      ]
     },
     "metadata": {},
     "output_type": "display_data"
    },
    {
     "name": "stdout",
     "output_type": "stream",
     "text": [
      "Training: End of Epoch 5 | Accuracy: 87.75% | loss: 0.284 | lr: 4.167e-05 | momentum: 0.908 | epoch: 5.000 |\n"
     ]
    },
    {
     "data": {
      "application/vnd.jupyter.widget-view+json": {
       "model_id": "39f8675f08eb4a45abee3b0f08794b89",
       "version_major": 2,
       "version_minor": 0
      },
      "text/plain": [
       "Predicting:   0%|          | 0/221 [00:00<?, ?it/s]"
      ]
     },
     "metadata": {},
     "output_type": "display_data"
    },
    {
     "name": "stdout",
     "output_type": "stream",
     "text": [
      "Validation: End of Epoch 5 | Accuracy: 88.55% | loss: 0.297 |\n",
      "Best loss. Retaining checkpoint...\n"
     ]
    },
    {
     "data": {
      "application/vnd.jupyter.widget-view+json": {
       "model_id": "e1eaca489492426ca175031a4fadeb30",
       "version_major": 2,
       "version_minor": 0
      },
      "text/plain": [
       "Iteration:   0%|          | 1/661 [00:00<?, ?batches/s]"
      ]
     },
     "metadata": {},
     "output_type": "display_data"
    },
    {
     "name": "stdout",
     "output_type": "stream",
     "text": [
      "Training: End of Epoch 6 | Accuracy: 88.43% | loss: 0.276 | lr: 1.707e-05 | momentum: 0.933 | epoch: 6.000 |\n"
     ]
    },
    {
     "data": {
      "application/vnd.jupyter.widget-view+json": {
       "model_id": "68e8fc461eed4469a52743c0607540c5",
       "version_major": 2,
       "version_minor": 0
      },
      "text/plain": [
       "Predicting:   0%|          | 0/221 [00:00<?, ?it/s]"
      ]
     },
     "metadata": {},
     "output_type": "display_data"
    },
    {
     "name": "stdout",
     "output_type": "stream",
     "text": [
      "Validation: End of Epoch 6 | Accuracy: 88.55% | loss: 0.304 |\n"
     ]
    },
    {
     "data": {
      "application/vnd.jupyter.widget-view+json": {
       "model_id": "c2bb56b3c2c54bb6a46ca0c6bdccab6a",
       "version_major": 2,
       "version_minor": 0
      },
      "text/plain": [
       "Iteration:   0%|          | 1/661 [00:00<?, ?batches/s]"
      ]
     },
     "metadata": {},
     "output_type": "display_data"
    },
    {
     "name": "stdout",
     "output_type": "stream",
     "text": [
      "Training: End of Epoch 7 | Accuracy: 89.83% | loss: 0.244 | lr: 2.565e-06 | momentum: 0.947 | epoch: 7.000 |\n"
     ]
    },
    {
     "data": {
      "application/vnd.jupyter.widget-view+json": {
       "model_id": "58f7d7251cd248259f15714406b05477",
       "version_major": 2,
       "version_minor": 0
      },
      "text/plain": [
       "Predicting:   0%|          | 0/221 [00:00<?, ?it/s]"
      ]
     },
     "metadata": {},
     "output_type": "display_data"
    },
    {
     "name": "stdout",
     "output_type": "stream",
     "text": [
      "Validation: End of Epoch 7 | Accuracy: 88.32% | loss: 0.303 |\n",
      "Loading best model...\n"
     ]
    },
    {
     "data": {
      "application/vnd.jupyter.widget-view+json": {
       "model_id": "7463277f13e64fbea20bd32a0ace9979",
       "version_major": 2,
       "version_minor": 0
      },
      "text/plain": [
       "Predicting:   0%|          | 0/882 [00:00<?, ?it/s]"
      ]
     },
     "metadata": {},
     "output_type": "display_data"
    },
    {
     "name": "stdout",
     "output_type": "stream",
     "text": [
      "Training:   >> Physionet MMIDB | DSID: None | 63 people | 2644 trials | 90 channels | 1536 samples/trial | 256Hz | 0 transforms\n",
      "Validation: >> Physionet MMIDB | DSID: None | 21 people | 882 trials | 90 channels | 1536 samples/trial | 256Hz | 0 transforms\n",
      "Test:       >> Physionet MMIDB | DSID: None | 21 people | 882 trials | 90 channels | 1536 samples/trial | 256Hz | 0 transforms\n",
      "Creating TIDNet using: 90 channels x 1536 samples at 256Hz | 2 targets\n",
      "Apple M-series GPU detected: training and model execution will be performed on MPS.\n",
      "Loading data with 0 additional workers\n"
     ]
    },
    {
     "data": {
      "application/vnd.jupyter.widget-view+json": {
       "model_id": "7df4aee3faa44cc29cd973eb9fccec03",
       "version_major": 2,
       "version_minor": 0
      },
      "text/plain": [
       "Epoch:  14%|#4        | 1/7 [00:00<?, ?epoch/s]"
      ]
     },
     "metadata": {},
     "output_type": "display_data"
    },
    {
     "data": {
      "application/vnd.jupyter.widget-view+json": {
       "model_id": "3788f797a8f64d43ac5edfdfd7a927ea",
       "version_major": 2,
       "version_minor": 0
      },
      "text/plain": [
       "Iteration:   0%|          | 1/661 [00:00<?, ?batches/s]"
      ]
     },
     "metadata": {},
     "output_type": "display_data"
    },
    {
     "name": "stdout",
     "output_type": "stream",
     "text": [
      "Training: End of Epoch 1 | Accuracy: 65.17% | loss: 0.687 | lr: 3.539e-05 | momentum: 0.917 | epoch: 1.000 |\n"
     ]
    },
    {
     "data": {
      "application/vnd.jupyter.widget-view+json": {
       "model_id": "c6bb8110f0c54090b391989808d8fa32",
       "version_major": 2,
       "version_minor": 0
      },
      "text/plain": [
       "Predicting:   0%|          | 0/221 [00:00<?, ?it/s]"
      ]
     },
     "metadata": {},
     "output_type": "display_data"
    },
    {
     "name": "stdout",
     "output_type": "stream",
     "text": [
      "Validation: End of Epoch 1 | Accuracy: 85.60% | loss: 0.363 |\n",
      "Best loss. Retaining checkpoint...\n"
     ]
    },
    {
     "data": {
      "application/vnd.jupyter.widget-view+json": {
       "model_id": "1f8041bb46c94c73be5826ae3a1e9418",
       "version_major": 2,
       "version_minor": 0
      },
      "text/plain": [
       "Iteration:   0%|          | 1/661 [00:00<?, ?batches/s]"
      ]
     },
     "metadata": {},
     "output_type": "display_data"
    },
    {
     "name": "stdout",
     "output_type": "stream",
     "text": [
      "Training: End of Epoch 2 | Accuracy: 83.59% | loss: 0.384 | lr: 9.699e-05 | momentum: 0.853 | epoch: 2.000 |\n"
     ]
    },
    {
     "data": {
      "application/vnd.jupyter.widget-view+json": {
       "model_id": "d970123efef84f96a698783d8ae91d94",
       "version_major": 2,
       "version_minor": 0
      },
      "text/plain": [
       "Predicting:   0%|          | 0/221 [00:00<?, ?it/s]"
      ]
     },
     "metadata": {},
     "output_type": "display_data"
    },
    {
     "name": "stdout",
     "output_type": "stream",
     "text": [
      "Validation: End of Epoch 2 | Accuracy: 88.78% | loss: 0.280 |\n",
      "Best loss. Retaining checkpoint...\n"
     ]
    },
    {
     "data": {
      "application/vnd.jupyter.widget-view+json": {
       "model_id": "78b3e3775949458b981c948ef82dc59d",
       "version_major": 2,
       "version_minor": 0
      },
      "text/plain": [
       "Iteration:   0%|          | 1/661 [00:00<?, ?batches/s]"
      ]
     },
     "metadata": {},
     "output_type": "display_data"
    },
    {
     "name": "stdout",
     "output_type": "stream",
     "text": [
      "Training: End of Epoch 3 | Accuracy: 85.97% | loss: 0.329 | lr: 9.021e-05 | momentum: 0.860 | epoch: 3.000 |\n"
     ]
    },
    {
     "data": {
      "application/vnd.jupyter.widget-view+json": {
       "model_id": "dc29980488db442ba80e6b6ef276c4cc",
       "version_major": 2,
       "version_minor": 0
      },
      "text/plain": [
       "Predicting:   0%|          | 0/221 [00:00<?, ?it/s]"
      ]
     },
     "metadata": {},
     "output_type": "display_data"
    },
    {
     "name": "stdout",
     "output_type": "stream",
     "text": [
      "Validation: End of Epoch 3 | Accuracy: 90.59% | loss: 0.236 |\n",
      "Best loss. Retaining checkpoint...\n"
     ]
    },
    {
     "data": {
      "application/vnd.jupyter.widget-view+json": {
       "model_id": "076cd0ea488a4adab37e072f99d1f200",
       "version_major": 2,
       "version_minor": 0
      },
      "text/plain": [
       "Iteration:   0%|          | 1/661 [00:00<?, ?batches/s]"
      ]
     },
     "metadata": {},
     "output_type": "display_data"
    },
    {
     "name": "stdout",
     "output_type": "stream",
     "text": [
      "Training: End of Epoch 4 | Accuracy: 87.33% | loss: 0.302 | lr: 6.883e-05 | momentum: 0.881 | epoch: 4.000 |\n"
     ]
    },
    {
     "data": {
      "application/vnd.jupyter.widget-view+json": {
       "model_id": "d24eed84162141aa9d570691210c6a8e",
       "version_major": 2,
       "version_minor": 0
      },
      "text/plain": [
       "Predicting:   0%|          | 0/221 [00:00<?, ?it/s]"
      ]
     },
     "metadata": {},
     "output_type": "display_data"
    },
    {
     "name": "stdout",
     "output_type": "stream",
     "text": [
      "Validation: End of Epoch 4 | Accuracy: 90.59% | loss: 0.232 |\n",
      "Best loss. Retaining checkpoint...\n"
     ]
    },
    {
     "data": {
      "application/vnd.jupyter.widget-view+json": {
       "model_id": "763e3aebd2db4d4a9e85f48511310134",
       "version_major": 2,
       "version_minor": 0
      },
      "text/plain": [
       "Iteration:   0%|          | 1/661 [00:00<?, ?batches/s]"
      ]
     },
     "metadata": {},
     "output_type": "display_data"
    },
    {
     "name": "stdout",
     "output_type": "stream",
     "text": [
      "Training: End of Epoch 5 | Accuracy: 87.97% | loss: 0.279 | lr: 4.167e-05 | momentum: 0.908 | epoch: 5.000 |\n"
     ]
    },
    {
     "data": {
      "application/vnd.jupyter.widget-view+json": {
       "model_id": "b4f946faec7046dd9c328e9b526a9996",
       "version_major": 2,
       "version_minor": 0
      },
      "text/plain": [
       "Predicting:   0%|          | 0/221 [00:00<?, ?it/s]"
      ]
     },
     "metadata": {},
     "output_type": "display_data"
    },
    {
     "name": "stdout",
     "output_type": "stream",
     "text": [
      "Validation: End of Epoch 5 | Accuracy: 91.38% | loss: 0.228 |\n",
      "Best loss. Retaining checkpoint...\n"
     ]
    },
    {
     "data": {
      "application/vnd.jupyter.widget-view+json": {
       "model_id": "9e5ca0096a924ef1922a97a15d7f7820",
       "version_major": 2,
       "version_minor": 0
      },
      "text/plain": [
       "Iteration:   0%|          | 1/661 [00:00<?, ?batches/s]"
      ]
     },
     "metadata": {},
     "output_type": "display_data"
    },
    {
     "name": "stdout",
     "output_type": "stream",
     "text": [
      "Training: End of Epoch 6 | Accuracy: 89.56% | loss: 0.248 | lr: 1.707e-05 | momentum: 0.933 | epoch: 6.000 |\n"
     ]
    },
    {
     "data": {
      "application/vnd.jupyter.widget-view+json": {
       "model_id": "339f86eae7ed4aee98f02f0792192fd3",
       "version_major": 2,
       "version_minor": 0
      },
      "text/plain": [
       "Predicting:   0%|          | 0/221 [00:00<?, ?it/s]"
      ]
     },
     "metadata": {},
     "output_type": "display_data"
    },
    {
     "name": "stdout",
     "output_type": "stream",
     "text": [
      "Validation: End of Epoch 6 | Accuracy: 91.04% | loss: 0.228 |\n"
     ]
    },
    {
     "data": {
      "application/vnd.jupyter.widget-view+json": {
       "model_id": "d0bae17b287c4103b6bd89c9376ae644",
       "version_major": 2,
       "version_minor": 0
      },
      "text/plain": [
       "Iteration:   0%|          | 1/661 [00:00<?, ?batches/s]"
      ]
     },
     "metadata": {},
     "output_type": "display_data"
    },
    {
     "name": "stdout",
     "output_type": "stream",
     "text": [
      "Training: End of Epoch 7 | Accuracy: 89.22% | loss: 0.246 | lr: 2.565e-06 | momentum: 0.947 | epoch: 7.000 |\n"
     ]
    },
    {
     "data": {
      "application/vnd.jupyter.widget-view+json": {
       "model_id": "345888f8e0724a8b963877874b9a0183",
       "version_major": 2,
       "version_minor": 0
      },
      "text/plain": [
       "Predicting:   0%|          | 0/221 [00:00<?, ?it/s]"
      ]
     },
     "metadata": {},
     "output_type": "display_data"
    },
    {
     "name": "stdout",
     "output_type": "stream",
     "text": [
      "Validation: End of Epoch 7 | Accuracy: 90.48% | loss: 0.233 |\n",
      "Loading best model...\n"
     ]
    },
    {
     "data": {
      "application/vnd.jupyter.widget-view+json": {
       "model_id": "e06a1630799346488ffd31129f1f29e3",
       "version_major": 2,
       "version_minor": 0
      },
      "text/plain": [
       "Predicting:   0%|          | 0/882 [00:00<?, ?it/s]"
      ]
     },
     "metadata": {},
     "output_type": "display_data"
    },
    {
     "name": "stdout",
     "output_type": "stream",
     "text": [
      "Training:   >> Physionet MMIDB | DSID: None | 63 people | 2646 trials | 90 channels | 1536 samples/trial | 256Hz | 0 transforms\n",
      "Validation: >> Physionet MMIDB | DSID: None | 21 people | 882 trials | 90 channels | 1536 samples/trial | 256Hz | 0 transforms\n",
      "Test:       >> Physionet MMIDB | DSID: None | 21 people | 880 trials | 90 channels | 1536 samples/trial | 256Hz | 0 transforms\n",
      "Creating TIDNet using: 90 channels x 1536 samples at 256Hz | 2 targets\n",
      "Apple M-series GPU detected: training and model execution will be performed on MPS.\n",
      "Loading data with 0 additional workers\n"
     ]
    },
    {
     "data": {
      "application/vnd.jupyter.widget-view+json": {
       "model_id": "ea23171b52694967b5c2b1ff9cb606b2",
       "version_major": 2,
       "version_minor": 0
      },
      "text/plain": [
       "Epoch:  14%|#4        | 1/7 [00:00<?, ?epoch/s]"
      ]
     },
     "metadata": {},
     "output_type": "display_data"
    },
    {
     "data": {
      "application/vnd.jupyter.widget-view+json": {
       "model_id": "069850970dbb4e41ac1f563178c3d186",
       "version_major": 2,
       "version_minor": 0
      },
      "text/plain": [
       "Iteration:   0%|          | 1/661 [00:00<?, ?batches/s]"
      ]
     },
     "metadata": {},
     "output_type": "display_data"
    },
    {
     "name": "stdout",
     "output_type": "stream",
     "text": [
      "Training: End of Epoch 1 | Accuracy: 66.07% | loss: 0.670 | lr: 3.539e-05 | momentum: 0.917 | epoch: 1.000 |\n"
     ]
    },
    {
     "data": {
      "application/vnd.jupyter.widget-view+json": {
       "model_id": "3923ce40539048c8bcd76f533fa70d87",
       "version_major": 2,
       "version_minor": 0
      },
      "text/plain": [
       "Predicting:   0%|          | 0/221 [00:00<?, ?it/s]"
      ]
     },
     "metadata": {},
     "output_type": "display_data"
    },
    {
     "name": "stdout",
     "output_type": "stream",
     "text": [
      "Validation: End of Epoch 1 | Accuracy: 84.58% | loss: 0.371 |\n",
      "Best loss. Retaining checkpoint...\n"
     ]
    },
    {
     "data": {
      "application/vnd.jupyter.widget-view+json": {
       "model_id": "d11f491d5a544f66a7636ac17a51b87c",
       "version_major": 2,
       "version_minor": 0
      },
      "text/plain": [
       "Iteration:   0%|          | 1/661 [00:00<?, ?batches/s]"
      ]
     },
     "metadata": {},
     "output_type": "display_data"
    },
    {
     "name": "stdout",
     "output_type": "stream",
     "text": [
      "Training: End of Epoch 2 | Accuracy: 84.49% | loss: 0.367 | lr: 9.699e-05 | momentum: 0.853 | epoch: 2.000 |\n"
     ]
    },
    {
     "data": {
      "application/vnd.jupyter.widget-view+json": {
       "model_id": "0f965099dce94d2c928449d789a42bac",
       "version_major": 2,
       "version_minor": 0
      },
      "text/plain": [
       "Predicting:   0%|          | 0/221 [00:00<?, ?it/s]"
      ]
     },
     "metadata": {},
     "output_type": "display_data"
    },
    {
     "name": "stdout",
     "output_type": "stream",
     "text": [
      "Validation: End of Epoch 2 | Accuracy: 83.79% | loss: 0.402 |\n"
     ]
    },
    {
     "data": {
      "application/vnd.jupyter.widget-view+json": {
       "model_id": "a585acbe847a497c9f4fb494871f198b",
       "version_major": 2,
       "version_minor": 0
      },
      "text/plain": [
       "Iteration:   0%|          | 1/661 [00:00<?, ?batches/s]"
      ]
     },
     "metadata": {},
     "output_type": "display_data"
    },
    {
     "name": "stdout",
     "output_type": "stream",
     "text": [
      "Training: End of Epoch 3 | Accuracy: 88.24% | loss: 0.290 | lr: 9.021e-05 | momentum: 0.860 | epoch: 3.000 |\n"
     ]
    },
    {
     "data": {
      "application/vnd.jupyter.widget-view+json": {
       "model_id": "31fc2ba9e10c46b3a15904f5e006d52b",
       "version_major": 2,
       "version_minor": 0
      },
      "text/plain": [
       "Predicting:   0%|          | 0/221 [00:00<?, ?it/s]"
      ]
     },
     "metadata": {},
     "output_type": "display_data"
    },
    {
     "name": "stdout",
     "output_type": "stream",
     "text": [
      "Validation: End of Epoch 3 | Accuracy: 85.60% | loss: 0.366 |\n",
      "Best loss. Retaining checkpoint...\n"
     ]
    },
    {
     "data": {
      "application/vnd.jupyter.widget-view+json": {
       "model_id": "85b120d7db4347a6ad0ad2692e697bde",
       "version_major": 2,
       "version_minor": 0
      },
      "text/plain": [
       "Iteration:   0%|          | 1/661 [00:00<?, ?batches/s]"
      ]
     },
     "metadata": {},
     "output_type": "display_data"
    },
    {
     "name": "stdout",
     "output_type": "stream",
     "text": [
      "Training: End of Epoch 4 | Accuracy: 88.84% | loss: 0.269 | lr: 6.883e-05 | momentum: 0.881 | epoch: 4.000 |\n"
     ]
    },
    {
     "data": {
      "application/vnd.jupyter.widget-view+json": {
       "model_id": "4d589cf45002423585631f317a8a031b",
       "version_major": 2,
       "version_minor": 0
      },
      "text/plain": [
       "Predicting:   0%|          | 0/221 [00:00<?, ?it/s]"
      ]
     },
     "metadata": {},
     "output_type": "display_data"
    },
    {
     "name": "stdout",
     "output_type": "stream",
     "text": [
      "Validation: End of Epoch 4 | Accuracy: 82.88% | loss: 0.389 |\n"
     ]
    },
    {
     "data": {
      "application/vnd.jupyter.widget-view+json": {
       "model_id": "0d14a4304e1841d19a5a0bfca0b60582",
       "version_major": 2,
       "version_minor": 0
      },
      "text/plain": [
       "Iteration:   0%|          | 1/661 [00:00<?, ?batches/s]"
      ]
     },
     "metadata": {},
     "output_type": "display_data"
    },
    {
     "name": "stdout",
     "output_type": "stream",
     "text": [
      "Training: End of Epoch 5 | Accuracy: 89.56% | loss: 0.239 | lr: 4.167e-05 | momentum: 0.908 | epoch: 5.000 |\n"
     ]
    },
    {
     "data": {
      "application/vnd.jupyter.widget-view+json": {
       "model_id": "f3fd37d9b8164f8b871ac88f50db5076",
       "version_major": 2,
       "version_minor": 0
      },
      "text/plain": [
       "Predicting:   0%|          | 0/221 [00:00<?, ?it/s]"
      ]
     },
     "metadata": {},
     "output_type": "display_data"
    },
    {
     "name": "stdout",
     "output_type": "stream",
     "text": [
      "Validation: End of Epoch 5 | Accuracy: 85.83% | loss: 0.355 |\n",
      "Best loss. Retaining checkpoint...\n"
     ]
    },
    {
     "data": {
      "application/vnd.jupyter.widget-view+json": {
       "model_id": "77d471a398024f8b8a690c8eb4fb2016",
       "version_major": 2,
       "version_minor": 0
      },
      "text/plain": [
       "Iteration:   0%|          | 1/661 [00:00<?, ?batches/s]"
      ]
     },
     "metadata": {},
     "output_type": "display_data"
    },
    {
     "name": "stdout",
     "output_type": "stream",
     "text": [
      "Training: End of Epoch 6 | Accuracy: 91.34% | loss: 0.222 | lr: 1.707e-05 | momentum: 0.933 | epoch: 6.000 |\n"
     ]
    },
    {
     "data": {
      "application/vnd.jupyter.widget-view+json": {
       "model_id": "d0c3f518fa38472cbaec1c7acf57d650",
       "version_major": 2,
       "version_minor": 0
      },
      "text/plain": [
       "Predicting:   0%|          | 0/221 [00:00<?, ?it/s]"
      ]
     },
     "metadata": {},
     "output_type": "display_data"
    },
    {
     "name": "stdout",
     "output_type": "stream",
     "text": [
      "Validation: End of Epoch 6 | Accuracy: 85.60% | loss: 0.360 |\n"
     ]
    },
    {
     "data": {
      "application/vnd.jupyter.widget-view+json": {
       "model_id": "3b904e680d1443b9b02f6bf8db368d3c",
       "version_major": 2,
       "version_minor": 0
      },
      "text/plain": [
       "Iteration:   0%|          | 1/661 [00:00<?, ?batches/s]"
      ]
     },
     "metadata": {},
     "output_type": "display_data"
    },
    {
     "name": "stdout",
     "output_type": "stream",
     "text": [
      "Training: End of Epoch 7 | Accuracy: 92.32% | loss: 0.200 | lr: 2.565e-06 | momentum: 0.947 | epoch: 7.000 |\n"
     ]
    },
    {
     "data": {
      "application/vnd.jupyter.widget-view+json": {
       "model_id": "648635705e474a9698bc7ed197598ba3",
       "version_major": 2,
       "version_minor": 0
      },
      "text/plain": [
       "Predicting:   0%|          | 0/221 [00:00<?, ?it/s]"
      ]
     },
     "metadata": {},
     "output_type": "display_data"
    },
    {
     "name": "stdout",
     "output_type": "stream",
     "text": [
      "Validation: End of Epoch 7 | Accuracy: 85.71% | loss: 0.360 |\n",
      "Loading best model...\n"
     ]
    },
    {
     "data": {
      "application/vnd.jupyter.widget-view+json": {
       "model_id": "06e37eeb3e154053a2d295e3d490cf48",
       "version_major": 2,
       "version_minor": 0
      },
      "text/plain": [
       "Predicting:   0%|          | 0/880 [00:00<?, ?it/s]"
      ]
     },
     "metadata": {},
     "output_type": "display_data"
    },
    {
     "name": "stdout",
     "output_type": "stream",
     "text": [
      "[0.9036281108856201, 0.8764172196388245, 0.9229024648666382, 0.8356009125709534, 0.8602272868156433]\n",
      "Average accuracy: 87.98%\n"
     ]
    }
   ],
   "source": [
    "results = []\n",
    "\n",
    "for training, validation, test in dataset.lmso(ds_config.folds):\n",
    "    process = make_model_and_process()\n",
    "\n",
    "    process.fit(training_dataset=training, validation_dataset=validation, **ds_config.train_params)\n",
    "\n",
    "    results.append(process.evaluate(test)['Accuracy'])\n",
    "\n",
    "print(results)\n",
    "print(\"Average accuracy: {:.2%}\".format(sum(results)/len(results)))"
   ]
  },
  {
   "cell_type": "markdown",
   "metadata": {
    "collapsed": false
   },
   "source": [
    "Check out how we passed the train_params to `.fit()`, we could specify more arguments for `.fit()` by just adding them\n",
    "to this section in the configuration.\n",
    "\n",
    "Say we wanted to *instead*, get the performance of *each* person in the test fold independently. We could replace the\n",
    "code above with a very simple alternative, that *leaves one subject out* or `.loso()`, that specifically.\n",
    "It would look like:"
   ]
  },
  {
   "cell_type": "code",
   "execution_count": null,
   "metadata": {
    "collapsed": false,
    "pycharm": {
     "name": "#%%\n"
    }
   },
   "outputs": [
    {
     "name": "stdout",
     "output_type": "stream",
     "text": [
      "Training:   >> Physionet MMIDB | DSID: None | 63 people | 2646 trials | 90 channels | 1536 samples/trial | 256Hz | 0 transforms\n",
      "Validation: >> Physionet MMIDB | DSID: None | 21 people | 880 trials | 90 channels | 1536 samples/trial | 256Hz | 0 transforms\n",
      "Test:       >> Physionet MMIDB | DSID: None | 21 people | 882 trials | 90 channels | 1536 samples/trial | 256Hz | 0 transforms\n",
      "Creating TIDNet using: 90 channels x 1536 samples at 256Hz | 2 targets\n",
      "Apple M-series GPU detected: training and model execution will be performed on MPS.\n",
      "Loading data with 0 additional workers\n"
     ]
    },
    {
     "data": {
      "application/vnd.jupyter.widget-view+json": {
       "model_id": "f71103bf61f34ae98c7125b786947146",
       "version_major": 2,
       "version_minor": 0
      },
      "text/plain": [
       "Epoch:  14%|#4        | 1/7 [00:00<?, ?epoch/s]"
      ]
     },
     "metadata": {},
     "output_type": "display_data"
    },
    {
     "data": {
      "application/vnd.jupyter.widget-view+json": {
       "model_id": "d735b8d383be44fb8b83059af0ecd197",
       "version_major": 2,
       "version_minor": 0
      },
      "text/plain": [
       "Iteration:   0%|          | 1/661 [00:00<?, ?batches/s]"
      ]
     },
     "metadata": {},
     "output_type": "display_data"
    },
    {
     "name": "stdout",
     "output_type": "stream",
     "text": [
      "Training: End of Epoch 1 | Accuracy: 66.94% | loss: 0.666 | lr: 3.539e-05 | momentum: 0.917 | epoch: 1.000 |\n"
     ]
    },
    {
     "data": {
      "application/vnd.jupyter.widget-view+json": {
       "model_id": "5340c673ec194e18863ed32f449a72f4",
       "version_major": 2,
       "version_minor": 0
      },
      "text/plain": [
       "Predicting:   0%|          | 0/220 [00:00<?, ?it/s]"
      ]
     },
     "metadata": {},
     "output_type": "display_data"
    },
    {
     "name": "stdout",
     "output_type": "stream",
     "text": [
      "Validation: End of Epoch 1 | Accuracy: 81.14% | loss: 0.404 |\n",
      "Best loss. Retaining checkpoint...\n"
     ]
    },
    {
     "data": {
      "application/vnd.jupyter.widget-view+json": {
       "model_id": "5acbccbcc90f4326a92001e629c51468",
       "version_major": 2,
       "version_minor": 0
      },
      "text/plain": [
       "Iteration:   0%|          | 1/661 [00:00<?, ?batches/s]"
      ]
     },
     "metadata": {},
     "output_type": "display_data"
    },
    {
     "name": "stdout",
     "output_type": "stream",
     "text": [
      "Training: End of Epoch 2 | Accuracy: 82.72% | loss: 0.382 | lr: 9.699e-05 | momentum: 0.853 | epoch: 2.000 |\n"
     ]
    },
    {
     "data": {
      "application/vnd.jupyter.widget-view+json": {
       "model_id": "c4096441537941fab71b6833a0d78215",
       "version_major": 2,
       "version_minor": 0
      },
      "text/plain": [
       "Predicting:   0%|          | 0/220 [00:00<?, ?it/s]"
      ]
     },
     "metadata": {},
     "output_type": "display_data"
    },
    {
     "name": "stdout",
     "output_type": "stream",
     "text": [
      "Validation: End of Epoch 2 | Accuracy: 81.59% | loss: 0.403 |\n",
      "Best loss. Retaining checkpoint...\n"
     ]
    },
    {
     "data": {
      "application/vnd.jupyter.widget-view+json": {
       "model_id": "6cd493d044d74cea9f76bd3c1b3751a0",
       "version_major": 2,
       "version_minor": 0
      },
      "text/plain": [
       "Iteration:   0%|          | 1/661 [00:00<?, ?batches/s]"
      ]
     },
     "metadata": {},
     "output_type": "display_data"
    },
    {
     "name": "stdout",
     "output_type": "stream",
     "text": [
      "Training: End of Epoch 3 | Accuracy: 86.01% | loss: 0.329 | lr: 9.021e-05 | momentum: 0.860 | epoch: 3.000 |\n"
     ]
    },
    {
     "data": {
      "application/vnd.jupyter.widget-view+json": {
       "model_id": "7dbcbc71715d4185a2b7093dd41103d1",
       "version_major": 2,
       "version_minor": 0
      },
      "text/plain": [
       "Predicting:   0%|          | 0/220 [00:00<?, ?it/s]"
      ]
     },
     "metadata": {},
     "output_type": "display_data"
    },
    {
     "name": "stdout",
     "output_type": "stream",
     "text": [
      "Validation: End of Epoch 3 | Accuracy: 82.50% | loss: 0.404 |\n"
     ]
    },
    {
     "data": {
      "application/vnd.jupyter.widget-view+json": {
       "model_id": "dbce426899934bb684c644f0edb13d0a",
       "version_major": 2,
       "version_minor": 0
      },
      "text/plain": [
       "Iteration:   0%|          | 1/661 [00:00<?, ?batches/s]"
      ]
     },
     "metadata": {},
     "output_type": "display_data"
    },
    {
     "name": "stdout",
     "output_type": "stream",
     "text": [
      "Training: End of Epoch 4 | Accuracy: 86.69% | loss: 0.309 | lr: 6.883e-05 | momentum: 0.881 | epoch: 4.000 |\n"
     ]
    },
    {
     "data": {
      "application/vnd.jupyter.widget-view+json": {
       "model_id": "258b9b6b9b78412eb18b22afa5f657f5",
       "version_major": 2,
       "version_minor": 0
      },
      "text/plain": [
       "Predicting:   0%|          | 0/220 [00:00<?, ?it/s]"
      ]
     },
     "metadata": {},
     "output_type": "display_data"
    },
    {
     "name": "stdout",
     "output_type": "stream",
     "text": [
      "Validation: End of Epoch 4 | Accuracy: 85.00% | loss: 0.355 |\n",
      "Best loss. Retaining checkpoint...\n"
     ]
    },
    {
     "data": {
      "application/vnd.jupyter.widget-view+json": {
       "model_id": "2c96ad632edc42ae98a282f66c5acc3e",
       "version_major": 2,
       "version_minor": 0
      },
      "text/plain": [
       "Iteration:   0%|          | 1/661 [00:00<?, ?batches/s]"
      ]
     },
     "metadata": {},
     "output_type": "display_data"
    },
    {
     "name": "stdout",
     "output_type": "stream",
     "text": [
      "Training: End of Epoch 5 | Accuracy: 88.54% | loss: 0.292 | lr: 4.167e-05 | momentum: 0.908 | epoch: 5.000 |\n"
     ]
    },
    {
     "data": {
      "application/vnd.jupyter.widget-view+json": {
       "model_id": "da4c1add667c478cb2b81ad9c5bde97e",
       "version_major": 2,
       "version_minor": 0
      },
      "text/plain": [
       "Predicting:   0%|          | 0/220 [00:00<?, ?it/s]"
      ]
     },
     "metadata": {},
     "output_type": "display_data"
    },
    {
     "name": "stdout",
     "output_type": "stream",
     "text": [
      "Validation: End of Epoch 5 | Accuracy: 83.41% | loss: 0.360 |\n"
     ]
    },
    {
     "data": {
      "application/vnd.jupyter.widget-view+json": {
       "model_id": "93e45adea3f24cd287968f7b7f657a5f",
       "version_major": 2,
       "version_minor": 0
      },
      "text/plain": [
       "Iteration:   0%|          | 1/661 [00:00<?, ?batches/s]"
      ]
     },
     "metadata": {},
     "output_type": "display_data"
    },
    {
     "name": "stdout",
     "output_type": "stream",
     "text": [
      "Training: End of Epoch 6 | Accuracy: 88.96% | loss: 0.252 | lr: 1.707e-05 | momentum: 0.933 | epoch: 6.000 |\n"
     ]
    },
    {
     "data": {
      "application/vnd.jupyter.widget-view+json": {
       "model_id": "2c8a57ad415c4ee6a4074654e2059986",
       "version_major": 2,
       "version_minor": 0
      },
      "text/plain": [
       "Predicting:   0%|          | 0/220 [00:00<?, ?it/s]"
      ]
     },
     "metadata": {},
     "output_type": "display_data"
    },
    {
     "name": "stdout",
     "output_type": "stream",
     "text": [
      "Validation: End of Epoch 6 | Accuracy: 85.57% | loss: 0.346 |\n",
      "Best loss. Retaining checkpoint...\n"
     ]
    },
    {
     "data": {
      "application/vnd.jupyter.widget-view+json": {
       "model_id": "11d7646ac1204be2981986aeead5291d",
       "version_major": 2,
       "version_minor": 0
      },
      "text/plain": [
       "Iteration:   0%|          | 1/661 [00:00<?, ?batches/s]"
      ]
     },
     "metadata": {},
     "output_type": "display_data"
    },
    {
     "name": "stdout",
     "output_type": "stream",
     "text": [
      "Training: End of Epoch 7 | Accuracy: 90.43% | loss: 0.234 | lr: 2.565e-06 | momentum: 0.947 | epoch: 7.000 |\n"
     ]
    },
    {
     "data": {
      "application/vnd.jupyter.widget-view+json": {
       "model_id": "01a41b41f1ea4c24bb7423dc889beef3",
       "version_major": 2,
       "version_minor": 0
      },
      "text/plain": [
       "Predicting:   0%|          | 0/220 [00:00<?, ?it/s]"
      ]
     },
     "metadata": {},
     "output_type": "display_data"
    },
    {
     "name": "stdout",
     "output_type": "stream",
     "text": [
      "Validation: End of Epoch 7 | Accuracy: 85.91% | loss: 0.344 |\n",
      "Best loss. Retaining checkpoint...\n",
      "Loading best model...\n",
      "Training:   >> Physionet MMIDB | DSID: None | 19 people | 798 trials | 90 channels | 1536 samples/trial | 256Hz | 0 transforms\n",
      "Validation: Person S021 - 42 trials | 0 transforms\n",
      "Test:       Person S001 - 42 trials | 0 transforms\n"
     ]
    },
    {
     "data": {
      "application/vnd.jupyter.widget-view+json": {
       "model_id": "93660c21f88b488c89b1854d53daf716",
       "version_major": 2,
       "version_minor": 0
      },
      "text/plain": [
       "Predicting:   0%|          | 0/42 [00:00<?, ?it/s]"
      ]
     },
     "metadata": {},
     "output_type": "display_data"
    },
    {
     "name": "stdout",
     "output_type": "stream",
     "text": [
      "Training:   >> Physionet MMIDB | DSID: None | 19 people | 798 trials | 90 channels | 1536 samples/trial | 256Hz | 0 transforms\n",
      "Validation: Person S001 - 42 trials | 0 transforms\n",
      "Test:       Person S002 - 42 trials | 0 transforms\n"
     ]
    },
    {
     "data": {
      "application/vnd.jupyter.widget-view+json": {
       "model_id": "28cf840da046477787bfddd5e5cca7d4",
       "version_major": 2,
       "version_minor": 0
      },
      "text/plain": [
       "Predicting:   0%|          | 0/42 [00:00<?, ?it/s]"
      ]
     },
     "metadata": {},
     "output_type": "display_data"
    },
    {
     "name": "stdout",
     "output_type": "stream",
     "text": [
      "Training:   >> Physionet MMIDB | DSID: None | 19 people | 798 trials | 90 channels | 1536 samples/trial | 256Hz | 0 transforms\n",
      "Validation: Person S002 - 42 trials | 0 transforms\n",
      "Test:       Person S003 - 42 trials | 0 transforms\n"
     ]
    },
    {
     "data": {
      "application/vnd.jupyter.widget-view+json": {
       "model_id": "9a47d50f81a1435482b809b1f09f589d",
       "version_major": 2,
       "version_minor": 0
      },
      "text/plain": [
       "Predicting:   0%|          | 0/42 [00:00<?, ?it/s]"
      ]
     },
     "metadata": {},
     "output_type": "display_data"
    },
    {
     "name": "stdout",
     "output_type": "stream",
     "text": [
      "Training:   >> Physionet MMIDB | DSID: None | 19 people | 798 trials | 90 channels | 1536 samples/trial | 256Hz | 0 transforms\n",
      "Validation: Person S003 - 42 trials | 0 transforms\n",
      "Test:       Person S004 - 42 trials | 0 transforms\n"
     ]
    },
    {
     "data": {
      "application/vnd.jupyter.widget-view+json": {
       "model_id": "aec6ce2b733546208790729435e64c6e",
       "version_major": 2,
       "version_minor": 0
      },
      "text/plain": [
       "Predicting:   0%|          | 0/42 [00:00<?, ?it/s]"
      ]
     },
     "metadata": {},
     "output_type": "display_data"
    },
    {
     "name": "stdout",
     "output_type": "stream",
     "text": [
      "Training:   >> Physionet MMIDB | DSID: None | 19 people | 798 trials | 90 channels | 1536 samples/trial | 256Hz | 0 transforms\n",
      "Validation: Person S004 - 42 trials | 0 transforms\n",
      "Test:       Person S005 - 42 trials | 0 transforms\n"
     ]
    },
    {
     "data": {
      "application/vnd.jupyter.widget-view+json": {
       "model_id": "2e350ab1e0f44a2c832e4eaef5c09c81",
       "version_major": 2,
       "version_minor": 0
      },
      "text/plain": [
       "Predicting:   0%|          | 0/42 [00:00<?, ?it/s]"
      ]
     },
     "metadata": {},
     "output_type": "display_data"
    },
    {
     "name": "stdout",
     "output_type": "stream",
     "text": [
      "Training:   >> Physionet MMIDB | DSID: None | 19 people | 798 trials | 90 channels | 1536 samples/trial | 256Hz | 0 transforms\n",
      "Validation: Person S005 - 42 trials | 0 transforms\n",
      "Test:       Person S006 - 42 trials | 0 transforms\n"
     ]
    },
    {
     "data": {
      "application/vnd.jupyter.widget-view+json": {
       "model_id": "800a1ff632e94bff89306a6545853282",
       "version_major": 2,
       "version_minor": 0
      },
      "text/plain": [
       "Predicting:   0%|          | 0/42 [00:00<?, ?it/s]"
      ]
     },
     "metadata": {},
     "output_type": "display_data"
    },
    {
     "name": "stdout",
     "output_type": "stream",
     "text": [
      "Training:   >> Physionet MMIDB | DSID: None | 19 people | 798 trials | 90 channels | 1536 samples/trial | 256Hz | 0 transforms\n",
      "Validation: Person S006 - 42 trials | 0 transforms\n",
      "Test:       Person S007 - 42 trials | 0 transforms\n"
     ]
    },
    {
     "data": {
      "application/vnd.jupyter.widget-view+json": {
       "model_id": "16786c8f952a462d8a9f2dd2accecbe5",
       "version_major": 2,
       "version_minor": 0
      },
      "text/plain": [
       "Predicting:   0%|          | 0/42 [00:00<?, ?it/s]"
      ]
     },
     "metadata": {},
     "output_type": "display_data"
    },
    {
     "name": "stdout",
     "output_type": "stream",
     "text": [
      "Training:   >> Physionet MMIDB | DSID: None | 19 people | 798 trials | 90 channels | 1536 samples/trial | 256Hz | 0 transforms\n",
      "Validation: Person S007 - 42 trials | 0 transforms\n",
      "Test:       Person S008 - 42 trials | 0 transforms\n"
     ]
    },
    {
     "data": {
      "application/vnd.jupyter.widget-view+json": {
       "model_id": "7330e7655fc54420a3d9074c505aaed5",
       "version_major": 2,
       "version_minor": 0
      },
      "text/plain": [
       "Predicting:   0%|          | 0/42 [00:00<?, ?it/s]"
      ]
     },
     "metadata": {},
     "output_type": "display_data"
    },
    {
     "name": "stdout",
     "output_type": "stream",
     "text": [
      "Training:   >> Physionet MMIDB | DSID: None | 19 people | 798 trials | 90 channels | 1536 samples/trial | 256Hz | 0 transforms\n",
      "Validation: Person S008 - 42 trials | 0 transforms\n",
      "Test:       Person S009 - 42 trials | 0 transforms\n"
     ]
    },
    {
     "data": {
      "application/vnd.jupyter.widget-view+json": {
       "model_id": "c31e35df280d424c9746002dcc0a341b",
       "version_major": 2,
       "version_minor": 0
      },
      "text/plain": [
       "Predicting:   0%|          | 0/42 [00:00<?, ?it/s]"
      ]
     },
     "metadata": {},
     "output_type": "display_data"
    },
    {
     "name": "stdout",
     "output_type": "stream",
     "text": [
      "Training:   >> Physionet MMIDB | DSID: None | 19 people | 798 trials | 90 channels | 1536 samples/trial | 256Hz | 0 transforms\n",
      "Validation: Person S009 - 42 trials | 0 transforms\n",
      "Test:       Person S010 - 42 trials | 0 transforms\n"
     ]
    },
    {
     "data": {
      "application/vnd.jupyter.widget-view+json": {
       "model_id": "8890de21d7ea482fb873820416b61507",
       "version_major": 2,
       "version_minor": 0
      },
      "text/plain": [
       "Predicting:   0%|          | 0/42 [00:00<?, ?it/s]"
      ]
     },
     "metadata": {},
     "output_type": "display_data"
    },
    {
     "name": "stdout",
     "output_type": "stream",
     "text": [
      "Training:   >> Physionet MMIDB | DSID: None | 19 people | 798 trials | 90 channels | 1536 samples/trial | 256Hz | 0 transforms\n",
      "Validation: Person S010 - 42 trials | 0 transforms\n",
      "Test:       Person S011 - 42 trials | 0 transforms\n"
     ]
    },
    {
     "data": {
      "application/vnd.jupyter.widget-view+json": {
       "model_id": "1eef1d8d339f42b6b3f75fd23698e1c1",
       "version_major": 2,
       "version_minor": 0
      },
      "text/plain": [
       "Predicting:   0%|          | 0/42 [00:00<?, ?it/s]"
      ]
     },
     "metadata": {},
     "output_type": "display_data"
    },
    {
     "name": "stdout",
     "output_type": "stream",
     "text": [
      "Training:   >> Physionet MMIDB | DSID: None | 19 people | 798 trials | 90 channels | 1536 samples/trial | 256Hz | 0 transforms\n",
      "Validation: Person S011 - 42 trials | 0 transforms\n",
      "Test:       Person S012 - 42 trials | 0 transforms\n"
     ]
    },
    {
     "data": {
      "application/vnd.jupyter.widget-view+json": {
       "model_id": "28818a3b52da4716921df9aa4dbae9dc",
       "version_major": 2,
       "version_minor": 0
      },
      "text/plain": [
       "Predicting:   0%|          | 0/42 [00:00<?, ?it/s]"
      ]
     },
     "metadata": {},
     "output_type": "display_data"
    },
    {
     "name": "stdout",
     "output_type": "stream",
     "text": [
      "Training:   >> Physionet MMIDB | DSID: None | 19 people | 798 trials | 90 channels | 1536 samples/trial | 256Hz | 0 transforms\n",
      "Validation: Person S012 - 42 trials | 0 transforms\n",
      "Test:       Person S013 - 42 trials | 0 transforms\n"
     ]
    },
    {
     "data": {
      "application/vnd.jupyter.widget-view+json": {
       "model_id": "299c3853773d4324ac2c45414160ca20",
       "version_major": 2,
       "version_minor": 0
      },
      "text/plain": [
       "Predicting:   0%|          | 0/42 [00:00<?, ?it/s]"
      ]
     },
     "metadata": {},
     "output_type": "display_data"
    },
    {
     "name": "stdout",
     "output_type": "stream",
     "text": [
      "Training:   >> Physionet MMIDB | DSID: None | 19 people | 798 trials | 90 channels | 1536 samples/trial | 256Hz | 0 transforms\n",
      "Validation: Person S013 - 42 trials | 0 transforms\n",
      "Test:       Person S014 - 42 trials | 0 transforms\n"
     ]
    },
    {
     "data": {
      "application/vnd.jupyter.widget-view+json": {
       "model_id": "a887f9d750ab43deb5b7d9a05559a8dc",
       "version_major": 2,
       "version_minor": 0
      },
      "text/plain": [
       "Predicting:   0%|          | 0/42 [00:00<?, ?it/s]"
      ]
     },
     "metadata": {},
     "output_type": "display_data"
    },
    {
     "name": "stdout",
     "output_type": "stream",
     "text": [
      "Training:   >> Physionet MMIDB | DSID: None | 19 people | 798 trials | 90 channels | 1536 samples/trial | 256Hz | 0 transforms\n",
      "Validation: Person S014 - 42 trials | 0 transforms\n",
      "Test:       Person S015 - 42 trials | 0 transforms\n"
     ]
    },
    {
     "data": {
      "application/vnd.jupyter.widget-view+json": {
       "model_id": "5df4872ea3ae4e6fbebf4c8ebfac0d56",
       "version_major": 2,
       "version_minor": 0
      },
      "text/plain": [
       "Predicting:   0%|          | 0/42 [00:00<?, ?it/s]"
      ]
     },
     "metadata": {},
     "output_type": "display_data"
    },
    {
     "name": "stdout",
     "output_type": "stream",
     "text": [
      "Training:   >> Physionet MMIDB | DSID: None | 19 people | 798 trials | 90 channels | 1536 samples/trial | 256Hz | 0 transforms\n",
      "Validation: Person S015 - 42 trials | 0 transforms\n",
      "Test:       Person S016 - 42 trials | 0 transforms\n"
     ]
    },
    {
     "data": {
      "application/vnd.jupyter.widget-view+json": {
       "model_id": "b20856f008dc4df2b7daa4425a3b9cf6",
       "version_major": 2,
       "version_minor": 0
      },
      "text/plain": [
       "Predicting:   0%|          | 0/42 [00:00<?, ?it/s]"
      ]
     },
     "metadata": {},
     "output_type": "display_data"
    },
    {
     "name": "stdout",
     "output_type": "stream",
     "text": [
      "Training:   >> Physionet MMIDB | DSID: None | 19 people | 798 trials | 90 channels | 1536 samples/trial | 256Hz | 0 transforms\n",
      "Validation: Person S016 - 42 trials | 0 transforms\n",
      "Test:       Person S017 - 42 trials | 0 transforms\n"
     ]
    },
    {
     "data": {
      "application/vnd.jupyter.widget-view+json": {
       "model_id": "71f9440d4d2641ebb329c039c1a44589",
       "version_major": 2,
       "version_minor": 0
      },
      "text/plain": [
       "Predicting:   0%|          | 0/42 [00:00<?, ?it/s]"
      ]
     },
     "metadata": {},
     "output_type": "display_data"
    },
    {
     "name": "stdout",
     "output_type": "stream",
     "text": [
      "Training:   >> Physionet MMIDB | DSID: None | 19 people | 798 trials | 90 channels | 1536 samples/trial | 256Hz | 0 transforms\n",
      "Validation: Person S017 - 42 trials | 0 transforms\n",
      "Test:       Person S018 - 42 trials | 0 transforms\n"
     ]
    },
    {
     "data": {
      "application/vnd.jupyter.widget-view+json": {
       "model_id": "b960378cd9f248a3bda771771a854ac3",
       "version_major": 2,
       "version_minor": 0
      },
      "text/plain": [
       "Predicting:   0%|          | 0/42 [00:00<?, ?it/s]"
      ]
     },
     "metadata": {},
     "output_type": "display_data"
    },
    {
     "name": "stdout",
     "output_type": "stream",
     "text": [
      "Training:   >> Physionet MMIDB | DSID: None | 19 people | 798 trials | 90 channels | 1536 samples/trial | 256Hz | 0 transforms\n",
      "Validation: Person S018 - 42 trials | 0 transforms\n",
      "Test:       Person S019 - 42 trials | 0 transforms\n"
     ]
    },
    {
     "data": {
      "application/vnd.jupyter.widget-view+json": {
       "model_id": "9bc4ab87322a4ecea0566d0de2b5730a",
       "version_major": 2,
       "version_minor": 0
      },
      "text/plain": [
       "Predicting:   0%|          | 0/42 [00:00<?, ?it/s]"
      ]
     },
     "metadata": {},
     "output_type": "display_data"
    },
    {
     "name": "stdout",
     "output_type": "stream",
     "text": [
      "Training:   >> Physionet MMIDB | DSID: None | 19 people | 798 trials | 90 channels | 1536 samples/trial | 256Hz | 0 transforms\n",
      "Validation: Person S019 - 42 trials | 0 transforms\n",
      "Test:       Person S020 - 42 trials | 0 transforms\n"
     ]
    },
    {
     "data": {
      "application/vnd.jupyter.widget-view+json": {
       "model_id": "7914e62b9b1e4093a936ae940d894bdf",
       "version_major": 2,
       "version_minor": 0
      },
      "text/plain": [
       "Predicting:   0%|          | 0/42 [00:00<?, ?it/s]"
      ]
     },
     "metadata": {},
     "output_type": "display_data"
    },
    {
     "name": "stdout",
     "output_type": "stream",
     "text": [
      "Training:   >> Physionet MMIDB | DSID: None | 19 people | 798 trials | 90 channels | 1536 samples/trial | 256Hz | 0 transforms\n",
      "Validation: Person S020 - 42 trials | 0 transforms\n",
      "Test:       Person S021 - 42 trials | 0 transforms\n"
     ]
    },
    {
     "data": {
      "application/vnd.jupyter.widget-view+json": {
       "model_id": "19dd9671068742379c4ad6a0f1d08b36",
       "version_major": 2,
       "version_minor": 0
      },
      "text/plain": [
       "Predicting:   0%|          | 0/42 [00:00<?, ?it/s]"
      ]
     },
     "metadata": {},
     "output_type": "display_data"
    },
    {
     "name": "stdout",
     "output_type": "stream",
     "text": [
      "Training:   >> Physionet MMIDB | DSID: None | 63 people | 2644 trials | 90 channels | 1536 samples/trial | 256Hz | 0 transforms\n",
      "Validation: >> Physionet MMIDB | DSID: None | 21 people | 882 trials | 90 channels | 1536 samples/trial | 256Hz | 0 transforms\n",
      "Test:       >> Physionet MMIDB | DSID: None | 21 people | 882 trials | 90 channels | 1536 samples/trial | 256Hz | 0 transforms\n",
      "Creating TIDNet using: 90 channels x 1536 samples at 256Hz | 2 targets\n",
      "Apple M-series GPU detected: training and model execution will be performed on MPS.\n",
      "Loading data with 0 additional workers\n"
     ]
    },
    {
     "data": {
      "application/vnd.jupyter.widget-view+json": {
       "model_id": "0515d4f9dfa14f93bae878e936d18fff",
       "version_major": 2,
       "version_minor": 0
      },
      "text/plain": [
       "Epoch:  14%|#4        | 1/7 [00:00<?, ?epoch/s]"
      ]
     },
     "metadata": {},
     "output_type": "display_data"
    },
    {
     "data": {
      "application/vnd.jupyter.widget-view+json": {
       "model_id": "286e8d5d51e64dc5b8038d08418e9932",
       "version_major": 2,
       "version_minor": 0
      },
      "text/plain": [
       "Iteration:   0%|          | 1/661 [00:00<?, ?batches/s]"
      ]
     },
     "metadata": {},
     "output_type": "display_data"
    },
    {
     "name": "stdout",
     "output_type": "stream",
     "text": [
      "Training: End of Epoch 1 | Accuracy: 66.04% | loss: 0.683 | lr: 3.539e-05 | momentum: 0.917 | epoch: 1.000 |\n"
     ]
    },
    {
     "data": {
      "application/vnd.jupyter.widget-view+json": {
       "model_id": "dac097c9303948a78a4456e3ca024847",
       "version_major": 2,
       "version_minor": 0
      },
      "text/plain": [
       "Predicting:   0%|          | 0/221 [00:00<?, ?it/s]"
      ]
     },
     "metadata": {},
     "output_type": "display_data"
    },
    {
     "name": "stdout",
     "output_type": "stream",
     "text": [
      "Validation: End of Epoch 1 | Accuracy: 82.54% | loss: 0.386 |\n",
      "Best loss. Retaining checkpoint...\n"
     ]
    },
    {
     "data": {
      "application/vnd.jupyter.widget-view+json": {
       "model_id": "ed7050d47cda4f79a86a4df3b935f09c",
       "version_major": 2,
       "version_minor": 0
      },
      "text/plain": [
       "Iteration:   0%|          | 1/661 [00:00<?, ?batches/s]"
      ]
     },
     "metadata": {},
     "output_type": "display_data"
    },
    {
     "name": "stdout",
     "output_type": "stream",
     "text": [
      "Training: End of Epoch 2 | Accuracy: 82.87% | loss: 0.395 | lr: 9.699e-05 | momentum: 0.853 | epoch: 2.000 |\n"
     ]
    },
    {
     "data": {
      "application/vnd.jupyter.widget-view+json": {
       "model_id": "85439a4ebbfc4a4e97687542929bd847",
       "version_major": 2,
       "version_minor": 0
      },
      "text/plain": [
       "Predicting:   0%|          | 0/221 [00:00<?, ?it/s]"
      ]
     },
     "metadata": {},
     "output_type": "display_data"
    },
    {
     "name": "stdout",
     "output_type": "stream",
     "text": [
      "Validation: End of Epoch 2 | Accuracy: 88.10% | loss: 0.295 |\n",
      "Best loss. Retaining checkpoint...\n"
     ]
    },
    {
     "data": {
      "application/vnd.jupyter.widget-view+json": {
       "model_id": "500e1ca43e7741e7ac07afddf2ae180e",
       "version_major": 2,
       "version_minor": 0
      },
      "text/plain": [
       "Iteration:   0%|          | 1/661 [00:00<?, ?batches/s]"
      ]
     },
     "metadata": {},
     "output_type": "display_data"
    },
    {
     "name": "stdout",
     "output_type": "stream",
     "text": [
      "Training: End of Epoch 3 | Accuracy: 84.95% | loss: 0.348 | lr: 9.021e-05 | momentum: 0.860 | epoch: 3.000 |\n"
     ]
    },
    {
     "data": {
      "application/vnd.jupyter.widget-view+json": {
       "model_id": "0da5b5fa5f84468d8d405272d23b4bb2",
       "version_major": 2,
       "version_minor": 0
      },
      "text/plain": [
       "Predicting:   0%|          | 0/221 [00:00<?, ?it/s]"
      ]
     },
     "metadata": {},
     "output_type": "display_data"
    },
    {
     "name": "stdout",
     "output_type": "stream",
     "text": [
      "Validation: End of Epoch 3 | Accuracy: 87.19% | loss: 0.299 |\n"
     ]
    },
    {
     "data": {
      "application/vnd.jupyter.widget-view+json": {
       "model_id": "b4d237cb1d5241e5901137651ad8867e",
       "version_major": 2,
       "version_minor": 0
      },
      "text/plain": [
       "Iteration:   0%|          | 1/661 [00:00<?, ?batches/s]"
      ]
     },
     "metadata": {},
     "output_type": "display_data"
    },
    {
     "name": "stdout",
     "output_type": "stream",
     "text": [
      "Training: End of Epoch 4 | Accuracy: 87.78% | loss: 0.313 | lr: 6.883e-05 | momentum: 0.881 | epoch: 4.000 |\n"
     ]
    },
    {
     "data": {
      "application/vnd.jupyter.widget-view+json": {
       "model_id": "54b1b3c7be5c45e1ba802f30e4dbb1d4",
       "version_major": 2,
       "version_minor": 0
      },
      "text/plain": [
       "Predicting:   0%|          | 0/221 [00:00<?, ?it/s]"
      ]
     },
     "metadata": {},
     "output_type": "display_data"
    },
    {
     "name": "stdout",
     "output_type": "stream",
     "text": [
      "Validation: End of Epoch 4 | Accuracy: 89.91% | loss: 0.257 |\n",
      "Best loss. Retaining checkpoint...\n"
     ]
    },
    {
     "data": {
      "application/vnd.jupyter.widget-view+json": {
       "model_id": "eadf8ffc82ea4f8494f897d4eab4164f",
       "version_major": 2,
       "version_minor": 0
      },
      "text/plain": [
       "Iteration:   0%|          | 1/661 [00:00<?, ?batches/s]"
      ]
     },
     "metadata": {},
     "output_type": "display_data"
    },
    {
     "name": "stdout",
     "output_type": "stream",
     "text": [
      "Training: End of Epoch 5 | Accuracy: 87.71% | loss: 0.287 | lr: 4.167e-05 | momentum: 0.908 | epoch: 5.000 |\n"
     ]
    },
    {
     "data": {
      "application/vnd.jupyter.widget-view+json": {
       "model_id": "2fa3bcc4c5e04b6d84de65ded7bfe649",
       "version_major": 2,
       "version_minor": 0
      },
      "text/plain": [
       "Predicting:   0%|          | 0/221 [00:00<?, ?it/s]"
      ]
     },
     "metadata": {},
     "output_type": "display_data"
    },
    {
     "name": "stdout",
     "output_type": "stream",
     "text": [
      "Validation: End of Epoch 5 | Accuracy: 89.12% | loss: 0.261 |\n"
     ]
    },
    {
     "data": {
      "application/vnd.jupyter.widget-view+json": {
       "model_id": "4bcc01d0fcc543c5aa2f0e094a3722d2",
       "version_major": 2,
       "version_minor": 0
      },
      "text/plain": [
       "Iteration:   0%|          | 1/661 [00:00<?, ?batches/s]"
      ]
     },
     "metadata": {},
     "output_type": "display_data"
    },
    {
     "name": "stdout",
     "output_type": "stream",
     "text": [
      "Training: End of Epoch 6 | Accuracy: 89.56% | loss: 0.259 | lr: 1.707e-05 | momentum: 0.933 | epoch: 6.000 |\n"
     ]
    },
    {
     "data": {
      "application/vnd.jupyter.widget-view+json": {
       "model_id": "7427abf16afb4613884201666614eb0f",
       "version_major": 2,
       "version_minor": 0
      },
      "text/plain": [
       "Predicting:   0%|          | 0/221 [00:00<?, ?it/s]"
      ]
     },
     "metadata": {},
     "output_type": "display_data"
    },
    {
     "name": "stdout",
     "output_type": "stream",
     "text": [
      "Validation: End of Epoch 6 | Accuracy: 88.78% | loss: 0.256 |\n",
      "Best loss. Retaining checkpoint...\n"
     ]
    },
    {
     "data": {
      "application/vnd.jupyter.widget-view+json": {
       "model_id": "89d323a4d2e44964a5f52e5046fe6351",
       "version_major": 2,
       "version_minor": 0
      },
      "text/plain": [
       "Iteration:   0%|          | 1/661 [00:00<?, ?batches/s]"
      ]
     },
     "metadata": {},
     "output_type": "display_data"
    },
    {
     "name": "stdout",
     "output_type": "stream",
     "text": [
      "Training: End of Epoch 7 | Accuracy: 90.05% | loss: 0.244 | lr: 2.565e-06 | momentum: 0.947 | epoch: 7.000 |\n"
     ]
    },
    {
     "data": {
      "application/vnd.jupyter.widget-view+json": {
       "model_id": "8b084a0a96844e9086f1b4362fd3b430",
       "version_major": 2,
       "version_minor": 0
      },
      "text/plain": [
       "Predicting:   0%|          | 0/221 [00:00<?, ?it/s]"
      ]
     },
     "metadata": {},
     "output_type": "display_data"
    },
    {
     "name": "stdout",
     "output_type": "stream",
     "text": [
      "Validation: End of Epoch 7 | Accuracy: 89.23% | loss: 0.252 |\n",
      "Best loss. Retaining checkpoint...\n",
      "Loading best model...\n",
      "Training:   >> Physionet MMIDB | DSID: None | 19 people | 798 trials | 90 channels | 1536 samples/trial | 256Hz | 0 transforms\n",
      "Validation: Person S042 - 42 trials | 0 transforms\n",
      "Test:       Person S022 - 42 trials | 0 transforms\n"
     ]
    },
    {
     "data": {
      "application/vnd.jupyter.widget-view+json": {
       "model_id": "34159cd354ec4bbb9d84718b65e79f2f",
       "version_major": 2,
       "version_minor": 0
      },
      "text/plain": [
       "Predicting:   0%|          | 0/42 [00:00<?, ?it/s]"
      ]
     },
     "metadata": {},
     "output_type": "display_data"
    },
    {
     "name": "stdout",
     "output_type": "stream",
     "text": [
      "Training:   >> Physionet MMIDB | DSID: None | 19 people | 798 trials | 90 channels | 1536 samples/trial | 256Hz | 0 transforms\n",
      "Validation: Person S022 - 42 trials | 0 transforms\n",
      "Test:       Person S023 - 42 trials | 0 transforms\n"
     ]
    },
    {
     "data": {
      "application/vnd.jupyter.widget-view+json": {
       "model_id": "138b6472f208463bbfb3dffd24f21886",
       "version_major": 2,
       "version_minor": 0
      },
      "text/plain": [
       "Predicting:   0%|          | 0/42 [00:00<?, ?it/s]"
      ]
     },
     "metadata": {},
     "output_type": "display_data"
    },
    {
     "name": "stdout",
     "output_type": "stream",
     "text": [
      "Training:   >> Physionet MMIDB | DSID: None | 19 people | 798 trials | 90 channels | 1536 samples/trial | 256Hz | 0 transforms\n",
      "Validation: Person S023 - 42 trials | 0 transforms\n",
      "Test:       Person S024 - 42 trials | 0 transforms\n"
     ]
    },
    {
     "data": {
      "application/vnd.jupyter.widget-view+json": {
       "model_id": "162e953922494122a523ac0df2efc5ed",
       "version_major": 2,
       "version_minor": 0
      },
      "text/plain": [
       "Predicting:   0%|          | 0/42 [00:00<?, ?it/s]"
      ]
     },
     "metadata": {},
     "output_type": "display_data"
    },
    {
     "name": "stdout",
     "output_type": "stream",
     "text": [
      "Training:   >> Physionet MMIDB | DSID: None | 19 people | 798 trials | 90 channels | 1536 samples/trial | 256Hz | 0 transforms\n",
      "Validation: Person S024 - 42 trials | 0 transforms\n",
      "Test:       Person S025 - 42 trials | 0 transforms\n"
     ]
    },
    {
     "data": {
      "application/vnd.jupyter.widget-view+json": {
       "model_id": "23582ea7f9544df49b6102017a31c7cb",
       "version_major": 2,
       "version_minor": 0
      },
      "text/plain": [
       "Predicting:   0%|          | 0/42 [00:00<?, ?it/s]"
      ]
     },
     "metadata": {},
     "output_type": "display_data"
    },
    {
     "name": "stdout",
     "output_type": "stream",
     "text": [
      "Training:   >> Physionet MMIDB | DSID: None | 19 people | 798 trials | 90 channels | 1536 samples/trial | 256Hz | 0 transforms\n",
      "Validation: Person S025 - 42 trials | 0 transforms\n",
      "Test:       Person S026 - 42 trials | 0 transforms\n"
     ]
    },
    {
     "data": {
      "application/vnd.jupyter.widget-view+json": {
       "model_id": "56034495c4e84294b3238363a5c399f3",
       "version_major": 2,
       "version_minor": 0
      },
      "text/plain": [
       "Predicting:   0%|          | 0/42 [00:00<?, ?it/s]"
      ]
     },
     "metadata": {},
     "output_type": "display_data"
    },
    {
     "name": "stdout",
     "output_type": "stream",
     "text": [
      "Training:   >> Physionet MMIDB | DSID: None | 19 people | 798 trials | 90 channels | 1536 samples/trial | 256Hz | 0 transforms\n",
      "Validation: Person S026 - 42 trials | 0 transforms\n",
      "Test:       Person S027 - 42 trials | 0 transforms\n"
     ]
    },
    {
     "data": {
      "application/vnd.jupyter.widget-view+json": {
       "model_id": "070b4f00ebd8492b82b81ffddda31850",
       "version_major": 2,
       "version_minor": 0
      },
      "text/plain": [
       "Predicting:   0%|          | 0/42 [00:00<?, ?it/s]"
      ]
     },
     "metadata": {},
     "output_type": "display_data"
    },
    {
     "name": "stdout",
     "output_type": "stream",
     "text": [
      "Training:   >> Physionet MMIDB | DSID: None | 19 people | 798 trials | 90 channels | 1536 samples/trial | 256Hz | 0 transforms\n",
      "Validation: Person S027 - 42 trials | 0 transforms\n",
      "Test:       Person S028 - 42 trials | 0 transforms\n"
     ]
    },
    {
     "data": {
      "application/vnd.jupyter.widget-view+json": {
       "model_id": "f1885918de1646609c4ded22681b1fb6",
       "version_major": 2,
       "version_minor": 0
      },
      "text/plain": [
       "Predicting:   0%|          | 0/42 [00:00<?, ?it/s]"
      ]
     },
     "metadata": {},
     "output_type": "display_data"
    },
    {
     "name": "stdout",
     "output_type": "stream",
     "text": [
      "Training:   >> Physionet MMIDB | DSID: None | 19 people | 798 trials | 90 channels | 1536 samples/trial | 256Hz | 0 transforms\n",
      "Validation: Person S028 - 42 trials | 0 transforms\n",
      "Test:       Person S029 - 42 trials | 0 transforms\n"
     ]
    },
    {
     "data": {
      "application/vnd.jupyter.widget-view+json": {
       "model_id": "e991797ed5544062a72aca5538ac1ee4",
       "version_major": 2,
       "version_minor": 0
      },
      "text/plain": [
       "Predicting:   0%|          | 0/42 [00:00<?, ?it/s]"
      ]
     },
     "metadata": {},
     "output_type": "display_data"
    },
    {
     "name": "stdout",
     "output_type": "stream",
     "text": [
      "Training:   >> Physionet MMIDB | DSID: None | 19 people | 798 trials | 90 channels | 1536 samples/trial | 256Hz | 0 transforms\n",
      "Validation: Person S029 - 42 trials | 0 transforms\n",
      "Test:       Person S030 - 42 trials | 0 transforms\n"
     ]
    },
    {
     "data": {
      "application/vnd.jupyter.widget-view+json": {
       "model_id": "5d1b889d969648ecb933e37a5ba3efbc",
       "version_major": 2,
       "version_minor": 0
      },
      "text/plain": [
       "Predicting:   0%|          | 0/42 [00:00<?, ?it/s]"
      ]
     },
     "metadata": {},
     "output_type": "display_data"
    },
    {
     "name": "stdout",
     "output_type": "stream",
     "text": [
      "Training:   >> Physionet MMIDB | DSID: None | 19 people | 798 trials | 90 channels | 1536 samples/trial | 256Hz | 0 transforms\n",
      "Validation: Person S030 - 42 trials | 0 transforms\n",
      "Test:       Person S031 - 42 trials | 0 transforms\n"
     ]
    },
    {
     "data": {
      "application/vnd.jupyter.widget-view+json": {
       "model_id": "59f4b721c1b442709a36325778401abb",
       "version_major": 2,
       "version_minor": 0
      },
      "text/plain": [
       "Predicting:   0%|          | 0/42 [00:00<?, ?it/s]"
      ]
     },
     "metadata": {},
     "output_type": "display_data"
    },
    {
     "name": "stdout",
     "output_type": "stream",
     "text": [
      "Training:   >> Physionet MMIDB | DSID: None | 19 people | 798 trials | 90 channels | 1536 samples/trial | 256Hz | 0 transforms\n",
      "Validation: Person S031 - 42 trials | 0 transforms\n",
      "Test:       Person S032 - 42 trials | 0 transforms\n"
     ]
    },
    {
     "data": {
      "application/vnd.jupyter.widget-view+json": {
       "model_id": "beafcc59b1c64e2dbc94978045ffc92f",
       "version_major": 2,
       "version_minor": 0
      },
      "text/plain": [
       "Predicting:   0%|          | 0/42 [00:00<?, ?it/s]"
      ]
     },
     "metadata": {},
     "output_type": "display_data"
    },
    {
     "name": "stdout",
     "output_type": "stream",
     "text": [
      "Training:   >> Physionet MMIDB | DSID: None | 19 people | 798 trials | 90 channels | 1536 samples/trial | 256Hz | 0 transforms\n",
      "Validation: Person S032 - 42 trials | 0 transforms\n",
      "Test:       Person S033 - 42 trials | 0 transforms\n"
     ]
    },
    {
     "data": {
      "application/vnd.jupyter.widget-view+json": {
       "model_id": "3706304c6cd442fda39e16cb0edfb5b8",
       "version_major": 2,
       "version_minor": 0
      },
      "text/plain": [
       "Predicting:   0%|          | 0/42 [00:00<?, ?it/s]"
      ]
     },
     "metadata": {},
     "output_type": "display_data"
    },
    {
     "name": "stdout",
     "output_type": "stream",
     "text": [
      "Training:   >> Physionet MMIDB | DSID: None | 19 people | 798 trials | 90 channels | 1536 samples/trial | 256Hz | 0 transforms\n",
      "Validation: Person S033 - 42 trials | 0 transforms\n",
      "Test:       Person S034 - 42 trials | 0 transforms\n"
     ]
    },
    {
     "data": {
      "application/vnd.jupyter.widget-view+json": {
       "model_id": "c67d87c300f4471c8d06a7971d5f60cf",
       "version_major": 2,
       "version_minor": 0
      },
      "text/plain": [
       "Predicting:   0%|          | 0/42 [00:00<?, ?it/s]"
      ]
     },
     "metadata": {},
     "output_type": "display_data"
    },
    {
     "name": "stdout",
     "output_type": "stream",
     "text": [
      "Training:   >> Physionet MMIDB | DSID: None | 19 people | 798 trials | 90 channels | 1536 samples/trial | 256Hz | 0 transforms\n",
      "Validation: Person S034 - 42 trials | 0 transforms\n",
      "Test:       Person S035 - 42 trials | 0 transforms\n"
     ]
    },
    {
     "data": {
      "application/vnd.jupyter.widget-view+json": {
       "model_id": "d01efd77c61045b09e860be52c4d4c7e",
       "version_major": 2,
       "version_minor": 0
      },
      "text/plain": [
       "Predicting:   0%|          | 0/42 [00:00<?, ?it/s]"
      ]
     },
     "metadata": {},
     "output_type": "display_data"
    },
    {
     "name": "stdout",
     "output_type": "stream",
     "text": [
      "Training:   >> Physionet MMIDB | DSID: None | 19 people | 798 trials | 90 channels | 1536 samples/trial | 256Hz | 0 transforms\n",
      "Validation: Person S035 - 42 trials | 0 transforms\n",
      "Test:       Person S036 - 42 trials | 0 transforms\n"
     ]
    },
    {
     "data": {
      "application/vnd.jupyter.widget-view+json": {
       "model_id": "b84176435c634509ba0bfe46152799a7",
       "version_major": 2,
       "version_minor": 0
      },
      "text/plain": [
       "Predicting:   0%|          | 0/42 [00:00<?, ?it/s]"
      ]
     },
     "metadata": {},
     "output_type": "display_data"
    },
    {
     "name": "stdout",
     "output_type": "stream",
     "text": [
      "Training:   >> Physionet MMIDB | DSID: None | 19 people | 798 trials | 90 channels | 1536 samples/trial | 256Hz | 0 transforms\n",
      "Validation: Person S036 - 42 trials | 0 transforms\n",
      "Test:       Person S037 - 42 trials | 0 transforms\n"
     ]
    },
    {
     "data": {
      "application/vnd.jupyter.widget-view+json": {
       "model_id": "ebe4b00454314bb9b990ed954ba04f5d",
       "version_major": 2,
       "version_minor": 0
      },
      "text/plain": [
       "Predicting:   0%|          | 0/42 [00:00<?, ?it/s]"
      ]
     },
     "metadata": {},
     "output_type": "display_data"
    },
    {
     "name": "stdout",
     "output_type": "stream",
     "text": [
      "Training:   >> Physionet MMIDB | DSID: None | 19 people | 798 trials | 90 channels | 1536 samples/trial | 256Hz | 0 transforms\n",
      "Validation: Person S037 - 42 trials | 0 transforms\n",
      "Test:       Person S038 - 42 trials | 0 transforms\n"
     ]
    },
    {
     "data": {
      "application/vnd.jupyter.widget-view+json": {
       "model_id": "2b016a0fb83d47bd91adbb7fdbb4c0a5",
       "version_major": 2,
       "version_minor": 0
      },
      "text/plain": [
       "Predicting:   0%|          | 0/42 [00:00<?, ?it/s]"
      ]
     },
     "metadata": {},
     "output_type": "display_data"
    },
    {
     "name": "stdout",
     "output_type": "stream",
     "text": [
      "Training:   >> Physionet MMIDB | DSID: None | 19 people | 798 trials | 90 channels | 1536 samples/trial | 256Hz | 0 transforms\n",
      "Validation: Person S038 - 42 trials | 0 transforms\n",
      "Test:       Person S039 - 42 trials | 0 transforms\n"
     ]
    },
    {
     "data": {
      "application/vnd.jupyter.widget-view+json": {
       "model_id": "a22a3f739c44401abe7d3b07a60d31bc",
       "version_major": 2,
       "version_minor": 0
      },
      "text/plain": [
       "Predicting:   0%|          | 0/42 [00:00<?, ?it/s]"
      ]
     },
     "metadata": {},
     "output_type": "display_data"
    },
    {
     "name": "stdout",
     "output_type": "stream",
     "text": [
      "Training:   >> Physionet MMIDB | DSID: None | 19 people | 798 trials | 90 channels | 1536 samples/trial | 256Hz | 0 transforms\n",
      "Validation: Person S039 - 42 trials | 0 transforms\n",
      "Test:       Person S040 - 42 trials | 0 transforms\n"
     ]
    },
    {
     "data": {
      "application/vnd.jupyter.widget-view+json": {
       "model_id": "9dbc2a70e00f4bf5bbd70abacad0dce0",
       "version_major": 2,
       "version_minor": 0
      },
      "text/plain": [
       "Predicting:   0%|          | 0/42 [00:00<?, ?it/s]"
      ]
     },
     "metadata": {},
     "output_type": "display_data"
    },
    {
     "name": "stdout",
     "output_type": "stream",
     "text": [
      "Training:   >> Physionet MMIDB | DSID: None | 19 people | 798 trials | 90 channels | 1536 samples/trial | 256Hz | 0 transforms\n",
      "Validation: Person S040 - 42 trials | 0 transforms\n",
      "Test:       Person S041 - 42 trials | 0 transforms\n"
     ]
    },
    {
     "data": {
      "application/vnd.jupyter.widget-view+json": {
       "model_id": "7505176f6a64449fa73b2c4d3505e072",
       "version_major": 2,
       "version_minor": 0
      },
      "text/plain": [
       "Predicting:   0%|          | 0/42 [00:00<?, ?it/s]"
      ]
     },
     "metadata": {},
     "output_type": "display_data"
    },
    {
     "name": "stdout",
     "output_type": "stream",
     "text": [
      "Training:   >> Physionet MMIDB | DSID: None | 19 people | 798 trials | 90 channels | 1536 samples/trial | 256Hz | 0 transforms\n",
      "Validation: Person S041 - 42 trials | 0 transforms\n",
      "Test:       Person S042 - 42 trials | 0 transforms\n"
     ]
    },
    {
     "data": {
      "application/vnd.jupyter.widget-view+json": {
       "model_id": "911a07720e5c4676958e5d094d8bac25",
       "version_major": 2,
       "version_minor": 0
      },
      "text/plain": [
       "Predicting:   0%|          | 0/42 [00:00<?, ?it/s]"
      ]
     },
     "metadata": {},
     "output_type": "display_data"
    },
    {
     "name": "stdout",
     "output_type": "stream",
     "text": [
      "Training:   >> Physionet MMIDB | DSID: None | 63 people | 2644 trials | 90 channels | 1536 samples/trial | 256Hz | 0 transforms\n",
      "Validation: >> Physionet MMIDB | DSID: None | 21 people | 882 trials | 90 channels | 1536 samples/trial | 256Hz | 0 transforms\n",
      "Test:       >> Physionet MMIDB | DSID: None | 21 people | 882 trials | 90 channels | 1536 samples/trial | 256Hz | 0 transforms\n",
      "Creating TIDNet using: 90 channels x 1536 samples at 256Hz | 2 targets\n",
      "Apple M-series GPU detected: training and model execution will be performed on MPS.\n",
      "Loading data with 0 additional workers\n"
     ]
    },
    {
     "data": {
      "application/vnd.jupyter.widget-view+json": {
       "model_id": "2973e2d9ed614d9b90c7603d142df849",
       "version_major": 2,
       "version_minor": 0
      },
      "text/plain": [
       "Epoch:  14%|#4        | 1/7 [00:00<?, ?epoch/s]"
      ]
     },
     "metadata": {},
     "output_type": "display_data"
    },
    {
     "data": {
      "application/vnd.jupyter.widget-view+json": {
       "model_id": "ff4c68244a26427aac600bc994ebba65",
       "version_major": 2,
       "version_minor": 0
      },
      "text/plain": [
       "Iteration:   0%|          | 1/661 [00:00<?, ?batches/s]"
      ]
     },
     "metadata": {},
     "output_type": "display_data"
    },
    {
     "name": "stdout",
     "output_type": "stream",
     "text": [
      "Training: End of Epoch 1 | Accuracy: 65.24% | loss: 0.682 | lr: 3.539e-05 | momentum: 0.917 | epoch: 1.000 |\n"
     ]
    },
    {
     "data": {
      "application/vnd.jupyter.widget-view+json": {
       "model_id": "5a6c021ea75e48a8ac93155497607c88",
       "version_major": 2,
       "version_minor": 0
      },
      "text/plain": [
       "Predicting:   0%|          | 0/221 [00:00<?, ?it/s]"
      ]
     },
     "metadata": {},
     "output_type": "display_data"
    },
    {
     "name": "stdout",
     "output_type": "stream",
     "text": [
      "Validation: End of Epoch 1 | Accuracy: 83.79% | loss: 0.389 |\n",
      "Best loss. Retaining checkpoint...\n"
     ]
    },
    {
     "data": {
      "application/vnd.jupyter.widget-view+json": {
       "model_id": "334c2944552d4c4789f6a3757f785246",
       "version_major": 2,
       "version_minor": 0
      },
      "text/plain": [
       "Iteration:   0%|          | 1/661 [00:00<?, ?batches/s]"
      ]
     },
     "metadata": {},
     "output_type": "display_data"
    },
    {
     "name": "stdout",
     "output_type": "stream",
     "text": [
      "Training: End of Epoch 2 | Accuracy: 82.11% | loss: 0.415 | lr: 9.699e-05 | momentum: 0.853 | epoch: 2.000 |\n"
     ]
    },
    {
     "data": {
      "application/vnd.jupyter.widget-view+json": {
       "model_id": "1ad513c9d98644578bffcac992c26dd8",
       "version_major": 2,
       "version_minor": 0
      },
      "text/plain": [
       "Predicting:   0%|          | 0/221 [00:00<?, ?it/s]"
      ]
     },
     "metadata": {},
     "output_type": "display_data"
    },
    {
     "name": "stdout",
     "output_type": "stream",
     "text": [
      "Validation: End of Epoch 2 | Accuracy: 84.69% | loss: 0.347 |\n",
      "Best loss. Retaining checkpoint...\n"
     ]
    },
    {
     "data": {
      "application/vnd.jupyter.widget-view+json": {
       "model_id": "ae4ff26c98504294a28e2de04f681f95",
       "version_major": 2,
       "version_minor": 0
      },
      "text/plain": [
       "Iteration:   0%|          | 1/661 [00:00<?, ?batches/s]"
      ]
     },
     "metadata": {},
     "output_type": "display_data"
    },
    {
     "name": "stdout",
     "output_type": "stream",
     "text": [
      "Training: End of Epoch 3 | Accuracy: 84.68% | loss: 0.348 | lr: 9.021e-05 | momentum: 0.860 | epoch: 3.000 |\n"
     ]
    },
    {
     "data": {
      "application/vnd.jupyter.widget-view+json": {
       "model_id": "054a12b0a3714863a4ce5986f873ce2c",
       "version_major": 2,
       "version_minor": 0
      },
      "text/plain": [
       "Predicting:   0%|          | 0/221 [00:00<?, ?it/s]"
      ]
     },
     "metadata": {},
     "output_type": "display_data"
    },
    {
     "name": "stdout",
     "output_type": "stream",
     "text": [
      "Validation: End of Epoch 3 | Accuracy: 86.05% | loss: 0.321 |\n",
      "Best loss. Retaining checkpoint...\n"
     ]
    },
    {
     "data": {
      "application/vnd.jupyter.widget-view+json": {
       "model_id": "6e3ff856e65243bd93f091096ea924eb",
       "version_major": 2,
       "version_minor": 0
      },
      "text/plain": [
       "Iteration:   0%|          | 1/661 [00:00<?, ?batches/s]"
      ]
     },
     "metadata": {},
     "output_type": "display_data"
    },
    {
     "name": "stdout",
     "output_type": "stream",
     "text": [
      "Training: End of Epoch 4 | Accuracy: 86.50% | loss: 0.317 | lr: 6.883e-05 | momentum: 0.881 | epoch: 4.000 |\n"
     ]
    },
    {
     "data": {
      "application/vnd.jupyter.widget-view+json": {
       "model_id": "3ad41c42896e40489a4edf1059a7da49",
       "version_major": 2,
       "version_minor": 0
      },
      "text/plain": [
       "Predicting:   0%|          | 0/221 [00:00<?, ?it/s]"
      ]
     },
     "metadata": {},
     "output_type": "display_data"
    },
    {
     "name": "stdout",
     "output_type": "stream",
     "text": [
      "Validation: End of Epoch 4 | Accuracy: 87.64% | loss: 0.310 |\n",
      "Best loss. Retaining checkpoint...\n"
     ]
    },
    {
     "data": {
      "application/vnd.jupyter.widget-view+json": {
       "model_id": "d62daf4c86de4f9bbb538c10b6bc6317",
       "version_major": 2,
       "version_minor": 0
      },
      "text/plain": [
       "Iteration:   0%|          | 1/661 [00:00<?, ?batches/s]"
      ]
     },
     "metadata": {},
     "output_type": "display_data"
    },
    {
     "name": "stdout",
     "output_type": "stream",
     "text": [
      "Training: End of Epoch 5 | Accuracy: 87.56% | loss: 0.300 | lr: 4.167e-05 | momentum: 0.908 | epoch: 5.000 |\n"
     ]
    },
    {
     "data": {
      "application/vnd.jupyter.widget-view+json": {
       "model_id": "146f9f976d904424af483c0cb66a166d",
       "version_major": 2,
       "version_minor": 0
      },
      "text/plain": [
       "Predicting:   0%|          | 0/221 [00:00<?, ?it/s]"
      ]
     },
     "metadata": {},
     "output_type": "display_data"
    },
    {
     "name": "stdout",
     "output_type": "stream",
     "text": [
      "Validation: End of Epoch 5 | Accuracy: 88.21% | loss: 0.314 |\n"
     ]
    },
    {
     "data": {
      "application/vnd.jupyter.widget-view+json": {
       "model_id": "5c48882db4ac40349dc4dfc9620e11eb",
       "version_major": 2,
       "version_minor": 0
      },
      "text/plain": [
       "Iteration:   0%|          | 1/661 [00:00<?, ?batches/s]"
      ]
     },
     "metadata": {},
     "output_type": "display_data"
    },
    {
     "name": "stdout",
     "output_type": "stream",
     "text": [
      "Training: End of Epoch 6 | Accuracy: 88.62% | loss: 0.266 | lr: 1.707e-05 | momentum: 0.933 | epoch: 6.000 |\n"
     ]
    },
    {
     "data": {
      "application/vnd.jupyter.widget-view+json": {
       "model_id": "983f8ba5571b470d8ddb3aa4ab1fd422",
       "version_major": 2,
       "version_minor": 0
      },
      "text/plain": [
       "Predicting:   0%|          | 0/221 [00:00<?, ?it/s]"
      ]
     },
     "metadata": {},
     "output_type": "display_data"
    },
    {
     "name": "stdout",
     "output_type": "stream",
     "text": [
      "Validation: End of Epoch 6 | Accuracy: 87.87% | loss: 0.312 |\n"
     ]
    },
    {
     "data": {
      "application/vnd.jupyter.widget-view+json": {
       "model_id": "33bc6ce137a24ab98dfdaf2f90467cb1",
       "version_major": 2,
       "version_minor": 0
      },
      "text/plain": [
       "Iteration:   0%|          | 1/661 [00:00<?, ?batches/s]"
      ]
     },
     "metadata": {},
     "output_type": "display_data"
    },
    {
     "name": "stdout",
     "output_type": "stream",
     "text": [
      "Training: End of Epoch 7 | Accuracy: 89.67% | loss: 0.253 | lr: 2.565e-06 | momentum: 0.947 | epoch: 7.000 |\n"
     ]
    },
    {
     "data": {
      "application/vnd.jupyter.widget-view+json": {
       "model_id": "7c75595f8a4640468529954de4b31068",
       "version_major": 2,
       "version_minor": 0
      },
      "text/plain": [
       "Predicting:   0%|          | 0/221 [00:00<?, ?it/s]"
      ]
     },
     "metadata": {},
     "output_type": "display_data"
    },
    {
     "name": "stdout",
     "output_type": "stream",
     "text": [
      "Validation: End of Epoch 7 | Accuracy: 88.10% | loss: 0.307 |\n",
      "Best loss. Retaining checkpoint...\n",
      "Loading best model...\n",
      "Training:   >> Physionet MMIDB | DSID: None | 19 people | 798 trials | 90 channels | 1536 samples/trial | 256Hz | 0 transforms\n",
      "Validation: Person S063 - 42 trials | 0 transforms\n",
      "Test:       Person S043 - 42 trials | 0 transforms\n"
     ]
    },
    {
     "data": {
      "application/vnd.jupyter.widget-view+json": {
       "model_id": "43df148ed2ee4c528f92ecc1daa41bc2",
       "version_major": 2,
       "version_minor": 0
      },
      "text/plain": [
       "Predicting:   0%|          | 0/42 [00:00<?, ?it/s]"
      ]
     },
     "metadata": {},
     "output_type": "display_data"
    },
    {
     "name": "stdout",
     "output_type": "stream",
     "text": [
      "Training:   >> Physionet MMIDB | DSID: None | 19 people | 798 trials | 90 channels | 1536 samples/trial | 256Hz | 0 transforms\n",
      "Validation: Person S043 - 42 trials | 0 transforms\n",
      "Test:       Person S044 - 42 trials | 0 transforms\n"
     ]
    },
    {
     "data": {
      "application/vnd.jupyter.widget-view+json": {
       "model_id": "00c0be416e4b41ddb04da32da5d83755",
       "version_major": 2,
       "version_minor": 0
      },
      "text/plain": [
       "Predicting:   0%|          | 0/42 [00:00<?, ?it/s]"
      ]
     },
     "metadata": {},
     "output_type": "display_data"
    },
    {
     "name": "stdout",
     "output_type": "stream",
     "text": [
      "Training:   >> Physionet MMIDB | DSID: None | 19 people | 798 trials | 90 channels | 1536 samples/trial | 256Hz | 0 transforms\n",
      "Validation: Person S044 - 42 trials | 0 transforms\n",
      "Test:       Person S045 - 42 trials | 0 transforms\n"
     ]
    },
    {
     "data": {
      "application/vnd.jupyter.widget-view+json": {
       "model_id": "dc5d8047b5ae473d9890ffc3d25dbedf",
       "version_major": 2,
       "version_minor": 0
      },
      "text/plain": [
       "Predicting:   0%|          | 0/42 [00:00<?, ?it/s]"
      ]
     },
     "metadata": {},
     "output_type": "display_data"
    },
    {
     "name": "stdout",
     "output_type": "stream",
     "text": [
      "Training:   >> Physionet MMIDB | DSID: None | 19 people | 798 trials | 90 channels | 1536 samples/trial | 256Hz | 0 transforms\n",
      "Validation: Person S045 - 42 trials | 0 transforms\n",
      "Test:       Person S046 - 42 trials | 0 transforms\n"
     ]
    },
    {
     "data": {
      "application/vnd.jupyter.widget-view+json": {
       "model_id": "50cec626d5994f52a2f4004b07b0b23e",
       "version_major": 2,
       "version_minor": 0
      },
      "text/plain": [
       "Predicting:   0%|          | 0/42 [00:00<?, ?it/s]"
      ]
     },
     "metadata": {},
     "output_type": "display_data"
    },
    {
     "name": "stdout",
     "output_type": "stream",
     "text": [
      "Training:   >> Physionet MMIDB | DSID: None | 19 people | 798 trials | 90 channels | 1536 samples/trial | 256Hz | 0 transforms\n",
      "Validation: Person S046 - 42 trials | 0 transforms\n",
      "Test:       Person S047 - 42 trials | 0 transforms\n"
     ]
    },
    {
     "data": {
      "application/vnd.jupyter.widget-view+json": {
       "model_id": "51beeeaee45243a0b0dce3ce1cac7fc5",
       "version_major": 2,
       "version_minor": 0
      },
      "text/plain": [
       "Predicting:   0%|          | 0/42 [00:00<?, ?it/s]"
      ]
     },
     "metadata": {},
     "output_type": "display_data"
    },
    {
     "name": "stdout",
     "output_type": "stream",
     "text": [
      "Training:   >> Physionet MMIDB | DSID: None | 19 people | 798 trials | 90 channels | 1536 samples/trial | 256Hz | 0 transforms\n",
      "Validation: Person S047 - 42 trials | 0 transforms\n",
      "Test:       Person S048 - 42 trials | 0 transforms\n"
     ]
    },
    {
     "data": {
      "application/vnd.jupyter.widget-view+json": {
       "model_id": "3c35b1da7ab7478c83d56a25e7d517b8",
       "version_major": 2,
       "version_minor": 0
      },
      "text/plain": [
       "Predicting:   0%|          | 0/42 [00:00<?, ?it/s]"
      ]
     },
     "metadata": {},
     "output_type": "display_data"
    },
    {
     "name": "stdout",
     "output_type": "stream",
     "text": [
      "Training:   >> Physionet MMIDB | DSID: None | 19 people | 798 trials | 90 channels | 1536 samples/trial | 256Hz | 0 transforms\n",
      "Validation: Person S048 - 42 trials | 0 transforms\n",
      "Test:       Person S049 - 42 trials | 0 transforms\n"
     ]
    },
    {
     "data": {
      "application/vnd.jupyter.widget-view+json": {
       "model_id": "c7965bdd8cc44c238d9464b83bad0cb1",
       "version_major": 2,
       "version_minor": 0
      },
      "text/plain": [
       "Predicting:   0%|          | 0/42 [00:00<?, ?it/s]"
      ]
     },
     "metadata": {},
     "output_type": "display_data"
    },
    {
     "name": "stdout",
     "output_type": "stream",
     "text": [
      "Training:   >> Physionet MMIDB | DSID: None | 19 people | 798 trials | 90 channels | 1536 samples/trial | 256Hz | 0 transforms\n",
      "Validation: Person S049 - 42 trials | 0 transforms\n",
      "Test:       Person S050 - 42 trials | 0 transforms\n"
     ]
    },
    {
     "data": {
      "application/vnd.jupyter.widget-view+json": {
       "model_id": "3b482719eb4746db8bc3c3ac891076d6",
       "version_major": 2,
       "version_minor": 0
      },
      "text/plain": [
       "Predicting:   0%|          | 0/42 [00:00<?, ?it/s]"
      ]
     },
     "metadata": {},
     "output_type": "display_data"
    },
    {
     "name": "stdout",
     "output_type": "stream",
     "text": [
      "Training:   >> Physionet MMIDB | DSID: None | 19 people | 798 trials | 90 channels | 1536 samples/trial | 256Hz | 0 transforms\n",
      "Validation: Person S050 - 42 trials | 0 transforms\n",
      "Test:       Person S051 - 42 trials | 0 transforms\n"
     ]
    },
    {
     "data": {
      "application/vnd.jupyter.widget-view+json": {
       "model_id": "a5b59a2ea4994d83a7ee5ae5f15bdf05",
       "version_major": 2,
       "version_minor": 0
      },
      "text/plain": [
       "Predicting:   0%|          | 0/42 [00:00<?, ?it/s]"
      ]
     },
     "metadata": {},
     "output_type": "display_data"
    },
    {
     "name": "stdout",
     "output_type": "stream",
     "text": [
      "Training:   >> Physionet MMIDB | DSID: None | 19 people | 798 trials | 90 channels | 1536 samples/trial | 256Hz | 0 transforms\n",
      "Validation: Person S051 - 42 trials | 0 transforms\n",
      "Test:       Person S052 - 42 trials | 0 transforms\n"
     ]
    },
    {
     "data": {
      "application/vnd.jupyter.widget-view+json": {
       "model_id": "928a4f6b3c514aa3b45afc18dac26d59",
       "version_major": 2,
       "version_minor": 0
      },
      "text/plain": [
       "Predicting:   0%|          | 0/42 [00:00<?, ?it/s]"
      ]
     },
     "metadata": {},
     "output_type": "display_data"
    },
    {
     "name": "stdout",
     "output_type": "stream",
     "text": [
      "Training:   >> Physionet MMIDB | DSID: None | 19 people | 798 trials | 90 channels | 1536 samples/trial | 256Hz | 0 transforms\n",
      "Validation: Person S052 - 42 trials | 0 transforms\n",
      "Test:       Person S053 - 42 trials | 0 transforms\n"
     ]
    },
    {
     "data": {
      "application/vnd.jupyter.widget-view+json": {
       "model_id": "97ad6603cc7f4b0688d61c1cb587373b",
       "version_major": 2,
       "version_minor": 0
      },
      "text/plain": [
       "Predicting:   0%|          | 0/42 [00:00<?, ?it/s]"
      ]
     },
     "metadata": {},
     "output_type": "display_data"
    },
    {
     "name": "stdout",
     "output_type": "stream",
     "text": [
      "Training:   >> Physionet MMIDB | DSID: None | 19 people | 798 trials | 90 channels | 1536 samples/trial | 256Hz | 0 transforms\n",
      "Validation: Person S053 - 42 trials | 0 transforms\n",
      "Test:       Person S054 - 42 trials | 0 transforms\n"
     ]
    },
    {
     "data": {
      "application/vnd.jupyter.widget-view+json": {
       "model_id": "6d90acd899154a9596dc74ea7e966499",
       "version_major": 2,
       "version_minor": 0
      },
      "text/plain": [
       "Predicting:   0%|          | 0/42 [00:00<?, ?it/s]"
      ]
     },
     "metadata": {},
     "output_type": "display_data"
    },
    {
     "name": "stdout",
     "output_type": "stream",
     "text": [
      "Training:   >> Physionet MMIDB | DSID: None | 19 people | 798 trials | 90 channels | 1536 samples/trial | 256Hz | 0 transforms\n",
      "Validation: Person S054 - 42 trials | 0 transforms\n",
      "Test:       Person S055 - 42 trials | 0 transforms\n"
     ]
    },
    {
     "data": {
      "application/vnd.jupyter.widget-view+json": {
       "model_id": "72e7152847b44644862bd7cffdeef1d8",
       "version_major": 2,
       "version_minor": 0
      },
      "text/plain": [
       "Predicting:   0%|          | 0/42 [00:00<?, ?it/s]"
      ]
     },
     "metadata": {},
     "output_type": "display_data"
    },
    {
     "name": "stdout",
     "output_type": "stream",
     "text": [
      "Training:   >> Physionet MMIDB | DSID: None | 19 people | 798 trials | 90 channels | 1536 samples/trial | 256Hz | 0 transforms\n",
      "Validation: Person S055 - 42 trials | 0 transforms\n",
      "Test:       Person S056 - 42 trials | 0 transforms\n"
     ]
    },
    {
     "data": {
      "application/vnd.jupyter.widget-view+json": {
       "model_id": "e24ae5767f5244b09528773eeaaaa37b",
       "version_major": 2,
       "version_minor": 0
      },
      "text/plain": [
       "Predicting:   0%|          | 0/42 [00:00<?, ?it/s]"
      ]
     },
     "metadata": {},
     "output_type": "display_data"
    },
    {
     "name": "stdout",
     "output_type": "stream",
     "text": [
      "Training:   >> Physionet MMIDB | DSID: None | 19 people | 798 trials | 90 channels | 1536 samples/trial | 256Hz | 0 transforms\n",
      "Validation: Person S056 - 42 trials | 0 transforms\n",
      "Test:       Person S057 - 42 trials | 0 transforms\n"
     ]
    },
    {
     "data": {
      "application/vnd.jupyter.widget-view+json": {
       "model_id": "ed1b8ddd0aa44dbc8a3c517777114a6f",
       "version_major": 2,
       "version_minor": 0
      },
      "text/plain": [
       "Predicting:   0%|          | 0/42 [00:00<?, ?it/s]"
      ]
     },
     "metadata": {},
     "output_type": "display_data"
    },
    {
     "name": "stdout",
     "output_type": "stream",
     "text": [
      "Training:   >> Physionet MMIDB | DSID: None | 19 people | 798 trials | 90 channels | 1536 samples/trial | 256Hz | 0 transforms\n",
      "Validation: Person S057 - 42 trials | 0 transforms\n",
      "Test:       Person S058 - 42 trials | 0 transforms\n"
     ]
    },
    {
     "data": {
      "application/vnd.jupyter.widget-view+json": {
       "model_id": "67a499f850b74d67a00183cb585a9e6e",
       "version_major": 2,
       "version_minor": 0
      },
      "text/plain": [
       "Predicting:   0%|          | 0/42 [00:00<?, ?it/s]"
      ]
     },
     "metadata": {},
     "output_type": "display_data"
    },
    {
     "name": "stdout",
     "output_type": "stream",
     "text": [
      "Training:   >> Physionet MMIDB | DSID: None | 19 people | 798 trials | 90 channels | 1536 samples/trial | 256Hz | 0 transforms\n",
      "Validation: Person S058 - 42 trials | 0 transforms\n",
      "Test:       Person S059 - 42 trials | 0 transforms\n"
     ]
    },
    {
     "data": {
      "application/vnd.jupyter.widget-view+json": {
       "model_id": "8c8520267a6b4646ae71346e6555f9d0",
       "version_major": 2,
       "version_minor": 0
      },
      "text/plain": [
       "Predicting:   0%|          | 0/42 [00:00<?, ?it/s]"
      ]
     },
     "metadata": {},
     "output_type": "display_data"
    },
    {
     "name": "stdout",
     "output_type": "stream",
     "text": [
      "Training:   >> Physionet MMIDB | DSID: None | 19 people | 798 trials | 90 channels | 1536 samples/trial | 256Hz | 0 transforms\n",
      "Validation: Person S059 - 42 trials | 0 transforms\n",
      "Test:       Person S060 - 42 trials | 0 transforms\n"
     ]
    },
    {
     "data": {
      "application/vnd.jupyter.widget-view+json": {
       "model_id": "ac704a75d5f64d9eab95d47233b6b842",
       "version_major": 2,
       "version_minor": 0
      },
      "text/plain": [
       "Predicting:   0%|          | 0/42 [00:00<?, ?it/s]"
      ]
     },
     "metadata": {},
     "output_type": "display_data"
    },
    {
     "name": "stdout",
     "output_type": "stream",
     "text": [
      "Training:   >> Physionet MMIDB | DSID: None | 19 people | 798 trials | 90 channels | 1536 samples/trial | 256Hz | 0 transforms\n",
      "Validation: Person S060 - 42 trials | 0 transforms\n",
      "Test:       Person S061 - 42 trials | 0 transforms\n"
     ]
    },
    {
     "data": {
      "application/vnd.jupyter.widget-view+json": {
       "model_id": "60a3d3b787b846988bd122b9d15e9a00",
       "version_major": 2,
       "version_minor": 0
      },
      "text/plain": [
       "Predicting:   0%|          | 0/42 [00:00<?, ?it/s]"
      ]
     },
     "metadata": {},
     "output_type": "display_data"
    },
    {
     "name": "stdout",
     "output_type": "stream",
     "text": [
      "Training:   >> Physionet MMIDB | DSID: None | 19 people | 798 trials | 90 channels | 1536 samples/trial | 256Hz | 0 transforms\n",
      "Validation: Person S061 - 42 trials | 0 transforms\n",
      "Test:       Person S062 - 42 trials | 0 transforms\n"
     ]
    },
    {
     "data": {
      "application/vnd.jupyter.widget-view+json": {
       "model_id": "7aa4ccbf4cb24ae8a21171ecbb733383",
       "version_major": 2,
       "version_minor": 0
      },
      "text/plain": [
       "Predicting:   0%|          | 0/42 [00:00<?, ?it/s]"
      ]
     },
     "metadata": {},
     "output_type": "display_data"
    },
    {
     "name": "stdout",
     "output_type": "stream",
     "text": [
      "Training:   >> Physionet MMIDB | DSID: None | 19 people | 798 trials | 90 channels | 1536 samples/trial | 256Hz | 0 transforms\n",
      "Validation: Person S062 - 42 trials | 0 transforms\n",
      "Test:       Person S063 - 42 trials | 0 transforms\n"
     ]
    },
    {
     "data": {
      "application/vnd.jupyter.widget-view+json": {
       "model_id": "fb085f75decb4896b38bfca19051879e",
       "version_major": 2,
       "version_minor": 0
      },
      "text/plain": [
       "Predicting:   0%|          | 0/42 [00:00<?, ?it/s]"
      ]
     },
     "metadata": {},
     "output_type": "display_data"
    },
    {
     "name": "stdout",
     "output_type": "stream",
     "text": [
      "Training:   >> Physionet MMIDB | DSID: None | 63 people | 2644 trials | 90 channels | 1536 samples/trial | 256Hz | 0 transforms\n",
      "Validation: >> Physionet MMIDB | DSID: None | 21 people | 882 trials | 90 channels | 1536 samples/trial | 256Hz | 0 transforms\n",
      "Test:       >> Physionet MMIDB | DSID: None | 21 people | 882 trials | 90 channels | 1536 samples/trial | 256Hz | 0 transforms\n",
      "Creating TIDNet using: 90 channels x 1536 samples at 256Hz | 2 targets\n",
      "Apple M-series GPU detected: training and model execution will be performed on MPS.\n",
      "Loading data with 0 additional workers\n"
     ]
    },
    {
     "data": {
      "application/vnd.jupyter.widget-view+json": {
       "model_id": "6243af1eb7e944cd8c303200683abe56",
       "version_major": 2,
       "version_minor": 0
      },
      "text/plain": [
       "Epoch:  14%|#4        | 1/7 [00:00<?, ?epoch/s]"
      ]
     },
     "metadata": {},
     "output_type": "display_data"
    },
    {
     "data": {
      "application/vnd.jupyter.widget-view+json": {
       "model_id": "e85f93246cb14eef86123d15b50e0424",
       "version_major": 2,
       "version_minor": 0
      },
      "text/plain": [
       "Iteration:   0%|          | 1/661 [00:00<?, ?batches/s]"
      ]
     },
     "metadata": {},
     "output_type": "display_data"
    },
    {
     "name": "stdout",
     "output_type": "stream",
     "text": [
      "Training: End of Epoch 1 | Accuracy: 64.22% | loss: 0.689 | lr: 3.539e-05 | momentum: 0.917 | epoch: 1.000 |\n"
     ]
    },
    {
     "data": {
      "application/vnd.jupyter.widget-view+json": {
       "model_id": "8bb8189dc1cc47d68452685191d3f6f9",
       "version_major": 2,
       "version_minor": 0
      },
      "text/plain": [
       "Predicting:   0%|          | 0/221 [00:00<?, ?it/s]"
      ]
     },
     "metadata": {},
     "output_type": "display_data"
    },
    {
     "name": "stdout",
     "output_type": "stream",
     "text": [
      "Validation: End of Epoch 1 | Accuracy: 82.31% | loss: 0.385 |\n",
      "Best loss. Retaining checkpoint...\n"
     ]
    },
    {
     "data": {
      "application/vnd.jupyter.widget-view+json": {
       "model_id": "fd7f445168ae437bb8ef0d52f1443ae4",
       "version_major": 2,
       "version_minor": 0
      },
      "text/plain": [
       "Iteration:   0%|          | 1/661 [00:00<?, ?batches/s]"
      ]
     },
     "metadata": {},
     "output_type": "display_data"
    },
    {
     "name": "stdout",
     "output_type": "stream",
     "text": [
      "Training: End of Epoch 2 | Accuracy: 81.88% | loss: 0.399 | lr: 9.699e-05 | momentum: 0.853 | epoch: 2.000 |\n"
     ]
    },
    {
     "data": {
      "application/vnd.jupyter.widget-view+json": {
       "model_id": "5ed4dd6d34ed41e6be42e8870a5b0fd1",
       "version_major": 2,
       "version_minor": 0
      },
      "text/plain": [
       "Predicting:   0%|          | 0/221 [00:00<?, ?it/s]"
      ]
     },
     "metadata": {},
     "output_type": "display_data"
    },
    {
     "name": "stdout",
     "output_type": "stream",
     "text": [
      "Validation: End of Epoch 2 | Accuracy: 88.55% | loss: 0.283 |\n",
      "Best loss. Retaining checkpoint...\n"
     ]
    },
    {
     "data": {
      "application/vnd.jupyter.widget-view+json": {
       "model_id": "ab9d6922e2ad4ad9907aed8f283b9172",
       "version_major": 2,
       "version_minor": 0
      },
      "text/plain": [
       "Iteration:   0%|          | 1/661 [00:00<?, ?batches/s]"
      ]
     },
     "metadata": {},
     "output_type": "display_data"
    },
    {
     "name": "stdout",
     "output_type": "stream",
     "text": [
      "Training: End of Epoch 3 | Accuracy: 84.87% | loss: 0.353 | lr: 9.021e-05 | momentum: 0.860 | epoch: 3.000 |\n"
     ]
    },
    {
     "data": {
      "application/vnd.jupyter.widget-view+json": {
       "model_id": "a6c7f07dffa547889bd1afc2e886f1b6",
       "version_major": 2,
       "version_minor": 0
      },
      "text/plain": [
       "Predicting:   0%|          | 0/221 [00:00<?, ?it/s]"
      ]
     },
     "metadata": {},
     "output_type": "display_data"
    },
    {
     "name": "stdout",
     "output_type": "stream",
     "text": [
      "Validation: End of Epoch 3 | Accuracy: 89.00% | loss: 0.263 |\n",
      "Best loss. Retaining checkpoint...\n"
     ]
    },
    {
     "data": {
      "application/vnd.jupyter.widget-view+json": {
       "model_id": "0f13d188a1b14395a3f9878dde1d7775",
       "version_major": 2,
       "version_minor": 0
      },
      "text/plain": [
       "Iteration:   0%|          | 1/661 [00:00<?, ?batches/s]"
      ]
     },
     "metadata": {},
     "output_type": "display_data"
    },
    {
     "name": "stdout",
     "output_type": "stream",
     "text": [
      "Training: End of Epoch 4 | Accuracy: 87.48% | loss: 0.296 | lr: 6.883e-05 | momentum: 0.881 | epoch: 4.000 |\n"
     ]
    },
    {
     "data": {
      "application/vnd.jupyter.widget-view+json": {
       "model_id": "f2b8e8ce20744dcbb06592836ed10ad8",
       "version_major": 2,
       "version_minor": 0
      },
      "text/plain": [
       "Predicting:   0%|          | 0/221 [00:00<?, ?it/s]"
      ]
     },
     "metadata": {},
     "output_type": "display_data"
    },
    {
     "name": "stdout",
     "output_type": "stream",
     "text": [
      "Validation: End of Epoch 4 | Accuracy: 90.82% | loss: 0.236 |\n",
      "Best loss. Retaining checkpoint...\n"
     ]
    },
    {
     "data": {
      "application/vnd.jupyter.widget-view+json": {
       "model_id": "39b894b41e304dfaa92c224393adec76",
       "version_major": 2,
       "version_minor": 0
      },
      "text/plain": [
       "Iteration:   0%|          | 1/661 [00:00<?, ?batches/s]"
      ]
     },
     "metadata": {},
     "output_type": "display_data"
    },
    {
     "name": "stdout",
     "output_type": "stream",
     "text": [
      "Training: End of Epoch 5 | Accuracy: 88.46% | loss: 0.280 | lr: 4.167e-05 | momentum: 0.908 | epoch: 5.000 |\n"
     ]
    },
    {
     "data": {
      "application/vnd.jupyter.widget-view+json": {
       "model_id": "2e3e645356814b04950215a8475e9423",
       "version_major": 2,
       "version_minor": 0
      },
      "text/plain": [
       "Predicting:   0%|          | 0/221 [00:00<?, ?it/s]"
      ]
     },
     "metadata": {},
     "output_type": "display_data"
    },
    {
     "name": "stdout",
     "output_type": "stream",
     "text": [
      "Validation: End of Epoch 5 | Accuracy: 91.61% | loss: 0.222 |\n",
      "Best loss. Retaining checkpoint...\n"
     ]
    },
    {
     "data": {
      "application/vnd.jupyter.widget-view+json": {
       "model_id": "57238ec3ade0434c9e17d7c0acdd23de",
       "version_major": 2,
       "version_minor": 0
      },
      "text/plain": [
       "Iteration:   0%|          | 1/661 [00:00<?, ?batches/s]"
      ]
     },
     "metadata": {},
     "output_type": "display_data"
    },
    {
     "name": "stdout",
     "output_type": "stream",
     "text": [
      "Training: End of Epoch 6 | Accuracy: 88.77% | loss: 0.252 | lr: 1.707e-05 | momentum: 0.933 | epoch: 6.000 |\n"
     ]
    },
    {
     "data": {
      "application/vnd.jupyter.widget-view+json": {
       "model_id": "b327d1574bd7483594402045a9edb35e",
       "version_major": 2,
       "version_minor": 0
      },
      "text/plain": [
       "Predicting:   0%|          | 0/221 [00:00<?, ?it/s]"
      ]
     },
     "metadata": {},
     "output_type": "display_data"
    },
    {
     "name": "stdout",
     "output_type": "stream",
     "text": [
      "Validation: End of Epoch 6 | Accuracy: 91.04% | loss: 0.231 |\n"
     ]
    },
    {
     "data": {
      "application/vnd.jupyter.widget-view+json": {
       "model_id": "d7c3259090ad43b894dd86589ea535a6",
       "version_major": 2,
       "version_minor": 0
      },
      "text/plain": [
       "Iteration:   0%|          | 1/661 [00:00<?, ?batches/s]"
      ]
     },
     "metadata": {},
     "output_type": "display_data"
    },
    {
     "name": "stdout",
     "output_type": "stream",
     "text": [
      "Training: End of Epoch 7 | Accuracy: 90.09% | loss: 0.240 | lr: 2.565e-06 | momentum: 0.947 | epoch: 7.000 |\n"
     ]
    },
    {
     "data": {
      "application/vnd.jupyter.widget-view+json": {
       "model_id": "78a6bfc704a74735989d332a3ff5717d",
       "version_major": 2,
       "version_minor": 0
      },
      "text/plain": [
       "Predicting:   0%|          | 0/221 [00:00<?, ?it/s]"
      ]
     },
     "metadata": {},
     "output_type": "display_data"
    },
    {
     "name": "stdout",
     "output_type": "stream",
     "text": [
      "Validation: End of Epoch 7 | Accuracy: 90.93% | loss: 0.219 |\n",
      "Best loss. Retaining checkpoint...\n",
      "Loading best model...\n",
      "Training:   >> Physionet MMIDB | DSID: None | 19 people | 798 trials | 90 channels | 1536 samples/trial | 256Hz | 0 transforms\n",
      "Validation: Person S084 - 42 trials | 0 transforms\n",
      "Test:       Person S064 - 42 trials | 0 transforms\n"
     ]
    },
    {
     "data": {
      "application/vnd.jupyter.widget-view+json": {
       "model_id": "7474d69e03124e26979f5c486f852bab",
       "version_major": 2,
       "version_minor": 0
      },
      "text/plain": [
       "Predicting:   0%|          | 0/42 [00:00<?, ?it/s]"
      ]
     },
     "metadata": {},
     "output_type": "display_data"
    },
    {
     "name": "stdout",
     "output_type": "stream",
     "text": [
      "Training:   >> Physionet MMIDB | DSID: None | 19 people | 798 trials | 90 channels | 1536 samples/trial | 256Hz | 0 transforms\n",
      "Validation: Person S064 - 42 trials | 0 transforms\n",
      "Test:       Person S065 - 42 trials | 0 transforms\n"
     ]
    },
    {
     "data": {
      "application/vnd.jupyter.widget-view+json": {
       "model_id": "58e971d615524acaaec593808b066054",
       "version_major": 2,
       "version_minor": 0
      },
      "text/plain": [
       "Predicting:   0%|          | 0/42 [00:00<?, ?it/s]"
      ]
     },
     "metadata": {},
     "output_type": "display_data"
    },
    {
     "name": "stdout",
     "output_type": "stream",
     "text": [
      "Training:   >> Physionet MMIDB | DSID: None | 19 people | 798 trials | 90 channels | 1536 samples/trial | 256Hz | 0 transforms\n",
      "Validation: Person S065 - 42 trials | 0 transforms\n",
      "Test:       Person S066 - 42 trials | 0 transforms\n"
     ]
    },
    {
     "data": {
      "application/vnd.jupyter.widget-view+json": {
       "model_id": "a59cfc939a3141b493e23703dfd3461d",
       "version_major": 2,
       "version_minor": 0
      },
      "text/plain": [
       "Predicting:   0%|          | 0/42 [00:00<?, ?it/s]"
      ]
     },
     "metadata": {},
     "output_type": "display_data"
    },
    {
     "name": "stdout",
     "output_type": "stream",
     "text": [
      "Training:   >> Physionet MMIDB | DSID: None | 19 people | 798 trials | 90 channels | 1536 samples/trial | 256Hz | 0 transforms\n",
      "Validation: Person S066 - 42 trials | 0 transforms\n",
      "Test:       Person S067 - 42 trials | 0 transforms\n"
     ]
    },
    {
     "data": {
      "application/vnd.jupyter.widget-view+json": {
       "model_id": "2c36b26bb1034cf0a7e2398b870f426e",
       "version_major": 2,
       "version_minor": 0
      },
      "text/plain": [
       "Predicting:   0%|          | 0/42 [00:00<?, ?it/s]"
      ]
     },
     "metadata": {},
     "output_type": "display_data"
    },
    {
     "name": "stdout",
     "output_type": "stream",
     "text": [
      "Training:   >> Physionet MMIDB | DSID: None | 19 people | 798 trials | 90 channels | 1536 samples/trial | 256Hz | 0 transforms\n",
      "Validation: Person S067 - 42 trials | 0 transforms\n",
      "Test:       Person S068 - 42 trials | 0 transforms\n"
     ]
    },
    {
     "data": {
      "application/vnd.jupyter.widget-view+json": {
       "model_id": "3abb3b1ff0e9490aabc42a442e0aba81",
       "version_major": 2,
       "version_minor": 0
      },
      "text/plain": [
       "Predicting:   0%|          | 0/42 [00:00<?, ?it/s]"
      ]
     },
     "metadata": {},
     "output_type": "display_data"
    },
    {
     "name": "stdout",
     "output_type": "stream",
     "text": [
      "Training:   >> Physionet MMIDB | DSID: None | 19 people | 798 trials | 90 channels | 1536 samples/trial | 256Hz | 0 transforms\n",
      "Validation: Person S068 - 42 trials | 0 transforms\n",
      "Test:       Person S069 - 42 trials | 0 transforms\n"
     ]
    },
    {
     "data": {
      "application/vnd.jupyter.widget-view+json": {
       "model_id": "3657ae6316f0498aa9e372cc10c0892d",
       "version_major": 2,
       "version_minor": 0
      },
      "text/plain": [
       "Predicting:   0%|          | 0/42 [00:00<?, ?it/s]"
      ]
     },
     "metadata": {},
     "output_type": "display_data"
    },
    {
     "name": "stdout",
     "output_type": "stream",
     "text": [
      "Training:   >> Physionet MMIDB | DSID: None | 19 people | 798 trials | 90 channels | 1536 samples/trial | 256Hz | 0 transforms\n",
      "Validation: Person S069 - 42 trials | 0 transforms\n",
      "Test:       Person S070 - 42 trials | 0 transforms\n"
     ]
    },
    {
     "data": {
      "application/vnd.jupyter.widget-view+json": {
       "model_id": "0b0c286ce0274967b8c5abf387610151",
       "version_major": 2,
       "version_minor": 0
      },
      "text/plain": [
       "Predicting:   0%|          | 0/42 [00:00<?, ?it/s]"
      ]
     },
     "metadata": {},
     "output_type": "display_data"
    },
    {
     "name": "stdout",
     "output_type": "stream",
     "text": [
      "Training:   >> Physionet MMIDB | DSID: None | 19 people | 798 trials | 90 channels | 1536 samples/trial | 256Hz | 0 transforms\n",
      "Validation: Person S070 - 42 trials | 0 transforms\n",
      "Test:       Person S071 - 42 trials | 0 transforms\n"
     ]
    },
    {
     "data": {
      "application/vnd.jupyter.widget-view+json": {
       "model_id": "f17ed91d89bf4724971ec842a7abc158",
       "version_major": 2,
       "version_minor": 0
      },
      "text/plain": [
       "Predicting:   0%|          | 0/42 [00:00<?, ?it/s]"
      ]
     },
     "metadata": {},
     "output_type": "display_data"
    },
    {
     "name": "stdout",
     "output_type": "stream",
     "text": [
      "Training:   >> Physionet MMIDB | DSID: None | 19 people | 798 trials | 90 channels | 1536 samples/trial | 256Hz | 0 transforms\n",
      "Validation: Person S071 - 42 trials | 0 transforms\n",
      "Test:       Person S072 - 42 trials | 0 transforms\n"
     ]
    },
    {
     "data": {
      "application/vnd.jupyter.widget-view+json": {
       "model_id": "3bdf858062f84f77844c2ec25bedee11",
       "version_major": 2,
       "version_minor": 0
      },
      "text/plain": [
       "Predicting:   0%|          | 0/42 [00:00<?, ?it/s]"
      ]
     },
     "metadata": {},
     "output_type": "display_data"
    },
    {
     "name": "stdout",
     "output_type": "stream",
     "text": [
      "Training:   >> Physionet MMIDB | DSID: None | 19 people | 798 trials | 90 channels | 1536 samples/trial | 256Hz | 0 transforms\n",
      "Validation: Person S072 - 42 trials | 0 transforms\n",
      "Test:       Person S073 - 42 trials | 0 transforms\n"
     ]
    },
    {
     "data": {
      "application/vnd.jupyter.widget-view+json": {
       "model_id": "66c2f82a7dcb4bfbbb36efd840e99f14",
       "version_major": 2,
       "version_minor": 0
      },
      "text/plain": [
       "Predicting:   0%|          | 0/42 [00:00<?, ?it/s]"
      ]
     },
     "metadata": {},
     "output_type": "display_data"
    },
    {
     "name": "stdout",
     "output_type": "stream",
     "text": [
      "Training:   >> Physionet MMIDB | DSID: None | 19 people | 798 trials | 90 channels | 1536 samples/trial | 256Hz | 0 transforms\n",
      "Validation: Person S073 - 42 trials | 0 transforms\n",
      "Test:       Person S074 - 42 trials | 0 transforms\n"
     ]
    },
    {
     "data": {
      "application/vnd.jupyter.widget-view+json": {
       "model_id": "bfe027b9df2e4d07b392a7eb906d6f92",
       "version_major": 2,
       "version_minor": 0
      },
      "text/plain": [
       "Predicting:   0%|          | 0/42 [00:00<?, ?it/s]"
      ]
     },
     "metadata": {},
     "output_type": "display_data"
    },
    {
     "name": "stdout",
     "output_type": "stream",
     "text": [
      "Training:   >> Physionet MMIDB | DSID: None | 19 people | 798 trials | 90 channels | 1536 samples/trial | 256Hz | 0 transforms\n",
      "Validation: Person S074 - 42 trials | 0 transforms\n",
      "Test:       Person S075 - 42 trials | 0 transforms\n"
     ]
    },
    {
     "data": {
      "application/vnd.jupyter.widget-view+json": {
       "model_id": "0ca23be56ae448fd832f8196b5810ab3",
       "version_major": 2,
       "version_minor": 0
      },
      "text/plain": [
       "Predicting:   0%|          | 0/42 [00:00<?, ?it/s]"
      ]
     },
     "metadata": {},
     "output_type": "display_data"
    },
    {
     "name": "stdout",
     "output_type": "stream",
     "text": [
      "Training:   >> Physionet MMIDB | DSID: None | 19 people | 798 trials | 90 channels | 1536 samples/trial | 256Hz | 0 transforms\n",
      "Validation: Person S075 - 42 trials | 0 transforms\n",
      "Test:       Person S076 - 42 trials | 0 transforms\n"
     ]
    },
    {
     "data": {
      "application/vnd.jupyter.widget-view+json": {
       "model_id": "c569e156fbc847c0aac88a756c44c02a",
       "version_major": 2,
       "version_minor": 0
      },
      "text/plain": [
       "Predicting:   0%|          | 0/42 [00:00<?, ?it/s]"
      ]
     },
     "metadata": {},
     "output_type": "display_data"
    },
    {
     "name": "stdout",
     "output_type": "stream",
     "text": [
      "Training:   >> Physionet MMIDB | DSID: None | 19 people | 798 trials | 90 channels | 1536 samples/trial | 256Hz | 0 transforms\n",
      "Validation: Person S076 - 42 trials | 0 transforms\n",
      "Test:       Person S077 - 42 trials | 0 transforms\n"
     ]
    },
    {
     "data": {
      "application/vnd.jupyter.widget-view+json": {
       "model_id": "096bf2093afc45cf947142d718f5e389",
       "version_major": 2,
       "version_minor": 0
      },
      "text/plain": [
       "Predicting:   0%|          | 0/42 [00:00<?, ?it/s]"
      ]
     },
     "metadata": {},
     "output_type": "display_data"
    },
    {
     "name": "stdout",
     "output_type": "stream",
     "text": [
      "Training:   >> Physionet MMIDB | DSID: None | 19 people | 798 trials | 90 channels | 1536 samples/trial | 256Hz | 0 transforms\n",
      "Validation: Person S077 - 42 trials | 0 transforms\n",
      "Test:       Person S078 - 42 trials | 0 transforms\n"
     ]
    },
    {
     "data": {
      "application/vnd.jupyter.widget-view+json": {
       "model_id": "929e7800f2d245a2a6b1f6b90313cf42",
       "version_major": 2,
       "version_minor": 0
      },
      "text/plain": [
       "Predicting:   0%|          | 0/42 [00:00<?, ?it/s]"
      ]
     },
     "metadata": {},
     "output_type": "display_data"
    },
    {
     "name": "stdout",
     "output_type": "stream",
     "text": [
      "Training:   >> Physionet MMIDB | DSID: None | 19 people | 798 trials | 90 channels | 1536 samples/trial | 256Hz | 0 transforms\n",
      "Validation: Person S078 - 42 trials | 0 transforms\n",
      "Test:       Person S079 - 42 trials | 0 transforms\n"
     ]
    },
    {
     "data": {
      "application/vnd.jupyter.widget-view+json": {
       "model_id": "779284d49bec459593339e7e1a9de111",
       "version_major": 2,
       "version_minor": 0
      },
      "text/plain": [
       "Predicting:   0%|          | 0/42 [00:00<?, ?it/s]"
      ]
     },
     "metadata": {},
     "output_type": "display_data"
    },
    {
     "name": "stdout",
     "output_type": "stream",
     "text": [
      "Training:   >> Physionet MMIDB | DSID: None | 19 people | 798 trials | 90 channels | 1536 samples/trial | 256Hz | 0 transforms\n",
      "Validation: Person S079 - 42 trials | 0 transforms\n",
      "Test:       Person S080 - 42 trials | 0 transforms\n"
     ]
    },
    {
     "data": {
      "application/vnd.jupyter.widget-view+json": {
       "model_id": "17ab249689c94c9facde0e39d35c71db",
       "version_major": 2,
       "version_minor": 0
      },
      "text/plain": [
       "Predicting:   0%|          | 0/42 [00:00<?, ?it/s]"
      ]
     },
     "metadata": {},
     "output_type": "display_data"
    },
    {
     "name": "stdout",
     "output_type": "stream",
     "text": [
      "Training:   >> Physionet MMIDB | DSID: None | 19 people | 798 trials | 90 channels | 1536 samples/trial | 256Hz | 0 transforms\n",
      "Validation: Person S080 - 42 trials | 0 transforms\n",
      "Test:       Person S081 - 42 trials | 0 transforms\n"
     ]
    },
    {
     "data": {
      "application/vnd.jupyter.widget-view+json": {
       "model_id": "af2b200773034f9991fe919bd471ce6b",
       "version_major": 2,
       "version_minor": 0
      },
      "text/plain": [
       "Predicting:   0%|          | 0/42 [00:00<?, ?it/s]"
      ]
     },
     "metadata": {},
     "output_type": "display_data"
    },
    {
     "name": "stdout",
     "output_type": "stream",
     "text": [
      "Training:   >> Physionet MMIDB | DSID: None | 19 people | 798 trials | 90 channels | 1536 samples/trial | 256Hz | 0 transforms\n",
      "Validation: Person S081 - 42 trials | 0 transforms\n",
      "Test:       Person S082 - 42 trials | 0 transforms\n"
     ]
    },
    {
     "data": {
      "application/vnd.jupyter.widget-view+json": {
       "model_id": "67c7afcab4a94dd7be4561ce69dede4f",
       "version_major": 2,
       "version_minor": 0
      },
      "text/plain": [
       "Predicting:   0%|          | 0/42 [00:00<?, ?it/s]"
      ]
     },
     "metadata": {},
     "output_type": "display_data"
    },
    {
     "name": "stdout",
     "output_type": "stream",
     "text": [
      "Training:   >> Physionet MMIDB | DSID: None | 19 people | 798 trials | 90 channels | 1536 samples/trial | 256Hz | 0 transforms\n",
      "Validation: Person S082 - 42 trials | 0 transforms\n",
      "Test:       Person S083 - 42 trials | 0 transforms\n"
     ]
    },
    {
     "data": {
      "application/vnd.jupyter.widget-view+json": {
       "model_id": "a17cfa6585c9478b99c646b9c71552d2",
       "version_major": 2,
       "version_minor": 0
      },
      "text/plain": [
       "Predicting:   0%|          | 0/42 [00:00<?, ?it/s]"
      ]
     },
     "metadata": {},
     "output_type": "display_data"
    },
    {
     "name": "stdout",
     "output_type": "stream",
     "text": [
      "Training:   >> Physionet MMIDB | DSID: None | 19 people | 798 trials | 90 channels | 1536 samples/trial | 256Hz | 0 transforms\n",
      "Validation: Person S083 - 42 trials | 0 transforms\n",
      "Test:       Person S084 - 42 trials | 0 transforms\n"
     ]
    },
    {
     "data": {
      "application/vnd.jupyter.widget-view+json": {
       "model_id": "7ecf22b0c532490d809f6243f49eed4d",
       "version_major": 2,
       "version_minor": 0
      },
      "text/plain": [
       "Predicting:   0%|          | 0/42 [00:00<?, ?it/s]"
      ]
     },
     "metadata": {},
     "output_type": "display_data"
    },
    {
     "name": "stdout",
     "output_type": "stream",
     "text": [
      "Training:   >> Physionet MMIDB | DSID: None | 63 people | 2646 trials | 90 channels | 1536 samples/trial | 256Hz | 0 transforms\n",
      "Validation: >> Physionet MMIDB | DSID: None | 21 people | 882 trials | 90 channels | 1536 samples/trial | 256Hz | 0 transforms\n",
      "Test:       >> Physionet MMIDB | DSID: None | 21 people | 880 trials | 90 channels | 1536 samples/trial | 256Hz | 0 transforms\n",
      "Creating TIDNet using: 90 channels x 1536 samples at 256Hz | 2 targets\n",
      "Apple M-series GPU detected: training and model execution will be performed on MPS.\n",
      "Loading data with 0 additional workers\n"
     ]
    },
    {
     "data": {
      "application/vnd.jupyter.widget-view+json": {
       "model_id": "fd5a5e2a51b044558da87437fe9fba1b",
       "version_major": 2,
       "version_minor": 0
      },
      "text/plain": [
       "Epoch:  14%|#4        | 1/7 [00:00<?, ?epoch/s]"
      ]
     },
     "metadata": {},
     "output_type": "display_data"
    },
    {
     "data": {
      "application/vnd.jupyter.widget-view+json": {
       "model_id": "5f5e7e333a7a496d93ed3252a53bdafd",
       "version_major": 2,
       "version_minor": 0
      },
      "text/plain": [
       "Iteration:   0%|          | 1/661 [00:00<?, ?batches/s]"
      ]
     },
     "metadata": {},
     "output_type": "display_data"
    },
    {
     "name": "stdout",
     "output_type": "stream",
     "text": [
      "Training: End of Epoch 1 | Accuracy: 67.47% | loss: 0.654 | lr: 3.539e-05 | momentum: 0.917 | epoch: 1.000 |\n"
     ]
    },
    {
     "data": {
      "application/vnd.jupyter.widget-view+json": {
       "model_id": "8a5d4542469b400c96a1c0588e94f0c0",
       "version_major": 2,
       "version_minor": 0
      },
      "text/plain": [
       "Predicting:   0%|          | 0/221 [00:00<?, ?it/s]"
      ]
     },
     "metadata": {},
     "output_type": "display_data"
    },
    {
     "name": "stdout",
     "output_type": "stream",
     "text": [
      "Validation: End of Epoch 1 | Accuracy: 83.79% | loss: 0.389 |\n",
      "Best loss. Retaining checkpoint...\n"
     ]
    },
    {
     "data": {
      "application/vnd.jupyter.widget-view+json": {
       "model_id": "5f4cfbc5c7334cca9854c46be6f01edd",
       "version_major": 2,
       "version_minor": 0
      },
      "text/plain": [
       "Iteration:   0%|          | 1/661 [00:00<?, ?batches/s]"
      ]
     },
     "metadata": {},
     "output_type": "display_data"
    },
    {
     "name": "stdout",
     "output_type": "stream",
     "text": [
      "Training: End of Epoch 2 | Accuracy: 85.17% | loss: 0.342 | lr: 9.699e-05 | momentum: 0.853 | epoch: 2.000 |\n"
     ]
    },
    {
     "data": {
      "application/vnd.jupyter.widget-view+json": {
       "model_id": "5bb466c165ee4452ad9ab9b217747fc9",
       "version_major": 2,
       "version_minor": 0
      },
      "text/plain": [
       "Predicting:   0%|          | 0/221 [00:00<?, ?it/s]"
      ]
     },
     "metadata": {},
     "output_type": "display_data"
    },
    {
     "name": "stdout",
     "output_type": "stream",
     "text": [
      "Validation: End of Epoch 2 | Accuracy: 83.67% | loss: 0.393 |\n"
     ]
    },
    {
     "data": {
      "application/vnd.jupyter.widget-view+json": {
       "model_id": "2230dc2970a14042ace6d395c207bdd4",
       "version_major": 2,
       "version_minor": 0
      },
      "text/plain": [
       "Iteration:   0%|          | 1/661 [00:00<?, ?batches/s]"
      ]
     },
     "metadata": {},
     "output_type": "display_data"
    },
    {
     "name": "stdout",
     "output_type": "stream",
     "text": [
      "Training: End of Epoch 3 | Accuracy: 87.18% | loss: 0.298 | lr: 9.021e-05 | momentum: 0.860 | epoch: 3.000 |\n"
     ]
    },
    {
     "data": {
      "application/vnd.jupyter.widget-view+json": {
       "model_id": "33480a5067754d9898a459ea6cfebd26",
       "version_major": 2,
       "version_minor": 0
      },
      "text/plain": [
       "Predicting:   0%|          | 0/221 [00:00<?, ?it/s]"
      ]
     },
     "metadata": {},
     "output_type": "display_data"
    },
    {
     "name": "stdout",
     "output_type": "stream",
     "text": [
      "Validation: End of Epoch 3 | Accuracy: 83.11% | loss: 0.378 |\n",
      "Best loss. Retaining checkpoint...\n"
     ]
    },
    {
     "data": {
      "application/vnd.jupyter.widget-view+json": {
       "model_id": "19790eb2a4cd4837b696e1d932fa3533",
       "version_major": 2,
       "version_minor": 0
      },
      "text/plain": [
       "Iteration:   0%|          | 1/661 [00:00<?, ?batches/s]"
      ]
     },
     "metadata": {},
     "output_type": "display_data"
    },
    {
     "name": "stdout",
     "output_type": "stream",
     "text": [
      "Training: End of Epoch 4 | Accuracy: 89.71% | loss: 0.257 | lr: 6.883e-05 | momentum: 0.881 | epoch: 4.000 |\n"
     ]
    },
    {
     "data": {
      "application/vnd.jupyter.widget-view+json": {
       "model_id": "3abaf618039b45d6a2289a32f34afa66",
       "version_major": 2,
       "version_minor": 0
      },
      "text/plain": [
       "Predicting:   0%|          | 0/221 [00:00<?, ?it/s]"
      ]
     },
     "metadata": {},
     "output_type": "display_data"
    },
    {
     "name": "stdout",
     "output_type": "stream",
     "text": [
      "Validation: End of Epoch 4 | Accuracy: 83.56% | loss: 0.395 |\n"
     ]
    },
    {
     "data": {
      "application/vnd.jupyter.widget-view+json": {
       "model_id": "a1348f68da9a40ff9d138d2c6901006e",
       "version_major": 2,
       "version_minor": 0
      },
      "text/plain": [
       "Iteration:   0%|          | 1/661 [00:00<?, ?batches/s]"
      ]
     },
     "metadata": {},
     "output_type": "display_data"
    },
    {
     "name": "stdout",
     "output_type": "stream",
     "text": [
      "Training: End of Epoch 5 | Accuracy: 90.58% | loss: 0.236 | lr: 4.167e-05 | momentum: 0.908 | epoch: 5.000 |\n"
     ]
    },
    {
     "data": {
      "application/vnd.jupyter.widget-view+json": {
       "model_id": "a00c96b1f37b4917bf2d46db0907899a",
       "version_major": 2,
       "version_minor": 0
      },
      "text/plain": [
       "Predicting:   0%|          | 0/221 [00:00<?, ?it/s]"
      ]
     },
     "metadata": {},
     "output_type": "display_data"
    },
    {
     "name": "stdout",
     "output_type": "stream",
     "text": [
      "Validation: End of Epoch 5 | Accuracy: 84.81% | loss: 0.376 |\n",
      "Best loss. Retaining checkpoint...\n"
     ]
    },
    {
     "data": {
      "application/vnd.jupyter.widget-view+json": {
       "model_id": "b7917de8a64b4de19a221010e0fd87d0",
       "version_major": 2,
       "version_minor": 0
      },
      "text/plain": [
       "Iteration:   0%|          | 1/661 [00:00<?, ?batches/s]"
      ]
     },
     "metadata": {},
     "output_type": "display_data"
    },
    {
     "name": "stdout",
     "output_type": "stream",
     "text": [
      "Training: End of Epoch 6 | Accuracy: 91.11% | loss: 0.218 | lr: 1.707e-05 | momentum: 0.933 | epoch: 6.000 |\n"
     ]
    },
    {
     "data": {
      "application/vnd.jupyter.widget-view+json": {
       "model_id": "dc75fe962b0c4cfcb270316af771c497",
       "version_major": 2,
       "version_minor": 0
      },
      "text/plain": [
       "Predicting:   0%|          | 0/221 [00:00<?, ?it/s]"
      ]
     },
     "metadata": {},
     "output_type": "display_data"
    },
    {
     "name": "stdout",
     "output_type": "stream",
     "text": [
      "Validation: End of Epoch 6 | Accuracy: 84.47% | loss: 0.392 |\n"
     ]
    },
    {
     "data": {
      "application/vnd.jupyter.widget-view+json": {
       "model_id": "145a9141f687451eabf50c40d070f64b",
       "version_major": 2,
       "version_minor": 0
      },
      "text/plain": [
       "Iteration:   0%|          | 1/661 [00:00<?, ?batches/s]"
      ]
     },
     "metadata": {},
     "output_type": "display_data"
    },
    {
     "name": "stdout",
     "output_type": "stream",
     "text": [
      "Training: End of Epoch 7 | Accuracy: 91.91% | loss: 0.196 | lr: 2.565e-06 | momentum: 0.947 | epoch: 7.000 |\n"
     ]
    },
    {
     "data": {
      "application/vnd.jupyter.widget-view+json": {
       "model_id": "4c0ef6358f35412e811e1b079a006743",
       "version_major": 2,
       "version_minor": 0
      },
      "text/plain": [
       "Predicting:   0%|          | 0/221 [00:00<?, ?it/s]"
      ]
     },
     "metadata": {},
     "output_type": "display_data"
    },
    {
     "name": "stdout",
     "output_type": "stream",
     "text": [
      "Validation: End of Epoch 7 | Accuracy: 85.03% | loss: 0.381 |\n",
      "Loading best model...\n",
      "Training:   >> Physionet MMIDB | DSID: None | 19 people | 796 trials | 90 channels | 1536 samples/trial | 256Hz | 0 transforms\n",
      "Validation: Person S109 - 42 trials | 0 transforms\n",
      "Test:       Person S085 - 42 trials | 0 transforms\n"
     ]
    },
    {
     "data": {
      "application/vnd.jupyter.widget-view+json": {
       "model_id": "41391d4f52104bc1be791d4a17aa3db0",
       "version_major": 2,
       "version_minor": 0
      },
      "text/plain": [
       "Predicting:   0%|          | 0/42 [00:00<?, ?it/s]"
      ]
     },
     "metadata": {},
     "output_type": "display_data"
    },
    {
     "name": "stdout",
     "output_type": "stream",
     "text": [
      "Training:   >> Physionet MMIDB | DSID: None | 19 people | 796 trials | 90 channels | 1536 samples/trial | 256Hz | 0 transforms\n",
      "Validation: Person S085 - 42 trials | 0 transforms\n",
      "Test:       Person S086 - 42 trials | 0 transforms\n"
     ]
    },
    {
     "data": {
      "application/vnd.jupyter.widget-view+json": {
       "model_id": "2fb6a56f13514dde82031ff742b33512",
       "version_major": 2,
       "version_minor": 0
      },
      "text/plain": [
       "Predicting:   0%|          | 0/42 [00:00<?, ?it/s]"
      ]
     },
     "metadata": {},
     "output_type": "display_data"
    },
    {
     "name": "stdout",
     "output_type": "stream",
     "text": [
      "Training:   >> Physionet MMIDB | DSID: None | 19 people | 796 trials | 90 channels | 1536 samples/trial | 256Hz | 0 transforms\n",
      "Validation: Person S086 - 42 trials | 0 transforms\n",
      "Test:       Person S087 - 42 trials | 0 transforms\n"
     ]
    },
    {
     "data": {
      "application/vnd.jupyter.widget-view+json": {
       "model_id": "e9562a23124c47aba25a7295f568bbf8",
       "version_major": 2,
       "version_minor": 0
      },
      "text/plain": [
       "Predicting:   0%|          | 0/42 [00:00<?, ?it/s]"
      ]
     },
     "metadata": {},
     "output_type": "display_data"
    },
    {
     "name": "stdout",
     "output_type": "stream",
     "text": [
      "Training:   >> Physionet MMIDB | DSID: None | 19 people | 796 trials | 90 channels | 1536 samples/trial | 256Hz | 0 transforms\n",
      "Validation: Person S087 - 42 trials | 0 transforms\n",
      "Test:       Person S089 - 42 trials | 0 transforms\n"
     ]
    },
    {
     "data": {
      "application/vnd.jupyter.widget-view+json": {
       "model_id": "daa61bd5173a426b81e2752c6c1322af",
       "version_major": 2,
       "version_minor": 0
      },
      "text/plain": [
       "Predicting:   0%|          | 0/42 [00:00<?, ?it/s]"
      ]
     },
     "metadata": {},
     "output_type": "display_data"
    },
    {
     "name": "stdout",
     "output_type": "stream",
     "text": [
      "Training:   >> Physionet MMIDB | DSID: None | 19 people | 796 trials | 90 channels | 1536 samples/trial | 256Hz | 0 transforms\n",
      "Validation: Person S089 - 42 trials | 0 transforms\n",
      "Test:       Person S091 - 42 trials | 0 transforms\n"
     ]
    },
    {
     "data": {
      "application/vnd.jupyter.widget-view+json": {
       "model_id": "83e2f54c020040fe90f7332bcee2a8b6",
       "version_major": 2,
       "version_minor": 0
      },
      "text/plain": [
       "Predicting:   0%|          | 0/42 [00:00<?, ?it/s]"
      ]
     },
     "metadata": {},
     "output_type": "display_data"
    },
    {
     "name": "stdout",
     "output_type": "stream",
     "text": [
      "Training:   >> Physionet MMIDB | DSID: None | 19 people | 796 trials | 90 channels | 1536 samples/trial | 256Hz | 0 transforms\n",
      "Validation: Person S091 - 42 trials | 0 transforms\n",
      "Test:       Person S093 - 42 trials | 0 transforms\n"
     ]
    },
    {
     "data": {
      "application/vnd.jupyter.widget-view+json": {
       "model_id": "96e94694579847949afdf4bd452dc370",
       "version_major": 2,
       "version_minor": 0
      },
      "text/plain": [
       "Predicting:   0%|          | 0/42 [00:00<?, ?it/s]"
      ]
     },
     "metadata": {},
     "output_type": "display_data"
    },
    {
     "name": "stdout",
     "output_type": "stream",
     "text": [
      "Training:   >> Physionet MMIDB | DSID: None | 19 people | 796 trials | 90 channels | 1536 samples/trial | 256Hz | 0 transforms\n",
      "Validation: Person S093 - 42 trials | 0 transforms\n",
      "Test:       Person S094 - 42 trials | 0 transforms\n"
     ]
    },
    {
     "data": {
      "application/vnd.jupyter.widget-view+json": {
       "model_id": "e77cafe3d2df43beb72f102b807caa64",
       "version_major": 2,
       "version_minor": 0
      },
      "text/plain": [
       "Predicting:   0%|          | 0/42 [00:00<?, ?it/s]"
      ]
     },
     "metadata": {},
     "output_type": "display_data"
    },
    {
     "name": "stdout",
     "output_type": "stream",
     "text": [
      "Training:   >> Physionet MMIDB | DSID: None | 19 people | 796 trials | 90 channels | 1536 samples/trial | 256Hz | 0 transforms\n",
      "Validation: Person S094 - 42 trials | 0 transforms\n",
      "Test:       Person S095 - 42 trials | 0 transforms\n"
     ]
    },
    {
     "data": {
      "application/vnd.jupyter.widget-view+json": {
       "model_id": "7599dc77d7c2441a9d7f1aeaf4043ccd",
       "version_major": 2,
       "version_minor": 0
      },
      "text/plain": [
       "Predicting:   0%|          | 0/42 [00:00<?, ?it/s]"
      ]
     },
     "metadata": {},
     "output_type": "display_data"
    },
    {
     "name": "stdout",
     "output_type": "stream",
     "text": [
      "Training:   >> Physionet MMIDB | DSID: None | 19 people | 796 trials | 90 channels | 1536 samples/trial | 256Hz | 0 transforms\n",
      "Validation: Person S095 - 42 trials | 0 transforms\n",
      "Test:       Person S096 - 42 trials | 0 transforms\n"
     ]
    },
    {
     "data": {
      "application/vnd.jupyter.widget-view+json": {
       "model_id": "832b3330475a470cbe2b75137c99175b",
       "version_major": 2,
       "version_minor": 0
      },
      "text/plain": [
       "Predicting:   0%|          | 0/42 [00:00<?, ?it/s]"
      ]
     },
     "metadata": {},
     "output_type": "display_data"
    },
    {
     "name": "stdout",
     "output_type": "stream",
     "text": [
      "Training:   >> Physionet MMIDB | DSID: None | 19 people | 796 trials | 90 channels | 1536 samples/trial | 256Hz | 0 transforms\n",
      "Validation: Person S096 - 42 trials | 0 transforms\n",
      "Test:       Person S097 - 42 trials | 0 transforms\n"
     ]
    },
    {
     "data": {
      "application/vnd.jupyter.widget-view+json": {
       "model_id": "63d220ad98f94d07a42c569cbb0dbe3b",
       "version_major": 2,
       "version_minor": 0
      },
      "text/plain": [
       "Predicting:   0%|          | 0/42 [00:00<?, ?it/s]"
      ]
     },
     "metadata": {},
     "output_type": "display_data"
    },
    {
     "name": "stdout",
     "output_type": "stream",
     "text": [
      "Training:   >> Physionet MMIDB | DSID: None | 19 people | 796 trials | 90 channels | 1536 samples/trial | 256Hz | 0 transforms\n",
      "Validation: Person S097 - 42 trials | 0 transforms\n",
      "Test:       Person S098 - 42 trials | 0 transforms\n"
     ]
    },
    {
     "data": {
      "application/vnd.jupyter.widget-view+json": {
       "model_id": "4dea3f2487674c0788c0f1005f6ced07",
       "version_major": 2,
       "version_minor": 0
      },
      "text/plain": [
       "Predicting:   0%|          | 0/42 [00:00<?, ?it/s]"
      ]
     },
     "metadata": {},
     "output_type": "display_data"
    },
    {
     "name": "stdout",
     "output_type": "stream",
     "text": [
      "Training:   >> Physionet MMIDB | DSID: None | 19 people | 796 trials | 90 channels | 1536 samples/trial | 256Hz | 0 transforms\n",
      "Validation: Person S098 - 42 trials | 0 transforms\n",
      "Test:       Person S099 - 42 trials | 0 transforms\n"
     ]
    },
    {
     "data": {
      "application/vnd.jupyter.widget-view+json": {
       "model_id": "dfb813b9fd874c3a9b8d14dadcc74914",
       "version_major": 2,
       "version_minor": 0
      },
      "text/plain": [
       "Predicting:   0%|          | 0/42 [00:00<?, ?it/s]"
      ]
     },
     "metadata": {},
     "output_type": "display_data"
    },
    {
     "name": "stdout",
     "output_type": "stream",
     "text": [
      "Training:   >> Physionet MMIDB | DSID: None | 19 people | 796 trials | 90 channels | 1536 samples/trial | 256Hz | 0 transforms\n",
      "Validation: Person S099 - 42 trials | 0 transforms\n",
      "Test:       Person S101 - 42 trials | 0 transforms\n"
     ]
    },
    {
     "data": {
      "application/vnd.jupyter.widget-view+json": {
       "model_id": "3769288eb0074a478168e4029284c7b3",
       "version_major": 2,
       "version_minor": 0
      },
      "text/plain": [
       "Predicting:   0%|          | 0/42 [00:00<?, ?it/s]"
      ]
     },
     "metadata": {},
     "output_type": "display_data"
    },
    {
     "name": "stdout",
     "output_type": "stream",
     "text": [
      "Training:   >> Physionet MMIDB | DSID: None | 19 people | 796 trials | 90 channels | 1536 samples/trial | 256Hz | 0 transforms\n",
      "Validation: Person S101 - 42 trials | 0 transforms\n",
      "Test:       Person S102 - 42 trials | 0 transforms\n"
     ]
    },
    {
     "data": {
      "application/vnd.jupyter.widget-view+json": {
       "model_id": "47a00a0a00e347fc8c733232adde363d",
       "version_major": 2,
       "version_minor": 0
      },
      "text/plain": [
       "Predicting:   0%|          | 0/42 [00:00<?, ?it/s]"
      ]
     },
     "metadata": {},
     "output_type": "display_data"
    },
    {
     "name": "stdout",
     "output_type": "stream",
     "text": [
      "Training:   >> Physionet MMIDB | DSID: None | 19 people | 796 trials | 90 channels | 1536 samples/trial | 256Hz | 0 transforms\n",
      "Validation: Person S102 - 42 trials | 0 transforms\n",
      "Test:       Person S103 - 42 trials | 0 transforms\n"
     ]
    },
    {
     "data": {
      "application/vnd.jupyter.widget-view+json": {
       "model_id": "5287bcae4c7e41f9a42fa4c0aecf8c32",
       "version_major": 2,
       "version_minor": 0
      },
      "text/plain": [
       "Predicting:   0%|          | 0/42 [00:00<?, ?it/s]"
      ]
     },
     "metadata": {},
     "output_type": "display_data"
    },
    {
     "name": "stdout",
     "output_type": "stream",
     "text": [
      "Training:   >> Physionet MMIDB | DSID: None | 19 people | 798 trials | 90 channels | 1536 samples/trial | 256Hz | 0 transforms\n",
      "Validation: Person S103 - 42 trials | 0 transforms\n",
      "Test:       Person S104 - 40 trials | 0 transforms\n"
     ]
    },
    {
     "data": {
      "application/vnd.jupyter.widget-view+json": {
       "model_id": "277575ebd83449f3b20c3606e236965f",
       "version_major": 2,
       "version_minor": 0
      },
      "text/plain": [
       "Predicting:   0%|          | 0/40 [00:00<?, ?it/s]"
      ]
     },
     "metadata": {},
     "output_type": "display_data"
    },
    {
     "name": "stdout",
     "output_type": "stream",
     "text": [
      "Training:   >> Physionet MMIDB | DSID: None | 19 people | 798 trials | 90 channels | 1536 samples/trial | 256Hz | 0 transforms\n",
      "Validation: Person S104 - 40 trials | 0 transforms\n",
      "Test:       Person S105 - 42 trials | 0 transforms\n"
     ]
    },
    {
     "data": {
      "application/vnd.jupyter.widget-view+json": {
       "model_id": "9258daa615904c218a22c36ae5b811f2",
       "version_major": 2,
       "version_minor": 0
      },
      "text/plain": [
       "Predicting:   0%|          | 0/42 [00:00<?, ?it/s]"
      ]
     },
     "metadata": {},
     "output_type": "display_data"
    },
    {
     "name": "stdout",
     "output_type": "stream",
     "text": [
      "Training:   >> Physionet MMIDB | DSID: None | 19 people | 796 trials | 90 channels | 1536 samples/trial | 256Hz | 0 transforms\n",
      "Validation: Person S105 - 42 trials | 0 transforms\n",
      "Test:       Person S106 - 42 trials | 0 transforms\n"
     ]
    },
    {
     "data": {
      "application/vnd.jupyter.widget-view+json": {
       "model_id": "371c7d49405f45debde67fb434a61f0e",
       "version_major": 2,
       "version_minor": 0
      },
      "text/plain": [
       "Predicting:   0%|          | 0/42 [00:00<?, ?it/s]"
      ]
     },
     "metadata": {},
     "output_type": "display_data"
    },
    {
     "name": "stdout",
     "output_type": "stream",
     "text": [
      "Training:   >> Physionet MMIDB | DSID: None | 19 people | 796 trials | 90 channels | 1536 samples/trial | 256Hz | 0 transforms\n",
      "Validation: Person S106 - 42 trials | 0 transforms\n",
      "Test:       Person S107 - 42 trials | 0 transforms\n"
     ]
    },
    {
     "data": {
      "application/vnd.jupyter.widget-view+json": {
       "model_id": "05bdb5c7fee04bff90ae474eb3ef1077",
       "version_major": 2,
       "version_minor": 0
      },
      "text/plain": [
       "Predicting:   0%|          | 0/42 [00:00<?, ?it/s]"
      ]
     },
     "metadata": {},
     "output_type": "display_data"
    },
    {
     "name": "stdout",
     "output_type": "stream",
     "text": [
      "Training:   >> Physionet MMIDB | DSID: None | 19 people | 796 trials | 90 channels | 1536 samples/trial | 256Hz | 0 transforms\n",
      "Validation: Person S107 - 42 trials | 0 transforms\n",
      "Test:       Person S108 - 42 trials | 0 transforms\n"
     ]
    },
    {
     "data": {
      "application/vnd.jupyter.widget-view+json": {
       "model_id": "2f83647ad451407ea0b688e3038a219f",
       "version_major": 2,
       "version_minor": 0
      },
      "text/plain": [
       "Predicting:   0%|          | 0/42 [00:00<?, ?it/s]"
      ]
     },
     "metadata": {},
     "output_type": "display_data"
    },
    {
     "name": "stdout",
     "output_type": "stream",
     "text": [
      "Training:   >> Physionet MMIDB | DSID: None | 19 people | 796 trials | 90 channels | 1536 samples/trial | 256Hz | 0 transforms\n",
      "Validation: Person S108 - 42 trials | 0 transforms\n",
      "Test:       Person S109 - 42 trials | 0 transforms\n"
     ]
    },
    {
     "data": {
      "application/vnd.jupyter.widget-view+json": {
       "model_id": "45107ba3b5944d7abeafdd60931dbb24",
       "version_major": 2,
       "version_minor": 0
      },
      "text/plain": [
       "Predicting:   0%|          | 0/42 [00:00<?, ?it/s]"
      ]
     },
     "metadata": {},
     "output_type": "display_data"
    },
    {
     "name": "stdout",
     "output_type": "stream",
     "text": [
      "{'S001': OrderedDict({'Accuracy': 0.9285714030265808, 'loss': 0.2587059438228607}), 'S002': OrderedDict({'Accuracy': 0.976190447807312, 'loss': 0.17190757393836975}), 'S003': OrderedDict({'Accuracy': 1.0, 'loss': 0.08486204594373703}), 'S004': OrderedDict({'Accuracy': 0.9285714030265808, 'loss': 0.13500741124153137}), 'S005': OrderedDict({'Accuracy': 0.9523809552192688, 'loss': 0.19521886110305786}), 'S006': OrderedDict({'Accuracy': 1.0, 'loss': 0.10267361998558044}), 'S007': OrderedDict({'Accuracy': 1.0, 'loss': 0.06416495144367218}), 'S008': OrderedDict({'Accuracy': 0.8571428656578064, 'loss': 0.3228107988834381}), 'S009': OrderedDict({'Accuracy': 0.8809523582458496, 'loss': 0.1753239929676056}), 'S010': OrderedDict({'Accuracy': 0.7857142686843872, 'loss': 0.5850896835327148}), 'S011': OrderedDict({'Accuracy': 0.8809523582458496, 'loss': 0.20510387420654297}), 'S012': OrderedDict({'Accuracy': 0.9523809552192688, 'loss': 0.11980809271335602}), 'S013': OrderedDict({'Accuracy': 0.8809523582458496, 'loss': 0.36635416746139526}), 'S014': OrderedDict({'Accuracy': 0.9523809552192688, 'loss': 0.1651943027973175}), 'S015': OrderedDict({'Accuracy': 0.976190447807312, 'loss': 0.14627563953399658}), 'S016': OrderedDict({'Accuracy': 0.7857142686843872, 'loss': 0.42642420530319214}), 'S017': OrderedDict({'Accuracy': 0.9285714030265808, 'loss': 0.2065775990486145}), 'S018': OrderedDict({'Accuracy': 1.0, 'loss': 0.010988402180373669}), 'S019': OrderedDict({'Accuracy': 0.8809523582458496, 'loss': 0.3354424834251404}), 'S020': OrderedDict({'Accuracy': 0.976190447807312, 'loss': 0.08175491541624069}), 'S021': OrderedDict({'Accuracy': 0.5952380895614624, 'loss': 0.642598032951355}), 'S022': OrderedDict({'Accuracy': 1.0, 'loss': 0.038717132061719894}), 'S023': OrderedDict({'Accuracy': 0.8095238208770752, 'loss': 0.45907652378082275}), 'S024': OrderedDict({'Accuracy': 0.8095238208770752, 'loss': 0.38639605045318604}), 'S025': OrderedDict({'Accuracy': 0.5714285969734192, 'loss': 1.0345499515533447}), 'S026': OrderedDict({'Accuracy': 0.5952380895614624, 'loss': 0.817794919013977}), 'S027': OrderedDict({'Accuracy': 0.8809523582458496, 'loss': 0.5585692524909973}), 'S028': OrderedDict({'Accuracy': 1.0, 'loss': 0.056351739913225174}), 'S029': OrderedDict({'Accuracy': 0.9285714030265808, 'loss': 0.1344740241765976}), 'S030': OrderedDict({'Accuracy': 0.976190447807312, 'loss': 0.09565889090299606}), 'S031': OrderedDict({'Accuracy': 0.8809523582458496, 'loss': 0.2853010594844818}), 'S032': OrderedDict({'Accuracy': 1.0, 'loss': 0.023050133138895035}), 'S033': OrderedDict({'Accuracy': 1.0, 'loss': 0.08843640238046646}), 'S034': OrderedDict({'Accuracy': 0.9285714030265808, 'loss': 0.1882370263338089}), 'S035': OrderedDict({'Accuracy': 0.9047619104385376, 'loss': 0.2960934340953827}), 'S036': OrderedDict({'Accuracy': 0.8571428656578064, 'loss': 0.3050389885902405}), 'S037': OrderedDict({'Accuracy': 0.9285714030265808, 'loss': 0.15336181223392487}), 'S038': OrderedDict({'Accuracy': 0.5, 'loss': 0.8119767308235168}), 'S039': OrderedDict({'Accuracy': 0.8809523582458496, 'loss': 0.307983934879303}), 'S040': OrderedDict({'Accuracy': 0.976190447807312, 'loss': 0.08754859864711761}), 'S041': OrderedDict({'Accuracy': 0.9523809552192688, 'loss': 0.135530024766922}), 'S042': OrderedDict({'Accuracy': 0.9285714030265808, 'loss': 0.14709055423736572}), 'S043': OrderedDict({'Accuracy': 0.9285714030265808, 'loss': 0.10166791826486588}), 'S044': OrderedDict({'Accuracy': 0.9047619104385376, 'loss': 0.22614610195159912}), 'S045': OrderedDict({'Accuracy': 0.8333333134651184, 'loss': 0.4206041991710663}), 'S046': OrderedDict({'Accuracy': 0.7857142686843872, 'loss': 0.4090511202812195}), 'S047': OrderedDict({'Accuracy': 0.8809523582458496, 'loss': 0.22151067852973938}), 'S048': OrderedDict({'Accuracy': 1.0, 'loss': 0.023548826575279236}), 'S049': OrderedDict({'Accuracy': 0.7142857313156128, 'loss': 0.48160281777381897}), 'S050': OrderedDict({'Accuracy': 1.0, 'loss': 0.04811430722475052}), 'S051': OrderedDict({'Accuracy': 0.9047619104385376, 'loss': 0.21891051530838013}), 'S052': OrderedDict({'Accuracy': 0.8571428656578064, 'loss': 0.20850780606269836}), 'S053': OrderedDict({'Accuracy': 0.8809523582458496, 'loss': 0.34171947836875916}), 'S054': OrderedDict({'Accuracy': 0.976190447807312, 'loss': 0.12454145401716232}), 'S055': OrderedDict({'Accuracy': 0.9523809552192688, 'loss': 0.14049328863620758}), 'S056': OrderedDict({'Accuracy': 0.9285714030265808, 'loss': 0.3230312764644623}), 'S057': OrderedDict({'Accuracy': 1.0, 'loss': 0.014584104530513287}), 'S058': OrderedDict({'Accuracy': 0.976190447807312, 'loss': 0.11026114225387573}), 'S059': OrderedDict({'Accuracy': 0.8333333134651184, 'loss': 0.35483065247535706}), 'S060': OrderedDict({'Accuracy': 0.9523809552192688, 'loss': 0.07803696393966675}), 'S061': OrderedDict({'Accuracy': 0.976190447807312, 'loss': 0.07828816026449203}), 'S062': OrderedDict({'Accuracy': 0.8809523582458496, 'loss': 0.23072803020477295}), 'S063': OrderedDict({'Accuracy': 0.9285714030265808, 'loss': 0.2837967574596405}), 'S064': OrderedDict({'Accuracy': 0.8571428656578064, 'loss': 0.30823472142219543}), 'S065': OrderedDict({'Accuracy': 0.9047619104385376, 'loss': 0.19000546634197235}), 'S066': OrderedDict({'Accuracy': 0.8809523582458496, 'loss': 0.24865511059761047}), 'S067': OrderedDict({'Accuracy': 0.6190476417541504, 'loss': 0.6994802355766296}), 'S068': OrderedDict({'Accuracy': 0.8571428656578064, 'loss': 0.3671160638332367}), 'S069': OrderedDict({'Accuracy': 0.8095238208770752, 'loss': 0.5689250826835632}), 'S070': OrderedDict({'Accuracy': 1.0, 'loss': 0.0170564204454422}), 'S071': OrderedDict({'Accuracy': 0.976190447807312, 'loss': 0.07685394585132599}), 'S072': OrderedDict({'Accuracy': 0.8571428656578064, 'loss': 0.2303820103406906}), 'S073': OrderedDict({'Accuracy': 0.9285714030265808, 'loss': 0.15202835202217102}), 'S074': OrderedDict({'Accuracy': 0.8571428656578064, 'loss': 0.5153762698173523}), 'S075': OrderedDict({'Accuracy': 0.6904761791229248, 'loss': 1.022834300994873}), 'S076': OrderedDict({'Accuracy': 0.7857142686843872, 'loss': 0.9935680627822876}), 'S077': OrderedDict({'Accuracy': 0.9285714030265808, 'loss': 0.16423332691192627}), 'S078': OrderedDict({'Accuracy': 0.6428571343421936, 'loss': 0.6376761794090271}), 'S079': OrderedDict({'Accuracy': 0.9047619104385376, 'loss': 0.29776516556739807}), 'S080': OrderedDict({'Accuracy': 0.6904761791229248, 'loss': 0.5426995754241943}), 'S081': OrderedDict({'Accuracy': 0.9523809552192688, 'loss': 0.12155049294233322}), 'S082': OrderedDict({'Accuracy': 0.9285714030265808, 'loss': 0.2419227808713913}), 'S083': OrderedDict({'Accuracy': 0.7142857313156128, 'loss': 0.5848302841186523}), 'S084': OrderedDict({'Accuracy': 0.976190447807312, 'loss': 0.10260394960641861}), 'S085': OrderedDict({'Accuracy': 0.9047619104385376, 'loss': 0.2689974904060364}), 'S086': OrderedDict({'Accuracy': 1.0, 'loss': 0.030920065939426422}), 'S087': OrderedDict({'Accuracy': 0.5476190447807312, 'loss': 0.743675708770752}), 'S089': OrderedDict({'Accuracy': 0.9047619104385376, 'loss': 0.22240334749221802}), 'S091': OrderedDict({'Accuracy': 0.9523809552192688, 'loss': 0.26272472739219666}), 'S093': OrderedDict({'Accuracy': 0.9047619104385376, 'loss': 0.32788577675819397}), 'S094': OrderedDict({'Accuracy': 0.9285714030265808, 'loss': 0.31655314564704895}), 'S095': OrderedDict({'Accuracy': 0.9047619104385376, 'loss': 0.2914702892303467}), 'S096': OrderedDict({'Accuracy': 0.9523809552192688, 'loss': 0.14824475347995758}), 'S097': OrderedDict({'Accuracy': 0.7857142686843872, 'loss': 0.4363502860069275}), 'S098': OrderedDict({'Accuracy': 0.761904776096344, 'loss': 0.5274918675422668}), 'S099': OrderedDict({'Accuracy': 0.761904776096344, 'loss': 0.6557098031044006}), 'S101': OrderedDict({'Accuracy': 1.0, 'loss': 0.016711801290512085}), 'S102': OrderedDict({'Accuracy': 0.7857142686843872, 'loss': 0.3590996563434601}), 'S103': OrderedDict({'Accuracy': 0.8571428656578064, 'loss': 0.3182764947414398}), 'S104': OrderedDict({'Accuracy': 0.875, 'loss': 0.36108478903770447}), 'S105': OrderedDict({'Accuracy': 1.0, 'loss': 0.005620336160063744}), 'S106': OrderedDict({'Accuracy': 0.8571428656578064, 'loss': 0.502718985080719}), 'S107': OrderedDict({'Accuracy': 0.7142857313156128, 'loss': 0.6590744853019714}), 'S108': OrderedDict({'Accuracy': 0.9047619104385376, 'loss': 0.23961617052555084}), 'S109': OrderedDict({'Accuracy': 0.7142857313156128, 'loss': 0.4794902205467224})}\n"
     ]
    },
    {
     "ename": "TypeError",
     "evalue": "unsupported operand type(s) for +: 'int' and 'collections.OrderedDict'",
     "output_type": "error",
     "traceback": [
      "\u001b[31m---------------------------------------------------------------------------\u001b[39m",
      "\u001b[31mTypeError\u001b[39m                                 Traceback (most recent call last)",
      "\u001b[36mCell\u001b[39m\u001b[36m \u001b[39m\u001b[32mIn[6]\u001b[39m\u001b[32m, line 13\u001b[39m\n\u001b[32m     10\u001b[39m         results[test_thinker.person_id] = process.evaluate(test_thinker)\n\u001b[32m     12\u001b[39m \u001b[38;5;28mprint\u001b[39m(results)\n\u001b[32m---> \u001b[39m\u001b[32m13\u001b[39m \u001b[38;5;28mprint\u001b[39m(\u001b[33m\"\u001b[39m\u001b[33mAverage accuracy: \u001b[39m\u001b[38;5;132;01m{:.2%}\u001b[39;00m\u001b[33m\"\u001b[39m.format(\u001b[38;5;28;43msum\u001b[39;49m\u001b[43m(\u001b[49m\u001b[43mresults\u001b[49m\u001b[43m.\u001b[49m\u001b[43mvalues\u001b[49m\u001b[43m(\u001b[49m\u001b[43m)\u001b[49m\u001b[43m)\u001b[49m/\u001b[38;5;28mlen\u001b[39m(results)))\n",
      "\u001b[31mTypeError\u001b[39m: unsupported operand type(s) for +: 'int' and 'collections.OrderedDict'"
     ]
    }
   ],
   "source": [
    "results = dict()\n",
    "for training, validation, test in dataset.lmso(ds_config.folds):\n",
    "    process = make_model_and_process()\n",
    "\n",
    "    process.fit(training_dataset=training, validation_dataset=validation,\n",
    "                epochs=ds_config.train_params.epochs,\n",
    "                batch_size=ds_config.train_params.batch_size)\n",
    "\n",
    "    for _, _, test_thinker in test.loso():\n",
    "        results[test_thinker.person_id] = process.evaluate(test_thinker)\n",
    "\n",
    "print(results)"
   ]
  },
  {
   "cell_type": "code",
   "execution_count": 12,
   "metadata": {},
   "outputs": [
    {
     "name": "stdout",
     "output_type": "stream",
     "text": [
      "Average accuracy: 87.91%\n"
     ]
    }
   ],
   "source": [
    "avg_acc = sum(v['Accuracy'] for v in results.values()) / len(results)\n",
    "print(\"Average accuracy: {:.2%}\".format(avg_acc))"
   ]
  },
  {
   "cell_type": "markdown",
   "metadata": {
    "collapsed": false,
    "pycharm": {
     "name": "#%% md\n"
    }
   },
   "source": [
    "Try filling in your own values to `my_config.yml` to run these examples on your next read through."
   ]
  }
 ],
 "metadata": {
  "kernelspec": {
   "display_name": "env",
   "language": "python",
   "name": "python3"
  },
  "language_info": {
   "codemirror_mode": {
    "name": "ipython",
    "version": 3
   },
   "file_extension": ".py",
   "mimetype": "text/x-python",
   "name": "python",
   "nbconvert_exporter": "python",
   "pygments_lexer": "ipython3",
   "version": "3.12.7"
  }
 },
 "nbformat": 4,
 "nbformat_minor": 0
}
