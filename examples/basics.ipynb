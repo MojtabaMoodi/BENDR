{
 "cells": [
  {
   "cell_type": "markdown",
   "metadata": {
    "collapsed": true,
    "pycharm": {
     "name": "#%% md\n"
    }
   },
   "source": [
    "Basics\n",
    "------\n",
    "This covers a fundamental use-case for DN<sup>3</sup>. Here, the TIDNet architecture from *Kostas & Rudzicz 2020\n",
    "(https://doi.org/10.1088/1741-2552/abb7a7)* is evaluated using the Physionet motor dataset in a\n",
    "*\"leave multiple subjects out\"* (aka person-stratified cross validation) training procedure.\n",
    "This means, the number of subjects are divided into approximately evenly numbered sets, and the test performance of\n",
    "each set is evaluated. The remaining sets for each test will be used to develop a neural network classifier.\n",
    "\n",
    "Here we will focus on classifying imagined hand vs. foot movement, which are the runs 6, 10 and 14. So create a\n",
    "configuration for the configuratron that specifies a single dataset, the length of the trials to cut for the dataset\n",
    " (6s), the events we are looking for (T1 and T2), and then to exclude all those sessions that are not 6, 10 and 14\n",
    "(the sessions by default are listed as \"S{subject number}R{run number}.edf\". Finally, due to some issues with a few\n",
    "people's recordings in the dataset, we can ignore those troublemakers. The following is the contents of a file named\n",
    "\"my_config.yml\".\n",
    "\n",
    "```yaml\n",
    "Configuratron:\n",
    "  preload: True\n",
    "\n",
    "use_gpu: False\n",
    "\n",
    "mmidb:\n",
    "  name: \"Physionet MMIDB\"\n",
    "  toplevel: /path/to/eegmmidb\n",
    "  tmin: 0\n",
    "  tlen: 6\n",
    "  data_max: 0.001\n",
    "  data_min: -0.001\n",
    "  events:\n",
    "    - T1\n",
    "    - T2\n",
    "  exclude_sessions:\n",
    "    - \"*R0[!48].edf\"  # equivalently \"*R0[1235679].edf\"\n",
    "    - \"*R1[!2].edf\"   # equivalently \"*R1[134].edf\"\n",
    "  exclude_people:\n",
    "    - S088\n",
    "    - S090\n",
    "    - S092\n",
    "    - S100\n",
    "  train_params:\n",
    "    epochs: 7\n",
    "    batch_size: 4\n",
    "  lr: 0.0001\n",
    "  folds: 5\n",
    "```\n",
    "\n",
    "Notice that in addition to the dataset and special `Configuratron` section we also include a `train_params` with the\n",
    "dataset.\n",
    "This last part is definitely *not mandatory*, it is an arbitrarily named additional set of configuration values that\n",
    "will be used in our experiment, put there for convenience. See it in action below, but if you don't like it,\n",
    "don't use it."
   ]
  },
  {
   "cell_type": "code",
   "execution_count": 19,
   "metadata": {
    "collapsed": false,
    "pycharm": {
     "name": "#%%\n"
    }
   },
   "outputs": [],
   "source": [
    "from dn3.configuratron import ExperimentConfig\n",
    "from dn3.trainable.processes import StandardClassification\n",
    "from dn3.trainable.models import TIDNet\n",
    "\n",
    "# Since we are doing a lot of loading, this is nice to suppress some tedious information\n",
    "import mne\n",
    "mne.set_log_level(False)"
   ]
  },
  {
   "cell_type": "markdown",
   "metadata": {
    "collapsed": false
   },
   "source": [
    "First things first, we use `ExperimentConfig`, and the subsequently constructed `DatasetConfig` to rapidly construct\n",
    "our `dataset`."
   ]
  },
  {
   "cell_type": "code",
   "execution_count": 20,
   "metadata": {
    "collapsed": false,
    "pycharm": {
     "name": "#%%\n"
    }
   },
   "outputs": [
    {
     "name": "stdout",
     "output_type": "stream",
     "text": [
      "Adding additional configuration entries: dict_keys(['train_params', 'folds', 'lr'])\n",
      "Configuratron found 1 datasets.\n"
     ]
    },
    {
     "name": "stderr",
     "output_type": "stream",
     "text": [
      "Scanning /Volumes/Data/MMI. If there are a lot of files, this may take a while...: 100%|██████████| 4/4 [00:00<00:00, 45.30it/s, extension=.gdf]\n"
     ]
    },
    {
     "name": "stdout",
     "output_type": "stream",
     "text": [
      "Creating dataset of 315 Preloaded Epoched recordings from 105 people.\n"
     ]
    },
    {
     "name": "stderr",
     "output_type": "stream",
     "text": [
      "Loading Physionet MMIDB: 100%|██████████| 105/105 [00:15<00:00,  6.75person/s]\n"
     ]
    },
    {
     "name": "stdout",
     "output_type": "stream",
     "text": [
      ">> Physionet MMIDB | DSID: None | 105 people | 4408 trials | 90 channels | 1536 samples/trial | 256Hz | 0 transforms\n",
      "Constructed 1 channel maps\n",
      "====================\n",
      "Used by 315 recordings:\n",
      "EEG (original(new)): Fc5.(FC5) Fc3.(FC3) Fc1.(FC1) Fcz.(FCZ) Fc2.(FC2) Fc4.(FC4) Fc6.(FC6) C5..(C5) C3..(C3) C1..(C1) Cz..(CZ) C2..(C2) C4..(C4) C6..(C6) Cp5.(CP5) Cp3.(CP3) Cp1.(CP1) Cpz.(CPZ) Cp2.(CP2) Cp4.(CP4) Cp6.(CP6) Fp1.(FP1) Fpz.(FPZ) Fp2.(FP2) Af7.(AF7) Af3.(AF3) Afz.(AFZ) Af4.(AF4) Af8.(AF8) F7..(F7) F5..(F5) F3..(F3) F1..(F1) Fz..(FZ) F2..(F2) F4..(F4) F6..(F6) F8..(F8) Ft7.(FT7) Ft8.(FT8) T7..(T7) T8..(T8) T9..(T9) T10.(T10) Tp7.(TP7) Tp8.(TP8) P7..(P7) P5..(P5) P3..(P3) P1..(P1) Pz..(PZ) P2..(P2) P4..(P4) P6..(P6) P8..(P8) Po7.(PO7) Po3.(PO3) Poz.(POZ) Po4.(PO4) Po8.(PO8) O1..(O1) Oz..(OZ) O2..(O2) Iz..(IZ) \n",
      "EOG (original(new)): \n",
      "REF (original(new)): \n",
      "EXTRA (original(new)): \n",
      "Heuristically Assigned: Fc5.(FC5)  Fc3.(FC3)  Fc1.(FC1)  Fcz.(FCZ)  Fc2.(FC2)  Fc4.(FC4)  Fc6.(FC6)  C5..(C5)  C3..(C3)  C1..(C1)  Cz..(CZ)  C2..(C2)  C4..(C4)  C6..(C6)  Cp5.(CP5)  Cp3.(CP3)  Cp1.(CP1)  Cpz.(CPZ)  Cp2.(CP2)  Cp4.(CP4)  Cp6.(CP6)  Fp1.(FP1)  Fpz.(FPZ)  Fp2.(FP2)  Af7.(AF7)  Af3.(AF3)  Afz.(AFZ)  Af4.(AF4)  Af8.(AF8)  F7..(F7)  F5..(F5)  F3..(F3)  F1..(F1)  Fz..(FZ)  F2..(F2)  F4..(F4)  F6..(F6)  F8..(F8)  Ft7.(FT7)  Ft8.(FT8)  T7..(T7)  T8..(T8)  T9..(T9)  T10.(T10)  Tp7.(TP7)  Tp8.(TP8)  P7..(P7)  P5..(P5)  P3..(P3)  P1..(P1)  Pz..(PZ)  P2..(P2)  P4..(P4)  P6..(P6)  P8..(P8)  Po7.(PO7)  Po3.(PO3)  Poz.(POZ)  Po4.(PO4)  Po8.(PO8)  O1..(O1)  Oz..(OZ)  O2..(O2)  Iz..(IZ) \n",
      "--------------------\n",
      "Excluded []\n",
      "====================\n"
     ]
    }
   ],
   "source": [
    "config_filename = 'my_config.yml'\n",
    "experiment = ExperimentConfig(config_filename)\n",
    "ds_config = experiment.datasets['mmidb']\n",
    "\n",
    "dataset = ds_config.auto_construct_dataset()"
   ]
  },
  {
   "cell_type": "markdown",
   "metadata": {
    "collapsed": false,
    "pycharm": {
     "name": "#%% md\n"
    }
   },
   "source": [
    "Let's create a function that makes a new model for each set of training people and a trainable process for\n",
    "`StandardClassification`. The `cuda` argument handles whether the GPU is used to train the neural network if a\n",
    "cuda-compatible PyTorch installation is operational."
   ]
  },
  {
   "cell_type": "code",
   "execution_count": 21,
   "metadata": {
    "collapsed": false,
    "pycharm": {
     "name": "#%%\n"
    }
   },
   "outputs": [],
   "source": [
    "def make_model_and_process():\n",
    "    tidnet = TIDNet.from_dataset(dataset)\n",
    "    return StandardClassification(tidnet, cuda=experiment.use_gpu, learning_rate=ds_config.lr)"
   ]
  },
  {
   "cell_type": "markdown",
   "metadata": {
    "collapsed": false
   },
   "source": [
    "That's pretty much it! We use a helper that initializes a TIDNet from any `Dataset/Thinker/EpochedRecording` and wrap\n",
    "it with a `StandardClassification` process. Invoking this process will train the classifier.\n",
    "Have a look through all the `trainable.processes`, they can wrap the *same model* to learn in stages (e.g. some sort\n",
    " of fine-tuning procedure from a general model -- covered in `examples/finetuning.ipynb`).\n",
    "\n",
    "Now, we loop through five folds, *leaving multiple subjects out* (`dataset.lmso()`), fit the classifier,\n",
    "then check the test results."
   ]
  },
  {
   "cell_type": "code",
   "execution_count": 22,
   "metadata": {},
   "outputs": [],
   "source": [
    "vars(ds_config.train_params)\n",
    "def get_model_size(model, include_buffers=True):\n",
    "    \"\"\"\n",
    "    Returns the size of the PyTorch model in megabytes.\n",
    "    \n",
    "    Args:\n",
    "        model (torch.nn.Module): The model to evaluate.\n",
    "        include_buffers (bool): Whether to include model buffers (like in BatchNorm) in the size.\n",
    "\n",
    "    Returns:\n",
    "        float: Model size in MB.\n",
    "    \"\"\"\n",
    "    param_size = sum(p.numel() * p.element_size() for p in model.parameters())\n",
    "    return param_size / (1024 ** 2)  # Convert bytes to MB"
   ]
  },
  {
   "cell_type": "code",
   "execution_count": 23,
   "metadata": {
    "collapsed": false,
    "pycharm": {
     "is_executing": true,
     "name": "#%%\n"
    }
   },
   "outputs": [
    {
     "name": "stdout",
     "output_type": "stream",
     "text": [
      "Training:   >> Physionet MMIDB | DSID: None | 63 people | 2646 trials | 90 channels | 1536 samples/trial | 256Hz | 0 transforms\n",
      "Validation: >> Physionet MMIDB | DSID: None | 21 people | 880 trials | 90 channels | 1536 samples/trial | 256Hz | 0 transforms\n",
      "Test:       >> Physionet MMIDB | DSID: None | 21 people | 882 trials | 90 channels | 1536 samples/trial | 256Hz | 0 transforms\n",
      "Creating TIDNet using: 90 channels x 1536 samples at 256Hz | 2 targets\n",
      "Apple M-series GPU detected: training and model execution will be performed on MPS.\n"
     ]
    },
    {
     "name": "stderr",
     "output_type": "stream",
     "text": [
      "/Users/mojtaba/Library/CloudStorage/OneDrive-UniversityofWaterloo/Think/Time Management/UWaterloo/Research/my research/BENDR/env/lib/python3.12/site-packages/torch/nn/utils/weight_norm.py:143: FutureWarning: `torch.nn.utils.weight_norm` is deprecated in favor of `torch.nn.utils.parametrizations.weight_norm`.\n",
      "  WeightNorm.apply(module, name, dim)\n"
     ]
    },
    {
     "name": "stdout",
     "output_type": "stream",
     "text": [
      "Loading data with 0 additional workers\n"
     ]
    },
    {
     "data": {
      "application/vnd.jupyter.widget-view+json": {
       "model_id": "dda5d5a5a71e41b6b663e81c678116fc",
       "version_major": 2,
       "version_minor": 0
      },
      "text/plain": [
       "Epoch:  14%|#4        | 1/7 [00:00<?, ?epoch/s]"
      ]
     },
     "metadata": {},
     "output_type": "display_data"
    },
    {
     "data": {
      "application/vnd.jupyter.widget-view+json": {
       "model_id": "834992e578ad46eea1a6d944ea4e5b51",
       "version_major": 2,
       "version_minor": 0
      },
      "text/plain": [
       "Iteration:   0%|          | 1/661 [00:00<?, ?batches/s]"
      ]
     },
     "metadata": {},
     "output_type": "display_data"
    },
    {
     "name": "stdout",
     "output_type": "stream",
     "text": [
      "Training: End of Epoch 1 | Accuracy: 52.61% | loss: 0.906 | lr: 3.539e-06 | momentum: 0.917 | epoch: 1.000 |\n"
     ]
    },
    {
     "data": {
      "application/vnd.jupyter.widget-view+json": {
       "model_id": "35172e5a7b3643e3815d488181f7c8a7",
       "version_major": 2,
       "version_minor": 0
      },
      "text/plain": [
       "Predicting:   0%|          | 0/220 [00:00<?, ?it/s]"
      ]
     },
     "metadata": {},
     "output_type": "display_data"
    },
    {
     "name": "stdout",
     "output_type": "stream",
     "text": [
      "Validation: End of Epoch 1 | Accuracy: 54.43% | loss: 0.747 |\n",
      "Best loss. Retaining checkpoint...\n"
     ]
    },
    {
     "data": {
      "application/vnd.jupyter.widget-view+json": {
       "model_id": "f1b6e811dfe0494fbe61815bc5fa6539",
       "version_major": 2,
       "version_minor": 0
      },
      "text/plain": [
       "Iteration:   0%|          | 1/661 [00:00<?, ?batches/s]"
      ]
     },
     "metadata": {},
     "output_type": "display_data"
    },
    {
     "name": "stdout",
     "output_type": "stream",
     "text": [
      "Training: End of Epoch 2 | Accuracy: 65.02% | loss: 0.664 | lr: 9.699e-06 | momentum: 0.853 | epoch: 2.000 |\n"
     ]
    },
    {
     "data": {
      "application/vnd.jupyter.widget-view+json": {
       "model_id": "55bf79ed84ea4ce9abcd2c2af124b6ea",
       "version_major": 2,
       "version_minor": 0
      },
      "text/plain": [
       "Predicting:   0%|          | 0/220 [00:00<?, ?it/s]"
      ]
     },
     "metadata": {},
     "output_type": "display_data"
    },
    {
     "name": "stdout",
     "output_type": "stream",
     "text": [
      "Validation: End of Epoch 2 | Accuracy: 73.30% | loss: 0.522 |\n",
      "Best loss. Retaining checkpoint...\n"
     ]
    },
    {
     "data": {
      "application/vnd.jupyter.widget-view+json": {
       "model_id": "3313f2fa220348f98434d639a224296f",
       "version_major": 2,
       "version_minor": 0
      },
      "text/plain": [
       "Iteration:   0%|          | 1/661 [00:00<?, ?batches/s]"
      ]
     },
     "metadata": {},
     "output_type": "display_data"
    },
    {
     "name": "stdout",
     "output_type": "stream",
     "text": [
      "Training: End of Epoch 3 | Accuracy: 73.45% | loss: 0.533 | lr: 9.021e-06 | momentum: 0.860 | epoch: 3.000 |\n"
     ]
    },
    {
     "data": {
      "application/vnd.jupyter.widget-view+json": {
       "model_id": "aad885fd43f04fc7aeee797d9eabf924",
       "version_major": 2,
       "version_minor": 0
      },
      "text/plain": [
       "Predicting:   0%|          | 0/220 [00:00<?, ?it/s]"
      ]
     },
     "metadata": {},
     "output_type": "display_data"
    },
    {
     "name": "stdout",
     "output_type": "stream",
     "text": [
      "Validation: End of Epoch 3 | Accuracy: 78.86% | loss: 0.447 |\n",
      "Best loss. Retaining checkpoint...\n"
     ]
    },
    {
     "data": {
      "application/vnd.jupyter.widget-view+json": {
       "model_id": "e9fa6af298374a7b9e323fd215d3e533",
       "version_major": 2,
       "version_minor": 0
      },
      "text/plain": [
       "Iteration:   0%|          | 1/661 [00:00<?, ?batches/s]"
      ]
     },
     "metadata": {},
     "output_type": "display_data"
    },
    {
     "name": "stdout",
     "output_type": "stream",
     "text": [
      "Training: End of Epoch 4 | Accuracy: 77.84% | loss: 0.456 | lr: 6.883e-06 | momentum: 0.881 | epoch: 4.000 |\n"
     ]
    },
    {
     "data": {
      "application/vnd.jupyter.widget-view+json": {
       "model_id": "08bb543071654aafacec22549f01b610",
       "version_major": 2,
       "version_minor": 0
      },
      "text/plain": [
       "Predicting:   0%|          | 0/220 [00:00<?, ?it/s]"
      ]
     },
     "metadata": {},
     "output_type": "display_data"
    },
    {
     "name": "stdout",
     "output_type": "stream",
     "text": [
      "Validation: End of Epoch 4 | Accuracy: 80.80% | loss: 0.415 |\n",
      "Best loss. Retaining checkpoint...\n"
     ]
    },
    {
     "data": {
      "application/vnd.jupyter.widget-view+json": {
       "model_id": "1f23c785ea96407a8f2bfcf49da76f59",
       "version_major": 2,
       "version_minor": 0
      },
      "text/plain": [
       "Iteration:   0%|          | 1/661 [00:00<?, ?batches/s]"
      ]
     },
     "metadata": {},
     "output_type": "display_data"
    },
    {
     "name": "stdout",
     "output_type": "stream",
     "text": [
      "Training: End of Epoch 5 | Accuracy: 80.26% | loss: 0.410 | lr: 4.167e-06 | momentum: 0.908 | epoch: 5.000 |\n"
     ]
    },
    {
     "data": {
      "application/vnd.jupyter.widget-view+json": {
       "model_id": "c1edb3513d3b4155b5ad9009e6d7854a",
       "version_major": 2,
       "version_minor": 0
      },
      "text/plain": [
       "Predicting:   0%|          | 0/220 [00:00<?, ?it/s]"
      ]
     },
     "metadata": {},
     "output_type": "display_data"
    },
    {
     "name": "stdout",
     "output_type": "stream",
     "text": [
      "Validation: End of Epoch 5 | Accuracy: 80.45% | loss: 0.406 |\n",
      "Best loss. Retaining checkpoint...\n"
     ]
    },
    {
     "data": {
      "application/vnd.jupyter.widget-view+json": {
       "model_id": "18a105723c7840759ae88cd0dbe0dd1e",
       "version_major": 2,
       "version_minor": 0
      },
      "text/plain": [
       "Iteration:   0%|          | 1/661 [00:00<?, ?batches/s]"
      ]
     },
     "metadata": {},
     "output_type": "display_data"
    },
    {
     "name": "stdout",
     "output_type": "stream",
     "text": [
      "Training: End of Epoch 6 | Accuracy: 81.58% | loss: 0.387 | lr: 1.707e-06 | momentum: 0.933 | epoch: 6.000 |\n"
     ]
    },
    {
     "data": {
      "application/vnd.jupyter.widget-view+json": {
       "model_id": "e5b3012c4b584693bff2f97036c40419",
       "version_major": 2,
       "version_minor": 0
      },
      "text/plain": [
       "Predicting:   0%|          | 0/220 [00:00<?, ?it/s]"
      ]
     },
     "metadata": {},
     "output_type": "display_data"
    },
    {
     "name": "stdout",
     "output_type": "stream",
     "text": [
      "Validation: End of Epoch 6 | Accuracy: 82.16% | loss: 0.385 |\n",
      "Best loss. Retaining checkpoint...\n"
     ]
    },
    {
     "data": {
      "application/vnd.jupyter.widget-view+json": {
       "model_id": "d4a634cb75804a34b12a36681367432c",
       "version_major": 2,
       "version_minor": 0
      },
      "text/plain": [
       "Iteration:   0%|          | 1/661 [00:00<?, ?batches/s]"
      ]
     },
     "metadata": {},
     "output_type": "display_data"
    },
    {
     "name": "stdout",
     "output_type": "stream",
     "text": [
      "Training: End of Epoch 7 | Accuracy: 83.81% | loss: 0.369 | lr: 2.565e-07 | momentum: 0.947 | epoch: 7.000 |\n"
     ]
    },
    {
     "data": {
      "application/vnd.jupyter.widget-view+json": {
       "model_id": "9a6f2255245f4d29946065d995849a1d",
       "version_major": 2,
       "version_minor": 0
      },
      "text/plain": [
       "Predicting:   0%|          | 0/220 [00:00<?, ?it/s]"
      ]
     },
     "metadata": {},
     "output_type": "display_data"
    },
    {
     "name": "stdout",
     "output_type": "stream",
     "text": [
      "Validation: End of Epoch 7 | Accuracy: 81.48% | loss: 0.396 |\n",
      "Loading best model...\n"
     ]
    },
    {
     "data": {
      "application/vnd.jupyter.widget-view+json": {
       "model_id": "594838ac4c5e4c8989cfe5cf3cdd0233",
       "version_major": 2,
       "version_minor": 0
      },
      "text/plain": [
       "Predicting:   0%|          | 0/882 [00:00<?, ?it/s]"
      ]
     },
     "metadata": {},
     "output_type": "display_data"
    },
    {
     "name": "stdout",
     "output_type": "stream",
     "text": [
      "Training:   >> Physionet MMIDB | DSID: None | 63 people | 2644 trials | 90 channels | 1536 samples/trial | 256Hz | 0 transforms\n",
      "Validation: >> Physionet MMIDB | DSID: None | 21 people | 882 trials | 90 channels | 1536 samples/trial | 256Hz | 0 transforms\n",
      "Test:       >> Physionet MMIDB | DSID: None | 21 people | 882 trials | 90 channels | 1536 samples/trial | 256Hz | 0 transforms\n",
      "Creating TIDNet using: 90 channels x 1536 samples at 256Hz | 2 targets\n",
      "Apple M-series GPU detected: training and model execution will be performed on MPS.\n",
      "Loading data with 0 additional workers\n"
     ]
    },
    {
     "data": {
      "application/vnd.jupyter.widget-view+json": {
       "model_id": "3a2606e11505401c90e1306af3f84dca",
       "version_major": 2,
       "version_minor": 0
      },
      "text/plain": [
       "Epoch:  14%|#4        | 1/7 [00:00<?, ?epoch/s]"
      ]
     },
     "metadata": {},
     "output_type": "display_data"
    },
    {
     "data": {
      "application/vnd.jupyter.widget-view+json": {
       "model_id": "e2cf02667d3044e6aaa72d15af0e05f8",
       "version_major": 2,
       "version_minor": 0
      },
      "text/plain": [
       "Iteration:   0%|          | 1/661 [00:00<?, ?batches/s]"
      ]
     },
     "metadata": {},
     "output_type": "display_data"
    },
    {
     "name": "stdout",
     "output_type": "stream",
     "text": [
      "Training: End of Epoch 1 | Accuracy: 54.08% | loss: 0.909 | lr: 3.539e-06 | momentum: 0.917 | epoch: 1.000 |\n"
     ]
    },
    {
     "data": {
      "application/vnd.jupyter.widget-view+json": {
       "model_id": "7922a7db00644e9f85b1dd4d70922e3d",
       "version_major": 2,
       "version_minor": 0
      },
      "text/plain": [
       "Predicting:   0%|          | 0/221 [00:00<?, ?it/s]"
      ]
     },
     "metadata": {},
     "output_type": "display_data"
    },
    {
     "name": "stdout",
     "output_type": "stream",
     "text": [
      "Validation: End of Epoch 1 | Accuracy: 65.99% | loss: 0.643 |\n",
      "Best loss. Retaining checkpoint...\n"
     ]
    },
    {
     "data": {
      "application/vnd.jupyter.widget-view+json": {
       "model_id": "0d4b6de3dd9247348b9e4f7ca5f42794",
       "version_major": 2,
       "version_minor": 0
      },
      "text/plain": [
       "Iteration:   0%|          | 1/661 [00:00<?, ?batches/s]"
      ]
     },
     "metadata": {},
     "output_type": "display_data"
    },
    {
     "name": "stdout",
     "output_type": "stream",
     "text": [
      "Training: End of Epoch 2 | Accuracy: 64.64% | loss: 0.664 | lr: 9.699e-06 | momentum: 0.853 | epoch: 2.000 |\n"
     ]
    },
    {
     "data": {
      "application/vnd.jupyter.widget-view+json": {
       "model_id": "2a03c3b99c3c42a7a4d7f7fd44b86415",
       "version_major": 2,
       "version_minor": 0
      },
      "text/plain": [
       "Predicting:   0%|          | 0/221 [00:00<?, ?it/s]"
      ]
     },
     "metadata": {},
     "output_type": "display_data"
    },
    {
     "name": "stdout",
     "output_type": "stream",
     "text": [
      "Validation: End of Epoch 2 | Accuracy: 77.21% | loss: 0.525 |\n",
      "Best loss. Retaining checkpoint...\n"
     ]
    },
    {
     "data": {
      "application/vnd.jupyter.widget-view+json": {
       "model_id": "430f677b45f5437683af821319bb2d9d",
       "version_major": 2,
       "version_minor": 0
      },
      "text/plain": [
       "Iteration:   0%|          | 1/661 [00:00<?, ?batches/s]"
      ]
     },
     "metadata": {},
     "output_type": "display_data"
    },
    {
     "name": "stdout",
     "output_type": "stream",
     "text": [
      "Training: End of Epoch 3 | Accuracy: 71.14% | loss: 0.563 | lr: 9.021e-06 | momentum: 0.860 | epoch: 3.000 |\n"
     ]
    },
    {
     "data": {
      "application/vnd.jupyter.widget-view+json": {
       "model_id": "7cb20fb174a245d7b0042880ca1457da",
       "version_major": 2,
       "version_minor": 0
      },
      "text/plain": [
       "Predicting:   0%|          | 0/221 [00:00<?, ?it/s]"
      ]
     },
     "metadata": {},
     "output_type": "display_data"
    },
    {
     "name": "stdout",
     "output_type": "stream",
     "text": [
      "Validation: End of Epoch 3 | Accuracy: 82.54% | loss: 0.442 |\n",
      "Best loss. Retaining checkpoint...\n"
     ]
    },
    {
     "data": {
      "application/vnd.jupyter.widget-view+json": {
       "model_id": "1c609c3debbf479db94421b9b182299f",
       "version_major": 2,
       "version_minor": 0
      },
      "text/plain": [
       "Iteration:   0%|          | 1/661 [00:00<?, ?batches/s]"
      ]
     },
     "metadata": {},
     "output_type": "display_data"
    },
    {
     "name": "stdout",
     "output_type": "stream",
     "text": [
      "Training: End of Epoch 4 | Accuracy: 77.61% | loss: 0.454 | lr: 6.883e-06 | momentum: 0.881 | epoch: 4.000 |\n"
     ]
    },
    {
     "data": {
      "application/vnd.jupyter.widget-view+json": {
       "model_id": "e0a90ce7a21d4eb89aad05cddf7f06f3",
       "version_major": 2,
       "version_minor": 0
      },
      "text/plain": [
       "Predicting:   0%|          | 0/221 [00:00<?, ?it/s]"
      ]
     },
     "metadata": {},
     "output_type": "display_data"
    },
    {
     "name": "stdout",
     "output_type": "stream",
     "text": [
      "Validation: End of Epoch 4 | Accuracy: 84.35% | loss: 0.403 |\n",
      "Best loss. Retaining checkpoint...\n"
     ]
    },
    {
     "data": {
      "application/vnd.jupyter.widget-view+json": {
       "model_id": "af31fbffe6264c5cb80cb9b9268adbf6",
       "version_major": 2,
       "version_minor": 0
      },
      "text/plain": [
       "Iteration:   0%|          | 1/661 [00:00<?, ?batches/s]"
      ]
     },
     "metadata": {},
     "output_type": "display_data"
    },
    {
     "name": "stdout",
     "output_type": "stream",
     "text": [
      "Training: End of Epoch 5 | Accuracy: 80.90% | loss: 0.407 | lr: 4.167e-06 | momentum: 0.908 | epoch: 5.000 |\n"
     ]
    },
    {
     "data": {
      "application/vnd.jupyter.widget-view+json": {
       "model_id": "bfbda3aa338344fe9a425f577c074fc2",
       "version_major": 2,
       "version_minor": 0
      },
      "text/plain": [
       "Predicting:   0%|          | 0/221 [00:00<?, ?it/s]"
      ]
     },
     "metadata": {},
     "output_type": "display_data"
    },
    {
     "name": "stdout",
     "output_type": "stream",
     "text": [
      "Validation: End of Epoch 5 | Accuracy: 86.39% | loss: 0.369 |\n",
      "Best loss. Retaining checkpoint...\n"
     ]
    },
    {
     "data": {
      "application/vnd.jupyter.widget-view+json": {
       "model_id": "dc62584686de4966bbc05d772749ca98",
       "version_major": 2,
       "version_minor": 0
      },
      "text/plain": [
       "Iteration:   0%|          | 1/661 [00:00<?, ?batches/s]"
      ]
     },
     "metadata": {},
     "output_type": "display_data"
    },
    {
     "name": "stdout",
     "output_type": "stream",
     "text": [
      "Training: End of Epoch 6 | Accuracy: 82.19% | loss: 0.382 | lr: 1.707e-06 | momentum: 0.933 | epoch: 6.000 |\n"
     ]
    },
    {
     "data": {
      "application/vnd.jupyter.widget-view+json": {
       "model_id": "66e1cc965eff45b29357a4b60102a35a",
       "version_major": 2,
       "version_minor": 0
      },
      "text/plain": [
       "Predicting:   0%|          | 0/221 [00:00<?, ?it/s]"
      ]
     },
     "metadata": {},
     "output_type": "display_data"
    },
    {
     "name": "stdout",
     "output_type": "stream",
     "text": [
      "Validation: End of Epoch 6 | Accuracy: 86.39% | loss: 0.348 |\n",
      "Best loss. Retaining checkpoint...\n"
     ]
    },
    {
     "data": {
      "application/vnd.jupyter.widget-view+json": {
       "model_id": "0339d0178a5747e2bbedc775feb5b540",
       "version_major": 2,
       "version_minor": 0
      },
      "text/plain": [
       "Iteration:   0%|          | 1/661 [00:00<?, ?batches/s]"
      ]
     },
     "metadata": {},
     "output_type": "display_data"
    },
    {
     "name": "stdout",
     "output_type": "stream",
     "text": [
      "Training: End of Epoch 7 | Accuracy: 83.02% | loss: 0.374 | lr: 2.565e-07 | momentum: 0.947 | epoch: 7.000 |\n"
     ]
    },
    {
     "data": {
      "application/vnd.jupyter.widget-view+json": {
       "model_id": "26706b72da514ad891f7abd9c52c3592",
       "version_major": 2,
       "version_minor": 0
      },
      "text/plain": [
       "Predicting:   0%|          | 0/221 [00:00<?, ?it/s]"
      ]
     },
     "metadata": {},
     "output_type": "display_data"
    },
    {
     "name": "stdout",
     "output_type": "stream",
     "text": [
      "Validation: End of Epoch 7 | Accuracy: 86.39% | loss: 0.357 |\n",
      "Loading best model...\n"
     ]
    },
    {
     "data": {
      "application/vnd.jupyter.widget-view+json": {
       "model_id": "781b3a20446e496caf869b32aece5179",
       "version_major": 2,
       "version_minor": 0
      },
      "text/plain": [
       "Predicting:   0%|          | 0/882 [00:00<?, ?it/s]"
      ]
     },
     "metadata": {},
     "output_type": "display_data"
    },
    {
     "name": "stdout",
     "output_type": "stream",
     "text": [
      "Training:   >> Physionet MMIDB | DSID: None | 63 people | 2644 trials | 90 channels | 1536 samples/trial | 256Hz | 0 transforms\n",
      "Validation: >> Physionet MMIDB | DSID: None | 21 people | 882 trials | 90 channels | 1536 samples/trial | 256Hz | 0 transforms\n",
      "Test:       >> Physionet MMIDB | DSID: None | 21 people | 882 trials | 90 channels | 1536 samples/trial | 256Hz | 0 transforms\n",
      "Creating TIDNet using: 90 channels x 1536 samples at 256Hz | 2 targets\n",
      "Apple M-series GPU detected: training and model execution will be performed on MPS.\n",
      "Loading data with 0 additional workers\n"
     ]
    },
    {
     "data": {
      "application/vnd.jupyter.widget-view+json": {
       "model_id": "e437c7b82d02466fb96256f50e660dc9",
       "version_major": 2,
       "version_minor": 0
      },
      "text/plain": [
       "Epoch:  14%|#4        | 1/7 [00:00<?, ?epoch/s]"
      ]
     },
     "metadata": {},
     "output_type": "display_data"
    },
    {
     "data": {
      "application/vnd.jupyter.widget-view+json": {
       "model_id": "677239e0ccc643a9988214729c997e1f",
       "version_major": 2,
       "version_minor": 0
      },
      "text/plain": [
       "Iteration:   0%|          | 1/661 [00:00<?, ?batches/s]"
      ]
     },
     "metadata": {},
     "output_type": "display_data"
    },
    {
     "name": "stdout",
     "output_type": "stream",
     "text": [
      "Training: End of Epoch 1 | Accuracy: 51.25% | loss: 0.899 | lr: 3.539e-06 | momentum: 0.917 | epoch: 1.000 |\n"
     ]
    },
    {
     "data": {
      "application/vnd.jupyter.widget-view+json": {
       "model_id": "ba58e73ef1f0482b8f4078f3ce4cdcff",
       "version_major": 2,
       "version_minor": 0
      },
      "text/plain": [
       "Predicting:   0%|          | 0/221 [00:00<?, ?it/s]"
      ]
     },
     "metadata": {},
     "output_type": "display_data"
    },
    {
     "name": "stdout",
     "output_type": "stream",
     "text": [
      "Validation: End of Epoch 1 | Accuracy: 62.81% | loss: 0.626 |\n",
      "Best loss. Retaining checkpoint...\n"
     ]
    },
    {
     "data": {
      "application/vnd.jupyter.widget-view+json": {
       "model_id": "545f26ef7b74449daf48d7bda4a28d0a",
       "version_major": 2,
       "version_minor": 0
      },
      "text/plain": [
       "Iteration:   0%|          | 1/661 [00:00<?, ?batches/s]"
      ]
     },
     "metadata": {},
     "output_type": "display_data"
    },
    {
     "name": "stdout",
     "output_type": "stream",
     "text": [
      "Training: End of Epoch 2 | Accuracy: 63.35% | loss: 0.678 | lr: 9.699e-06 | momentum: 0.853 | epoch: 2.000 |\n"
     ]
    },
    {
     "data": {
      "application/vnd.jupyter.widget-view+json": {
       "model_id": "d6aebf8fe22146f3a2e7f4fe0de44e5f",
       "version_major": 2,
       "version_minor": 0
      },
      "text/plain": [
       "Predicting:   0%|          | 0/221 [00:00<?, ?it/s]"
      ]
     },
     "metadata": {},
     "output_type": "display_data"
    },
    {
     "name": "stdout",
     "output_type": "stream",
     "text": [
      "Validation: End of Epoch 2 | Accuracy: 74.04% | loss: 0.529 |\n",
      "Best loss. Retaining checkpoint...\n"
     ]
    },
    {
     "data": {
      "application/vnd.jupyter.widget-view+json": {
       "model_id": "3593f37e12f74baeb0fb97d274c2daf3",
       "version_major": 2,
       "version_minor": 0
      },
      "text/plain": [
       "Iteration:   0%|          | 1/661 [00:00<?, ?batches/s]"
      ]
     },
     "metadata": {},
     "output_type": "display_data"
    },
    {
     "name": "stdout",
     "output_type": "stream",
     "text": [
      "Training: End of Epoch 3 | Accuracy: 72.84% | loss: 0.521 | lr: 9.021e-06 | momentum: 0.860 | epoch: 3.000 |\n"
     ]
    },
    {
     "data": {
      "application/vnd.jupyter.widget-view+json": {
       "model_id": "1e6373946a924bceaddb44ae84d28277",
       "version_major": 2,
       "version_minor": 0
      },
      "text/plain": [
       "Predicting:   0%|          | 0/221 [00:00<?, ?it/s]"
      ]
     },
     "metadata": {},
     "output_type": "display_data"
    },
    {
     "name": "stdout",
     "output_type": "stream",
     "text": [
      "Validation: End of Epoch 3 | Accuracy: 81.29% | loss: 0.432 |\n",
      "Best loss. Retaining checkpoint...\n"
     ]
    },
    {
     "data": {
      "application/vnd.jupyter.widget-view+json": {
       "model_id": "acd9dbf591384801abb67be546b72fe8",
       "version_major": 2,
       "version_minor": 0
      },
      "text/plain": [
       "Iteration:   0%|          | 1/661 [00:00<?, ?batches/s]"
      ]
     },
     "metadata": {},
     "output_type": "display_data"
    },
    {
     "name": "stdout",
     "output_type": "stream",
     "text": [
      "Training: End of Epoch 4 | Accuracy: 79.05% | loss: 0.436 | lr: 6.883e-06 | momentum: 0.881 | epoch: 4.000 |\n"
     ]
    },
    {
     "data": {
      "application/vnd.jupyter.widget-view+json": {
       "model_id": "e07728a7759e4792b1bfd124519fc49b",
       "version_major": 2,
       "version_minor": 0
      },
      "text/plain": [
       "Predicting:   0%|          | 0/221 [00:00<?, ?it/s]"
      ]
     },
     "metadata": {},
     "output_type": "display_data"
    },
    {
     "name": "stdout",
     "output_type": "stream",
     "text": [
      "Validation: End of Epoch 4 | Accuracy: 79.93% | loss: 0.422 |\n",
      "Best loss. Retaining checkpoint...\n"
     ]
    },
    {
     "data": {
      "application/vnd.jupyter.widget-view+json": {
       "model_id": "6eb3ae5dddd941b2b362e788082d51d1",
       "version_major": 2,
       "version_minor": 0
      },
      "text/plain": [
       "Iteration:   0%|          | 1/661 [00:00<?, ?batches/s]"
      ]
     },
     "metadata": {},
     "output_type": "display_data"
    },
    {
     "name": "stdout",
     "output_type": "stream",
     "text": [
      "Training: End of Epoch 5 | Accuracy: 80.52% | loss: 0.418 | lr: 4.167e-06 | momentum: 0.908 | epoch: 5.000 |\n"
     ]
    },
    {
     "data": {
      "application/vnd.jupyter.widget-view+json": {
       "model_id": "b3a07770711d4452a3cd32cae38edd97",
       "version_major": 2,
       "version_minor": 0
      },
      "text/plain": [
       "Predicting:   0%|          | 0/221 [00:00<?, ?it/s]"
      ]
     },
     "metadata": {},
     "output_type": "display_data"
    },
    {
     "name": "stdout",
     "output_type": "stream",
     "text": [
      "Validation: End of Epoch 5 | Accuracy: 84.81% | loss: 0.378 |\n",
      "Best loss. Retaining checkpoint...\n"
     ]
    },
    {
     "data": {
      "application/vnd.jupyter.widget-view+json": {
       "model_id": "88d1677422fe4261a6ad3063ccf09b1b",
       "version_major": 2,
       "version_minor": 0
      },
      "text/plain": [
       "Iteration:   0%|          | 1/661 [00:00<?, ?batches/s]"
      ]
     },
     "metadata": {},
     "output_type": "display_data"
    },
    {
     "name": "stdout",
     "output_type": "stream",
     "text": [
      "Training: End of Epoch 6 | Accuracy: 82.22% | loss: 0.383 | lr: 1.707e-06 | momentum: 0.933 | epoch: 6.000 |\n"
     ]
    },
    {
     "data": {
      "application/vnd.jupyter.widget-view+json": {
       "model_id": "1764e19176ec40c8be53b28a380bbb38",
       "version_major": 2,
       "version_minor": 0
      },
      "text/plain": [
       "Predicting:   0%|          | 0/221 [00:00<?, ?it/s]"
      ]
     },
     "metadata": {},
     "output_type": "display_data"
    },
    {
     "name": "stdout",
     "output_type": "stream",
     "text": [
      "Validation: End of Epoch 6 | Accuracy: 84.24% | loss: 0.376 |\n",
      "Best loss. Retaining checkpoint...\n"
     ]
    },
    {
     "data": {
      "application/vnd.jupyter.widget-view+json": {
       "model_id": "6847d339df744927942c7aecc617e73e",
       "version_major": 2,
       "version_minor": 0
      },
      "text/plain": [
       "Iteration:   0%|          | 1/661 [00:00<?, ?batches/s]"
      ]
     },
     "metadata": {},
     "output_type": "display_data"
    },
    {
     "name": "stdout",
     "output_type": "stream",
     "text": [
      "Training: End of Epoch 7 | Accuracy: 83.59% | loss: 0.365 | lr: 2.565e-07 | momentum: 0.947 | epoch: 7.000 |\n"
     ]
    },
    {
     "data": {
      "application/vnd.jupyter.widget-view+json": {
       "model_id": "51f35a8af13e49dbaa733bfb5cff9ffe",
       "version_major": 2,
       "version_minor": 0
      },
      "text/plain": [
       "Predicting:   0%|          | 0/221 [00:00<?, ?it/s]"
      ]
     },
     "metadata": {},
     "output_type": "display_data"
    },
    {
     "name": "stdout",
     "output_type": "stream",
     "text": [
      "Validation: End of Epoch 7 | Accuracy: 85.26% | loss: 0.369 |\n",
      "Best loss. Retaining checkpoint...\n",
      "Loading best model...\n"
     ]
    },
    {
     "data": {
      "application/vnd.jupyter.widget-view+json": {
       "model_id": "85f9eb891d034c94a3f81e73a32151fc",
       "version_major": 2,
       "version_minor": 0
      },
      "text/plain": [
       "Predicting:   0%|          | 0/882 [00:00<?, ?it/s]"
      ]
     },
     "metadata": {},
     "output_type": "display_data"
    },
    {
     "name": "stdout",
     "output_type": "stream",
     "text": [
      "Training:   >> Physionet MMIDB | DSID: None | 63 people | 2644 trials | 90 channels | 1536 samples/trial | 256Hz | 0 transforms\n",
      "Validation: >> Physionet MMIDB | DSID: None | 21 people | 882 trials | 90 channels | 1536 samples/trial | 256Hz | 0 transforms\n",
      "Test:       >> Physionet MMIDB | DSID: None | 21 people | 882 trials | 90 channels | 1536 samples/trial | 256Hz | 0 transforms\n",
      "Creating TIDNet using: 90 channels x 1536 samples at 256Hz | 2 targets\n",
      "Apple M-series GPU detected: training and model execution will be performed on MPS.\n",
      "Loading data with 0 additional workers\n"
     ]
    },
    {
     "data": {
      "application/vnd.jupyter.widget-view+json": {
       "model_id": "5ad375cbaecd4359a11ad77aef3f7c37",
       "version_major": 2,
       "version_minor": 0
      },
      "text/plain": [
       "Epoch:  14%|#4        | 1/7 [00:00<?, ?epoch/s]"
      ]
     },
     "metadata": {},
     "output_type": "display_data"
    },
    {
     "data": {
      "application/vnd.jupyter.widget-view+json": {
       "model_id": "59fc17d742624e6ebf8d052ee6200584",
       "version_major": 2,
       "version_minor": 0
      },
      "text/plain": [
       "Iteration:   0%|          | 1/661 [00:00<?, ?batches/s]"
      ]
     },
     "metadata": {},
     "output_type": "display_data"
    },
    {
     "name": "stdout",
     "output_type": "stream",
     "text": [
      "Training: End of Epoch 1 | Accuracy: 54.31% | loss: 0.885 | lr: 3.539e-06 | momentum: 0.917 | epoch: 1.000 |\n"
     ]
    },
    {
     "data": {
      "application/vnd.jupyter.widget-view+json": {
       "model_id": "defea23bdc254ef6ba1f639dc1a137e5",
       "version_major": 2,
       "version_minor": 0
      },
      "text/plain": [
       "Predicting:   0%|          | 0/221 [00:00<?, ?it/s]"
      ]
     },
     "metadata": {},
     "output_type": "display_data"
    },
    {
     "name": "stdout",
     "output_type": "stream",
     "text": [
      "Validation: End of Epoch 1 | Accuracy: 65.08% | loss: 0.633 |\n",
      "Best loss. Retaining checkpoint...\n"
     ]
    },
    {
     "data": {
      "application/vnd.jupyter.widget-view+json": {
       "model_id": "21865dfafa574d1ebc40d726c5fc9ac8",
       "version_major": 2,
       "version_minor": 0
      },
      "text/plain": [
       "Iteration:   0%|          | 1/661 [00:00<?, ?batches/s]"
      ]
     },
     "metadata": {},
     "output_type": "display_data"
    },
    {
     "name": "stdout",
     "output_type": "stream",
     "text": [
      "Training: End of Epoch 2 | Accuracy: 65.73% | loss: 0.637 | lr: 9.699e-06 | momentum: 0.853 | epoch: 2.000 |\n"
     ]
    },
    {
     "data": {
      "application/vnd.jupyter.widget-view+json": {
       "model_id": "db64a920da7c4d9282f84a5664538694",
       "version_major": 2,
       "version_minor": 0
      },
      "text/plain": [
       "Predicting:   0%|          | 0/221 [00:00<?, ?it/s]"
      ]
     },
     "metadata": {},
     "output_type": "display_data"
    },
    {
     "name": "stdout",
     "output_type": "stream",
     "text": [
      "Validation: End of Epoch 2 | Accuracy: 82.31% | loss: 0.492 |\n",
      "Best loss. Retaining checkpoint...\n"
     ]
    },
    {
     "data": {
      "application/vnd.jupyter.widget-view+json": {
       "model_id": "2546a7b65915484bb1b3592f766e43ab",
       "version_major": 2,
       "version_minor": 0
      },
      "text/plain": [
       "Iteration:   0%|          | 1/661 [00:00<?, ?batches/s]"
      ]
     },
     "metadata": {},
     "output_type": "display_data"
    },
    {
     "name": "stdout",
     "output_type": "stream",
     "text": [
      "Training: End of Epoch 3 | Accuracy: 74.66% | loss: 0.511 | lr: 9.021e-06 | momentum: 0.860 | epoch: 3.000 |\n"
     ]
    },
    {
     "data": {
      "application/vnd.jupyter.widget-view+json": {
       "model_id": "5a9876b6eb50421d91647ddbffd5088a",
       "version_major": 2,
       "version_minor": 0
      },
      "text/plain": [
       "Predicting:   0%|          | 0/221 [00:00<?, ?it/s]"
      ]
     },
     "metadata": {},
     "output_type": "display_data"
    },
    {
     "name": "stdout",
     "output_type": "stream",
     "text": [
      "Validation: End of Epoch 3 | Accuracy: 82.88% | loss: 0.409 |\n",
      "Best loss. Retaining checkpoint...\n"
     ]
    },
    {
     "data": {
      "application/vnd.jupyter.widget-view+json": {
       "model_id": "2a180c2aa2754f62b5891baa494778e9",
       "version_major": 2,
       "version_minor": 0
      },
      "text/plain": [
       "Iteration:   0%|          | 1/661 [00:00<?, ?batches/s]"
      ]
     },
     "metadata": {},
     "output_type": "display_data"
    },
    {
     "name": "stdout",
     "output_type": "stream",
     "text": [
      "Training: End of Epoch 4 | Accuracy: 79.08% | loss: 0.435 | lr: 6.883e-06 | momentum: 0.881 | epoch: 4.000 |\n"
     ]
    },
    {
     "data": {
      "application/vnd.jupyter.widget-view+json": {
       "model_id": "23384039b8f749bdab9e44ea1d70913f",
       "version_major": 2,
       "version_minor": 0
      },
      "text/plain": [
       "Predicting:   0%|          | 0/221 [00:00<?, ?it/s]"
      ]
     },
     "metadata": {},
     "output_type": "display_data"
    },
    {
     "name": "stdout",
     "output_type": "stream",
     "text": [
      "Validation: End of Epoch 4 | Accuracy: 87.07% | loss: 0.355 |\n",
      "Best loss. Retaining checkpoint...\n"
     ]
    },
    {
     "data": {
      "application/vnd.jupyter.widget-view+json": {
       "model_id": "374116a808104e26ba28e12a16cbcdcc",
       "version_major": 2,
       "version_minor": 0
      },
      "text/plain": [
       "Iteration:   0%|          | 1/661 [00:00<?, ?batches/s]"
      ]
     },
     "metadata": {},
     "output_type": "display_data"
    },
    {
     "name": "stdout",
     "output_type": "stream",
     "text": [
      "Training: End of Epoch 5 | Accuracy: 82.41% | loss: 0.396 | lr: 4.167e-06 | momentum: 0.908 | epoch: 5.000 |\n"
     ]
    },
    {
     "data": {
      "application/vnd.jupyter.widget-view+json": {
       "model_id": "4c25cdadc31a43d3b553b28c3b5f6b21",
       "version_major": 2,
       "version_minor": 0
      },
      "text/plain": [
       "Predicting:   0%|          | 0/221 [00:00<?, ?it/s]"
      ]
     },
     "metadata": {},
     "output_type": "display_data"
    },
    {
     "name": "stdout",
     "output_type": "stream",
     "text": [
      "Validation: End of Epoch 5 | Accuracy: 88.44% | loss: 0.327 |\n",
      "Best loss. Retaining checkpoint...\n"
     ]
    },
    {
     "data": {
      "application/vnd.jupyter.widget-view+json": {
       "model_id": "ab6321a5fbb94bac85d29c41e77262da",
       "version_major": 2,
       "version_minor": 0
      },
      "text/plain": [
       "Iteration:   0%|          | 1/661 [00:00<?, ?batches/s]"
      ]
     },
     "metadata": {},
     "output_type": "display_data"
    },
    {
     "name": "stdout",
     "output_type": "stream",
     "text": [
      "Training: End of Epoch 6 | Accuracy: 83.62% | loss: 0.365 | lr: 1.707e-06 | momentum: 0.933 | epoch: 6.000 |\n"
     ]
    },
    {
     "data": {
      "application/vnd.jupyter.widget-view+json": {
       "model_id": "873af5cc98814eb7b42d3f9ba67eb81d",
       "version_major": 2,
       "version_minor": 0
      },
      "text/plain": [
       "Predicting:   0%|          | 0/221 [00:00<?, ?it/s]"
      ]
     },
     "metadata": {},
     "output_type": "display_data"
    },
    {
     "name": "stdout",
     "output_type": "stream",
     "text": [
      "Validation: End of Epoch 6 | Accuracy: 90.14% | loss: 0.312 |\n",
      "Best loss. Retaining checkpoint...\n"
     ]
    },
    {
     "data": {
      "application/vnd.jupyter.widget-view+json": {
       "model_id": "f2d3075645e141edbe03bafd38b2e088",
       "version_major": 2,
       "version_minor": 0
      },
      "text/plain": [
       "Iteration:   0%|          | 1/661 [00:00<?, ?batches/s]"
      ]
     },
     "metadata": {},
     "output_type": "display_data"
    },
    {
     "name": "stdout",
     "output_type": "stream",
     "text": [
      "Training: End of Epoch 7 | Accuracy: 83.85% | loss: 0.367 | lr: 2.565e-07 | momentum: 0.947 | epoch: 7.000 |\n"
     ]
    },
    {
     "data": {
      "application/vnd.jupyter.widget-view+json": {
       "model_id": "104aa017bc8d4297a06a3f038850f42c",
       "version_major": 2,
       "version_minor": 0
      },
      "text/plain": [
       "Predicting:   0%|          | 0/221 [00:00<?, ?it/s]"
      ]
     },
     "metadata": {},
     "output_type": "display_data"
    },
    {
     "name": "stdout",
     "output_type": "stream",
     "text": [
      "Validation: End of Epoch 7 | Accuracy: 89.68% | loss: 0.304 |\n",
      "Best loss. Retaining checkpoint...\n",
      "Loading best model...\n"
     ]
    },
    {
     "data": {
      "application/vnd.jupyter.widget-view+json": {
       "model_id": "d4d39396e23a4159a1fe5e02bf507e51",
       "version_major": 2,
       "version_minor": 0
      },
      "text/plain": [
       "Predicting:   0%|          | 0/882 [00:00<?, ?it/s]"
      ]
     },
     "metadata": {},
     "output_type": "display_data"
    },
    {
     "name": "stdout",
     "output_type": "stream",
     "text": [
      "Training:   >> Physionet MMIDB | DSID: None | 63 people | 2646 trials | 90 channels | 1536 samples/trial | 256Hz | 0 transforms\n",
      "Validation: >> Physionet MMIDB | DSID: None | 21 people | 882 trials | 90 channels | 1536 samples/trial | 256Hz | 0 transforms\n",
      "Test:       >> Physionet MMIDB | DSID: None | 21 people | 880 trials | 90 channels | 1536 samples/trial | 256Hz | 0 transforms\n",
      "Creating TIDNet using: 90 channels x 1536 samples at 256Hz | 2 targets\n",
      "Apple M-series GPU detected: training and model execution will be performed on MPS.\n",
      "Loading data with 0 additional workers\n"
     ]
    },
    {
     "data": {
      "application/vnd.jupyter.widget-view+json": {
       "model_id": "177d615332324d56a45614eb103b9694",
       "version_major": 2,
       "version_minor": 0
      },
      "text/plain": [
       "Epoch:  14%|#4        | 1/7 [00:00<?, ?epoch/s]"
      ]
     },
     "metadata": {},
     "output_type": "display_data"
    },
    {
     "data": {
      "application/vnd.jupyter.widget-view+json": {
       "model_id": "77b52a39264c410f9cfa401689b2ed98",
       "version_major": 2,
       "version_minor": 0
      },
      "text/plain": [
       "Iteration:   0%|          | 1/661 [00:00<?, ?batches/s]"
      ]
     },
     "metadata": {},
     "output_type": "display_data"
    },
    {
     "name": "stdout",
     "output_type": "stream",
     "text": [
      "Training: End of Epoch 1 | Accuracy: 55.75% | loss: 0.839 | lr: 3.539e-06 | momentum: 0.917 | epoch: 1.000 |\n"
     ]
    },
    {
     "data": {
      "application/vnd.jupyter.widget-view+json": {
       "model_id": "5eb2dbf2027541c09e210d129d41798a",
       "version_major": 2,
       "version_minor": 0
      },
      "text/plain": [
       "Predicting:   0%|          | 0/221 [00:00<?, ?it/s]"
      ]
     },
     "metadata": {},
     "output_type": "display_data"
    },
    {
     "name": "stdout",
     "output_type": "stream",
     "text": [
      "Validation: End of Epoch 1 | Accuracy: 67.57% | loss: 0.596 |\n",
      "Best loss. Retaining checkpoint...\n"
     ]
    },
    {
     "data": {
      "application/vnd.jupyter.widget-view+json": {
       "model_id": "017ea3c56fc44a52b159c178f7300ac2",
       "version_major": 2,
       "version_minor": 0
      },
      "text/plain": [
       "Iteration:   0%|          | 1/661 [00:00<?, ?batches/s]"
      ]
     },
     "metadata": {},
     "output_type": "display_data"
    },
    {
     "name": "stdout",
     "output_type": "stream",
     "text": [
      "Training: End of Epoch 2 | Accuracy: 65.62% | loss: 0.646 | lr: 9.699e-06 | momentum: 0.853 | epoch: 2.000 |\n"
     ]
    },
    {
     "data": {
      "application/vnd.jupyter.widget-view+json": {
       "model_id": "a215b44d6b7c4ee4aa1dbc31239b3fc6",
       "version_major": 2,
       "version_minor": 0
      },
      "text/plain": [
       "Predicting:   0%|          | 0/221 [00:00<?, ?it/s]"
      ]
     },
     "metadata": {},
     "output_type": "display_data"
    },
    {
     "name": "stdout",
     "output_type": "stream",
     "text": [
      "Validation: End of Epoch 2 | Accuracy: 74.15% | loss: 0.514 |\n",
      "Best loss. Retaining checkpoint...\n"
     ]
    },
    {
     "data": {
      "application/vnd.jupyter.widget-view+json": {
       "model_id": "75b467b5817a4d02901f41d4a14cd7f7",
       "version_major": 2,
       "version_minor": 0
      },
      "text/plain": [
       "Iteration:   0%|          | 1/661 [00:00<?, ?batches/s]"
      ]
     },
     "metadata": {},
     "output_type": "display_data"
    },
    {
     "name": "stdout",
     "output_type": "stream",
     "text": [
      "Training: End of Epoch 3 | Accuracy: 74.89% | loss: 0.507 | lr: 9.021e-06 | momentum: 0.860 | epoch: 3.000 |\n"
     ]
    },
    {
     "data": {
      "application/vnd.jupyter.widget-view+json": {
       "model_id": "e164ee72f32b41cfb9b0276e13021747",
       "version_major": 2,
       "version_minor": 0
      },
      "text/plain": [
       "Predicting:   0%|          | 0/221 [00:00<?, ?it/s]"
      ]
     },
     "metadata": {},
     "output_type": "display_data"
    },
    {
     "name": "stdout",
     "output_type": "stream",
     "text": [
      "Validation: End of Epoch 3 | Accuracy: 81.18% | loss: 0.428 |\n",
      "Best loss. Retaining checkpoint...\n"
     ]
    },
    {
     "data": {
      "application/vnd.jupyter.widget-view+json": {
       "model_id": "58031856f09b42f09ec64e4bb64075a5",
       "version_major": 2,
       "version_minor": 0
      },
      "text/plain": [
       "Iteration:   0%|          | 1/661 [00:00<?, ?batches/s]"
      ]
     },
     "metadata": {},
     "output_type": "display_data"
    },
    {
     "name": "stdout",
     "output_type": "stream",
     "text": [
      "Training: End of Epoch 4 | Accuracy: 78.86% | loss: 0.446 | lr: 6.883e-06 | momentum: 0.881 | epoch: 4.000 |\n"
     ]
    },
    {
     "data": {
      "application/vnd.jupyter.widget-view+json": {
       "model_id": "f08dc82f3c6e493b99ddd7e69a4daf38",
       "version_major": 2,
       "version_minor": 0
      },
      "text/plain": [
       "Predicting:   0%|          | 0/221 [00:00<?, ?it/s]"
      ]
     },
     "metadata": {},
     "output_type": "display_data"
    },
    {
     "name": "stdout",
     "output_type": "stream",
     "text": [
      "Validation: End of Epoch 4 | Accuracy: 82.77% | loss: 0.396 |\n",
      "Best loss. Retaining checkpoint...\n"
     ]
    },
    {
     "data": {
      "application/vnd.jupyter.widget-view+json": {
       "model_id": "b37604b7215b4a7b8c206c215f3e4f4d",
       "version_major": 2,
       "version_minor": 0
      },
      "text/plain": [
       "Iteration:   0%|          | 1/661 [00:00<?, ?batches/s]"
      ]
     },
     "metadata": {},
     "output_type": "display_data"
    },
    {
     "name": "stdout",
     "output_type": "stream",
     "text": [
      "Training: End of Epoch 5 | Accuracy: 81.73% | loss: 0.390 | lr: 4.167e-06 | momentum: 0.908 | epoch: 5.000 |\n"
     ]
    },
    {
     "data": {
      "application/vnd.jupyter.widget-view+json": {
       "model_id": "5077b92dab574a95a94b292d491878ef",
       "version_major": 2,
       "version_minor": 0
      },
      "text/plain": [
       "Predicting:   0%|          | 0/221 [00:00<?, ?it/s]"
      ]
     },
     "metadata": {},
     "output_type": "display_data"
    },
    {
     "name": "stdout",
     "output_type": "stream",
     "text": [
      "Validation: End of Epoch 5 | Accuracy: 84.13% | loss: 0.378 |\n",
      "Best loss. Retaining checkpoint...\n"
     ]
    },
    {
     "data": {
      "application/vnd.jupyter.widget-view+json": {
       "model_id": "ed41c4cf2bad42abb20e24b310c92a36",
       "version_major": 2,
       "version_minor": 0
      },
      "text/plain": [
       "Iteration:   0%|          | 1/661 [00:00<?, ?batches/s]"
      ]
     },
     "metadata": {},
     "output_type": "display_data"
    },
    {
     "name": "stdout",
     "output_type": "stream",
     "text": [
      "Training: End of Epoch 6 | Accuracy: 83.70% | loss: 0.361 | lr: 1.707e-06 | momentum: 0.933 | epoch: 6.000 |\n"
     ]
    },
    {
     "data": {
      "application/vnd.jupyter.widget-view+json": {
       "model_id": "f517aa5ee139443a91e4fa23d2a0469c",
       "version_major": 2,
       "version_minor": 0
      },
      "text/plain": [
       "Predicting:   0%|          | 0/221 [00:00<?, ?it/s]"
      ]
     },
     "metadata": {},
     "output_type": "display_data"
    },
    {
     "name": "stdout",
     "output_type": "stream",
     "text": [
      "Validation: End of Epoch 6 | Accuracy: 84.24% | loss: 0.373 |\n",
      "Best loss. Retaining checkpoint...\n"
     ]
    },
    {
     "data": {
      "application/vnd.jupyter.widget-view+json": {
       "model_id": "8c8731f26830424db0a1811cdee54abf",
       "version_major": 2,
       "version_minor": 0
      },
      "text/plain": [
       "Iteration:   0%|          | 1/661 [00:00<?, ?batches/s]"
      ]
     },
     "metadata": {},
     "output_type": "display_data"
    },
    {
     "name": "stdout",
     "output_type": "stream",
     "text": [
      "Training: End of Epoch 7 | Accuracy: 84.57% | loss: 0.356 | lr: 2.565e-07 | momentum: 0.947 | epoch: 7.000 |\n"
     ]
    },
    {
     "data": {
      "application/vnd.jupyter.widget-view+json": {
       "model_id": "71a8f130c3d24e529e988da516057aab",
       "version_major": 2,
       "version_minor": 0
      },
      "text/plain": [
       "Predicting:   0%|          | 0/221 [00:00<?, ?it/s]"
      ]
     },
     "metadata": {},
     "output_type": "display_data"
    },
    {
     "name": "stdout",
     "output_type": "stream",
     "text": [
      "Validation: End of Epoch 7 | Accuracy: 83.45% | loss: 0.374 |\n",
      "Loading best model...\n"
     ]
    },
    {
     "data": {
      "application/vnd.jupyter.widget-view+json": {
       "model_id": "a7b710b5eb8f4c009ed86104aff2533f",
       "version_major": 2,
       "version_minor": 0
      },
      "text/plain": [
       "Predicting:   0%|          | 0/880 [00:00<?, ?it/s]"
      ]
     },
     "metadata": {},
     "output_type": "display_data"
    },
    {
     "name": "stdout",
     "output_type": "stream",
     "text": [
      "[0.8786848187446594, 0.8367347121238708, 0.8650793433189392, 0.8367347121238708, 0.8261363506317139]\n",
      "Average accuracy: 84.87%\n",
      "Model size: 2.65 MB\n"
     ]
    }
   ],
   "source": [
    "results = []\n",
    "\n",
    "for training, validation, test in dataset.lmso(ds_config.folds):\n",
    "    process = make_model_and_process()\n",
    "\n",
    "    process.fit(training_dataset=training, validation_dataset=validation, **ds_config.train_params)\n",
    "\n",
    "    results.append(process.evaluate(test)['Accuracy'])\n",
    "\n",
    "print(results)\n",
    "print(\"Average accuracy: {:.2%}\".format(sum(results)/len(results)))\n",
    "print(f\"Model size: {get_model_size(process):.2f} MB\")"
   ]
  },
  {
   "cell_type": "markdown",
   "metadata": {
    "collapsed": false
   },
   "source": [
    "Check out how we passed the train_params to `.fit()`, we could specify more arguments for `.fit()` by just adding them\n",
    "to this section in the configuration.\n",
    "\n",
    "Say we wanted to *instead*, get the performance of *each* person in the test fold independently. We could replace the\n",
    "code above with a very simple alternative, that *leaves one subject out* or `.loso()`, that specifically.\n",
    "It would look like:"
   ]
  },
  {
   "cell_type": "code",
   "execution_count": 24,
   "metadata": {
    "collapsed": false,
    "pycharm": {
     "name": "#%%\n"
    }
   },
   "outputs": [
    {
     "name": "stdout",
     "output_type": "stream",
     "text": [
      "Training:   >> Physionet MMIDB | DSID: None | 63 people | 2646 trials | 90 channels | 1536 samples/trial | 256Hz | 0 transforms\n",
      "Validation: >> Physionet MMIDB | DSID: None | 21 people | 880 trials | 90 channels | 1536 samples/trial | 256Hz | 0 transforms\n",
      "Test:       >> Physionet MMIDB | DSID: None | 21 people | 882 trials | 90 channels | 1536 samples/trial | 256Hz | 0 transforms\n",
      "Creating TIDNet using: 90 channels x 1536 samples at 256Hz | 2 targets\n",
      "Apple M-series GPU detected: training and model execution will be performed on MPS.\n",
      "Loading data with 0 additional workers\n"
     ]
    },
    {
     "data": {
      "application/vnd.jupyter.widget-view+json": {
       "model_id": "82739d22b0314a4bb4b2fd20944f95bd",
       "version_major": 2,
       "version_minor": 0
      },
      "text/plain": [
       "Epoch:  14%|#4        | 1/7 [00:00<?, ?epoch/s]"
      ]
     },
     "metadata": {},
     "output_type": "display_data"
    },
    {
     "data": {
      "application/vnd.jupyter.widget-view+json": {
       "model_id": "d09844a30ad54baa99c7bc324a923263",
       "version_major": 2,
       "version_minor": 0
      },
      "text/plain": [
       "Iteration:   0%|          | 1/661 [00:00<?, ?batches/s]"
      ]
     },
     "metadata": {},
     "output_type": "display_data"
    },
    {
     "name": "stdout",
     "output_type": "stream",
     "text": [
      "Training: End of Epoch 1 | Accuracy: 50.79% | loss: 0.924 | lr: 3.539e-06 | momentum: 0.917 | epoch: 1.000 |\n"
     ]
    },
    {
     "data": {
      "application/vnd.jupyter.widget-view+json": {
       "model_id": "7c29e152724d410f86046785ed6beb51",
       "version_major": 2,
       "version_minor": 0
      },
      "text/plain": [
       "Predicting:   0%|          | 0/220 [00:00<?, ?it/s]"
      ]
     },
     "metadata": {},
     "output_type": "display_data"
    },
    {
     "name": "stdout",
     "output_type": "stream",
     "text": [
      "Validation: End of Epoch 1 | Accuracy: 61.25% | loss: 0.645 |\n",
      "Best loss. Retaining checkpoint...\n"
     ]
    },
    {
     "data": {
      "application/vnd.jupyter.widget-view+json": {
       "model_id": "6c3e80ca72164744951b3e6e95dccbac",
       "version_major": 2,
       "version_minor": 0
      },
      "text/plain": [
       "Iteration:   0%|          | 1/661 [00:00<?, ?batches/s]"
      ]
     },
     "metadata": {},
     "output_type": "display_data"
    },
    {
     "name": "stdout",
     "output_type": "stream",
     "text": [
      "Training: End of Epoch 2 | Accuracy: 63.69% | loss: 0.681 | lr: 9.699e-06 | momentum: 0.853 | epoch: 2.000 |\n"
     ]
    },
    {
     "data": {
      "application/vnd.jupyter.widget-view+json": {
       "model_id": "ae11c01462514e0d91dab9af97bc0941",
       "version_major": 2,
       "version_minor": 0
      },
      "text/plain": [
       "Predicting:   0%|          | 0/220 [00:00<?, ?it/s]"
      ]
     },
     "metadata": {},
     "output_type": "display_data"
    },
    {
     "name": "stdout",
     "output_type": "stream",
     "text": [
      "Validation: End of Epoch 2 | Accuracy: 76.48% | loss: 0.514 |\n",
      "Best loss. Retaining checkpoint...\n"
     ]
    },
    {
     "data": {
      "application/vnd.jupyter.widget-view+json": {
       "model_id": "7bee0fb2ea7f40eabdfa0780d47234c7",
       "version_major": 2,
       "version_minor": 0
      },
      "text/plain": [
       "Iteration:   0%|          | 1/661 [00:00<?, ?batches/s]"
      ]
     },
     "metadata": {},
     "output_type": "display_data"
    },
    {
     "name": "stdout",
     "output_type": "stream",
     "text": [
      "Training: End of Epoch 3 | Accuracy: 73.18% | loss: 0.535 | lr: 9.021e-06 | momentum: 0.860 | epoch: 3.000 |\n"
     ]
    },
    {
     "data": {
      "application/vnd.jupyter.widget-view+json": {
       "model_id": "e037bd2ddbfb4d5c85228b50cf39127c",
       "version_major": 2,
       "version_minor": 0
      },
      "text/plain": [
       "Predicting:   0%|          | 0/220 [00:00<?, ?it/s]"
      ]
     },
     "metadata": {},
     "output_type": "display_data"
    },
    {
     "name": "stdout",
     "output_type": "stream",
     "text": [
      "Validation: End of Epoch 3 | Accuracy: 80.91% | loss: 0.446 |\n",
      "Best loss. Retaining checkpoint...\n"
     ]
    },
    {
     "data": {
      "application/vnd.jupyter.widget-view+json": {
       "model_id": "e25f383d424c436c934f068dad47ccdf",
       "version_major": 2,
       "version_minor": 0
      },
      "text/plain": [
       "Iteration:   0%|          | 1/661 [00:00<?, ?batches/s]"
      ]
     },
     "metadata": {},
     "output_type": "display_data"
    },
    {
     "name": "stdout",
     "output_type": "stream",
     "text": [
      "Training: End of Epoch 4 | Accuracy: 78.67% | loss: 0.445 | lr: 6.883e-06 | momentum: 0.881 | epoch: 4.000 |\n"
     ]
    },
    {
     "data": {
      "application/vnd.jupyter.widget-view+json": {
       "model_id": "0124d123ef57436aa1541f7dc3468fc4",
       "version_major": 2,
       "version_minor": 0
      },
      "text/plain": [
       "Predicting:   0%|          | 0/220 [00:00<?, ?it/s]"
      ]
     },
     "metadata": {},
     "output_type": "display_data"
    },
    {
     "name": "stdout",
     "output_type": "stream",
     "text": [
      "Validation: End of Epoch 4 | Accuracy: 82.27% | loss: 0.410 |\n",
      "Best loss. Retaining checkpoint...\n"
     ]
    },
    {
     "data": {
      "application/vnd.jupyter.widget-view+json": {
       "model_id": "ce7fecb936444805b6b47313173bee11",
       "version_major": 2,
       "version_minor": 0
      },
      "text/plain": [
       "Iteration:   0%|          | 1/661 [00:00<?, ?batches/s]"
      ]
     },
     "metadata": {},
     "output_type": "display_data"
    },
    {
     "name": "stdout",
     "output_type": "stream",
     "text": [
      "Training: End of Epoch 5 | Accuracy: 81.13% | loss: 0.388 | lr: 4.167e-06 | momentum: 0.908 | epoch: 5.000 |\n"
     ]
    },
    {
     "data": {
      "application/vnd.jupyter.widget-view+json": {
       "model_id": "d893ab1d0db0460dbd42efad0819457d",
       "version_major": 2,
       "version_minor": 0
      },
      "text/plain": [
       "Predicting:   0%|          | 0/220 [00:00<?, ?it/s]"
      ]
     },
     "metadata": {},
     "output_type": "display_data"
    },
    {
     "name": "stdout",
     "output_type": "stream",
     "text": [
      "Validation: End of Epoch 5 | Accuracy: 82.50% | loss: 0.385 |\n",
      "Best loss. Retaining checkpoint...\n"
     ]
    },
    {
     "data": {
      "application/vnd.jupyter.widget-view+json": {
       "model_id": "7f7b99af555a4b62ad6b1637fe379d41",
       "version_major": 2,
       "version_minor": 0
      },
      "text/plain": [
       "Iteration:   0%|          | 1/661 [00:00<?, ?batches/s]"
      ]
     },
     "metadata": {},
     "output_type": "display_data"
    },
    {
     "name": "stdout",
     "output_type": "stream",
     "text": [
      "Training: End of Epoch 6 | Accuracy: 82.56% | loss: 0.373 | lr: 1.707e-06 | momentum: 0.933 | epoch: 6.000 |\n"
     ]
    },
    {
     "data": {
      "application/vnd.jupyter.widget-view+json": {
       "model_id": "46ebe67b9abf4a79b2776dd5eded06b3",
       "version_major": 2,
       "version_minor": 0
      },
      "text/plain": [
       "Predicting:   0%|          | 0/220 [00:00<?, ?it/s]"
      ]
     },
     "metadata": {},
     "output_type": "display_data"
    },
    {
     "name": "stdout",
     "output_type": "stream",
     "text": [
      "Validation: End of Epoch 6 | Accuracy: 82.50% | loss: 0.379 |\n",
      "Best loss. Retaining checkpoint...\n"
     ]
    },
    {
     "data": {
      "application/vnd.jupyter.widget-view+json": {
       "model_id": "513481823c2b43729920dd4ba69be352",
       "version_major": 2,
       "version_minor": 0
      },
      "text/plain": [
       "Iteration:   0%|          | 1/661 [00:00<?, ?batches/s]"
      ]
     },
     "metadata": {},
     "output_type": "display_data"
    },
    {
     "name": "stdout",
     "output_type": "stream",
     "text": [
      "Training: End of Epoch 7 | Accuracy: 83.51% | loss: 0.360 | lr: 2.565e-07 | momentum: 0.947 | epoch: 7.000 |\n"
     ]
    },
    {
     "data": {
      "application/vnd.jupyter.widget-view+json": {
       "model_id": "1a9080afe1f5415abb70798e23ed154e",
       "version_major": 2,
       "version_minor": 0
      },
      "text/plain": [
       "Predicting:   0%|          | 0/220 [00:00<?, ?it/s]"
      ]
     },
     "metadata": {},
     "output_type": "display_data"
    },
    {
     "name": "stdout",
     "output_type": "stream",
     "text": [
      "Validation: End of Epoch 7 | Accuracy: 82.50% | loss: 0.379 |\n",
      "Loading best model...\n",
      "Training:   >> Physionet MMIDB | DSID: None | 19 people | 798 trials | 90 channels | 1536 samples/trial | 256Hz | 0 transforms\n",
      "Validation: Person S021 - 42 trials | 0 transforms\n",
      "Test:       Person S001 - 42 trials | 0 transforms\n"
     ]
    },
    {
     "data": {
      "application/vnd.jupyter.widget-view+json": {
       "model_id": "dfef9dc58d2346df9ee3e7c5652e9a20",
       "version_major": 2,
       "version_minor": 0
      },
      "text/plain": [
       "Predicting:   0%|          | 0/42 [00:00<?, ?it/s]"
      ]
     },
     "metadata": {},
     "output_type": "display_data"
    },
    {
     "name": "stdout",
     "output_type": "stream",
     "text": [
      "Training:   >> Physionet MMIDB | DSID: None | 19 people | 798 trials | 90 channels | 1536 samples/trial | 256Hz | 0 transforms\n",
      "Validation: Person S001 - 42 trials | 0 transforms\n",
      "Test:       Person S002 - 42 trials | 0 transforms\n"
     ]
    },
    {
     "data": {
      "application/vnd.jupyter.widget-view+json": {
       "model_id": "b4ca5af934dd4e118bf8432833945188",
       "version_major": 2,
       "version_minor": 0
      },
      "text/plain": [
       "Predicting:   0%|          | 0/42 [00:00<?, ?it/s]"
      ]
     },
     "metadata": {},
     "output_type": "display_data"
    },
    {
     "name": "stdout",
     "output_type": "stream",
     "text": [
      "Training:   >> Physionet MMIDB | DSID: None | 19 people | 798 trials | 90 channels | 1536 samples/trial | 256Hz | 0 transforms\n",
      "Validation: Person S002 - 42 trials | 0 transforms\n",
      "Test:       Person S003 - 42 trials | 0 transforms\n"
     ]
    },
    {
     "data": {
      "application/vnd.jupyter.widget-view+json": {
       "model_id": "14833b08a7e9499fae3e89474e3164d4",
       "version_major": 2,
       "version_minor": 0
      },
      "text/plain": [
       "Predicting:   0%|          | 0/42 [00:00<?, ?it/s]"
      ]
     },
     "metadata": {},
     "output_type": "display_data"
    },
    {
     "name": "stdout",
     "output_type": "stream",
     "text": [
      "Training:   >> Physionet MMIDB | DSID: None | 19 people | 798 trials | 90 channels | 1536 samples/trial | 256Hz | 0 transforms\n",
      "Validation: Person S003 - 42 trials | 0 transforms\n",
      "Test:       Person S004 - 42 trials | 0 transforms\n"
     ]
    },
    {
     "data": {
      "application/vnd.jupyter.widget-view+json": {
       "model_id": "00fdd858813b42708cae44c2c6d33742",
       "version_major": 2,
       "version_minor": 0
      },
      "text/plain": [
       "Predicting:   0%|          | 0/42 [00:00<?, ?it/s]"
      ]
     },
     "metadata": {},
     "output_type": "display_data"
    },
    {
     "name": "stdout",
     "output_type": "stream",
     "text": [
      "Training:   >> Physionet MMIDB | DSID: None | 19 people | 798 trials | 90 channels | 1536 samples/trial | 256Hz | 0 transforms\n",
      "Validation: Person S004 - 42 trials | 0 transforms\n",
      "Test:       Person S005 - 42 trials | 0 transforms\n"
     ]
    },
    {
     "data": {
      "application/vnd.jupyter.widget-view+json": {
       "model_id": "f4c7231fd8f94d75bbbc3eeebdfbd2db",
       "version_major": 2,
       "version_minor": 0
      },
      "text/plain": [
       "Predicting:   0%|          | 0/42 [00:00<?, ?it/s]"
      ]
     },
     "metadata": {},
     "output_type": "display_data"
    },
    {
     "name": "stdout",
     "output_type": "stream",
     "text": [
      "Training:   >> Physionet MMIDB | DSID: None | 19 people | 798 trials | 90 channels | 1536 samples/trial | 256Hz | 0 transforms\n",
      "Validation: Person S005 - 42 trials | 0 transforms\n",
      "Test:       Person S006 - 42 trials | 0 transforms\n"
     ]
    },
    {
     "data": {
      "application/vnd.jupyter.widget-view+json": {
       "model_id": "718e46da90b54f9d910b2796ae57f73c",
       "version_major": 2,
       "version_minor": 0
      },
      "text/plain": [
       "Predicting:   0%|          | 0/42 [00:00<?, ?it/s]"
      ]
     },
     "metadata": {},
     "output_type": "display_data"
    },
    {
     "name": "stdout",
     "output_type": "stream",
     "text": [
      "Training:   >> Physionet MMIDB | DSID: None | 19 people | 798 trials | 90 channels | 1536 samples/trial | 256Hz | 0 transforms\n",
      "Validation: Person S006 - 42 trials | 0 transforms\n",
      "Test:       Person S007 - 42 trials | 0 transforms\n"
     ]
    },
    {
     "data": {
      "application/vnd.jupyter.widget-view+json": {
       "model_id": "b841f5c04fd744848630e407a58988d0",
       "version_major": 2,
       "version_minor": 0
      },
      "text/plain": [
       "Predicting:   0%|          | 0/42 [00:00<?, ?it/s]"
      ]
     },
     "metadata": {},
     "output_type": "display_data"
    },
    {
     "name": "stdout",
     "output_type": "stream",
     "text": [
      "Training:   >> Physionet MMIDB | DSID: None | 19 people | 798 trials | 90 channels | 1536 samples/trial | 256Hz | 0 transforms\n",
      "Validation: Person S007 - 42 trials | 0 transforms\n",
      "Test:       Person S008 - 42 trials | 0 transforms\n"
     ]
    },
    {
     "data": {
      "application/vnd.jupyter.widget-view+json": {
       "model_id": "a64de52cbf7147e096b6f4f4010ad140",
       "version_major": 2,
       "version_minor": 0
      },
      "text/plain": [
       "Predicting:   0%|          | 0/42 [00:00<?, ?it/s]"
      ]
     },
     "metadata": {},
     "output_type": "display_data"
    },
    {
     "name": "stdout",
     "output_type": "stream",
     "text": [
      "Training:   >> Physionet MMIDB | DSID: None | 19 people | 798 trials | 90 channels | 1536 samples/trial | 256Hz | 0 transforms\n",
      "Validation: Person S008 - 42 trials | 0 transforms\n",
      "Test:       Person S009 - 42 trials | 0 transforms\n"
     ]
    },
    {
     "data": {
      "application/vnd.jupyter.widget-view+json": {
       "model_id": "03c80d42842446788f21bcd7f4f33f62",
       "version_major": 2,
       "version_minor": 0
      },
      "text/plain": [
       "Predicting:   0%|          | 0/42 [00:00<?, ?it/s]"
      ]
     },
     "metadata": {},
     "output_type": "display_data"
    },
    {
     "name": "stdout",
     "output_type": "stream",
     "text": [
      "Training:   >> Physionet MMIDB | DSID: None | 19 people | 798 trials | 90 channels | 1536 samples/trial | 256Hz | 0 transforms\n",
      "Validation: Person S009 - 42 trials | 0 transforms\n",
      "Test:       Person S010 - 42 trials | 0 transforms\n"
     ]
    },
    {
     "data": {
      "application/vnd.jupyter.widget-view+json": {
       "model_id": "09a2b81ffed44e23a89ad03f8fb6e5b3",
       "version_major": 2,
       "version_minor": 0
      },
      "text/plain": [
       "Predicting:   0%|          | 0/42 [00:00<?, ?it/s]"
      ]
     },
     "metadata": {},
     "output_type": "display_data"
    },
    {
     "name": "stdout",
     "output_type": "stream",
     "text": [
      "Training:   >> Physionet MMIDB | DSID: None | 19 people | 798 trials | 90 channels | 1536 samples/trial | 256Hz | 0 transforms\n",
      "Validation: Person S010 - 42 trials | 0 transforms\n",
      "Test:       Person S011 - 42 trials | 0 transforms\n"
     ]
    },
    {
     "data": {
      "application/vnd.jupyter.widget-view+json": {
       "model_id": "bbc6c1c92908462cae9e091499aa3c18",
       "version_major": 2,
       "version_minor": 0
      },
      "text/plain": [
       "Predicting:   0%|          | 0/42 [00:00<?, ?it/s]"
      ]
     },
     "metadata": {},
     "output_type": "display_data"
    },
    {
     "name": "stdout",
     "output_type": "stream",
     "text": [
      "Training:   >> Physionet MMIDB | DSID: None | 19 people | 798 trials | 90 channels | 1536 samples/trial | 256Hz | 0 transforms\n",
      "Validation: Person S011 - 42 trials | 0 transforms\n",
      "Test:       Person S012 - 42 trials | 0 transforms\n"
     ]
    },
    {
     "data": {
      "application/vnd.jupyter.widget-view+json": {
       "model_id": "d4015585f6fd441c8eb0086520e416d3",
       "version_major": 2,
       "version_minor": 0
      },
      "text/plain": [
       "Predicting:   0%|          | 0/42 [00:00<?, ?it/s]"
      ]
     },
     "metadata": {},
     "output_type": "display_data"
    },
    {
     "name": "stdout",
     "output_type": "stream",
     "text": [
      "Training:   >> Physionet MMIDB | DSID: None | 19 people | 798 trials | 90 channels | 1536 samples/trial | 256Hz | 0 transforms\n",
      "Validation: Person S012 - 42 trials | 0 transforms\n",
      "Test:       Person S013 - 42 trials | 0 transforms\n"
     ]
    },
    {
     "data": {
      "application/vnd.jupyter.widget-view+json": {
       "model_id": "0e85d3a68fb44e33ba4e7925ae44aaac",
       "version_major": 2,
       "version_minor": 0
      },
      "text/plain": [
       "Predicting:   0%|          | 0/42 [00:00<?, ?it/s]"
      ]
     },
     "metadata": {},
     "output_type": "display_data"
    },
    {
     "name": "stdout",
     "output_type": "stream",
     "text": [
      "Training:   >> Physionet MMIDB | DSID: None | 19 people | 798 trials | 90 channels | 1536 samples/trial | 256Hz | 0 transforms\n",
      "Validation: Person S013 - 42 trials | 0 transforms\n",
      "Test:       Person S014 - 42 trials | 0 transforms\n"
     ]
    },
    {
     "data": {
      "application/vnd.jupyter.widget-view+json": {
       "model_id": "b13f522a21e542cda407610416f3ba6f",
       "version_major": 2,
       "version_minor": 0
      },
      "text/plain": [
       "Predicting:   0%|          | 0/42 [00:00<?, ?it/s]"
      ]
     },
     "metadata": {},
     "output_type": "display_data"
    },
    {
     "name": "stdout",
     "output_type": "stream",
     "text": [
      "Training:   >> Physionet MMIDB | DSID: None | 19 people | 798 trials | 90 channels | 1536 samples/trial | 256Hz | 0 transforms\n",
      "Validation: Person S014 - 42 trials | 0 transforms\n",
      "Test:       Person S015 - 42 trials | 0 transforms\n"
     ]
    },
    {
     "data": {
      "application/vnd.jupyter.widget-view+json": {
       "model_id": "2c4d0b059f7f41cf809b6d3c65fcb3ae",
       "version_major": 2,
       "version_minor": 0
      },
      "text/plain": [
       "Predicting:   0%|          | 0/42 [00:00<?, ?it/s]"
      ]
     },
     "metadata": {},
     "output_type": "display_data"
    },
    {
     "name": "stdout",
     "output_type": "stream",
     "text": [
      "Training:   >> Physionet MMIDB | DSID: None | 19 people | 798 trials | 90 channels | 1536 samples/trial | 256Hz | 0 transforms\n",
      "Validation: Person S015 - 42 trials | 0 transforms\n",
      "Test:       Person S016 - 42 trials | 0 transforms\n"
     ]
    },
    {
     "data": {
      "application/vnd.jupyter.widget-view+json": {
       "model_id": "46436d44b8df4710a9a7d26bebf159a1",
       "version_major": 2,
       "version_minor": 0
      },
      "text/plain": [
       "Predicting:   0%|          | 0/42 [00:00<?, ?it/s]"
      ]
     },
     "metadata": {},
     "output_type": "display_data"
    },
    {
     "name": "stdout",
     "output_type": "stream",
     "text": [
      "Training:   >> Physionet MMIDB | DSID: None | 19 people | 798 trials | 90 channels | 1536 samples/trial | 256Hz | 0 transforms\n",
      "Validation: Person S016 - 42 trials | 0 transforms\n",
      "Test:       Person S017 - 42 trials | 0 transforms\n"
     ]
    },
    {
     "data": {
      "application/vnd.jupyter.widget-view+json": {
       "model_id": "0d8e0193ac3e44cfab5baf452ad1f2cb",
       "version_major": 2,
       "version_minor": 0
      },
      "text/plain": [
       "Predicting:   0%|          | 0/42 [00:00<?, ?it/s]"
      ]
     },
     "metadata": {},
     "output_type": "display_data"
    },
    {
     "name": "stdout",
     "output_type": "stream",
     "text": [
      "Training:   >> Physionet MMIDB | DSID: None | 19 people | 798 trials | 90 channels | 1536 samples/trial | 256Hz | 0 transforms\n",
      "Validation: Person S017 - 42 trials | 0 transforms\n",
      "Test:       Person S018 - 42 trials | 0 transforms\n"
     ]
    },
    {
     "data": {
      "application/vnd.jupyter.widget-view+json": {
       "model_id": "94500fd93d354989ad60ec7798acbc0a",
       "version_major": 2,
       "version_minor": 0
      },
      "text/plain": [
       "Predicting:   0%|          | 0/42 [00:00<?, ?it/s]"
      ]
     },
     "metadata": {},
     "output_type": "display_data"
    },
    {
     "name": "stdout",
     "output_type": "stream",
     "text": [
      "Training:   >> Physionet MMIDB | DSID: None | 19 people | 798 trials | 90 channels | 1536 samples/trial | 256Hz | 0 transforms\n",
      "Validation: Person S018 - 42 trials | 0 transforms\n",
      "Test:       Person S019 - 42 trials | 0 transforms\n"
     ]
    },
    {
     "data": {
      "application/vnd.jupyter.widget-view+json": {
       "model_id": "626444b184da4c459395661bd4067d79",
       "version_major": 2,
       "version_minor": 0
      },
      "text/plain": [
       "Predicting:   0%|          | 0/42 [00:00<?, ?it/s]"
      ]
     },
     "metadata": {},
     "output_type": "display_data"
    },
    {
     "name": "stdout",
     "output_type": "stream",
     "text": [
      "Training:   >> Physionet MMIDB | DSID: None | 19 people | 798 trials | 90 channels | 1536 samples/trial | 256Hz | 0 transforms\n",
      "Validation: Person S019 - 42 trials | 0 transforms\n",
      "Test:       Person S020 - 42 trials | 0 transforms\n"
     ]
    },
    {
     "data": {
      "application/vnd.jupyter.widget-view+json": {
       "model_id": "95eaa79f6cfb45f4b7bcf6490ec3eb3f",
       "version_major": 2,
       "version_minor": 0
      },
      "text/plain": [
       "Predicting:   0%|          | 0/42 [00:00<?, ?it/s]"
      ]
     },
     "metadata": {},
     "output_type": "display_data"
    },
    {
     "name": "stdout",
     "output_type": "stream",
     "text": [
      "Training:   >> Physionet MMIDB | DSID: None | 19 people | 798 trials | 90 channels | 1536 samples/trial | 256Hz | 0 transforms\n",
      "Validation: Person S020 - 42 trials | 0 transforms\n",
      "Test:       Person S021 - 42 trials | 0 transforms\n"
     ]
    },
    {
     "data": {
      "application/vnd.jupyter.widget-view+json": {
       "model_id": "b9431ba9151a4398b6641739f35d2807",
       "version_major": 2,
       "version_minor": 0
      },
      "text/plain": [
       "Predicting:   0%|          | 0/42 [00:00<?, ?it/s]"
      ]
     },
     "metadata": {},
     "output_type": "display_data"
    },
    {
     "name": "stdout",
     "output_type": "stream",
     "text": [
      "Training:   >> Physionet MMIDB | DSID: None | 63 people | 2644 trials | 90 channels | 1536 samples/trial | 256Hz | 0 transforms\n",
      "Validation: >> Physionet MMIDB | DSID: None | 21 people | 882 trials | 90 channels | 1536 samples/trial | 256Hz | 0 transforms\n",
      "Test:       >> Physionet MMIDB | DSID: None | 21 people | 882 trials | 90 channels | 1536 samples/trial | 256Hz | 0 transforms\n",
      "Creating TIDNet using: 90 channels x 1536 samples at 256Hz | 2 targets\n",
      "Apple M-series GPU detected: training and model execution will be performed on MPS.\n",
      "Loading data with 0 additional workers\n"
     ]
    },
    {
     "data": {
      "application/vnd.jupyter.widget-view+json": {
       "model_id": "6001e8b8b08a485698391b81fe206417",
       "version_major": 2,
       "version_minor": 0
      },
      "text/plain": [
       "Epoch:  14%|#4        | 1/7 [00:00<?, ?epoch/s]"
      ]
     },
     "metadata": {},
     "output_type": "display_data"
    },
    {
     "data": {
      "application/vnd.jupyter.widget-view+json": {
       "model_id": "5ddc218d0b104e3cb70799b58c6bd980",
       "version_major": 2,
       "version_minor": 0
      },
      "text/plain": [
       "Iteration:   0%|          | 1/661 [00:00<?, ?batches/s]"
      ]
     },
     "metadata": {},
     "output_type": "display_data"
    },
    {
     "name": "stdout",
     "output_type": "stream",
     "text": [
      "Training: End of Epoch 1 | Accuracy: 53.37% | loss: 0.902 | lr: 3.539e-06 | momentum: 0.917 | epoch: 1.000 |\n"
     ]
    },
    {
     "data": {
      "application/vnd.jupyter.widget-view+json": {
       "model_id": "d6597150810844e8981458c09fb22a28",
       "version_major": 2,
       "version_minor": 0
      },
      "text/plain": [
       "Predicting:   0%|          | 0/221 [00:00<?, ?it/s]"
      ]
     },
     "metadata": {},
     "output_type": "display_data"
    },
    {
     "name": "stdout",
     "output_type": "stream",
     "text": [
      "Validation: End of Epoch 1 | Accuracy: 65.42% | loss: 0.630 |\n",
      "Best loss. Retaining checkpoint...\n"
     ]
    },
    {
     "data": {
      "application/vnd.jupyter.widget-view+json": {
       "model_id": "fb0f0f9f409e4e47935549666f6f6ffd",
       "version_major": 2,
       "version_minor": 0
      },
      "text/plain": [
       "Iteration:   0%|          | 1/661 [00:00<?, ?batches/s]"
      ]
     },
     "metadata": {},
     "output_type": "display_data"
    },
    {
     "name": "stdout",
     "output_type": "stream",
     "text": [
      "Training: End of Epoch 2 | Accuracy: 62.52% | loss: 0.693 | lr: 9.699e-06 | momentum: 0.853 | epoch: 2.000 |\n"
     ]
    },
    {
     "data": {
      "application/vnd.jupyter.widget-view+json": {
       "model_id": "24d9bfab703f4a35a4ef7180c809a1b9",
       "version_major": 2,
       "version_minor": 0
      },
      "text/plain": [
       "Predicting:   0%|          | 0/221 [00:00<?, ?it/s]"
      ]
     },
     "metadata": {},
     "output_type": "display_data"
    },
    {
     "name": "stdout",
     "output_type": "stream",
     "text": [
      "Validation: End of Epoch 2 | Accuracy: 74.38% | loss: 0.539 |\n",
      "Best loss. Retaining checkpoint...\n"
     ]
    },
    {
     "data": {
      "application/vnd.jupyter.widget-view+json": {
       "model_id": "bd4969186d2d478d942a0bd95157763c",
       "version_major": 2,
       "version_minor": 0
      },
      "text/plain": [
       "Iteration:   0%|          | 1/661 [00:00<?, ?batches/s]"
      ]
     },
     "metadata": {},
     "output_type": "display_data"
    },
    {
     "name": "stdout",
     "output_type": "stream",
     "text": [
      "Training: End of Epoch 3 | Accuracy: 72.20% | loss: 0.556 | lr: 9.021e-06 | momentum: 0.860 | epoch: 3.000 |\n"
     ]
    },
    {
     "data": {
      "application/vnd.jupyter.widget-view+json": {
       "model_id": "f9967063095e421a812c0e559f17c499",
       "version_major": 2,
       "version_minor": 0
      },
      "text/plain": [
       "Predicting:   0%|          | 0/221 [00:00<?, ?it/s]"
      ]
     },
     "metadata": {},
     "output_type": "display_data"
    },
    {
     "name": "stdout",
     "output_type": "stream",
     "text": [
      "Validation: End of Epoch 3 | Accuracy: 84.58% | loss: 0.442 |\n",
      "Best loss. Retaining checkpoint...\n"
     ]
    },
    {
     "data": {
      "application/vnd.jupyter.widget-view+json": {
       "model_id": "711d2a7d045549e1bb554ee694681ada",
       "version_major": 2,
       "version_minor": 0
      },
      "text/plain": [
       "Iteration:   0%|          | 1/661 [00:00<?, ?batches/s]"
      ]
     },
     "metadata": {},
     "output_type": "display_data"
    },
    {
     "name": "stdout",
     "output_type": "stream",
     "text": [
      "Training: End of Epoch 4 | Accuracy: 76.97% | loss: 0.467 | lr: 6.883e-06 | momentum: 0.881 | epoch: 4.000 |\n"
     ]
    },
    {
     "data": {
      "application/vnd.jupyter.widget-view+json": {
       "model_id": "c8e82e873c804af2b665f83ac1ca1744",
       "version_major": 2,
       "version_minor": 0
      },
      "text/plain": [
       "Predicting:   0%|          | 0/221 [00:00<?, ?it/s]"
      ]
     },
     "metadata": {},
     "output_type": "display_data"
    },
    {
     "name": "stdout",
     "output_type": "stream",
     "text": [
      "Validation: End of Epoch 4 | Accuracy: 86.85% | loss: 0.394 |\n",
      "Best loss. Retaining checkpoint...\n"
     ]
    },
    {
     "data": {
      "application/vnd.jupyter.widget-view+json": {
       "model_id": "c5c2ec824f4d420c9abd37c5b5e7e8de",
       "version_major": 2,
       "version_minor": 0
      },
      "text/plain": [
       "Iteration:   0%|          | 1/661 [00:00<?, ?batches/s]"
      ]
     },
     "metadata": {},
     "output_type": "display_data"
    },
    {
     "name": "stdout",
     "output_type": "stream",
     "text": [
      "Training: End of Epoch 5 | Accuracy: 81.09% | loss: 0.416 | lr: 4.167e-06 | momentum: 0.908 | epoch: 5.000 |\n"
     ]
    },
    {
     "data": {
      "application/vnd.jupyter.widget-view+json": {
       "model_id": "0e5e27594e6a403bb30d356ef0b0bcb2",
       "version_major": 2,
       "version_minor": 0
      },
      "text/plain": [
       "Predicting:   0%|          | 0/221 [00:00<?, ?it/s]"
      ]
     },
     "metadata": {},
     "output_type": "display_data"
    },
    {
     "name": "stdout",
     "output_type": "stream",
     "text": [
      "Validation: End of Epoch 5 | Accuracy: 85.60% | loss: 0.371 |\n",
      "Best loss. Retaining checkpoint...\n"
     ]
    },
    {
     "data": {
      "application/vnd.jupyter.widget-view+json": {
       "model_id": "70e085eb502f4794bd8ff7a91b460b8a",
       "version_major": 2,
       "version_minor": 0
      },
      "text/plain": [
       "Iteration:   0%|          | 1/661 [00:00<?, ?batches/s]"
      ]
     },
     "metadata": {},
     "output_type": "display_data"
    },
    {
     "name": "stdout",
     "output_type": "stream",
     "text": [
      "Training: End of Epoch 6 | Accuracy: 80.98% | loss: 0.393 | lr: 1.707e-06 | momentum: 0.933 | epoch: 6.000 |\n"
     ]
    },
    {
     "data": {
      "application/vnd.jupyter.widget-view+json": {
       "model_id": "96d1d8f424bf495b820d82cdddc47116",
       "version_major": 2,
       "version_minor": 0
      },
      "text/plain": [
       "Predicting:   0%|          | 0/221 [00:00<?, ?it/s]"
      ]
     },
     "metadata": {},
     "output_type": "display_data"
    },
    {
     "name": "stdout",
     "output_type": "stream",
     "text": [
      "Validation: End of Epoch 6 | Accuracy: 88.21% | loss: 0.347 |\n",
      "Best loss. Retaining checkpoint...\n"
     ]
    },
    {
     "data": {
      "application/vnd.jupyter.widget-view+json": {
       "model_id": "a84c9b9743f348e5bdace384a166c151",
       "version_major": 2,
       "version_minor": 0
      },
      "text/plain": [
       "Iteration:   0%|          | 1/661 [00:00<?, ?batches/s]"
      ]
     },
     "metadata": {},
     "output_type": "display_data"
    },
    {
     "name": "stdout",
     "output_type": "stream",
     "text": [
      "Training: End of Epoch 7 | Accuracy: 82.22% | loss: 0.383 | lr: 2.565e-07 | momentum: 0.947 | epoch: 7.000 |\n"
     ]
    },
    {
     "data": {
      "application/vnd.jupyter.widget-view+json": {
       "model_id": "8f1263f5b71d41cebae6736accf8d37c",
       "version_major": 2,
       "version_minor": 0
      },
      "text/plain": [
       "Predicting:   0%|          | 0/221 [00:00<?, ?it/s]"
      ]
     },
     "metadata": {},
     "output_type": "display_data"
    },
    {
     "name": "stdout",
     "output_type": "stream",
     "text": [
      "Validation: End of Epoch 7 | Accuracy: 86.05% | loss: 0.358 |\n",
      "Loading best model...\n",
      "Training:   >> Physionet MMIDB | DSID: None | 19 people | 798 trials | 90 channels | 1536 samples/trial | 256Hz | 0 transforms\n",
      "Validation: Person S042 - 42 trials | 0 transforms\n",
      "Test:       Person S022 - 42 trials | 0 transforms\n"
     ]
    },
    {
     "data": {
      "application/vnd.jupyter.widget-view+json": {
       "model_id": "d947a74dc5ec458098b23ded52af7e0e",
       "version_major": 2,
       "version_minor": 0
      },
      "text/plain": [
       "Predicting:   0%|          | 0/42 [00:00<?, ?it/s]"
      ]
     },
     "metadata": {},
     "output_type": "display_data"
    },
    {
     "name": "stdout",
     "output_type": "stream",
     "text": [
      "Training:   >> Physionet MMIDB | DSID: None | 19 people | 798 trials | 90 channels | 1536 samples/trial | 256Hz | 0 transforms\n",
      "Validation: Person S022 - 42 trials | 0 transforms\n",
      "Test:       Person S023 - 42 trials | 0 transforms\n"
     ]
    },
    {
     "data": {
      "application/vnd.jupyter.widget-view+json": {
       "model_id": "ef0a0e316b3b4aa88ff3f4993eeb86c6",
       "version_major": 2,
       "version_minor": 0
      },
      "text/plain": [
       "Predicting:   0%|          | 0/42 [00:00<?, ?it/s]"
      ]
     },
     "metadata": {},
     "output_type": "display_data"
    },
    {
     "name": "stdout",
     "output_type": "stream",
     "text": [
      "Training:   >> Physionet MMIDB | DSID: None | 19 people | 798 trials | 90 channels | 1536 samples/trial | 256Hz | 0 transforms\n",
      "Validation: Person S023 - 42 trials | 0 transforms\n",
      "Test:       Person S024 - 42 trials | 0 transforms\n"
     ]
    },
    {
     "data": {
      "application/vnd.jupyter.widget-view+json": {
       "model_id": "af77d152bd334a33a494c1c020dfe746",
       "version_major": 2,
       "version_minor": 0
      },
      "text/plain": [
       "Predicting:   0%|          | 0/42 [00:00<?, ?it/s]"
      ]
     },
     "metadata": {},
     "output_type": "display_data"
    },
    {
     "name": "stdout",
     "output_type": "stream",
     "text": [
      "Training:   >> Physionet MMIDB | DSID: None | 19 people | 798 trials | 90 channels | 1536 samples/trial | 256Hz | 0 transforms\n",
      "Validation: Person S024 - 42 trials | 0 transforms\n",
      "Test:       Person S025 - 42 trials | 0 transforms\n"
     ]
    },
    {
     "data": {
      "application/vnd.jupyter.widget-view+json": {
       "model_id": "33b5d08e11cc4933be605c635cc3d5cc",
       "version_major": 2,
       "version_minor": 0
      },
      "text/plain": [
       "Predicting:   0%|          | 0/42 [00:00<?, ?it/s]"
      ]
     },
     "metadata": {},
     "output_type": "display_data"
    },
    {
     "name": "stdout",
     "output_type": "stream",
     "text": [
      "Training:   >> Physionet MMIDB | DSID: None | 19 people | 798 trials | 90 channels | 1536 samples/trial | 256Hz | 0 transforms\n",
      "Validation: Person S025 - 42 trials | 0 transforms\n",
      "Test:       Person S026 - 42 trials | 0 transforms\n"
     ]
    },
    {
     "data": {
      "application/vnd.jupyter.widget-view+json": {
       "model_id": "b410134c842041e69209e2872e1faee3",
       "version_major": 2,
       "version_minor": 0
      },
      "text/plain": [
       "Predicting:   0%|          | 0/42 [00:00<?, ?it/s]"
      ]
     },
     "metadata": {},
     "output_type": "display_data"
    },
    {
     "name": "stdout",
     "output_type": "stream",
     "text": [
      "Training:   >> Physionet MMIDB | DSID: None | 19 people | 798 trials | 90 channels | 1536 samples/trial | 256Hz | 0 transforms\n",
      "Validation: Person S026 - 42 trials | 0 transforms\n",
      "Test:       Person S027 - 42 trials | 0 transforms\n"
     ]
    },
    {
     "data": {
      "application/vnd.jupyter.widget-view+json": {
       "model_id": "dd88b648e9e94da79dce4ceea6488879",
       "version_major": 2,
       "version_minor": 0
      },
      "text/plain": [
       "Predicting:   0%|          | 0/42 [00:00<?, ?it/s]"
      ]
     },
     "metadata": {},
     "output_type": "display_data"
    },
    {
     "name": "stdout",
     "output_type": "stream",
     "text": [
      "Training:   >> Physionet MMIDB | DSID: None | 19 people | 798 trials | 90 channels | 1536 samples/trial | 256Hz | 0 transforms\n",
      "Validation: Person S027 - 42 trials | 0 transforms\n",
      "Test:       Person S028 - 42 trials | 0 transforms\n"
     ]
    },
    {
     "data": {
      "application/vnd.jupyter.widget-view+json": {
       "model_id": "4bdf02e7016d443ca933ed765874abe9",
       "version_major": 2,
       "version_minor": 0
      },
      "text/plain": [
       "Predicting:   0%|          | 0/42 [00:00<?, ?it/s]"
      ]
     },
     "metadata": {},
     "output_type": "display_data"
    },
    {
     "name": "stdout",
     "output_type": "stream",
     "text": [
      "Training:   >> Physionet MMIDB | DSID: None | 19 people | 798 trials | 90 channels | 1536 samples/trial | 256Hz | 0 transforms\n",
      "Validation: Person S028 - 42 trials | 0 transforms\n",
      "Test:       Person S029 - 42 trials | 0 transforms\n"
     ]
    },
    {
     "data": {
      "application/vnd.jupyter.widget-view+json": {
       "model_id": "e1764cff46774e798db58aedbd16b67f",
       "version_major": 2,
       "version_minor": 0
      },
      "text/plain": [
       "Predicting:   0%|          | 0/42 [00:00<?, ?it/s]"
      ]
     },
     "metadata": {},
     "output_type": "display_data"
    },
    {
     "name": "stdout",
     "output_type": "stream",
     "text": [
      "Training:   >> Physionet MMIDB | DSID: None | 19 people | 798 trials | 90 channels | 1536 samples/trial | 256Hz | 0 transforms\n",
      "Validation: Person S029 - 42 trials | 0 transforms\n",
      "Test:       Person S030 - 42 trials | 0 transforms\n"
     ]
    },
    {
     "data": {
      "application/vnd.jupyter.widget-view+json": {
       "model_id": "d7992b7f7bda44a9a6f2b4ebd4d10089",
       "version_major": 2,
       "version_minor": 0
      },
      "text/plain": [
       "Predicting:   0%|          | 0/42 [00:00<?, ?it/s]"
      ]
     },
     "metadata": {},
     "output_type": "display_data"
    },
    {
     "name": "stdout",
     "output_type": "stream",
     "text": [
      "Training:   >> Physionet MMIDB | DSID: None | 19 people | 798 trials | 90 channels | 1536 samples/trial | 256Hz | 0 transforms\n",
      "Validation: Person S030 - 42 trials | 0 transforms\n",
      "Test:       Person S031 - 42 trials | 0 transforms\n"
     ]
    },
    {
     "data": {
      "application/vnd.jupyter.widget-view+json": {
       "model_id": "7f67fb9dd591462d97c0a6e48873052d",
       "version_major": 2,
       "version_minor": 0
      },
      "text/plain": [
       "Predicting:   0%|          | 0/42 [00:00<?, ?it/s]"
      ]
     },
     "metadata": {},
     "output_type": "display_data"
    },
    {
     "name": "stdout",
     "output_type": "stream",
     "text": [
      "Training:   >> Physionet MMIDB | DSID: None | 19 people | 798 trials | 90 channels | 1536 samples/trial | 256Hz | 0 transforms\n",
      "Validation: Person S031 - 42 trials | 0 transforms\n",
      "Test:       Person S032 - 42 trials | 0 transforms\n"
     ]
    },
    {
     "data": {
      "application/vnd.jupyter.widget-view+json": {
       "model_id": "07b90cd03cef4c2e8696eb1382b660d7",
       "version_major": 2,
       "version_minor": 0
      },
      "text/plain": [
       "Predicting:   0%|          | 0/42 [00:00<?, ?it/s]"
      ]
     },
     "metadata": {},
     "output_type": "display_data"
    },
    {
     "name": "stdout",
     "output_type": "stream",
     "text": [
      "Training:   >> Physionet MMIDB | DSID: None | 19 people | 798 trials | 90 channels | 1536 samples/trial | 256Hz | 0 transforms\n",
      "Validation: Person S032 - 42 trials | 0 transforms\n",
      "Test:       Person S033 - 42 trials | 0 transforms\n"
     ]
    },
    {
     "data": {
      "application/vnd.jupyter.widget-view+json": {
       "model_id": "25cd627ae5a64b93babbc4eeaae0b563",
       "version_major": 2,
       "version_minor": 0
      },
      "text/plain": [
       "Predicting:   0%|          | 0/42 [00:00<?, ?it/s]"
      ]
     },
     "metadata": {},
     "output_type": "display_data"
    },
    {
     "name": "stdout",
     "output_type": "stream",
     "text": [
      "Training:   >> Physionet MMIDB | DSID: None | 19 people | 798 trials | 90 channels | 1536 samples/trial | 256Hz | 0 transforms\n",
      "Validation: Person S033 - 42 trials | 0 transforms\n",
      "Test:       Person S034 - 42 trials | 0 transforms\n"
     ]
    },
    {
     "data": {
      "application/vnd.jupyter.widget-view+json": {
       "model_id": "9bbba22fed8a429994536b15c6193561",
       "version_major": 2,
       "version_minor": 0
      },
      "text/plain": [
       "Predicting:   0%|          | 0/42 [00:00<?, ?it/s]"
      ]
     },
     "metadata": {},
     "output_type": "display_data"
    },
    {
     "name": "stdout",
     "output_type": "stream",
     "text": [
      "Training:   >> Physionet MMIDB | DSID: None | 19 people | 798 trials | 90 channels | 1536 samples/trial | 256Hz | 0 transforms\n",
      "Validation: Person S034 - 42 trials | 0 transforms\n",
      "Test:       Person S035 - 42 trials | 0 transforms\n"
     ]
    },
    {
     "data": {
      "application/vnd.jupyter.widget-view+json": {
       "model_id": "3ebe86907dcb425685e0865e5c7c5534",
       "version_major": 2,
       "version_minor": 0
      },
      "text/plain": [
       "Predicting:   0%|          | 0/42 [00:00<?, ?it/s]"
      ]
     },
     "metadata": {},
     "output_type": "display_data"
    },
    {
     "name": "stdout",
     "output_type": "stream",
     "text": [
      "Training:   >> Physionet MMIDB | DSID: None | 19 people | 798 trials | 90 channels | 1536 samples/trial | 256Hz | 0 transforms\n",
      "Validation: Person S035 - 42 trials | 0 transforms\n",
      "Test:       Person S036 - 42 trials | 0 transforms\n"
     ]
    },
    {
     "data": {
      "application/vnd.jupyter.widget-view+json": {
       "model_id": "52bb23c641324556a6d9f3423c33d24e",
       "version_major": 2,
       "version_minor": 0
      },
      "text/plain": [
       "Predicting:   0%|          | 0/42 [00:00<?, ?it/s]"
      ]
     },
     "metadata": {},
     "output_type": "display_data"
    },
    {
     "name": "stdout",
     "output_type": "stream",
     "text": [
      "Training:   >> Physionet MMIDB | DSID: None | 19 people | 798 trials | 90 channels | 1536 samples/trial | 256Hz | 0 transforms\n",
      "Validation: Person S036 - 42 trials | 0 transforms\n",
      "Test:       Person S037 - 42 trials | 0 transforms\n"
     ]
    },
    {
     "data": {
      "application/vnd.jupyter.widget-view+json": {
       "model_id": "89f5a01200ed49a988806cae462391b4",
       "version_major": 2,
       "version_minor": 0
      },
      "text/plain": [
       "Predicting:   0%|          | 0/42 [00:00<?, ?it/s]"
      ]
     },
     "metadata": {},
     "output_type": "display_data"
    },
    {
     "name": "stdout",
     "output_type": "stream",
     "text": [
      "Training:   >> Physionet MMIDB | DSID: None | 19 people | 798 trials | 90 channels | 1536 samples/trial | 256Hz | 0 transforms\n",
      "Validation: Person S037 - 42 trials | 0 transforms\n",
      "Test:       Person S038 - 42 trials | 0 transforms\n"
     ]
    },
    {
     "data": {
      "application/vnd.jupyter.widget-view+json": {
       "model_id": "72bb25ed15e049df8eb77e9a35e3b11f",
       "version_major": 2,
       "version_minor": 0
      },
      "text/plain": [
       "Predicting:   0%|          | 0/42 [00:00<?, ?it/s]"
      ]
     },
     "metadata": {},
     "output_type": "display_data"
    },
    {
     "name": "stdout",
     "output_type": "stream",
     "text": [
      "Training:   >> Physionet MMIDB | DSID: None | 19 people | 798 trials | 90 channels | 1536 samples/trial | 256Hz | 0 transforms\n",
      "Validation: Person S038 - 42 trials | 0 transforms\n",
      "Test:       Person S039 - 42 trials | 0 transforms\n"
     ]
    },
    {
     "data": {
      "application/vnd.jupyter.widget-view+json": {
       "model_id": "4f64efcd6efd47d49298a115f8bae1e0",
       "version_major": 2,
       "version_minor": 0
      },
      "text/plain": [
       "Predicting:   0%|          | 0/42 [00:00<?, ?it/s]"
      ]
     },
     "metadata": {},
     "output_type": "display_data"
    },
    {
     "name": "stdout",
     "output_type": "stream",
     "text": [
      "Training:   >> Physionet MMIDB | DSID: None | 19 people | 798 trials | 90 channels | 1536 samples/trial | 256Hz | 0 transforms\n",
      "Validation: Person S039 - 42 trials | 0 transforms\n",
      "Test:       Person S040 - 42 trials | 0 transforms\n"
     ]
    },
    {
     "data": {
      "application/vnd.jupyter.widget-view+json": {
       "model_id": "05a380afe9564c9ab32411efe87cd6ce",
       "version_major": 2,
       "version_minor": 0
      },
      "text/plain": [
       "Predicting:   0%|          | 0/42 [00:00<?, ?it/s]"
      ]
     },
     "metadata": {},
     "output_type": "display_data"
    },
    {
     "name": "stdout",
     "output_type": "stream",
     "text": [
      "Training:   >> Physionet MMIDB | DSID: None | 19 people | 798 trials | 90 channels | 1536 samples/trial | 256Hz | 0 transforms\n",
      "Validation: Person S040 - 42 trials | 0 transforms\n",
      "Test:       Person S041 - 42 trials | 0 transforms\n"
     ]
    },
    {
     "data": {
      "application/vnd.jupyter.widget-view+json": {
       "model_id": "0da81a764d8241a6b954b0bbe0724648",
       "version_major": 2,
       "version_minor": 0
      },
      "text/plain": [
       "Predicting:   0%|          | 0/42 [00:00<?, ?it/s]"
      ]
     },
     "metadata": {},
     "output_type": "display_data"
    },
    {
     "name": "stdout",
     "output_type": "stream",
     "text": [
      "Training:   >> Physionet MMIDB | DSID: None | 19 people | 798 trials | 90 channels | 1536 samples/trial | 256Hz | 0 transforms\n",
      "Validation: Person S041 - 42 trials | 0 transforms\n",
      "Test:       Person S042 - 42 trials | 0 transforms\n"
     ]
    },
    {
     "data": {
      "application/vnd.jupyter.widget-view+json": {
       "model_id": "8f9461b246bd487fa9cf6961703a34fa",
       "version_major": 2,
       "version_minor": 0
      },
      "text/plain": [
       "Predicting:   0%|          | 0/42 [00:00<?, ?it/s]"
      ]
     },
     "metadata": {},
     "output_type": "display_data"
    },
    {
     "name": "stdout",
     "output_type": "stream",
     "text": [
      "Training:   >> Physionet MMIDB | DSID: None | 63 people | 2644 trials | 90 channels | 1536 samples/trial | 256Hz | 0 transforms\n",
      "Validation: >> Physionet MMIDB | DSID: None | 21 people | 882 trials | 90 channels | 1536 samples/trial | 256Hz | 0 transforms\n",
      "Test:       >> Physionet MMIDB | DSID: None | 21 people | 882 trials | 90 channels | 1536 samples/trial | 256Hz | 0 transforms\n",
      "Creating TIDNet using: 90 channels x 1536 samples at 256Hz | 2 targets\n",
      "Apple M-series GPU detected: training and model execution will be performed on MPS.\n",
      "Loading data with 0 additional workers\n"
     ]
    },
    {
     "data": {
      "application/vnd.jupyter.widget-view+json": {
       "model_id": "39c3826adf8043fa8fa7169b37106684",
       "version_major": 2,
       "version_minor": 0
      },
      "text/plain": [
       "Epoch:  14%|#4        | 1/7 [00:00<?, ?epoch/s]"
      ]
     },
     "metadata": {},
     "output_type": "display_data"
    },
    {
     "data": {
      "application/vnd.jupyter.widget-view+json": {
       "model_id": "e4400d7dcee3406187083632b7bb98c0",
       "version_major": 2,
       "version_minor": 0
      },
      "text/plain": [
       "Iteration:   0%|          | 1/661 [00:00<?, ?batches/s]"
      ]
     },
     "metadata": {},
     "output_type": "display_data"
    },
    {
     "name": "stdout",
     "output_type": "stream",
     "text": [
      "Training: End of Epoch 1 | Accuracy: 55.11% | loss: 0.876 | lr: 3.539e-06 | momentum: 0.917 | epoch: 1.000 |\n"
     ]
    },
    {
     "data": {
      "application/vnd.jupyter.widget-view+json": {
       "model_id": "95350bf6af5d467994399edb4e03c773",
       "version_major": 2,
       "version_minor": 0
      },
      "text/plain": [
       "Predicting:   0%|          | 0/221 [00:00<?, ?it/s]"
      ]
     },
     "metadata": {},
     "output_type": "display_data"
    },
    {
     "name": "stdout",
     "output_type": "stream",
     "text": [
      "Validation: End of Epoch 1 | Accuracy: 65.08% | loss: 0.619 |\n",
      "Best loss. Retaining checkpoint...\n"
     ]
    },
    {
     "data": {
      "application/vnd.jupyter.widget-view+json": {
       "model_id": "7e6ef87277a14012be0ccce62e972f4f",
       "version_major": 2,
       "version_minor": 0
      },
      "text/plain": [
       "Iteration:   0%|          | 1/661 [00:00<?, ?batches/s]"
      ]
     },
     "metadata": {},
     "output_type": "display_data"
    },
    {
     "name": "stdout",
     "output_type": "stream",
     "text": [
      "Training: End of Epoch 2 | Accuracy: 65.81% | loss: 0.637 | lr: 9.699e-06 | momentum: 0.853 | epoch: 2.000 |\n"
     ]
    },
    {
     "data": {
      "application/vnd.jupyter.widget-view+json": {
       "model_id": "5c8dabeb864f4c96b73dbee6686462a7",
       "version_major": 2,
       "version_minor": 0
      },
      "text/plain": [
       "Predicting:   0%|          | 0/221 [00:00<?, ?it/s]"
      ]
     },
     "metadata": {},
     "output_type": "display_data"
    },
    {
     "name": "stdout",
     "output_type": "stream",
     "text": [
      "Validation: End of Epoch 2 | Accuracy: 75.74% | loss: 0.525 |\n",
      "Best loss. Retaining checkpoint...\n"
     ]
    },
    {
     "data": {
      "application/vnd.jupyter.widget-view+json": {
       "model_id": "6edb0fea6bdd46bf9d5d69afc81d3dfd",
       "version_major": 2,
       "version_minor": 0
      },
      "text/plain": [
       "Iteration:   0%|          | 1/661 [00:00<?, ?batches/s]"
      ]
     },
     "metadata": {},
     "output_type": "display_data"
    },
    {
     "name": "stdout",
     "output_type": "stream",
     "text": [
      "Training: End of Epoch 3 | Accuracy: 74.21% | loss: 0.514 | lr: 9.021e-06 | momentum: 0.860 | epoch: 3.000 |\n"
     ]
    },
    {
     "data": {
      "application/vnd.jupyter.widget-view+json": {
       "model_id": "33de045e2a9b41ce8add6a303b9007c5",
       "version_major": 2,
       "version_minor": 0
      },
      "text/plain": [
       "Predicting:   0%|          | 0/221 [00:00<?, ?it/s]"
      ]
     },
     "metadata": {},
     "output_type": "display_data"
    },
    {
     "name": "stdout",
     "output_type": "stream",
     "text": [
      "Validation: End of Epoch 3 | Accuracy: 81.52% | loss: 0.446 |\n",
      "Best loss. Retaining checkpoint...\n"
     ]
    },
    {
     "data": {
      "application/vnd.jupyter.widget-view+json": {
       "model_id": "ab06a8d92f294c6a937b265a89955ec5",
       "version_major": 2,
       "version_minor": 0
      },
      "text/plain": [
       "Iteration:   0%|          | 1/661 [00:00<?, ?batches/s]"
      ]
     },
     "metadata": {},
     "output_type": "display_data"
    },
    {
     "name": "stdout",
     "output_type": "stream",
     "text": [
      "Training: End of Epoch 4 | Accuracy: 78.78% | loss: 0.447 | lr: 6.883e-06 | momentum: 0.881 | epoch: 4.000 |\n"
     ]
    },
    {
     "data": {
      "application/vnd.jupyter.widget-view+json": {
       "model_id": "1a3c1410e43541f18c4c92502f8ddc52",
       "version_major": 2,
       "version_minor": 0
      },
      "text/plain": [
       "Predicting:   0%|          | 0/221 [00:00<?, ?it/s]"
      ]
     },
     "metadata": {},
     "output_type": "display_data"
    },
    {
     "name": "stdout",
     "output_type": "stream",
     "text": [
      "Validation: End of Epoch 4 | Accuracy: 84.35% | loss: 0.408 |\n",
      "Best loss. Retaining checkpoint...\n"
     ]
    },
    {
     "data": {
      "application/vnd.jupyter.widget-view+json": {
       "model_id": "309b8f1241e34185ad06667aca35dea6",
       "version_major": 2,
       "version_minor": 0
      },
      "text/plain": [
       "Iteration:   0%|          | 1/661 [00:00<?, ?batches/s]"
      ]
     },
     "metadata": {},
     "output_type": "display_data"
    },
    {
     "name": "stdout",
     "output_type": "stream",
     "text": [
      "Training: End of Epoch 5 | Accuracy: 81.54% | loss: 0.407 | lr: 4.167e-06 | momentum: 0.908 | epoch: 5.000 |\n"
     ]
    },
    {
     "data": {
      "application/vnd.jupyter.widget-view+json": {
       "model_id": "277b959fedb540b48381a00884ed88ee",
       "version_major": 2,
       "version_minor": 0
      },
      "text/plain": [
       "Predicting:   0%|          | 0/221 [00:00<?, ?it/s]"
      ]
     },
     "metadata": {},
     "output_type": "display_data"
    },
    {
     "name": "stdout",
     "output_type": "stream",
     "text": [
      "Validation: End of Epoch 5 | Accuracy: 84.47% | loss: 0.392 |\n",
      "Best loss. Retaining checkpoint...\n"
     ]
    },
    {
     "data": {
      "application/vnd.jupyter.widget-view+json": {
       "model_id": "ac3c9115f4044348a7f937240883bf38",
       "version_major": 2,
       "version_minor": 0
      },
      "text/plain": [
       "Iteration:   0%|          | 1/661 [00:00<?, ?batches/s]"
      ]
     },
     "metadata": {},
     "output_type": "display_data"
    },
    {
     "name": "stdout",
     "output_type": "stream",
     "text": [
      "Training: End of Epoch 6 | Accuracy: 82.07% | loss: 0.382 | lr: 1.707e-06 | momentum: 0.933 | epoch: 6.000 |\n"
     ]
    },
    {
     "data": {
      "application/vnd.jupyter.widget-view+json": {
       "model_id": "7042fbac195b49a48e858c5ec4dd9330",
       "version_major": 2,
       "version_minor": 0
      },
      "text/plain": [
       "Predicting:   0%|          | 0/221 [00:00<?, ?it/s]"
      ]
     },
     "metadata": {},
     "output_type": "display_data"
    },
    {
     "name": "stdout",
     "output_type": "stream",
     "text": [
      "Validation: End of Epoch 6 | Accuracy: 85.37% | loss: 0.374 |\n",
      "Best loss. Retaining checkpoint...\n"
     ]
    },
    {
     "data": {
      "application/vnd.jupyter.widget-view+json": {
       "model_id": "13991bcf20614dc3aa63a69b4981ac2e",
       "version_major": 2,
       "version_minor": 0
      },
      "text/plain": [
       "Iteration:   0%|          | 1/661 [00:00<?, ?batches/s]"
      ]
     },
     "metadata": {},
     "output_type": "display_data"
    },
    {
     "name": "stdout",
     "output_type": "stream",
     "text": [
      "Training: End of Epoch 7 | Accuracy: 82.98% | loss: 0.367 | lr: 2.565e-07 | momentum: 0.947 | epoch: 7.000 |\n"
     ]
    },
    {
     "data": {
      "application/vnd.jupyter.widget-view+json": {
       "model_id": "e156687af86b447187f92123f863d5af",
       "version_major": 2,
       "version_minor": 0
      },
      "text/plain": [
       "Predicting:   0%|          | 0/221 [00:00<?, ?it/s]"
      ]
     },
     "metadata": {},
     "output_type": "display_data"
    },
    {
     "name": "stdout",
     "output_type": "stream",
     "text": [
      "Validation: End of Epoch 7 | Accuracy: 85.60% | loss: 0.376 |\n",
      "Loading best model...\n",
      "Training:   >> Physionet MMIDB | DSID: None | 19 people | 798 trials | 90 channels | 1536 samples/trial | 256Hz | 0 transforms\n",
      "Validation: Person S063 - 42 trials | 0 transforms\n",
      "Test:       Person S043 - 42 trials | 0 transforms\n"
     ]
    },
    {
     "data": {
      "application/vnd.jupyter.widget-view+json": {
       "model_id": "fc47909554b44039b3a7bf38609b3bec",
       "version_major": 2,
       "version_minor": 0
      },
      "text/plain": [
       "Predicting:   0%|          | 0/42 [00:00<?, ?it/s]"
      ]
     },
     "metadata": {},
     "output_type": "display_data"
    },
    {
     "name": "stdout",
     "output_type": "stream",
     "text": [
      "Training:   >> Physionet MMIDB | DSID: None | 19 people | 798 trials | 90 channels | 1536 samples/trial | 256Hz | 0 transforms\n",
      "Validation: Person S043 - 42 trials | 0 transforms\n",
      "Test:       Person S044 - 42 trials | 0 transforms\n"
     ]
    },
    {
     "data": {
      "application/vnd.jupyter.widget-view+json": {
       "model_id": "fbd518ac6e794e9db8f9708c07b4b12f",
       "version_major": 2,
       "version_minor": 0
      },
      "text/plain": [
       "Predicting:   0%|          | 0/42 [00:00<?, ?it/s]"
      ]
     },
     "metadata": {},
     "output_type": "display_data"
    },
    {
     "name": "stdout",
     "output_type": "stream",
     "text": [
      "Training:   >> Physionet MMIDB | DSID: None | 19 people | 798 trials | 90 channels | 1536 samples/trial | 256Hz | 0 transforms\n",
      "Validation: Person S044 - 42 trials | 0 transforms\n",
      "Test:       Person S045 - 42 trials | 0 transforms\n"
     ]
    },
    {
     "data": {
      "application/vnd.jupyter.widget-view+json": {
       "model_id": "2eebb1e4e2b043c787980189dc27531a",
       "version_major": 2,
       "version_minor": 0
      },
      "text/plain": [
       "Predicting:   0%|          | 0/42 [00:00<?, ?it/s]"
      ]
     },
     "metadata": {},
     "output_type": "display_data"
    },
    {
     "name": "stdout",
     "output_type": "stream",
     "text": [
      "Training:   >> Physionet MMIDB | DSID: None | 19 people | 798 trials | 90 channels | 1536 samples/trial | 256Hz | 0 transforms\n",
      "Validation: Person S045 - 42 trials | 0 transforms\n",
      "Test:       Person S046 - 42 trials | 0 transforms\n"
     ]
    },
    {
     "data": {
      "application/vnd.jupyter.widget-view+json": {
       "model_id": "ddc1dfb9c2854a17ba2d69232824fe77",
       "version_major": 2,
       "version_minor": 0
      },
      "text/plain": [
       "Predicting:   0%|          | 0/42 [00:00<?, ?it/s]"
      ]
     },
     "metadata": {},
     "output_type": "display_data"
    },
    {
     "name": "stdout",
     "output_type": "stream",
     "text": [
      "Training:   >> Physionet MMIDB | DSID: None | 19 people | 798 trials | 90 channels | 1536 samples/trial | 256Hz | 0 transforms\n",
      "Validation: Person S046 - 42 trials | 0 transforms\n",
      "Test:       Person S047 - 42 trials | 0 transforms\n"
     ]
    },
    {
     "data": {
      "application/vnd.jupyter.widget-view+json": {
       "model_id": "668d970ff34644a2962ca53cefcc2c9a",
       "version_major": 2,
       "version_minor": 0
      },
      "text/plain": [
       "Predicting:   0%|          | 0/42 [00:00<?, ?it/s]"
      ]
     },
     "metadata": {},
     "output_type": "display_data"
    },
    {
     "name": "stdout",
     "output_type": "stream",
     "text": [
      "Training:   >> Physionet MMIDB | DSID: None | 19 people | 798 trials | 90 channels | 1536 samples/trial | 256Hz | 0 transforms\n",
      "Validation: Person S047 - 42 trials | 0 transforms\n",
      "Test:       Person S048 - 42 trials | 0 transforms\n"
     ]
    },
    {
     "data": {
      "application/vnd.jupyter.widget-view+json": {
       "model_id": "10339e14b48d492397d190b2d122bd03",
       "version_major": 2,
       "version_minor": 0
      },
      "text/plain": [
       "Predicting:   0%|          | 0/42 [00:00<?, ?it/s]"
      ]
     },
     "metadata": {},
     "output_type": "display_data"
    },
    {
     "name": "stdout",
     "output_type": "stream",
     "text": [
      "Training:   >> Physionet MMIDB | DSID: None | 19 people | 798 trials | 90 channels | 1536 samples/trial | 256Hz | 0 transforms\n",
      "Validation: Person S048 - 42 trials | 0 transforms\n",
      "Test:       Person S049 - 42 trials | 0 transforms\n"
     ]
    },
    {
     "data": {
      "application/vnd.jupyter.widget-view+json": {
       "model_id": "c126a10f79d646ec88e001539165aafe",
       "version_major": 2,
       "version_minor": 0
      },
      "text/plain": [
       "Predicting:   0%|          | 0/42 [00:00<?, ?it/s]"
      ]
     },
     "metadata": {},
     "output_type": "display_data"
    },
    {
     "name": "stdout",
     "output_type": "stream",
     "text": [
      "Training:   >> Physionet MMIDB | DSID: None | 19 people | 798 trials | 90 channels | 1536 samples/trial | 256Hz | 0 transforms\n",
      "Validation: Person S049 - 42 trials | 0 transforms\n",
      "Test:       Person S050 - 42 trials | 0 transforms\n"
     ]
    },
    {
     "data": {
      "application/vnd.jupyter.widget-view+json": {
       "model_id": "143da8255d354acc9a6938272237ef1d",
       "version_major": 2,
       "version_minor": 0
      },
      "text/plain": [
       "Predicting:   0%|          | 0/42 [00:00<?, ?it/s]"
      ]
     },
     "metadata": {},
     "output_type": "display_data"
    },
    {
     "name": "stdout",
     "output_type": "stream",
     "text": [
      "Training:   >> Physionet MMIDB | DSID: None | 19 people | 798 trials | 90 channels | 1536 samples/trial | 256Hz | 0 transforms\n",
      "Validation: Person S050 - 42 trials | 0 transforms\n",
      "Test:       Person S051 - 42 trials | 0 transforms\n"
     ]
    },
    {
     "data": {
      "application/vnd.jupyter.widget-view+json": {
       "model_id": "9f502cc68a5e4c7e855da73876ae73ad",
       "version_major": 2,
       "version_minor": 0
      },
      "text/plain": [
       "Predicting:   0%|          | 0/42 [00:00<?, ?it/s]"
      ]
     },
     "metadata": {},
     "output_type": "display_data"
    },
    {
     "name": "stdout",
     "output_type": "stream",
     "text": [
      "Training:   >> Physionet MMIDB | DSID: None | 19 people | 798 trials | 90 channels | 1536 samples/trial | 256Hz | 0 transforms\n",
      "Validation: Person S051 - 42 trials | 0 transforms\n",
      "Test:       Person S052 - 42 trials | 0 transforms\n"
     ]
    },
    {
     "data": {
      "application/vnd.jupyter.widget-view+json": {
       "model_id": "94fab5302bec4fc19b1a69b0b78cc606",
       "version_major": 2,
       "version_minor": 0
      },
      "text/plain": [
       "Predicting:   0%|          | 0/42 [00:00<?, ?it/s]"
      ]
     },
     "metadata": {},
     "output_type": "display_data"
    },
    {
     "name": "stdout",
     "output_type": "stream",
     "text": [
      "Training:   >> Physionet MMIDB | DSID: None | 19 people | 798 trials | 90 channels | 1536 samples/trial | 256Hz | 0 transforms\n",
      "Validation: Person S052 - 42 trials | 0 transforms\n",
      "Test:       Person S053 - 42 trials | 0 transforms\n"
     ]
    },
    {
     "data": {
      "application/vnd.jupyter.widget-view+json": {
       "model_id": "caafa7c714d2485c96ed2239c2e168c6",
       "version_major": 2,
       "version_minor": 0
      },
      "text/plain": [
       "Predicting:   0%|          | 0/42 [00:00<?, ?it/s]"
      ]
     },
     "metadata": {},
     "output_type": "display_data"
    },
    {
     "name": "stdout",
     "output_type": "stream",
     "text": [
      "Training:   >> Physionet MMIDB | DSID: None | 19 people | 798 trials | 90 channels | 1536 samples/trial | 256Hz | 0 transforms\n",
      "Validation: Person S053 - 42 trials | 0 transforms\n",
      "Test:       Person S054 - 42 trials | 0 transforms\n"
     ]
    },
    {
     "data": {
      "application/vnd.jupyter.widget-view+json": {
       "model_id": "27de470fe31b4073bda4f66407457fe7",
       "version_major": 2,
       "version_minor": 0
      },
      "text/plain": [
       "Predicting:   0%|          | 0/42 [00:00<?, ?it/s]"
      ]
     },
     "metadata": {},
     "output_type": "display_data"
    },
    {
     "name": "stdout",
     "output_type": "stream",
     "text": [
      "Training:   >> Physionet MMIDB | DSID: None | 19 people | 798 trials | 90 channels | 1536 samples/trial | 256Hz | 0 transforms\n",
      "Validation: Person S054 - 42 trials | 0 transforms\n",
      "Test:       Person S055 - 42 trials | 0 transforms\n"
     ]
    },
    {
     "data": {
      "application/vnd.jupyter.widget-view+json": {
       "model_id": "a808649de4f547deac6cedebaf8a0040",
       "version_major": 2,
       "version_minor": 0
      },
      "text/plain": [
       "Predicting:   0%|          | 0/42 [00:00<?, ?it/s]"
      ]
     },
     "metadata": {},
     "output_type": "display_data"
    },
    {
     "name": "stdout",
     "output_type": "stream",
     "text": [
      "Training:   >> Physionet MMIDB | DSID: None | 19 people | 798 trials | 90 channels | 1536 samples/trial | 256Hz | 0 transforms\n",
      "Validation: Person S055 - 42 trials | 0 transforms\n",
      "Test:       Person S056 - 42 trials | 0 transforms\n"
     ]
    },
    {
     "data": {
      "application/vnd.jupyter.widget-view+json": {
       "model_id": "4cb633d89a4a4e128763579870a055f2",
       "version_major": 2,
       "version_minor": 0
      },
      "text/plain": [
       "Predicting:   0%|          | 0/42 [00:00<?, ?it/s]"
      ]
     },
     "metadata": {},
     "output_type": "display_data"
    },
    {
     "name": "stdout",
     "output_type": "stream",
     "text": [
      "Training:   >> Physionet MMIDB | DSID: None | 19 people | 798 trials | 90 channels | 1536 samples/trial | 256Hz | 0 transforms\n",
      "Validation: Person S056 - 42 trials | 0 transforms\n",
      "Test:       Person S057 - 42 trials | 0 transforms\n"
     ]
    },
    {
     "data": {
      "application/vnd.jupyter.widget-view+json": {
       "model_id": "7b9aa5249c7c42d2a0821fb32571a4a4",
       "version_major": 2,
       "version_minor": 0
      },
      "text/plain": [
       "Predicting:   0%|          | 0/42 [00:00<?, ?it/s]"
      ]
     },
     "metadata": {},
     "output_type": "display_data"
    },
    {
     "name": "stdout",
     "output_type": "stream",
     "text": [
      "Training:   >> Physionet MMIDB | DSID: None | 19 people | 798 trials | 90 channels | 1536 samples/trial | 256Hz | 0 transforms\n",
      "Validation: Person S057 - 42 trials | 0 transforms\n",
      "Test:       Person S058 - 42 trials | 0 transforms\n"
     ]
    },
    {
     "data": {
      "application/vnd.jupyter.widget-view+json": {
       "model_id": "8681474da0b341f288bb9c462a7fd6b4",
       "version_major": 2,
       "version_minor": 0
      },
      "text/plain": [
       "Predicting:   0%|          | 0/42 [00:00<?, ?it/s]"
      ]
     },
     "metadata": {},
     "output_type": "display_data"
    },
    {
     "name": "stdout",
     "output_type": "stream",
     "text": [
      "Training:   >> Physionet MMIDB | DSID: None | 19 people | 798 trials | 90 channels | 1536 samples/trial | 256Hz | 0 transforms\n",
      "Validation: Person S058 - 42 trials | 0 transforms\n",
      "Test:       Person S059 - 42 trials | 0 transforms\n"
     ]
    },
    {
     "data": {
      "application/vnd.jupyter.widget-view+json": {
       "model_id": "ccc6b3032fa94d72a809cbe867419e5e",
       "version_major": 2,
       "version_minor": 0
      },
      "text/plain": [
       "Predicting:   0%|          | 0/42 [00:00<?, ?it/s]"
      ]
     },
     "metadata": {},
     "output_type": "display_data"
    },
    {
     "name": "stdout",
     "output_type": "stream",
     "text": [
      "Training:   >> Physionet MMIDB | DSID: None | 19 people | 798 trials | 90 channels | 1536 samples/trial | 256Hz | 0 transforms\n",
      "Validation: Person S059 - 42 trials | 0 transforms\n",
      "Test:       Person S060 - 42 trials | 0 transforms\n"
     ]
    },
    {
     "data": {
      "application/vnd.jupyter.widget-view+json": {
       "model_id": "f789703fac204b4791d6d41ef75d4274",
       "version_major": 2,
       "version_minor": 0
      },
      "text/plain": [
       "Predicting:   0%|          | 0/42 [00:00<?, ?it/s]"
      ]
     },
     "metadata": {},
     "output_type": "display_data"
    },
    {
     "name": "stdout",
     "output_type": "stream",
     "text": [
      "Training:   >> Physionet MMIDB | DSID: None | 19 people | 798 trials | 90 channels | 1536 samples/trial | 256Hz | 0 transforms\n",
      "Validation: Person S060 - 42 trials | 0 transforms\n",
      "Test:       Person S061 - 42 trials | 0 transforms\n"
     ]
    },
    {
     "data": {
      "application/vnd.jupyter.widget-view+json": {
       "model_id": "dd8d86c49360408da696819d16f34ac6",
       "version_major": 2,
       "version_minor": 0
      },
      "text/plain": [
       "Predicting:   0%|          | 0/42 [00:00<?, ?it/s]"
      ]
     },
     "metadata": {},
     "output_type": "display_data"
    },
    {
     "name": "stdout",
     "output_type": "stream",
     "text": [
      "Training:   >> Physionet MMIDB | DSID: None | 19 people | 798 trials | 90 channels | 1536 samples/trial | 256Hz | 0 transforms\n",
      "Validation: Person S061 - 42 trials | 0 transforms\n",
      "Test:       Person S062 - 42 trials | 0 transforms\n"
     ]
    },
    {
     "data": {
      "application/vnd.jupyter.widget-view+json": {
       "model_id": "61f088bee5384cd9b96f9bdcc96fe2ea",
       "version_major": 2,
       "version_minor": 0
      },
      "text/plain": [
       "Predicting:   0%|          | 0/42 [00:00<?, ?it/s]"
      ]
     },
     "metadata": {},
     "output_type": "display_data"
    },
    {
     "name": "stdout",
     "output_type": "stream",
     "text": [
      "Training:   >> Physionet MMIDB | DSID: None | 19 people | 798 trials | 90 channels | 1536 samples/trial | 256Hz | 0 transforms\n",
      "Validation: Person S062 - 42 trials | 0 transforms\n",
      "Test:       Person S063 - 42 trials | 0 transforms\n"
     ]
    },
    {
     "data": {
      "application/vnd.jupyter.widget-view+json": {
       "model_id": "73af258fe56c4d0c90eb4be2558ad029",
       "version_major": 2,
       "version_minor": 0
      },
      "text/plain": [
       "Predicting:   0%|          | 0/42 [00:00<?, ?it/s]"
      ]
     },
     "metadata": {},
     "output_type": "display_data"
    },
    {
     "name": "stdout",
     "output_type": "stream",
     "text": [
      "Training:   >> Physionet MMIDB | DSID: None | 63 people | 2644 trials | 90 channels | 1536 samples/trial | 256Hz | 0 transforms\n",
      "Validation: >> Physionet MMIDB | DSID: None | 21 people | 882 trials | 90 channels | 1536 samples/trial | 256Hz | 0 transforms\n",
      "Test:       >> Physionet MMIDB | DSID: None | 21 people | 882 trials | 90 channels | 1536 samples/trial | 256Hz | 0 transforms\n",
      "Creating TIDNet using: 90 channels x 1536 samples at 256Hz | 2 targets\n",
      "Apple M-series GPU detected: training and model execution will be performed on MPS.\n",
      "Loading data with 0 additional workers\n"
     ]
    },
    {
     "data": {
      "application/vnd.jupyter.widget-view+json": {
       "model_id": "0153a9c36f3b402a8fd108700591da47",
       "version_major": 2,
       "version_minor": 0
      },
      "text/plain": [
       "Epoch:  14%|#4        | 1/7 [00:00<?, ?epoch/s]"
      ]
     },
     "metadata": {},
     "output_type": "display_data"
    },
    {
     "data": {
      "application/vnd.jupyter.widget-view+json": {
       "model_id": "5364783d2b504153b181f5728a0198c1",
       "version_major": 2,
       "version_minor": 0
      },
      "text/plain": [
       "Iteration:   0%|          | 1/661 [00:00<?, ?batches/s]"
      ]
     },
     "metadata": {},
     "output_type": "display_data"
    },
    {
     "name": "stdout",
     "output_type": "stream",
     "text": [
      "Training: End of Epoch 1 | Accuracy: 52.57% | loss: 0.937 | lr: 3.539e-06 | momentum: 0.917 | epoch: 1.000 |\n"
     ]
    },
    {
     "data": {
      "application/vnd.jupyter.widget-view+json": {
       "model_id": "c3b8d57d4e754a62b534c179668fc57e",
       "version_major": 2,
       "version_minor": 0
      },
      "text/plain": [
       "Predicting:   0%|          | 0/221 [00:00<?, ?it/s]"
      ]
     },
     "metadata": {},
     "output_type": "display_data"
    },
    {
     "name": "stdout",
     "output_type": "stream",
     "text": [
      "Validation: End of Epoch 1 | Accuracy: 64.40% | loss: 0.626 |\n",
      "Best loss. Retaining checkpoint...\n"
     ]
    },
    {
     "data": {
      "application/vnd.jupyter.widget-view+json": {
       "model_id": "366d65952f3141729df948743a706f5b",
       "version_major": 2,
       "version_minor": 0
      },
      "text/plain": [
       "Iteration:   0%|          | 1/661 [00:00<?, ?batches/s]"
      ]
     },
     "metadata": {},
     "output_type": "display_data"
    },
    {
     "name": "stdout",
     "output_type": "stream",
     "text": [
      "Training: End of Epoch 2 | Accuracy: 61.91% | loss: 0.702 | lr: 9.699e-06 | momentum: 0.853 | epoch: 2.000 |\n"
     ]
    },
    {
     "data": {
      "application/vnd.jupyter.widget-view+json": {
       "model_id": "4577e1471b194db8bd655921972321e7",
       "version_major": 2,
       "version_minor": 0
      },
      "text/plain": [
       "Predicting:   0%|          | 0/221 [00:00<?, ?it/s]"
      ]
     },
     "metadata": {},
     "output_type": "display_data"
    },
    {
     "name": "stdout",
     "output_type": "stream",
     "text": [
      "Validation: End of Epoch 2 | Accuracy: 78.57% | loss: 0.520 |\n",
      "Best loss. Retaining checkpoint...\n"
     ]
    },
    {
     "data": {
      "application/vnd.jupyter.widget-view+json": {
       "model_id": "7c05a5f643084e48819820768119f8bb",
       "version_major": 2,
       "version_minor": 0
      },
      "text/plain": [
       "Iteration:   0%|          | 1/661 [00:00<?, ?batches/s]"
      ]
     },
     "metadata": {},
     "output_type": "display_data"
    },
    {
     "name": "stdout",
     "output_type": "stream",
     "text": [
      "Training: End of Epoch 3 | Accuracy: 69.36% | loss: 0.572 | lr: 9.021e-06 | momentum: 0.860 | epoch: 3.000 |\n"
     ]
    },
    {
     "data": {
      "application/vnd.jupyter.widget-view+json": {
       "model_id": "e0598696842741c9808bfb2a76824fde",
       "version_major": 2,
       "version_minor": 0
      },
      "text/plain": [
       "Predicting:   0%|          | 0/221 [00:00<?, ?it/s]"
      ]
     },
     "metadata": {},
     "output_type": "display_data"
    },
    {
     "name": "stdout",
     "output_type": "stream",
     "text": [
      "Validation: End of Epoch 3 | Accuracy: 81.52% | loss: 0.449 |\n",
      "Best loss. Retaining checkpoint...\n"
     ]
    },
    {
     "data": {
      "application/vnd.jupyter.widget-view+json": {
       "model_id": "88176156a2b44b79923f3901f0854a64",
       "version_major": 2,
       "version_minor": 0
      },
      "text/plain": [
       "Iteration:   0%|          | 1/661 [00:00<?, ?batches/s]"
      ]
     },
     "metadata": {},
     "output_type": "display_data"
    },
    {
     "name": "stdout",
     "output_type": "stream",
     "text": [
      "Training: End of Epoch 4 | Accuracy: 75.98% | loss: 0.482 | lr: 6.883e-06 | momentum: 0.881 | epoch: 4.000 |\n"
     ]
    },
    {
     "data": {
      "application/vnd.jupyter.widget-view+json": {
       "model_id": "80709b84e6f347a89478d83afd2b98f7",
       "version_major": 2,
       "version_minor": 0
      },
      "text/plain": [
       "Predicting:   0%|          | 0/221 [00:00<?, ?it/s]"
      ]
     },
     "metadata": {},
     "output_type": "display_data"
    },
    {
     "name": "stdout",
     "output_type": "stream",
     "text": [
      "Validation: End of Epoch 4 | Accuracy: 83.11% | loss: 0.400 |\n",
      "Best loss. Retaining checkpoint...\n"
     ]
    },
    {
     "data": {
      "application/vnd.jupyter.widget-view+json": {
       "model_id": "3ce1b594fe004ba795b7af4d52c23c35",
       "version_major": 2,
       "version_minor": 0
      },
      "text/plain": [
       "Iteration:   0%|          | 1/661 [00:00<?, ?batches/s]"
      ]
     },
     "metadata": {},
     "output_type": "display_data"
    },
    {
     "name": "stdout",
     "output_type": "stream",
     "text": [
      "Training: End of Epoch 5 | Accuracy: 78.82% | loss: 0.432 | lr: 4.167e-06 | momentum: 0.908 | epoch: 5.000 |\n"
     ]
    },
    {
     "data": {
      "application/vnd.jupyter.widget-view+json": {
       "model_id": "74a9d6ab99684ce3aadb60e172a1404f",
       "version_major": 2,
       "version_minor": 0
      },
      "text/plain": [
       "Predicting:   0%|          | 0/221 [00:00<?, ?it/s]"
      ]
     },
     "metadata": {},
     "output_type": "display_data"
    },
    {
     "name": "stdout",
     "output_type": "stream",
     "text": [
      "Validation: End of Epoch 5 | Accuracy: 89.23% | loss: 0.347 |\n",
      "Best loss. Retaining checkpoint...\n"
     ]
    },
    {
     "data": {
      "application/vnd.jupyter.widget-view+json": {
       "model_id": "c707f6ac1edf4f68ad4b5a5de0678be9",
       "version_major": 2,
       "version_minor": 0
      },
      "text/plain": [
       "Iteration:   0%|          | 1/661 [00:00<?, ?batches/s]"
      ]
     },
     "metadata": {},
     "output_type": "display_data"
    },
    {
     "name": "stdout",
     "output_type": "stream",
     "text": [
      "Training: End of Epoch 6 | Accuracy: 81.51% | loss: 0.401 | lr: 1.707e-06 | momentum: 0.933 | epoch: 6.000 |\n"
     ]
    },
    {
     "data": {
      "application/vnd.jupyter.widget-view+json": {
       "model_id": "0c9a0c481e1e4d9abd2d094ff4ad8e05",
       "version_major": 2,
       "version_minor": 0
      },
      "text/plain": [
       "Predicting:   0%|          | 0/221 [00:00<?, ?it/s]"
      ]
     },
     "metadata": {},
     "output_type": "display_data"
    },
    {
     "name": "stdout",
     "output_type": "stream",
     "text": [
      "Validation: End of Epoch 6 | Accuracy: 89.91% | loss: 0.330 |\n",
      "Best loss. Retaining checkpoint...\n"
     ]
    },
    {
     "data": {
      "application/vnd.jupyter.widget-view+json": {
       "model_id": "c796475cb64d4eb0bc228b937905f55d",
       "version_major": 2,
       "version_minor": 0
      },
      "text/plain": [
       "Iteration:   0%|          | 1/661 [00:00<?, ?batches/s]"
      ]
     },
     "metadata": {},
     "output_type": "display_data"
    },
    {
     "name": "stdout",
     "output_type": "stream",
     "text": [
      "Training: End of Epoch 7 | Accuracy: 81.96% | loss: 0.389 | lr: 2.565e-07 | momentum: 0.947 | epoch: 7.000 |\n"
     ]
    },
    {
     "data": {
      "application/vnd.jupyter.widget-view+json": {
       "model_id": "4052a3639a544fefb997b5d3794fcc98",
       "version_major": 2,
       "version_minor": 0
      },
      "text/plain": [
       "Predicting:   0%|          | 0/221 [00:00<?, ?it/s]"
      ]
     },
     "metadata": {},
     "output_type": "display_data"
    },
    {
     "name": "stdout",
     "output_type": "stream",
     "text": [
      "Validation: End of Epoch 7 | Accuracy: 90.59% | loss: 0.328 |\n",
      "Best loss. Retaining checkpoint...\n",
      "Loading best model...\n",
      "Training:   >> Physionet MMIDB | DSID: None | 19 people | 798 trials | 90 channels | 1536 samples/trial | 256Hz | 0 transforms\n",
      "Validation: Person S084 - 42 trials | 0 transforms\n",
      "Test:       Person S064 - 42 trials | 0 transforms\n"
     ]
    },
    {
     "data": {
      "application/vnd.jupyter.widget-view+json": {
       "model_id": "1f5a9d0111cd4eaaa245b6cbd01cbd69",
       "version_major": 2,
       "version_minor": 0
      },
      "text/plain": [
       "Predicting:   0%|          | 0/42 [00:00<?, ?it/s]"
      ]
     },
     "metadata": {},
     "output_type": "display_data"
    },
    {
     "name": "stdout",
     "output_type": "stream",
     "text": [
      "Training:   >> Physionet MMIDB | DSID: None | 19 people | 798 trials | 90 channels | 1536 samples/trial | 256Hz | 0 transforms\n",
      "Validation: Person S064 - 42 trials | 0 transforms\n",
      "Test:       Person S065 - 42 trials | 0 transforms\n"
     ]
    },
    {
     "data": {
      "application/vnd.jupyter.widget-view+json": {
       "model_id": "ccb9e266609d4be3ae968b042486d375",
       "version_major": 2,
       "version_minor": 0
      },
      "text/plain": [
       "Predicting:   0%|          | 0/42 [00:00<?, ?it/s]"
      ]
     },
     "metadata": {},
     "output_type": "display_data"
    },
    {
     "name": "stdout",
     "output_type": "stream",
     "text": [
      "Training:   >> Physionet MMIDB | DSID: None | 19 people | 798 trials | 90 channels | 1536 samples/trial | 256Hz | 0 transforms\n",
      "Validation: Person S065 - 42 trials | 0 transforms\n",
      "Test:       Person S066 - 42 trials | 0 transforms\n"
     ]
    },
    {
     "data": {
      "application/vnd.jupyter.widget-view+json": {
       "model_id": "9315d4608a3b47b78398ec46a07157fc",
       "version_major": 2,
       "version_minor": 0
      },
      "text/plain": [
       "Predicting:   0%|          | 0/42 [00:00<?, ?it/s]"
      ]
     },
     "metadata": {},
     "output_type": "display_data"
    },
    {
     "name": "stdout",
     "output_type": "stream",
     "text": [
      "Training:   >> Physionet MMIDB | DSID: None | 19 people | 798 trials | 90 channels | 1536 samples/trial | 256Hz | 0 transforms\n",
      "Validation: Person S066 - 42 trials | 0 transforms\n",
      "Test:       Person S067 - 42 trials | 0 transforms\n"
     ]
    },
    {
     "data": {
      "application/vnd.jupyter.widget-view+json": {
       "model_id": "0cb182fee5e34e748e0ad4e6430c660f",
       "version_major": 2,
       "version_minor": 0
      },
      "text/plain": [
       "Predicting:   0%|          | 0/42 [00:00<?, ?it/s]"
      ]
     },
     "metadata": {},
     "output_type": "display_data"
    },
    {
     "name": "stdout",
     "output_type": "stream",
     "text": [
      "Training:   >> Physionet MMIDB | DSID: None | 19 people | 798 trials | 90 channels | 1536 samples/trial | 256Hz | 0 transforms\n",
      "Validation: Person S067 - 42 trials | 0 transforms\n",
      "Test:       Person S068 - 42 trials | 0 transforms\n"
     ]
    },
    {
     "data": {
      "application/vnd.jupyter.widget-view+json": {
       "model_id": "5f13bb27c9974a589dc802e21d2b8f2f",
       "version_major": 2,
       "version_minor": 0
      },
      "text/plain": [
       "Predicting:   0%|          | 0/42 [00:00<?, ?it/s]"
      ]
     },
     "metadata": {},
     "output_type": "display_data"
    },
    {
     "name": "stdout",
     "output_type": "stream",
     "text": [
      "Training:   >> Physionet MMIDB | DSID: None | 19 people | 798 trials | 90 channels | 1536 samples/trial | 256Hz | 0 transforms\n",
      "Validation: Person S068 - 42 trials | 0 transforms\n",
      "Test:       Person S069 - 42 trials | 0 transforms\n"
     ]
    },
    {
     "data": {
      "application/vnd.jupyter.widget-view+json": {
       "model_id": "e65b3a741c024af3bcf84c3f42570ab8",
       "version_major": 2,
       "version_minor": 0
      },
      "text/plain": [
       "Predicting:   0%|          | 0/42 [00:00<?, ?it/s]"
      ]
     },
     "metadata": {},
     "output_type": "display_data"
    },
    {
     "name": "stdout",
     "output_type": "stream",
     "text": [
      "Training:   >> Physionet MMIDB | DSID: None | 19 people | 798 trials | 90 channels | 1536 samples/trial | 256Hz | 0 transforms\n",
      "Validation: Person S069 - 42 trials | 0 transforms\n",
      "Test:       Person S070 - 42 trials | 0 transforms\n"
     ]
    },
    {
     "data": {
      "application/vnd.jupyter.widget-view+json": {
       "model_id": "fb518054c6774f2e8e456927a6ad57b0",
       "version_major": 2,
       "version_minor": 0
      },
      "text/plain": [
       "Predicting:   0%|          | 0/42 [00:00<?, ?it/s]"
      ]
     },
     "metadata": {},
     "output_type": "display_data"
    },
    {
     "name": "stdout",
     "output_type": "stream",
     "text": [
      "Training:   >> Physionet MMIDB | DSID: None | 19 people | 798 trials | 90 channels | 1536 samples/trial | 256Hz | 0 transforms\n",
      "Validation: Person S070 - 42 trials | 0 transforms\n",
      "Test:       Person S071 - 42 trials | 0 transforms\n"
     ]
    },
    {
     "data": {
      "application/vnd.jupyter.widget-view+json": {
       "model_id": "bb9f388abb7941f4a35e620f7595569f",
       "version_major": 2,
       "version_minor": 0
      },
      "text/plain": [
       "Predicting:   0%|          | 0/42 [00:00<?, ?it/s]"
      ]
     },
     "metadata": {},
     "output_type": "display_data"
    },
    {
     "name": "stdout",
     "output_type": "stream",
     "text": [
      "Training:   >> Physionet MMIDB | DSID: None | 19 people | 798 trials | 90 channels | 1536 samples/trial | 256Hz | 0 transforms\n",
      "Validation: Person S071 - 42 trials | 0 transforms\n",
      "Test:       Person S072 - 42 trials | 0 transforms\n"
     ]
    },
    {
     "data": {
      "application/vnd.jupyter.widget-view+json": {
       "model_id": "e903f861960647e593bb02a62e624410",
       "version_major": 2,
       "version_minor": 0
      },
      "text/plain": [
       "Predicting:   0%|          | 0/42 [00:00<?, ?it/s]"
      ]
     },
     "metadata": {},
     "output_type": "display_data"
    },
    {
     "name": "stdout",
     "output_type": "stream",
     "text": [
      "Training:   >> Physionet MMIDB | DSID: None | 19 people | 798 trials | 90 channels | 1536 samples/trial | 256Hz | 0 transforms\n",
      "Validation: Person S072 - 42 trials | 0 transforms\n",
      "Test:       Person S073 - 42 trials | 0 transforms\n"
     ]
    },
    {
     "data": {
      "application/vnd.jupyter.widget-view+json": {
       "model_id": "b052d55175984ecc87f0a0ab6ea337db",
       "version_major": 2,
       "version_minor": 0
      },
      "text/plain": [
       "Predicting:   0%|          | 0/42 [00:00<?, ?it/s]"
      ]
     },
     "metadata": {},
     "output_type": "display_data"
    },
    {
     "name": "stdout",
     "output_type": "stream",
     "text": [
      "Training:   >> Physionet MMIDB | DSID: None | 19 people | 798 trials | 90 channels | 1536 samples/trial | 256Hz | 0 transforms\n",
      "Validation: Person S073 - 42 trials | 0 transforms\n",
      "Test:       Person S074 - 42 trials | 0 transforms\n"
     ]
    },
    {
     "data": {
      "application/vnd.jupyter.widget-view+json": {
       "model_id": "c9c656f7d13d4c92b5eedf46f18e66f6",
       "version_major": 2,
       "version_minor": 0
      },
      "text/plain": [
       "Predicting:   0%|          | 0/42 [00:00<?, ?it/s]"
      ]
     },
     "metadata": {},
     "output_type": "display_data"
    },
    {
     "name": "stdout",
     "output_type": "stream",
     "text": [
      "Training:   >> Physionet MMIDB | DSID: None | 19 people | 798 trials | 90 channels | 1536 samples/trial | 256Hz | 0 transforms\n",
      "Validation: Person S074 - 42 trials | 0 transforms\n",
      "Test:       Person S075 - 42 trials | 0 transforms\n"
     ]
    },
    {
     "data": {
      "application/vnd.jupyter.widget-view+json": {
       "model_id": "98e24b73003b4a6d954907286cbae234",
       "version_major": 2,
       "version_minor": 0
      },
      "text/plain": [
       "Predicting:   0%|          | 0/42 [00:00<?, ?it/s]"
      ]
     },
     "metadata": {},
     "output_type": "display_data"
    },
    {
     "name": "stdout",
     "output_type": "stream",
     "text": [
      "Training:   >> Physionet MMIDB | DSID: None | 19 people | 798 trials | 90 channels | 1536 samples/trial | 256Hz | 0 transforms\n",
      "Validation: Person S075 - 42 trials | 0 transforms\n",
      "Test:       Person S076 - 42 trials | 0 transforms\n"
     ]
    },
    {
     "data": {
      "application/vnd.jupyter.widget-view+json": {
       "model_id": "590f6da9acb64c869769efba83e63bef",
       "version_major": 2,
       "version_minor": 0
      },
      "text/plain": [
       "Predicting:   0%|          | 0/42 [00:00<?, ?it/s]"
      ]
     },
     "metadata": {},
     "output_type": "display_data"
    },
    {
     "name": "stdout",
     "output_type": "stream",
     "text": [
      "Training:   >> Physionet MMIDB | DSID: None | 19 people | 798 trials | 90 channels | 1536 samples/trial | 256Hz | 0 transforms\n",
      "Validation: Person S076 - 42 trials | 0 transforms\n",
      "Test:       Person S077 - 42 trials | 0 transforms\n"
     ]
    },
    {
     "data": {
      "application/vnd.jupyter.widget-view+json": {
       "model_id": "bb421c619a9040c4866a2b124cef7c2f",
       "version_major": 2,
       "version_minor": 0
      },
      "text/plain": [
       "Predicting:   0%|          | 0/42 [00:00<?, ?it/s]"
      ]
     },
     "metadata": {},
     "output_type": "display_data"
    },
    {
     "name": "stdout",
     "output_type": "stream",
     "text": [
      "Training:   >> Physionet MMIDB | DSID: None | 19 people | 798 trials | 90 channels | 1536 samples/trial | 256Hz | 0 transforms\n",
      "Validation: Person S077 - 42 trials | 0 transforms\n",
      "Test:       Person S078 - 42 trials | 0 transforms\n"
     ]
    },
    {
     "data": {
      "application/vnd.jupyter.widget-view+json": {
       "model_id": "822b35f176154ef1a0cd47794bebaadf",
       "version_major": 2,
       "version_minor": 0
      },
      "text/plain": [
       "Predicting:   0%|          | 0/42 [00:00<?, ?it/s]"
      ]
     },
     "metadata": {},
     "output_type": "display_data"
    },
    {
     "name": "stdout",
     "output_type": "stream",
     "text": [
      "Training:   >> Physionet MMIDB | DSID: None | 19 people | 798 trials | 90 channels | 1536 samples/trial | 256Hz | 0 transforms\n",
      "Validation: Person S078 - 42 trials | 0 transforms\n",
      "Test:       Person S079 - 42 trials | 0 transforms\n"
     ]
    },
    {
     "data": {
      "application/vnd.jupyter.widget-view+json": {
       "model_id": "f946146378ef4511b4f36e5373b456c5",
       "version_major": 2,
       "version_minor": 0
      },
      "text/plain": [
       "Predicting:   0%|          | 0/42 [00:00<?, ?it/s]"
      ]
     },
     "metadata": {},
     "output_type": "display_data"
    },
    {
     "name": "stdout",
     "output_type": "stream",
     "text": [
      "Training:   >> Physionet MMIDB | DSID: None | 19 people | 798 trials | 90 channels | 1536 samples/trial | 256Hz | 0 transforms\n",
      "Validation: Person S079 - 42 trials | 0 transforms\n",
      "Test:       Person S080 - 42 trials | 0 transforms\n"
     ]
    },
    {
     "data": {
      "application/vnd.jupyter.widget-view+json": {
       "model_id": "418d10b853ed4cbb9593b0da07ae6380",
       "version_major": 2,
       "version_minor": 0
      },
      "text/plain": [
       "Predicting:   0%|          | 0/42 [00:00<?, ?it/s]"
      ]
     },
     "metadata": {},
     "output_type": "display_data"
    },
    {
     "name": "stdout",
     "output_type": "stream",
     "text": [
      "Training:   >> Physionet MMIDB | DSID: None | 19 people | 798 trials | 90 channels | 1536 samples/trial | 256Hz | 0 transforms\n",
      "Validation: Person S080 - 42 trials | 0 transforms\n",
      "Test:       Person S081 - 42 trials | 0 transforms\n"
     ]
    },
    {
     "data": {
      "application/vnd.jupyter.widget-view+json": {
       "model_id": "83b13886e74a44c18f8fddd1decabfb0",
       "version_major": 2,
       "version_minor": 0
      },
      "text/plain": [
       "Predicting:   0%|          | 0/42 [00:00<?, ?it/s]"
      ]
     },
     "metadata": {},
     "output_type": "display_data"
    },
    {
     "name": "stdout",
     "output_type": "stream",
     "text": [
      "Training:   >> Physionet MMIDB | DSID: None | 19 people | 798 trials | 90 channels | 1536 samples/trial | 256Hz | 0 transforms\n",
      "Validation: Person S081 - 42 trials | 0 transforms\n",
      "Test:       Person S082 - 42 trials | 0 transforms\n"
     ]
    },
    {
     "data": {
      "application/vnd.jupyter.widget-view+json": {
       "model_id": "24f9514784c140c1ab0af3b9d1ae1762",
       "version_major": 2,
       "version_minor": 0
      },
      "text/plain": [
       "Predicting:   0%|          | 0/42 [00:00<?, ?it/s]"
      ]
     },
     "metadata": {},
     "output_type": "display_data"
    },
    {
     "name": "stdout",
     "output_type": "stream",
     "text": [
      "Training:   >> Physionet MMIDB | DSID: None | 19 people | 798 trials | 90 channels | 1536 samples/trial | 256Hz | 0 transforms\n",
      "Validation: Person S082 - 42 trials | 0 transforms\n",
      "Test:       Person S083 - 42 trials | 0 transforms\n"
     ]
    },
    {
     "data": {
      "application/vnd.jupyter.widget-view+json": {
       "model_id": "cdc75dea4ecf43679e600bc3adb146aa",
       "version_major": 2,
       "version_minor": 0
      },
      "text/plain": [
       "Predicting:   0%|          | 0/42 [00:00<?, ?it/s]"
      ]
     },
     "metadata": {},
     "output_type": "display_data"
    },
    {
     "name": "stdout",
     "output_type": "stream",
     "text": [
      "Training:   >> Physionet MMIDB | DSID: None | 19 people | 798 trials | 90 channels | 1536 samples/trial | 256Hz | 0 transforms\n",
      "Validation: Person S083 - 42 trials | 0 transforms\n",
      "Test:       Person S084 - 42 trials | 0 transforms\n"
     ]
    },
    {
     "data": {
      "application/vnd.jupyter.widget-view+json": {
       "model_id": "a2f74d9037ba4ddca36f256d02c82d43",
       "version_major": 2,
       "version_minor": 0
      },
      "text/plain": [
       "Predicting:   0%|          | 0/42 [00:00<?, ?it/s]"
      ]
     },
     "metadata": {},
     "output_type": "display_data"
    },
    {
     "name": "stdout",
     "output_type": "stream",
     "text": [
      "Training:   >> Physionet MMIDB | DSID: None | 63 people | 2646 trials | 90 channels | 1536 samples/trial | 256Hz | 0 transforms\n",
      "Validation: >> Physionet MMIDB | DSID: None | 21 people | 882 trials | 90 channels | 1536 samples/trial | 256Hz | 0 transforms\n",
      "Test:       >> Physionet MMIDB | DSID: None | 21 people | 880 trials | 90 channels | 1536 samples/trial | 256Hz | 0 transforms\n",
      "Creating TIDNet using: 90 channels x 1536 samples at 256Hz | 2 targets\n",
      "Apple M-series GPU detected: training and model execution will be performed on MPS.\n",
      "Loading data with 0 additional workers\n"
     ]
    },
    {
     "data": {
      "application/vnd.jupyter.widget-view+json": {
       "model_id": "5882b99531164fff9e88d9b01dd88b18",
       "version_major": 2,
       "version_minor": 0
      },
      "text/plain": [
       "Epoch:  14%|#4        | 1/7 [00:00<?, ?epoch/s]"
      ]
     },
     "metadata": {},
     "output_type": "display_data"
    },
    {
     "data": {
      "application/vnd.jupyter.widget-view+json": {
       "model_id": "a0757bcd25f7477e94dc4f4529ddab3c",
       "version_major": 2,
       "version_minor": 0
      },
      "text/plain": [
       "Iteration:   0%|          | 1/661 [00:00<?, ?batches/s]"
      ]
     },
     "metadata": {},
     "output_type": "display_data"
    },
    {
     "name": "stdout",
     "output_type": "stream",
     "text": [
      "Training: End of Epoch 1 | Accuracy: 53.18% | loss: 0.941 | lr: 3.539e-06 | momentum: 0.917 | epoch: 1.000 |\n"
     ]
    },
    {
     "data": {
      "application/vnd.jupyter.widget-view+json": {
       "model_id": "a50f3e3999fc4760ae1a62322a606d7e",
       "version_major": 2,
       "version_minor": 0
      },
      "text/plain": [
       "Predicting:   0%|          | 0/221 [00:00<?, ?it/s]"
      ]
     },
     "metadata": {},
     "output_type": "display_data"
    },
    {
     "name": "stdout",
     "output_type": "stream",
     "text": [
      "Validation: End of Epoch 1 | Accuracy: 63.95% | loss: 0.640 |\n",
      "Best loss. Retaining checkpoint...\n"
     ]
    },
    {
     "data": {
      "application/vnd.jupyter.widget-view+json": {
       "model_id": "9964cf5be30d4e32a4ee45acf99c5ad5",
       "version_major": 2,
       "version_minor": 0
      },
      "text/plain": [
       "Iteration:   0%|          | 1/661 [00:00<?, ?batches/s]"
      ]
     },
     "metadata": {},
     "output_type": "display_data"
    },
    {
     "name": "stdout",
     "output_type": "stream",
     "text": [
      "Training: End of Epoch 2 | Accuracy: 64.56% | loss: 0.671 | lr: 9.699e-06 | momentum: 0.853 | epoch: 2.000 |\n"
     ]
    },
    {
     "data": {
      "application/vnd.jupyter.widget-view+json": {
       "model_id": "3871a69e96da49a9bad9f769cd681221",
       "version_major": 2,
       "version_minor": 0
      },
      "text/plain": [
       "Predicting:   0%|          | 0/221 [00:00<?, ?it/s]"
      ]
     },
     "metadata": {},
     "output_type": "display_data"
    },
    {
     "name": "stdout",
     "output_type": "stream",
     "text": [
      "Validation: End of Epoch 2 | Accuracy: 76.42% | loss: 0.485 |\n",
      "Best loss. Retaining checkpoint...\n"
     ]
    },
    {
     "data": {
      "application/vnd.jupyter.widget-view+json": {
       "model_id": "401f0b25c3894b14b9d898223837d0c7",
       "version_major": 2,
       "version_minor": 0
      },
      "text/plain": [
       "Iteration:   0%|          | 1/661 [00:00<?, ?batches/s]"
      ]
     },
     "metadata": {},
     "output_type": "display_data"
    },
    {
     "name": "stdout",
     "output_type": "stream",
     "text": [
      "Training: End of Epoch 3 | Accuracy: 73.79% | loss: 0.516 | lr: 9.021e-06 | momentum: 0.860 | epoch: 3.000 |\n"
     ]
    },
    {
     "data": {
      "application/vnd.jupyter.widget-view+json": {
       "model_id": "8d9ff4f84d15484f95b90070b8b92886",
       "version_major": 2,
       "version_minor": 0
      },
      "text/plain": [
       "Predicting:   0%|          | 0/221 [00:00<?, ?it/s]"
      ]
     },
     "metadata": {},
     "output_type": "display_data"
    },
    {
     "name": "stdout",
     "output_type": "stream",
     "text": [
      "Validation: End of Epoch 3 | Accuracy: 82.31% | loss: 0.422 |\n",
      "Best loss. Retaining checkpoint...\n"
     ]
    },
    {
     "data": {
      "application/vnd.jupyter.widget-view+json": {
       "model_id": "fca36cf2b7e2447983433eeba5a208d3",
       "version_major": 2,
       "version_minor": 0
      },
      "text/plain": [
       "Iteration:   0%|          | 1/661 [00:00<?, ?batches/s]"
      ]
     },
     "metadata": {},
     "output_type": "display_data"
    },
    {
     "name": "stdout",
     "output_type": "stream",
     "text": [
      "Training: End of Epoch 4 | Accuracy: 79.77% | loss: 0.415 | lr: 6.883e-06 | momentum: 0.881 | epoch: 4.000 |\n"
     ]
    },
    {
     "data": {
      "application/vnd.jupyter.widget-view+json": {
       "model_id": "5415138d72cf471d89dff5d01af65bce",
       "version_major": 2,
       "version_minor": 0
      },
      "text/plain": [
       "Predicting:   0%|          | 0/221 [00:00<?, ?it/s]"
      ]
     },
     "metadata": {},
     "output_type": "display_data"
    },
    {
     "name": "stdout",
     "output_type": "stream",
     "text": [
      "Validation: End of Epoch 4 | Accuracy: 83.22% | loss: 0.389 |\n",
      "Best loss. Retaining checkpoint...\n"
     ]
    },
    {
     "data": {
      "application/vnd.jupyter.widget-view+json": {
       "model_id": "0f9058148208451cad2933cf931b03a7",
       "version_major": 2,
       "version_minor": 0
      },
      "text/plain": [
       "Iteration:   0%|          | 1/661 [00:00<?, ?batches/s]"
      ]
     },
     "metadata": {},
     "output_type": "display_data"
    },
    {
     "name": "stdout",
     "output_type": "stream",
     "text": [
      "Training: End of Epoch 5 | Accuracy: 83.25% | loss: 0.372 | lr: 4.167e-06 | momentum: 0.908 | epoch: 5.000 |\n"
     ]
    },
    {
     "data": {
      "application/vnd.jupyter.widget-view+json": {
       "model_id": "52b7b72a66e64e2fa892c7322ccee524",
       "version_major": 2,
       "version_minor": 0
      },
      "text/plain": [
       "Predicting:   0%|          | 0/221 [00:00<?, ?it/s]"
      ]
     },
     "metadata": {},
     "output_type": "display_data"
    },
    {
     "name": "stdout",
     "output_type": "stream",
     "text": [
      "Validation: End of Epoch 5 | Accuracy: 84.92% | loss: 0.366 |\n",
      "Best loss. Retaining checkpoint...\n"
     ]
    },
    {
     "data": {
      "application/vnd.jupyter.widget-view+json": {
       "model_id": "4fc125f374d8458fa672580e6ef5c4cb",
       "version_major": 2,
       "version_minor": 0
      },
      "text/plain": [
       "Iteration:   0%|          | 1/661 [00:00<?, ?batches/s]"
      ]
     },
     "metadata": {},
     "output_type": "display_data"
    },
    {
     "name": "stdout",
     "output_type": "stream",
     "text": [
      "Training: End of Epoch 6 | Accuracy: 83.96% | loss: 0.353 | lr: 1.707e-06 | momentum: 0.933 | epoch: 6.000 |\n"
     ]
    },
    {
     "data": {
      "application/vnd.jupyter.widget-view+json": {
       "model_id": "2bc6270d119a42c1a2c87d923b70e801",
       "version_major": 2,
       "version_minor": 0
      },
      "text/plain": [
       "Predicting:   0%|          | 0/221 [00:00<?, ?it/s]"
      ]
     },
     "metadata": {},
     "output_type": "display_data"
    },
    {
     "name": "stdout",
     "output_type": "stream",
     "text": [
      "Validation: End of Epoch 6 | Accuracy: 83.11% | loss: 0.369 |\n"
     ]
    },
    {
     "data": {
      "application/vnd.jupyter.widget-view+json": {
       "model_id": "91aed72e207d4edbabe89a9104f37c65",
       "version_major": 2,
       "version_minor": 0
      },
      "text/plain": [
       "Iteration:   0%|          | 1/661 [00:00<?, ?batches/s]"
      ]
     },
     "metadata": {},
     "output_type": "display_data"
    },
    {
     "name": "stdout",
     "output_type": "stream",
     "text": [
      "Training: End of Epoch 7 | Accuracy: 85.51% | loss: 0.334 | lr: 2.565e-07 | momentum: 0.947 | epoch: 7.000 |\n"
     ]
    },
    {
     "data": {
      "application/vnd.jupyter.widget-view+json": {
       "model_id": "3f842453b52a4bbfb570cd33a66754f3",
       "version_major": 2,
       "version_minor": 0
      },
      "text/plain": [
       "Predicting:   0%|          | 0/221 [00:00<?, ?it/s]"
      ]
     },
     "metadata": {},
     "output_type": "display_data"
    },
    {
     "name": "stdout",
     "output_type": "stream",
     "text": [
      "Validation: End of Epoch 7 | Accuracy: 84.01% | loss: 0.363 |\n",
      "Best loss. Retaining checkpoint...\n",
      "Loading best model...\n",
      "Training:   >> Physionet MMIDB | DSID: None | 19 people | 796 trials | 90 channels | 1536 samples/trial | 256Hz | 0 transforms\n",
      "Validation: Person S109 - 42 trials | 0 transforms\n",
      "Test:       Person S085 - 42 trials | 0 transforms\n"
     ]
    },
    {
     "data": {
      "application/vnd.jupyter.widget-view+json": {
       "model_id": "0e15c262d53b43549f195b93f5b45291",
       "version_major": 2,
       "version_minor": 0
      },
      "text/plain": [
       "Predicting:   0%|          | 0/42 [00:00<?, ?it/s]"
      ]
     },
     "metadata": {},
     "output_type": "display_data"
    },
    {
     "name": "stdout",
     "output_type": "stream",
     "text": [
      "Training:   >> Physionet MMIDB | DSID: None | 19 people | 796 trials | 90 channels | 1536 samples/trial | 256Hz | 0 transforms\n",
      "Validation: Person S085 - 42 trials | 0 transforms\n",
      "Test:       Person S086 - 42 trials | 0 transforms\n"
     ]
    },
    {
     "data": {
      "application/vnd.jupyter.widget-view+json": {
       "model_id": "222a575b2b7e474f939f6a3488cfb301",
       "version_major": 2,
       "version_minor": 0
      },
      "text/plain": [
       "Predicting:   0%|          | 0/42 [00:00<?, ?it/s]"
      ]
     },
     "metadata": {},
     "output_type": "display_data"
    },
    {
     "name": "stdout",
     "output_type": "stream",
     "text": [
      "Training:   >> Physionet MMIDB | DSID: None | 19 people | 796 trials | 90 channels | 1536 samples/trial | 256Hz | 0 transforms\n",
      "Validation: Person S086 - 42 trials | 0 transforms\n",
      "Test:       Person S087 - 42 trials | 0 transforms\n"
     ]
    },
    {
     "data": {
      "application/vnd.jupyter.widget-view+json": {
       "model_id": "77a1077c9e394d96a2f0cf95c47e55b7",
       "version_major": 2,
       "version_minor": 0
      },
      "text/plain": [
       "Predicting:   0%|          | 0/42 [00:00<?, ?it/s]"
      ]
     },
     "metadata": {},
     "output_type": "display_data"
    },
    {
     "name": "stdout",
     "output_type": "stream",
     "text": [
      "Training:   >> Physionet MMIDB | DSID: None | 19 people | 796 trials | 90 channels | 1536 samples/trial | 256Hz | 0 transforms\n",
      "Validation: Person S087 - 42 trials | 0 transforms\n",
      "Test:       Person S089 - 42 trials | 0 transforms\n"
     ]
    },
    {
     "data": {
      "application/vnd.jupyter.widget-view+json": {
       "model_id": "4d5a5336915a462ca37f1d912a48c1cf",
       "version_major": 2,
       "version_minor": 0
      },
      "text/plain": [
       "Predicting:   0%|          | 0/42 [00:00<?, ?it/s]"
      ]
     },
     "metadata": {},
     "output_type": "display_data"
    },
    {
     "name": "stdout",
     "output_type": "stream",
     "text": [
      "Training:   >> Physionet MMIDB | DSID: None | 19 people | 796 trials | 90 channels | 1536 samples/trial | 256Hz | 0 transforms\n",
      "Validation: Person S089 - 42 trials | 0 transforms\n",
      "Test:       Person S091 - 42 trials | 0 transforms\n"
     ]
    },
    {
     "data": {
      "application/vnd.jupyter.widget-view+json": {
       "model_id": "798fa77f34d14516971af4e1710d5049",
       "version_major": 2,
       "version_minor": 0
      },
      "text/plain": [
       "Predicting:   0%|          | 0/42 [00:00<?, ?it/s]"
      ]
     },
     "metadata": {},
     "output_type": "display_data"
    },
    {
     "name": "stdout",
     "output_type": "stream",
     "text": [
      "Training:   >> Physionet MMIDB | DSID: None | 19 people | 796 trials | 90 channels | 1536 samples/trial | 256Hz | 0 transforms\n",
      "Validation: Person S091 - 42 trials | 0 transforms\n",
      "Test:       Person S093 - 42 trials | 0 transforms\n"
     ]
    },
    {
     "data": {
      "application/vnd.jupyter.widget-view+json": {
       "model_id": "bf495c28f36941b8893d6c144b85c9e2",
       "version_major": 2,
       "version_minor": 0
      },
      "text/plain": [
       "Predicting:   0%|          | 0/42 [00:00<?, ?it/s]"
      ]
     },
     "metadata": {},
     "output_type": "display_data"
    },
    {
     "name": "stdout",
     "output_type": "stream",
     "text": [
      "Training:   >> Physionet MMIDB | DSID: None | 19 people | 796 trials | 90 channels | 1536 samples/trial | 256Hz | 0 transforms\n",
      "Validation: Person S093 - 42 trials | 0 transforms\n",
      "Test:       Person S094 - 42 trials | 0 transforms\n"
     ]
    },
    {
     "data": {
      "application/vnd.jupyter.widget-view+json": {
       "model_id": "be91ba3ea1e049e096f085002dc776bc",
       "version_major": 2,
       "version_minor": 0
      },
      "text/plain": [
       "Predicting:   0%|          | 0/42 [00:00<?, ?it/s]"
      ]
     },
     "metadata": {},
     "output_type": "display_data"
    },
    {
     "name": "stdout",
     "output_type": "stream",
     "text": [
      "Training:   >> Physionet MMIDB | DSID: None | 19 people | 796 trials | 90 channels | 1536 samples/trial | 256Hz | 0 transforms\n",
      "Validation: Person S094 - 42 trials | 0 transforms\n",
      "Test:       Person S095 - 42 trials | 0 transforms\n"
     ]
    },
    {
     "data": {
      "application/vnd.jupyter.widget-view+json": {
       "model_id": "ee1ff8d1e8ab41bb9e2fe5a0375c0dce",
       "version_major": 2,
       "version_minor": 0
      },
      "text/plain": [
       "Predicting:   0%|          | 0/42 [00:00<?, ?it/s]"
      ]
     },
     "metadata": {},
     "output_type": "display_data"
    },
    {
     "name": "stdout",
     "output_type": "stream",
     "text": [
      "Training:   >> Physionet MMIDB | DSID: None | 19 people | 796 trials | 90 channels | 1536 samples/trial | 256Hz | 0 transforms\n",
      "Validation: Person S095 - 42 trials | 0 transforms\n",
      "Test:       Person S096 - 42 trials | 0 transforms\n"
     ]
    },
    {
     "data": {
      "application/vnd.jupyter.widget-view+json": {
       "model_id": "b0050a880f34419a9edac44d0e4fde2e",
       "version_major": 2,
       "version_minor": 0
      },
      "text/plain": [
       "Predicting:   0%|          | 0/42 [00:00<?, ?it/s]"
      ]
     },
     "metadata": {},
     "output_type": "display_data"
    },
    {
     "name": "stdout",
     "output_type": "stream",
     "text": [
      "Training:   >> Physionet MMIDB | DSID: None | 19 people | 796 trials | 90 channels | 1536 samples/trial | 256Hz | 0 transforms\n",
      "Validation: Person S096 - 42 trials | 0 transforms\n",
      "Test:       Person S097 - 42 trials | 0 transforms\n"
     ]
    },
    {
     "data": {
      "application/vnd.jupyter.widget-view+json": {
       "model_id": "00daac93bafb4d2882f199dd3606ab7f",
       "version_major": 2,
       "version_minor": 0
      },
      "text/plain": [
       "Predicting:   0%|          | 0/42 [00:00<?, ?it/s]"
      ]
     },
     "metadata": {},
     "output_type": "display_data"
    },
    {
     "name": "stdout",
     "output_type": "stream",
     "text": [
      "Training:   >> Physionet MMIDB | DSID: None | 19 people | 796 trials | 90 channels | 1536 samples/trial | 256Hz | 0 transforms\n",
      "Validation: Person S097 - 42 trials | 0 transforms\n",
      "Test:       Person S098 - 42 trials | 0 transforms\n"
     ]
    },
    {
     "data": {
      "application/vnd.jupyter.widget-view+json": {
       "model_id": "06d1bceddd374b61afee640eb1052f46",
       "version_major": 2,
       "version_minor": 0
      },
      "text/plain": [
       "Predicting:   0%|          | 0/42 [00:00<?, ?it/s]"
      ]
     },
     "metadata": {},
     "output_type": "display_data"
    },
    {
     "name": "stdout",
     "output_type": "stream",
     "text": [
      "Training:   >> Physionet MMIDB | DSID: None | 19 people | 796 trials | 90 channels | 1536 samples/trial | 256Hz | 0 transforms\n",
      "Validation: Person S098 - 42 trials | 0 transforms\n",
      "Test:       Person S099 - 42 trials | 0 transforms\n"
     ]
    },
    {
     "data": {
      "application/vnd.jupyter.widget-view+json": {
       "model_id": "fb7f22f248864eda86d4f0389412b4ec",
       "version_major": 2,
       "version_minor": 0
      },
      "text/plain": [
       "Predicting:   0%|          | 0/42 [00:00<?, ?it/s]"
      ]
     },
     "metadata": {},
     "output_type": "display_data"
    },
    {
     "name": "stdout",
     "output_type": "stream",
     "text": [
      "Training:   >> Physionet MMIDB | DSID: None | 19 people | 796 trials | 90 channels | 1536 samples/trial | 256Hz | 0 transforms\n",
      "Validation: Person S099 - 42 trials | 0 transforms\n",
      "Test:       Person S101 - 42 trials | 0 transforms\n"
     ]
    },
    {
     "data": {
      "application/vnd.jupyter.widget-view+json": {
       "model_id": "a2c285d363ce4c2daa671e8286652995",
       "version_major": 2,
       "version_minor": 0
      },
      "text/plain": [
       "Predicting:   0%|          | 0/42 [00:00<?, ?it/s]"
      ]
     },
     "metadata": {},
     "output_type": "display_data"
    },
    {
     "name": "stdout",
     "output_type": "stream",
     "text": [
      "Training:   >> Physionet MMIDB | DSID: None | 19 people | 796 trials | 90 channels | 1536 samples/trial | 256Hz | 0 transforms\n",
      "Validation: Person S101 - 42 trials | 0 transforms\n",
      "Test:       Person S102 - 42 trials | 0 transforms\n"
     ]
    },
    {
     "data": {
      "application/vnd.jupyter.widget-view+json": {
       "model_id": "dd289311a5b5445ba6fc41086cbf21e0",
       "version_major": 2,
       "version_minor": 0
      },
      "text/plain": [
       "Predicting:   0%|          | 0/42 [00:00<?, ?it/s]"
      ]
     },
     "metadata": {},
     "output_type": "display_data"
    },
    {
     "name": "stdout",
     "output_type": "stream",
     "text": [
      "Training:   >> Physionet MMIDB | DSID: None | 19 people | 796 trials | 90 channels | 1536 samples/trial | 256Hz | 0 transforms\n",
      "Validation: Person S102 - 42 trials | 0 transforms\n",
      "Test:       Person S103 - 42 trials | 0 transforms\n"
     ]
    },
    {
     "data": {
      "application/vnd.jupyter.widget-view+json": {
       "model_id": "4b105140cbed4c9b8962a8fdaf5588f2",
       "version_major": 2,
       "version_minor": 0
      },
      "text/plain": [
       "Predicting:   0%|          | 0/42 [00:00<?, ?it/s]"
      ]
     },
     "metadata": {},
     "output_type": "display_data"
    },
    {
     "name": "stdout",
     "output_type": "stream",
     "text": [
      "Training:   >> Physionet MMIDB | DSID: None | 19 people | 798 trials | 90 channels | 1536 samples/trial | 256Hz | 0 transforms\n",
      "Validation: Person S103 - 42 trials | 0 transforms\n",
      "Test:       Person S104 - 40 trials | 0 transforms\n"
     ]
    },
    {
     "data": {
      "application/vnd.jupyter.widget-view+json": {
       "model_id": "80855e26940e415b965cd34e6681cb9e",
       "version_major": 2,
       "version_minor": 0
      },
      "text/plain": [
       "Predicting:   0%|          | 0/40 [00:00<?, ?it/s]"
      ]
     },
     "metadata": {},
     "output_type": "display_data"
    },
    {
     "name": "stdout",
     "output_type": "stream",
     "text": [
      "Training:   >> Physionet MMIDB | DSID: None | 19 people | 798 trials | 90 channels | 1536 samples/trial | 256Hz | 0 transforms\n",
      "Validation: Person S104 - 40 trials | 0 transforms\n",
      "Test:       Person S105 - 42 trials | 0 transforms\n"
     ]
    },
    {
     "data": {
      "application/vnd.jupyter.widget-view+json": {
       "model_id": "11b51518b85e47aca64de10d0255ee3f",
       "version_major": 2,
       "version_minor": 0
      },
      "text/plain": [
       "Predicting:   0%|          | 0/42 [00:00<?, ?it/s]"
      ]
     },
     "metadata": {},
     "output_type": "display_data"
    },
    {
     "name": "stdout",
     "output_type": "stream",
     "text": [
      "Training:   >> Physionet MMIDB | DSID: None | 19 people | 796 trials | 90 channels | 1536 samples/trial | 256Hz | 0 transforms\n",
      "Validation: Person S105 - 42 trials | 0 transforms\n",
      "Test:       Person S106 - 42 trials | 0 transforms\n"
     ]
    },
    {
     "data": {
      "application/vnd.jupyter.widget-view+json": {
       "model_id": "acb3ea78ad004b068ce6ec146fe3356d",
       "version_major": 2,
       "version_minor": 0
      },
      "text/plain": [
       "Predicting:   0%|          | 0/42 [00:00<?, ?it/s]"
      ]
     },
     "metadata": {},
     "output_type": "display_data"
    },
    {
     "name": "stdout",
     "output_type": "stream",
     "text": [
      "Training:   >> Physionet MMIDB | DSID: None | 19 people | 796 trials | 90 channels | 1536 samples/trial | 256Hz | 0 transforms\n",
      "Validation: Person S106 - 42 trials | 0 transforms\n",
      "Test:       Person S107 - 42 trials | 0 transforms\n"
     ]
    },
    {
     "data": {
      "application/vnd.jupyter.widget-view+json": {
       "model_id": "175cd3043e7a4ee0b969866a0c1d0820",
       "version_major": 2,
       "version_minor": 0
      },
      "text/plain": [
       "Predicting:   0%|          | 0/42 [00:00<?, ?it/s]"
      ]
     },
     "metadata": {},
     "output_type": "display_data"
    },
    {
     "name": "stdout",
     "output_type": "stream",
     "text": [
      "Training:   >> Physionet MMIDB | DSID: None | 19 people | 796 trials | 90 channels | 1536 samples/trial | 256Hz | 0 transforms\n",
      "Validation: Person S107 - 42 trials | 0 transforms\n",
      "Test:       Person S108 - 42 trials | 0 transforms\n"
     ]
    },
    {
     "data": {
      "application/vnd.jupyter.widget-view+json": {
       "model_id": "cf1f42490638450592fefefc5781fc1b",
       "version_major": 2,
       "version_minor": 0
      },
      "text/plain": [
       "Predicting:   0%|          | 0/42 [00:00<?, ?it/s]"
      ]
     },
     "metadata": {},
     "output_type": "display_data"
    },
    {
     "name": "stdout",
     "output_type": "stream",
     "text": [
      "Training:   >> Physionet MMIDB | DSID: None | 19 people | 796 trials | 90 channels | 1536 samples/trial | 256Hz | 0 transforms\n",
      "Validation: Person S108 - 42 trials | 0 transforms\n",
      "Test:       Person S109 - 42 trials | 0 transforms\n"
     ]
    },
    {
     "data": {
      "application/vnd.jupyter.widget-view+json": {
       "model_id": "f1a4301e51ae471f8d11732b15fdcbfa",
       "version_major": 2,
       "version_minor": 0
      },
      "text/plain": [
       "Predicting:   0%|          | 0/42 [00:00<?, ?it/s]"
      ]
     },
     "metadata": {},
     "output_type": "display_data"
    },
    {
     "name": "stdout",
     "output_type": "stream",
     "text": [
      "{'S001': OrderedDict({'Accuracy': 0.9523809552192688, 'loss': 0.16722235083580017}), 'S002': OrderedDict({'Accuracy': 0.9047619104385376, 'loss': 0.32724234461784363}), 'S003': OrderedDict({'Accuracy': 0.976190447807312, 'loss': 0.22477245330810547}), 'S004': OrderedDict({'Accuracy': 0.9285714030265808, 'loss': 0.2947051227092743}), 'S005': OrderedDict({'Accuracy': 0.9047619104385376, 'loss': 0.34898167848587036}), 'S006': OrderedDict({'Accuracy': 0.976190447807312, 'loss': 0.24744315445423126}), 'S007': OrderedDict({'Accuracy': 1.0, 'loss': 0.2688208222389221}), 'S008': OrderedDict({'Accuracy': 0.8809523582458496, 'loss': 0.37084269523620605}), 'S009': OrderedDict({'Accuracy': 0.9285714030265808, 'loss': 0.2557545602321625}), 'S010': OrderedDict({'Accuracy': 0.6666666865348816, 'loss': 0.6406156420707703}), 'S011': OrderedDict({'Accuracy': 0.9047619104385376, 'loss': 0.18025287985801697}), 'S012': OrderedDict({'Accuracy': 0.9285714030265808, 'loss': 0.2768383324146271}), 'S013': OrderedDict({'Accuracy': 0.7142857313156128, 'loss': 0.5247359871864319}), 'S014': OrderedDict({'Accuracy': 0.8809523582458496, 'loss': 0.2847314476966858}), 'S015': OrderedDict({'Accuracy': 0.9523809552192688, 'loss': 0.3504619002342224}), 'S016': OrderedDict({'Accuracy': 0.7857142686843872, 'loss': 0.4922034442424774}), 'S017': OrderedDict({'Accuracy': 0.9285714030265808, 'loss': 0.23988932371139526}), 'S018': OrderedDict({'Accuracy': 1.0, 'loss': 0.1120436042547226}), 'S019': OrderedDict({'Accuracy': 0.8333333134651184, 'loss': 0.4657445251941681}), 'S020': OrderedDict({'Accuracy': 0.976190447807312, 'loss': 0.19566921889781952}), 'S021': OrderedDict({'Accuracy': 0.6428571343421936, 'loss': 0.6419294476509094}), 'S022': OrderedDict({'Accuracy': 1.0, 'loss': 0.17214451730251312}), 'S023': OrderedDict({'Accuracy': 0.761904776096344, 'loss': 0.5357011556625366}), 'S024': OrderedDict({'Accuracy': 0.7857142686843872, 'loss': 0.47411197423934937}), 'S025': OrderedDict({'Accuracy': 0.5714285969734192, 'loss': 0.7971264123916626}), 'S026': OrderedDict({'Accuracy': 0.5714285969734192, 'loss': 0.7451286911964417}), 'S027': OrderedDict({'Accuracy': 0.8333333134651184, 'loss': 0.44050174951553345}), 'S028': OrderedDict({'Accuracy': 0.9523809552192688, 'loss': 0.13747350871562958}), 'S029': OrderedDict({'Accuracy': 0.9523809552192688, 'loss': 0.2291897088289261}), 'S030': OrderedDict({'Accuracy': 0.976190447807312, 'loss': 0.1791408658027649}), 'S031': OrderedDict({'Accuracy': 0.9285714030265808, 'loss': 0.4029073715209961}), 'S032': OrderedDict({'Accuracy': 1.0, 'loss': 0.1437230259180069}), 'S033': OrderedDict({'Accuracy': 0.9523809552192688, 'loss': 0.3564482629299164}), 'S034': OrderedDict({'Accuracy': 0.9047619104385376, 'loss': 0.29003873467445374}), 'S035': OrderedDict({'Accuracy': 0.7857142686843872, 'loss': 0.49238187074661255}), 'S036': OrderedDict({'Accuracy': 0.8571428656578064, 'loss': 0.42034831643104553}), 'S037': OrderedDict({'Accuracy': 0.8809523582458496, 'loss': 0.23004406690597534}), 'S038': OrderedDict({'Accuracy': 0.5, 'loss': 0.7028180360794067}), 'S039': OrderedDict({'Accuracy': 0.8095238208770752, 'loss': 0.36780962347984314}), 'S040': OrderedDict({'Accuracy': 0.976190447807312, 'loss': 0.12216414511203766}), 'S041': OrderedDict({'Accuracy': 0.9285714030265808, 'loss': 0.22757959365844727}), 'S042': OrderedDict({'Accuracy': 0.9047619104385376, 'loss': 0.29429659247398376}), 'S043': OrderedDict({'Accuracy': 0.9285714030265808, 'loss': 0.22847288846969604}), 'S044': OrderedDict({'Accuracy': 0.8333333134651184, 'loss': 0.3544536232948303}), 'S045': OrderedDict({'Accuracy': 0.8571428656578064, 'loss': 0.5255625247955322}), 'S046': OrderedDict({'Accuracy': 0.8571428656578064, 'loss': 0.4200909435749054}), 'S047': OrderedDict({'Accuracy': 0.8571428656578064, 'loss': 0.306797593832016}), 'S048': OrderedDict({'Accuracy': 0.976190447807312, 'loss': 0.10109071433544159}), 'S049': OrderedDict({'Accuracy': 0.7142857313156128, 'loss': 0.5802172422409058}), 'S050': OrderedDict({'Accuracy': 1.0, 'loss': 0.13655109703540802}), 'S051': OrderedDict({'Accuracy': 0.9523809552192688, 'loss': 0.3204798400402069}), 'S052': OrderedDict({'Accuracy': 0.9285714030265808, 'loss': 0.2617529332637787}), 'S053': OrderedDict({'Accuracy': 0.761904776096344, 'loss': 0.5829941034317017}), 'S054': OrderedDict({'Accuracy': 0.9285714030265808, 'loss': 0.30591365694999695}), 'S055': OrderedDict({'Accuracy': 0.9285714030265808, 'loss': 0.3030327260494232}), 'S056': OrderedDict({'Accuracy': 0.9047619104385376, 'loss': 0.4956161081790924}), 'S057': OrderedDict({'Accuracy': 1.0, 'loss': 0.052193157374858856}), 'S058': OrderedDict({'Accuracy': 0.9523809552192688, 'loss': 0.13664257526397705}), 'S059': OrderedDict({'Accuracy': 0.7857142686843872, 'loss': 0.3773423731327057}), 'S060': OrderedDict({'Accuracy': 0.9285714030265808, 'loss': 0.1516401171684265}), 'S061': OrderedDict({'Accuracy': 1.0, 'loss': 0.2610362470149994}), 'S062': OrderedDict({'Accuracy': 0.9047619104385376, 'loss': 0.26446160674095154}), 'S063': OrderedDict({'Accuracy': 0.9047619104385376, 'loss': 0.4013577401638031}), 'S064': OrderedDict({'Accuracy': 0.8571428656578064, 'loss': 0.3494679629802704}), 'S065': OrderedDict({'Accuracy': 0.976190447807312, 'loss': 0.2453218698501587}), 'S066': OrderedDict({'Accuracy': 0.8571428656578064, 'loss': 0.4500539004802704}), 'S067': OrderedDict({'Accuracy': 0.6904761791229248, 'loss': 0.46617794036865234}), 'S068': OrderedDict({'Accuracy': 0.9047619104385376, 'loss': 0.341813862323761}), 'S069': OrderedDict({'Accuracy': 0.5714285969734192, 'loss': 0.614750862121582}), 'S070': OrderedDict({'Accuracy': 1.0, 'loss': 0.17337465286254883}), 'S071': OrderedDict({'Accuracy': 0.976190447807312, 'loss': 0.12742078304290771}), 'S072': OrderedDict({'Accuracy': 0.8809523582458496, 'loss': 0.2214318960905075}), 'S073': OrderedDict({'Accuracy': 0.9047619104385376, 'loss': 0.2846926152706146}), 'S074': OrderedDict({'Accuracy': 0.8571428656578064, 'loss': 0.3753032386302948}), 'S075': OrderedDict({'Accuracy': 0.6190476417541504, 'loss': 0.6819688081741333}), 'S076': OrderedDict({'Accuracy': 0.7857142686843872, 'loss': 0.6365057229995728}), 'S077': OrderedDict({'Accuracy': 0.9285714030265808, 'loss': 0.2803209722042084}), 'S078': OrderedDict({'Accuracy': 0.5952380895614624, 'loss': 0.67210453748703}), 'S079': OrderedDict({'Accuracy': 0.9047619104385376, 'loss': 0.3907219469547272}), 'S080': OrderedDict({'Accuracy': 0.7857142686843872, 'loss': 0.5029907822608948}), 'S081': OrderedDict({'Accuracy': 0.9523809552192688, 'loss': 0.18612569570541382}), 'S082': OrderedDict({'Accuracy': 0.8809523582458496, 'loss': 0.24891714751720428}), 'S083': OrderedDict({'Accuracy': 0.6904761791229248, 'loss': 0.5817655324935913}), 'S084': OrderedDict({'Accuracy': 0.9285714030265808, 'loss': 0.22754065692424774}), 'S085': OrderedDict({'Accuracy': 0.8809523582458496, 'loss': 0.38381314277648926}), 'S086': OrderedDict({'Accuracy': 1.0, 'loss': 0.10208843648433685}), 'S087': OrderedDict({'Accuracy': 0.5, 'loss': 0.7205486297607422}), 'S089': OrderedDict({'Accuracy': 0.9047619104385376, 'loss': 0.27345600724220276}), 'S091': OrderedDict({'Accuracy': 0.8571428656578064, 'loss': 0.393766850233078}), 'S093': OrderedDict({'Accuracy': 0.9047619104385376, 'loss': 0.2845257520675659}), 'S094': OrderedDict({'Accuracy': 0.8095238208770752, 'loss': 0.41949281096458435}), 'S095': OrderedDict({'Accuracy': 0.8571428656578064, 'loss': 0.3370603919029236}), 'S096': OrderedDict({'Accuracy': 0.9523809552192688, 'loss': 0.214882493019104}), 'S097': OrderedDict({'Accuracy': 0.7857142686843872, 'loss': 0.5350033640861511}), 'S098': OrderedDict({'Accuracy': 0.738095223903656, 'loss': 0.5819414258003235}), 'S099': OrderedDict({'Accuracy': 0.7142857313156128, 'loss': 0.5673134326934814}), 'S101': OrderedDict({'Accuracy': 1.0, 'loss': 0.03380879387259483}), 'S102': OrderedDict({'Accuracy': 0.738095223903656, 'loss': 0.37180522084236145}), 'S103': OrderedDict({'Accuracy': 0.8333333134651184, 'loss': 0.4304161071777344}), 'S104': OrderedDict({'Accuracy': 0.8999999761581421, 'loss': 0.25657325983047485}), 'S105': OrderedDict({'Accuracy': 1.0, 'loss': 0.02428102120757103}), 'S106': OrderedDict({'Accuracy': 0.738095223903656, 'loss': 0.4796874523162842}), 'S107': OrderedDict({'Accuracy': 0.7142857313156128, 'loss': 0.5365837812423706}), 'S108': OrderedDict({'Accuracy': 0.8809523582458496, 'loss': 0.32596665620803833}), 'S109': OrderedDict({'Accuracy': 0.738095223903656, 'loss': 0.5230862498283386})}\n",
      "Model size: 2.65 MB\n"
     ]
    }
   ],
   "source": [
    "results = dict()\n",
    "for training, validation, test in dataset.lmso(ds_config.folds):\n",
    "    process = make_model_and_process()\n",
    "\n",
    "    process.fit(training_dataset=training, validation_dataset=validation,\n",
    "                epochs=ds_config.train_params.epochs,\n",
    "                batch_size=ds_config.train_params.batch_size)\n",
    "\n",
    "    for _, _, test_thinker in test.loso():\n",
    "        results[test_thinker.person_id] = process.evaluate(test_thinker)\n",
    "\n",
    "print(results)\n",
    "print(f\"Model size: {get_model_size(process):.2f} MB\")"
   ]
  },
  {
   "cell_type": "code",
   "execution_count": 25,
   "metadata": {},
   "outputs": [
    {
     "name": "stdout",
     "output_type": "stream",
     "text": [
      "Average accuracy: 86.10%\n"
     ]
    }
   ],
   "source": [
    "avg_acc = sum(v['Accuracy'] for v in results.values()) / len(results)\n",
    "print(\"Average accuracy: {:.2%}\".format(avg_acc))"
   ]
  },
  {
   "cell_type": "markdown",
   "metadata": {
    "collapsed": false,
    "pycharm": {
     "name": "#%% md\n"
    }
   },
   "source": [
    "Try filling in your own values to `my_config.yml` to run these examples on your next read through."
   ]
  },
  {
   "cell_type": "markdown",
   "metadata": {},
   "source": [
    "# The Following code is for float16 precision."
   ]
  },
  {
   "cell_type": "code",
   "execution_count": 26,
   "metadata": {},
   "outputs": [],
   "source": [
    "from torch.amp import GradScaler, autocast\n",
    "import torch\n",
    "\n",
    "device = 'cuda' if torch.cuda.is_available() else 'mps' if torch.backends.mps.is_available() else 'cpu'"
   ]
  },
  {
   "cell_type": "code",
   "execution_count": 27,
   "metadata": {},
   "outputs": [],
   "source": [
    "def make_model_and_process():\n",
    "    tidnet = TIDNet.from_dataset(dataset).to(device)\n",
    "    tidnet = tidnet.half()\n",
    "    return StandardClassification(tidnet, cuda=experiment.use_gpu, learning_rate=ds_config.lr, precision='fp16')"
   ]
  },
  {
   "cell_type": "code",
   "execution_count": 28,
   "metadata": {},
   "outputs": [
    {
     "name": "stdout",
     "output_type": "stream",
     "text": [
      "Training:   >> Physionet MMIDB | DSID: None | 63 people | 2646 trials | 90 channels | 1536 samples/trial | 256Hz | 0 transforms\n",
      "Validation: >> Physionet MMIDB | DSID: None | 21 people | 880 trials | 90 channels | 1536 samples/trial | 256Hz | 0 transforms\n",
      "Test:       >> Physionet MMIDB | DSID: None | 21 people | 882 trials | 90 channels | 1536 samples/trial | 256Hz | 0 transforms\n"
     ]
    },
    {
     "name": "stderr",
     "output_type": "stream",
     "text": [
      "/Users/mojtaba/Library/CloudStorage/OneDrive-UniversityofWaterloo/Think/Time Management/UWaterloo/Research/my research/BENDR/env/lib/python3.12/site-packages/torch/amp/grad_scaler.py:136: UserWarning: torch.cuda.amp.GradScaler is enabled, but CUDA is not available.  Disabling.\n",
      "  warnings.warn(\n"
     ]
    },
    {
     "name": "stdout",
     "output_type": "stream",
     "text": [
      "Creating TIDNet using: 90 channels x 1536 samples at 256Hz | 2 targets\n",
      "Apple M-series GPU detected: training and model execution will be performed on MPS.\n",
      "Loading data with 0 additional workers\n"
     ]
    },
    {
     "data": {
      "application/vnd.jupyter.widget-view+json": {
       "model_id": "da9ab6628f6b4478badcb7eccacde0fd",
       "version_major": 2,
       "version_minor": 0
      },
      "text/plain": [
       "Epoch:  14%|#4        | 1/7 [00:00<?, ?epoch/s]"
      ]
     },
     "metadata": {},
     "output_type": "display_data"
    },
    {
     "data": {
      "application/vnd.jupyter.widget-view+json": {
       "model_id": "729da07eac984539a5612218b2601a78",
       "version_major": 2,
       "version_minor": 0
      },
      "text/plain": [
       "Iteration:   0%|          | 1/661 [00:00<?, ?batches/s]"
      ]
     },
     "metadata": {},
     "output_type": "display_data"
    },
    {
     "name": "stdout",
     "output_type": "stream",
     "text": [
      "Training: End of Epoch 1 | Accuracy: 50.34% | loss: 0.999 | lr: 3.539e-06 | momentum: 0.917 | epoch: 1.000 |\n"
     ]
    },
    {
     "data": {
      "application/vnd.jupyter.widget-view+json": {
       "model_id": "6ce83d55cd774fcaa72e3eb8003f8761",
       "version_major": 2,
       "version_minor": 0
      },
      "text/plain": [
       "Predicting:   0%|          | 0/220 [00:00<?, ?it/s]"
      ]
     },
     "metadata": {},
     "output_type": "display_data"
    },
    {
     "name": "stdout",
     "output_type": "stream",
     "text": [
      "Validation: End of Epoch 1 | Accuracy: 50.34% | loss: 0.694 |\n",
      "Best loss. Retaining checkpoint...\n"
     ]
    },
    {
     "data": {
      "application/vnd.jupyter.widget-view+json": {
       "model_id": "a4128fb903774155a7a35af77978fb3d",
       "version_major": 2,
       "version_minor": 0
      },
      "text/plain": [
       "Iteration:   0%|          | 1/661 [00:00<?, ?batches/s]"
      ]
     },
     "metadata": {},
     "output_type": "display_data"
    },
    {
     "name": "stdout",
     "output_type": "stream",
     "text": [
      "Training: End of Epoch 2 | Accuracy: 58.51% | loss: 0.775 | lr: 9.699e-06 | momentum: 0.853 | epoch: 2.000 |\n"
     ]
    },
    {
     "data": {
      "application/vnd.jupyter.widget-view+json": {
       "model_id": "e765833625a3442a8f764db655766e8f",
       "version_major": 2,
       "version_minor": 0
      },
      "text/plain": [
       "Predicting:   0%|          | 0/220 [00:00<?, ?it/s]"
      ]
     },
     "metadata": {},
     "output_type": "display_data"
    },
    {
     "name": "stdout",
     "output_type": "stream",
     "text": [
      "Validation: End of Epoch 2 | Accuracy: 52.39% | loss: 0.683 |\n",
      "Best loss. Retaining checkpoint...\n"
     ]
    },
    {
     "data": {
      "application/vnd.jupyter.widget-view+json": {
       "model_id": "a400a8a240854517895f13051ba99901",
       "version_major": 2,
       "version_minor": 0
      },
      "text/plain": [
       "Iteration:   0%|          | 1/661 [00:00<?, ?batches/s]"
      ]
     },
     "metadata": {},
     "output_type": "display_data"
    },
    {
     "ename": "KeyboardInterrupt",
     "evalue": "",
     "output_type": "error",
     "traceback": [
      "\u001b[31m---------------------------------------------------------------------------\u001b[39m",
      "\u001b[31mKeyboardInterrupt\u001b[39m                         Traceback (most recent call last)",
      "\u001b[36mCell\u001b[39m\u001b[36m \u001b[39m\u001b[32mIn[28]\u001b[39m\u001b[32m, line 12\u001b[39m\n\u001b[32m      9\u001b[39m     process = make_model_and_process()\n\u001b[32m     11\u001b[39m     \u001b[38;5;28;01mwith\u001b[39;00m autocast(device_type=device):\n\u001b[32m---> \u001b[39m\u001b[32m12\u001b[39m         \u001b[43mprocess\u001b[49m\u001b[43m.\u001b[49m\u001b[43mfit\u001b[49m\u001b[43m(\u001b[49m\u001b[43mtraining_dataset\u001b[49m\u001b[43m=\u001b[49m\u001b[43mtraining\u001b[49m\u001b[43m,\u001b[49m\u001b[43m \u001b[49m\u001b[43mvalidation_dataset\u001b[49m\u001b[43m=\u001b[49m\u001b[43mvalidation\u001b[49m\u001b[43m,\u001b[49m\u001b[43m \u001b[49m\u001b[43m*\u001b[49m\u001b[43m*\u001b[49m\u001b[43mds_config\u001b[49m\u001b[43m.\u001b[49m\u001b[43mtrain_params\u001b[49m\u001b[43m)\u001b[49m\n\u001b[32m     14\u001b[39m     results.append(process.evaluate(test)[\u001b[33m'\u001b[39m\u001b[33mAccuracy\u001b[39m\u001b[33m'\u001b[39m])\n\u001b[32m     16\u001b[39m \u001b[38;5;28mprint\u001b[39m(results)\n",
      "\u001b[36mFile \u001b[39m\u001b[32m~/Library/CloudStorage/OneDrive-UniversityofWaterloo/Think/Time Management/UWaterloo/Research/my research/BENDR/dn3/trainable/processes.py:726\u001b[39m, in \u001b[36mStandardClassification.fit\u001b[39m\u001b[34m(self, training_dataset, epochs, validation_dataset, step_callback, epoch_callback, batch_size, warmup_frac, retain_best, balance_method, **loader_kwargs)\u001b[39m\n\u001b[32m    677\u001b[39m \u001b[38;5;28;01mdef\u001b[39;00m\u001b[38;5;250m \u001b[39m\u001b[34mfit\u001b[39m(\u001b[38;5;28mself\u001b[39m, training_dataset, epochs=\u001b[32m1\u001b[39m, validation_dataset=\u001b[38;5;28;01mNone\u001b[39;00m, step_callback=\u001b[38;5;28;01mNone\u001b[39;00m, epoch_callback=\u001b[38;5;28;01mNone\u001b[39;00m,\n\u001b[32m    678\u001b[39m         batch_size=\u001b[32m8\u001b[39m, warmup_frac=\u001b[32m0.2\u001b[39m, retain_best=\u001b[33m'\u001b[39m\u001b[33mloss\u001b[39m\u001b[33m'\u001b[39m, balance_method=\u001b[38;5;28;01mNone\u001b[39;00m, **loader_kwargs):\n\u001b[32m    679\u001b[39m \u001b[38;5;250m    \u001b[39m\u001b[33;03m\"\"\"\u001b[39;00m\n\u001b[32m    680\u001b[39m \u001b[33;03m    sklearn/keras-like convenience method to simply proceed with training across multiple epochs of the provided\u001b[39;00m\n\u001b[32m    681\u001b[39m \u001b[33;03m    dataset\u001b[39;00m\n\u001b[32m   (...)\u001b[39m\u001b[32m    724\u001b[39m \u001b[33;03m                     Validation metrics after each epoch of training as a pandas dataframe\u001b[39;00m\n\u001b[32m    725\u001b[39m \u001b[33;03m    \"\"\"\u001b[39;00m\n\u001b[32m--> \u001b[39m\u001b[32m726\u001b[39m     \u001b[38;5;28;01mreturn\u001b[39;00m \u001b[38;5;28;43msuper\u001b[39;49m\u001b[43m(\u001b[49m\u001b[43mStandardClassification\u001b[49m\u001b[43m,\u001b[49m\u001b[43m \u001b[49m\u001b[38;5;28;43mself\u001b[39;49m\u001b[43m)\u001b[49m\u001b[43m.\u001b[49m\u001b[43mfit\u001b[49m\u001b[43m(\u001b[49m\u001b[43mtraining_dataset\u001b[49m\u001b[43m,\u001b[49m\u001b[43m \u001b[49m\u001b[43mepochs\u001b[49m\u001b[43m=\u001b[49m\u001b[43mepochs\u001b[49m\u001b[43m,\u001b[49m\u001b[43m \u001b[49m\u001b[43mstep_callback\u001b[49m\u001b[43m=\u001b[49m\u001b[43mstep_callback\u001b[49m\u001b[43m,\u001b[49m\n\u001b[32m    727\u001b[39m \u001b[43m                                                   \u001b[49m\u001b[43mepoch_callback\u001b[49m\u001b[43m=\u001b[49m\u001b[43mepoch_callback\u001b[49m\u001b[43m,\u001b[49m\u001b[43m \u001b[49m\u001b[43mbatch_size\u001b[49m\u001b[43m=\u001b[49m\u001b[43mbatch_size\u001b[49m\u001b[43m,\u001b[49m\n\u001b[32m    728\u001b[39m \u001b[43m                                                   \u001b[49m\u001b[43mwarmup_frac\u001b[49m\u001b[43m=\u001b[49m\u001b[43mwarmup_frac\u001b[49m\u001b[43m,\u001b[49m\u001b[43m \u001b[49m\u001b[43mretain_best\u001b[49m\u001b[43m=\u001b[49m\u001b[43mretain_best\u001b[49m\u001b[43m,\u001b[49m\n\u001b[32m    729\u001b[39m \u001b[43m                                                   \u001b[49m\u001b[43mvalidation_dataset\u001b[49m\u001b[43m=\u001b[49m\u001b[43mvalidation_dataset\u001b[49m\u001b[43m,\u001b[49m\n\u001b[32m    730\u001b[39m \u001b[43m                                                   \u001b[49m\u001b[43mbalance_method\u001b[49m\u001b[43m=\u001b[49m\u001b[43mbalance_method\u001b[49m\u001b[43m,\u001b[49m\n\u001b[32m    731\u001b[39m \u001b[43m                                                   \u001b[49m\u001b[43m*\u001b[49m\u001b[43m*\u001b[49m\u001b[43mloader_kwargs\u001b[49m\u001b[43m)\u001b[49m\n",
      "\u001b[36mFile \u001b[39m\u001b[32m~/Library/CloudStorage/OneDrive-UniversityofWaterloo/Think/Time Management/UWaterloo/Research/my research/BENDR/dn3/trainable/processes.py:573\u001b[39m, in \u001b[36mBaseProcess.fit\u001b[39m\u001b[34m(self, training_dataset, epochs, validation_dataset, step_callback, resume_epoch, resume_iteration, log_callback, validation_callback, epoch_callback, batch_size, warmup_frac, retain_best, validation_interval, train_log_interval, **loader_kwargs)\u001b[39m\n\u001b[32m    571\u001b[39m \u001b[38;5;28;01mfor\u001b[39;00m iteration \u001b[38;5;129;01min\u001b[39;00m pbar:\n\u001b[32m    572\u001b[39m     inputs = \u001b[38;5;28mself\u001b[39m._get_batch(data_iterator)\n\u001b[32m--> \u001b[39m\u001b[32m573\u001b[39m     train_metrics = \u001b[38;5;28;43mself\u001b[39;49m\u001b[43m.\u001b[49m\u001b[43mtrain_step\u001b[49m\u001b[43m(\u001b[49m\u001b[43m*\u001b[49m\u001b[43minputs\u001b[49m\u001b[43m)\u001b[49m\n\u001b[32m    574\u001b[39m     train_metrics[\u001b[33m'\u001b[39m\u001b[33mlr\u001b[39m\u001b[33m'\u001b[39m] = \u001b[38;5;28mself\u001b[39m.optimizer.param_groups[\u001b[32m0\u001b[39m][\u001b[33m'\u001b[39m\u001b[33mlr\u001b[39m\u001b[33m'\u001b[39m]\n\u001b[32m    575\u001b[39m     \u001b[38;5;28;01mif\u001b[39;00m \u001b[33m'\u001b[39m\u001b[33mmomentum\u001b[39m\u001b[33m'\u001b[39m \u001b[38;5;129;01min\u001b[39;00m \u001b[38;5;28mself\u001b[39m.optimizer.defaults:\n",
      "\u001b[36mFile \u001b[39m\u001b[32m~/Library/CloudStorage/OneDrive-UniversityofWaterloo/Think/Time Management/UWaterloo/Research/my research/BENDR/dn3/trainable/processes.py:288\u001b[39m, in \u001b[36mBaseProcess.train_step\u001b[39m\u001b[34m(self, *inputs)\u001b[39m\n\u001b[32m    285\u001b[39m \u001b[38;5;28;01mif\u001b[39;00m \u001b[38;5;28mself\u001b[39m.scheduler \u001b[38;5;129;01mis\u001b[39;00m \u001b[38;5;129;01mnot\u001b[39;00m \u001b[38;5;28;01mNone\u001b[39;00m \u001b[38;5;129;01mand\u001b[39;00m \u001b[38;5;28mself\u001b[39m.scheduler_after_batch:\n\u001b[32m    286\u001b[39m     \u001b[38;5;28mself\u001b[39m.scheduler.step()\n\u001b[32m--> \u001b[39m\u001b[32m288\u001b[39m train_metrics = \u001b[38;5;28;43mself\u001b[39;49m\u001b[43m.\u001b[49m\u001b[43mcalculate_metrics\u001b[49m\u001b[43m(\u001b[49m\u001b[43minputs\u001b[49m\u001b[43m,\u001b[49m\u001b[43m \u001b[49m\u001b[43moutputs\u001b[49m\u001b[43m)\u001b[49m\n\u001b[32m    289\u001b[39m train_metrics.setdefault(\u001b[33m'\u001b[39m\u001b[33mloss\u001b[39m\u001b[33m'\u001b[39m, loss.item())\n\u001b[32m    291\u001b[39m \u001b[38;5;28;01mreturn\u001b[39;00m train_metrics\n",
      "\u001b[36mFile \u001b[39m\u001b[32m~/Library/CloudStorage/OneDrive-UniversityofWaterloo/Think/Time Management/UWaterloo/Research/my research/BENDR/dn3/trainable/processes.py:264\u001b[39m, in \u001b[36mBaseProcess.calculate_metrics\u001b[39m\u001b[34m(self, inputs, outputs)\u001b[39m\n\u001b[32m    262\u001b[39m     \u001b[38;5;28;01mcontinue\u001b[39;00m\n\u001b[32m    263\u001b[39m \u001b[38;5;28;01mtry\u001b[39;00m:\n\u001b[32m--> \u001b[39m\u001b[32m264\u001b[39m     metrics[met_name] = \u001b[43mmet_fn\u001b[49m\u001b[43m(\u001b[49m\u001b[43minputs\u001b[49m\u001b[43m,\u001b[49m\u001b[43m \u001b[49m\u001b[43moutputs\u001b[49m\u001b[43m)\u001b[49m\n\u001b[32m    265\u001b[39m \u001b[38;5;28;01mexcept\u001b[39;00m \u001b[38;5;167;01mException\u001b[39;00m:\n\u001b[32m    266\u001b[39m     \u001b[38;5;28;01mcontinue\u001b[39;00m\n",
      "\u001b[36mFile \u001b[39m\u001b[32m~/Library/CloudStorage/OneDrive-UniversityofWaterloo/Think/Time Management/UWaterloo/Research/my research/BENDR/dn3/trainable/processes.py:656\u001b[39m, in \u001b[36mStandardClassification._simple_accuracy\u001b[39m\u001b[34m(inputs, outputs)\u001b[39m\n\u001b[32m    654\u001b[39m \u001b[38;5;28;01mwhile\u001b[39;00m \u001b[38;5;28mlen\u001b[39m(outputs.shape) >= \u001b[32m3\u001b[39m:\n\u001b[32m    655\u001b[39m     outputs = outputs.mean(dim=-\u001b[32m1\u001b[39m)\n\u001b[32m--> \u001b[39m\u001b[32m656\u001b[39m \u001b[38;5;28;01mreturn\u001b[39;00m \u001b[43m(\u001b[49m\u001b[43minputs\u001b[49m\u001b[43m[\u001b[49m\u001b[43m-\u001b[49m\u001b[32;43m1\u001b[39;49m\u001b[43m]\u001b[49m\u001b[43m \u001b[49m\u001b[43m==\u001b[49m\u001b[43m \u001b[49m\u001b[43moutputs\u001b[49m\u001b[43m.\u001b[49m\u001b[43margmax\u001b[49m\u001b[43m(\u001b[49m\u001b[43mdim\u001b[49m\u001b[43m=\u001b[49m\u001b[43m-\u001b[49m\u001b[32;43m1\u001b[39;49m\u001b[43m)\u001b[49m\u001b[43m)\u001b[49m\u001b[43m.\u001b[49m\u001b[43mfloat\u001b[49m\u001b[43m(\u001b[49m\u001b[43m)\u001b[49m\u001b[43m.\u001b[49m\u001b[43mmean\u001b[49m\u001b[43m(\u001b[49m\u001b[43m)\u001b[49m\u001b[43m.\u001b[49m\u001b[43mitem\u001b[49m\u001b[43m(\u001b[49m\u001b[43m)\u001b[49m\n",
      "\u001b[31mKeyboardInterrupt\u001b[39m: "
     ]
    }
   ],
   "source": [
    "results = []\n",
    "\n",
    "for training, validation, test in dataset.lmso(ds_config.folds):\n",
    "    # Convert training, validation datasets to half precision\n",
    "    training = [(x.half(), y) for x, y in training]\n",
    "    validation = [(x.half(), y) for x, y in validation]\n",
    "    scaler = GradScaler()\n",
    "\n",
    "    process = make_model_and_process()\n",
    "\n",
    "    with autocast(device_type=device):\n",
    "        process.fit(training_dataset=training, validation_dataset=validation, **ds_config.train_params)\n",
    "\n",
    "    results.append(process.evaluate(test)['Accuracy'])\n",
    "\n",
    "print(results)\n",
    "print(\"Average accuracy: {:.2%}\".format(sum(results)/len(results)))\n",
    "print(f\"Model size: {get_model_size(process):.2f} MB\")"
   ]
  },
  {
   "cell_type": "code",
   "execution_count": null,
   "metadata": {},
   "outputs": [
    {
     "name": "stdout",
     "output_type": "stream",
     "text": [
      "Training:   >> Physionet MMIDB | DSID: None | 63 people | 2646 trials | 90 channels | 1536 samples/trial | 256Hz | 0 transforms\n",
      "Validation: >> Physionet MMIDB | DSID: None | 21 people | 880 trials | 90 channels | 1536 samples/trial | 256Hz | 0 transforms\n",
      "Test:       >> Physionet MMIDB | DSID: None | 21 people | 882 trials | 90 channels | 1536 samples/trial | 256Hz | 0 transforms\n"
     ]
    },
    {
     "name": "stderr",
     "output_type": "stream",
     "text": [
      "/Users/mojtaba/Library/CloudStorage/OneDrive-UniversityofWaterloo/Think/Time Management/UWaterloo/Research/my research/BENDR/env/lib/python3.12/site-packages/torch/amp/grad_scaler.py:136: UserWarning: torch.cuda.amp.GradScaler is enabled, but CUDA is not available.  Disabling.\n",
      "  warnings.warn(\n"
     ]
    },
    {
     "name": "stdout",
     "output_type": "stream",
     "text": [
      "Creating TIDNet using: 90 channels x 1536 samples at 256Hz | 2 targets\n",
      "Apple M-series GPU detected: training and model execution will be performed on MPS.\n",
      "Loading data with 0 additional workers\n"
     ]
    },
    {
     "name": "stderr",
     "output_type": "stream",
     "text": [
      "/Users/mojtaba/Library/CloudStorage/OneDrive-UniversityofWaterloo/Think/Time Management/UWaterloo/Research/my research/BENDR/env/lib/python3.12/site-packages/torch/nn/utils/weight_norm.py:143: FutureWarning: `torch.nn.utils.weight_norm` is deprecated in favor of `torch.nn.utils.parametrizations.weight_norm`.\n",
      "  WeightNorm.apply(module, name, dim)\n"
     ]
    },
    {
     "data": {
      "application/vnd.jupyter.widget-view+json": {
       "model_id": "615bb20e32a84c7eabe94abd77af10fb",
       "version_major": 2,
       "version_minor": 0
      },
      "text/plain": [
       "Epoch:  14%|#4        | 1/7 [00:00<?, ?epoch/s]"
      ]
     },
     "metadata": {},
     "output_type": "display_data"
    },
    {
     "data": {
      "application/vnd.jupyter.widget-view+json": {
       "model_id": "964e1fbc6201449295bed1a68892303f",
       "version_major": 2,
       "version_minor": 0
      },
      "text/plain": [
       "Iteration:   0%|          | 1/661 [00:00<?, ?batches/s]"
      ]
     },
     "metadata": {},
     "output_type": "display_data"
    },
    {
     "name": "stdout",
     "output_type": "stream",
     "text": [
      "Training: End of Epoch 1 | Accuracy: 66.38% | loss: 0.674 | lr: 3.539e-05 | momentum: 0.917 | epoch: 1.000 |\n"
     ]
    },
    {
     "data": {
      "application/vnd.jupyter.widget-view+json": {
       "model_id": "bc99e2284a2b4f8c8b9a03107dbaa861",
       "version_major": 2,
       "version_minor": 0
      },
      "text/plain": [
       "Predicting:   0%|          | 0/220 [00:00<?, ?it/s]"
      ]
     },
     "metadata": {},
     "output_type": "display_data"
    },
    {
     "name": "stdout",
     "output_type": "stream",
     "text": [
      "Validation: End of Epoch 1 | Accuracy: 79.20% | loss: 0.617 |\n",
      "Best loss. Retaining checkpoint...\n"
     ]
    },
    {
     "data": {
      "application/vnd.jupyter.widget-view+json": {
       "model_id": "3cf241baa88b43db8f3ce808404cb36e",
       "version_major": 2,
       "version_minor": 0
      },
      "text/plain": [
       "Iteration:   0%|          | 1/661 [00:00<?, ?batches/s]"
      ]
     },
     "metadata": {},
     "output_type": "display_data"
    },
    {
     "name": "stdout",
     "output_type": "stream",
     "text": [
      "Training: End of Epoch 2 | Accuracy: 83.32% | loss: 0.375 | lr: 9.699e-05 | momentum: 0.853 | epoch: 2.000 |\n"
     ]
    },
    {
     "data": {
      "application/vnd.jupyter.widget-view+json": {
       "model_id": "41dded48859547f4a91a5f355a4ba479",
       "version_major": 2,
       "version_minor": 0
      },
      "text/plain": [
       "Predicting:   0%|          | 0/220 [00:00<?, ?it/s]"
      ]
     },
     "metadata": {},
     "output_type": "display_data"
    },
    {
     "name": "stdout",
     "output_type": "stream",
     "text": [
      "Validation: End of Epoch 2 | Accuracy: 58.52% | loss: 0.614 |\n",
      "Best loss. Retaining checkpoint...\n"
     ]
    },
    {
     "data": {
      "application/vnd.jupyter.widget-view+json": {
       "model_id": "679fbb96bfe34e8a96ab2c6e713b39d3",
       "version_major": 2,
       "version_minor": 0
      },
      "text/plain": [
       "Iteration:   0%|          | 1/661 [00:00<?, ?batches/s]"
      ]
     },
     "metadata": {},
     "output_type": "display_data"
    },
    {
     "name": "stdout",
     "output_type": "stream",
     "text": [
      "Training: End of Epoch 3 | Accuracy: 85.63% | loss: 0.342 | lr: 9.021e-05 | momentum: 0.860 | epoch: 3.000 |\n"
     ]
    },
    {
     "data": {
      "application/vnd.jupyter.widget-view+json": {
       "model_id": "9e0fc051df4f4268b4c64bfdf3fa2c1e",
       "version_major": 2,
       "version_minor": 0
      },
      "text/plain": [
       "Predicting:   0%|          | 0/220 [00:00<?, ?it/s]"
      ]
     },
     "metadata": {},
     "output_type": "display_data"
    },
    {
     "name": "stdout",
     "output_type": "stream",
     "text": [
      "Validation: End of Epoch 3 | Accuracy: 78.64% | loss: 0.536 |\n",
      "Best loss. Retaining checkpoint...\n"
     ]
    },
    {
     "data": {
      "application/vnd.jupyter.widget-view+json": {
       "model_id": "a743b222b1764dfc9701e58dae04800d",
       "version_major": 2,
       "version_minor": 0
      },
      "text/plain": [
       "Iteration:   0%|          | 1/661 [00:00<?, ?batches/s]"
      ]
     },
     "metadata": {},
     "output_type": "display_data"
    },
    {
     "name": "stdout",
     "output_type": "stream",
     "text": [
      "Training: End of Epoch 4 | Accuracy: 87.41% | loss: 0.303 | lr: 6.883e-05 | momentum: 0.881 | epoch: 4.000 |\n"
     ]
    },
    {
     "data": {
      "application/vnd.jupyter.widget-view+json": {
       "model_id": "5624c559d9e140c9aabcfcada31a7f06",
       "version_major": 2,
       "version_minor": 0
      },
      "text/plain": [
       "Predicting:   0%|          | 0/220 [00:00<?, ?it/s]"
      ]
     },
     "metadata": {},
     "output_type": "display_data"
    },
    {
     "name": "stdout",
     "output_type": "stream",
     "text": [
      "Validation: End of Epoch 4 | Accuracy: 55.34% | loss: 0.669 |\n"
     ]
    },
    {
     "data": {
      "application/vnd.jupyter.widget-view+json": {
       "model_id": "aa90aa97f8264b0a9d9efbda9bed3822",
       "version_major": 2,
       "version_minor": 0
      },
      "text/plain": [
       "Iteration:   0%|          | 1/661 [00:00<?, ?batches/s]"
      ]
     },
     "metadata": {},
     "output_type": "display_data"
    },
    {
     "name": "stdout",
     "output_type": "stream",
     "text": [
      "Training: End of Epoch 5 | Accuracy: 88.35% | loss: 0.283 | lr: 4.167e-05 | momentum: 0.908 | epoch: 5.000 |\n"
     ]
    },
    {
     "data": {
      "application/vnd.jupyter.widget-view+json": {
       "model_id": "b32b843c682941428484ae66298eff20",
       "version_major": 2,
       "version_minor": 0
      },
      "text/plain": [
       "Predicting:   0%|          | 0/220 [00:00<?, ?it/s]"
      ]
     },
     "metadata": {},
     "output_type": "display_data"
    },
    {
     "name": "stdout",
     "output_type": "stream",
     "text": [
      "Validation: End of Epoch 5 | Accuracy: 58.07% | loss: 0.616 |\n"
     ]
    },
    {
     "data": {
      "application/vnd.jupyter.widget-view+json": {
       "model_id": "a864b8b4cb6a4079a0de592dd1512937",
       "version_major": 2,
       "version_minor": 0
      },
      "text/plain": [
       "Iteration:   0%|          | 1/661 [00:00<?, ?batches/s]"
      ]
     },
     "metadata": {},
     "output_type": "display_data"
    },
    {
     "name": "stdout",
     "output_type": "stream",
     "text": [
      "Training: End of Epoch 6 | Accuracy: 89.07% | loss: 0.266 | lr: 1.707e-05 | momentum: 0.933 | epoch: 6.000 |\n"
     ]
    },
    {
     "data": {
      "application/vnd.jupyter.widget-view+json": {
       "model_id": "33e20e627a844654bb6c4130d67982e0",
       "version_major": 2,
       "version_minor": 0
      },
      "text/plain": [
       "Predicting:   0%|          | 0/220 [00:00<?, ?it/s]"
      ]
     },
     "metadata": {},
     "output_type": "display_data"
    },
    {
     "name": "stdout",
     "output_type": "stream",
     "text": [
      "Validation: End of Epoch 6 | Accuracy: 69.77% | loss: 0.551 |\n"
     ]
    },
    {
     "data": {
      "application/vnd.jupyter.widget-view+json": {
       "model_id": "fe7d5ae552d044a3b41780aa26085217",
       "version_major": 2,
       "version_minor": 0
      },
      "text/plain": [
       "Iteration:   0%|          | 1/661 [00:00<?, ?batches/s]"
      ]
     },
     "metadata": {},
     "output_type": "display_data"
    },
    {
     "name": "stdout",
     "output_type": "stream",
     "text": [
      "Training: End of Epoch 7 | Accuracy: 90.13% | loss: 0.248 | lr: 2.565e-06 | momentum: 0.947 | epoch: 7.000 |\n"
     ]
    },
    {
     "data": {
      "application/vnd.jupyter.widget-view+json": {
       "model_id": "4cc0e9423d46486f851a6d1c9236572b",
       "version_major": 2,
       "version_minor": 0
      },
      "text/plain": [
       "Predicting:   0%|          | 0/220 [00:00<?, ?it/s]"
      ]
     },
     "metadata": {},
     "output_type": "display_data"
    },
    {
     "name": "stdout",
     "output_type": "stream",
     "text": [
      "Validation: End of Epoch 7 | Accuracy: 68.30% | loss: 0.556 |\n",
      "Loading best model...\n",
      "Training:   >> Physionet MMIDB | DSID: None | 19 people | 798 trials | 90 channels | 1536 samples/trial | 256Hz | 0 transforms\n",
      "Validation: Person S021 - 42 trials | 0 transforms\n",
      "Test:       Person S001 - 42 trials | 0 transforms\n"
     ]
    },
    {
     "data": {
      "application/vnd.jupyter.widget-view+json": {
       "model_id": "857b7a681e8c4a4698e89b7a35f7f796",
       "version_major": 2,
       "version_minor": 0
      },
      "text/plain": [
       "Predicting:   0%|          | 0/42 [00:00<?, ?it/s]"
      ]
     },
     "metadata": {},
     "output_type": "display_data"
    },
    {
     "name": "stdout",
     "output_type": "stream",
     "text": [
      "Training:   >> Physionet MMIDB | DSID: None | 19 people | 798 trials | 90 channels | 1536 samples/trial | 256Hz | 0 transforms\n",
      "Validation: Person S001 - 42 trials | 0 transforms\n",
      "Test:       Person S002 - 42 trials | 0 transforms\n"
     ]
    },
    {
     "data": {
      "application/vnd.jupyter.widget-view+json": {
       "model_id": "f8643a4f37a7486aa93cbf6c68b3a92c",
       "version_major": 2,
       "version_minor": 0
      },
      "text/plain": [
       "Predicting:   0%|          | 0/42 [00:00<?, ?it/s]"
      ]
     },
     "metadata": {},
     "output_type": "display_data"
    },
    {
     "name": "stdout",
     "output_type": "stream",
     "text": [
      "Training:   >> Physionet MMIDB | DSID: None | 19 people | 798 trials | 90 channels | 1536 samples/trial | 256Hz | 0 transforms\n",
      "Validation: Person S002 - 42 trials | 0 transforms\n",
      "Test:       Person S003 - 42 trials | 0 transforms\n"
     ]
    },
    {
     "data": {
      "application/vnd.jupyter.widget-view+json": {
       "model_id": "58378a424d1b4d18bede8305f1a65078",
       "version_major": 2,
       "version_minor": 0
      },
      "text/plain": [
       "Predicting:   0%|          | 0/42 [00:00<?, ?it/s]"
      ]
     },
     "metadata": {},
     "output_type": "display_data"
    },
    {
     "name": "stdout",
     "output_type": "stream",
     "text": [
      "Training:   >> Physionet MMIDB | DSID: None | 19 people | 798 trials | 90 channels | 1536 samples/trial | 256Hz | 0 transforms\n",
      "Validation: Person S003 - 42 trials | 0 transforms\n",
      "Test:       Person S004 - 42 trials | 0 transforms\n"
     ]
    },
    {
     "data": {
      "application/vnd.jupyter.widget-view+json": {
       "model_id": "8ae6b6b1bf10474989f09c8e65c4d72d",
       "version_major": 2,
       "version_minor": 0
      },
      "text/plain": [
       "Predicting:   0%|          | 0/42 [00:00<?, ?it/s]"
      ]
     },
     "metadata": {},
     "output_type": "display_data"
    },
    {
     "name": "stdout",
     "output_type": "stream",
     "text": [
      "Training:   >> Physionet MMIDB | DSID: None | 19 people | 798 trials | 90 channels | 1536 samples/trial | 256Hz | 0 transforms\n",
      "Validation: Person S004 - 42 trials | 0 transforms\n",
      "Test:       Person S005 - 42 trials | 0 transforms\n"
     ]
    },
    {
     "data": {
      "application/vnd.jupyter.widget-view+json": {
       "model_id": "f345801562b34c87aba3a95e049e35a4",
       "version_major": 2,
       "version_minor": 0
      },
      "text/plain": [
       "Predicting:   0%|          | 0/42 [00:00<?, ?it/s]"
      ]
     },
     "metadata": {},
     "output_type": "display_data"
    },
    {
     "name": "stdout",
     "output_type": "stream",
     "text": [
      "Training:   >> Physionet MMIDB | DSID: None | 19 people | 798 trials | 90 channels | 1536 samples/trial | 256Hz | 0 transforms\n",
      "Validation: Person S005 - 42 trials | 0 transforms\n",
      "Test:       Person S006 - 42 trials | 0 transforms\n"
     ]
    },
    {
     "data": {
      "application/vnd.jupyter.widget-view+json": {
       "model_id": "83432ffa771f407085e8b0ed0b07151d",
       "version_major": 2,
       "version_minor": 0
      },
      "text/plain": [
       "Predicting:   0%|          | 0/42 [00:00<?, ?it/s]"
      ]
     },
     "metadata": {},
     "output_type": "display_data"
    },
    {
     "name": "stdout",
     "output_type": "stream",
     "text": [
      "Training:   >> Physionet MMIDB | DSID: None | 19 people | 798 trials | 90 channels | 1536 samples/trial | 256Hz | 0 transforms\n",
      "Validation: Person S006 - 42 trials | 0 transforms\n",
      "Test:       Person S007 - 42 trials | 0 transforms\n"
     ]
    },
    {
     "data": {
      "application/vnd.jupyter.widget-view+json": {
       "model_id": "30984acbd5314670ab34eb6383bfd352",
       "version_major": 2,
       "version_minor": 0
      },
      "text/plain": [
       "Predicting:   0%|          | 0/42 [00:00<?, ?it/s]"
      ]
     },
     "metadata": {},
     "output_type": "display_data"
    },
    {
     "name": "stdout",
     "output_type": "stream",
     "text": [
      "Training:   >> Physionet MMIDB | DSID: None | 19 people | 798 trials | 90 channels | 1536 samples/trial | 256Hz | 0 transforms\n",
      "Validation: Person S007 - 42 trials | 0 transforms\n",
      "Test:       Person S008 - 42 trials | 0 transforms\n"
     ]
    },
    {
     "data": {
      "application/vnd.jupyter.widget-view+json": {
       "model_id": "a6093c5507fc4514b05a48014c2e5994",
       "version_major": 2,
       "version_minor": 0
      },
      "text/plain": [
       "Predicting:   0%|          | 0/42 [00:00<?, ?it/s]"
      ]
     },
     "metadata": {},
     "output_type": "display_data"
    },
    {
     "name": "stdout",
     "output_type": "stream",
     "text": [
      "Training:   >> Physionet MMIDB | DSID: None | 19 people | 798 trials | 90 channels | 1536 samples/trial | 256Hz | 0 transforms\n",
      "Validation: Person S008 - 42 trials | 0 transforms\n",
      "Test:       Person S009 - 42 trials | 0 transforms\n"
     ]
    },
    {
     "data": {
      "application/vnd.jupyter.widget-view+json": {
       "model_id": "4ca6e7a64c0e4a9f99cf232c53326f43",
       "version_major": 2,
       "version_minor": 0
      },
      "text/plain": [
       "Predicting:   0%|          | 0/42 [00:00<?, ?it/s]"
      ]
     },
     "metadata": {},
     "output_type": "display_data"
    },
    {
     "name": "stdout",
     "output_type": "stream",
     "text": [
      "Training:   >> Physionet MMIDB | DSID: None | 19 people | 798 trials | 90 channels | 1536 samples/trial | 256Hz | 0 transforms\n",
      "Validation: Person S009 - 42 trials | 0 transforms\n",
      "Test:       Person S010 - 42 trials | 0 transforms\n"
     ]
    },
    {
     "data": {
      "application/vnd.jupyter.widget-view+json": {
       "model_id": "ba76394452da4d899fd2d51af9193272",
       "version_major": 2,
       "version_minor": 0
      },
      "text/plain": [
       "Predicting:   0%|          | 0/42 [00:00<?, ?it/s]"
      ]
     },
     "metadata": {},
     "output_type": "display_data"
    },
    {
     "name": "stdout",
     "output_type": "stream",
     "text": [
      "Training:   >> Physionet MMIDB | DSID: None | 19 people | 798 trials | 90 channels | 1536 samples/trial | 256Hz | 0 transforms\n",
      "Validation: Person S010 - 42 trials | 0 transforms\n",
      "Test:       Person S011 - 42 trials | 0 transforms\n"
     ]
    },
    {
     "data": {
      "application/vnd.jupyter.widget-view+json": {
       "model_id": "a704954633624059bdef8178f03b56ee",
       "version_major": 2,
       "version_minor": 0
      },
      "text/plain": [
       "Predicting:   0%|          | 0/42 [00:00<?, ?it/s]"
      ]
     },
     "metadata": {},
     "output_type": "display_data"
    },
    {
     "name": "stdout",
     "output_type": "stream",
     "text": [
      "Training:   >> Physionet MMIDB | DSID: None | 19 people | 798 trials | 90 channels | 1536 samples/trial | 256Hz | 0 transforms\n",
      "Validation: Person S011 - 42 trials | 0 transforms\n",
      "Test:       Person S012 - 42 trials | 0 transforms\n"
     ]
    },
    {
     "data": {
      "application/vnd.jupyter.widget-view+json": {
       "model_id": "bd11b1a81d934f209186e88ce340b3f6",
       "version_major": 2,
       "version_minor": 0
      },
      "text/plain": [
       "Predicting:   0%|          | 0/42 [00:00<?, ?it/s]"
      ]
     },
     "metadata": {},
     "output_type": "display_data"
    },
    {
     "name": "stdout",
     "output_type": "stream",
     "text": [
      "Training:   >> Physionet MMIDB | DSID: None | 19 people | 798 trials | 90 channels | 1536 samples/trial | 256Hz | 0 transforms\n",
      "Validation: Person S012 - 42 trials | 0 transforms\n",
      "Test:       Person S013 - 42 trials | 0 transforms\n"
     ]
    },
    {
     "data": {
      "application/vnd.jupyter.widget-view+json": {
       "model_id": "ca04e79c58cf405da7bf3b7882bced97",
       "version_major": 2,
       "version_minor": 0
      },
      "text/plain": [
       "Predicting:   0%|          | 0/42 [00:00<?, ?it/s]"
      ]
     },
     "metadata": {},
     "output_type": "display_data"
    },
    {
     "name": "stdout",
     "output_type": "stream",
     "text": [
      "Training:   >> Physionet MMIDB | DSID: None | 19 people | 798 trials | 90 channels | 1536 samples/trial | 256Hz | 0 transforms\n",
      "Validation: Person S013 - 42 trials | 0 transforms\n",
      "Test:       Person S014 - 42 trials | 0 transforms\n"
     ]
    },
    {
     "data": {
      "application/vnd.jupyter.widget-view+json": {
       "model_id": "6348c1eab315465c8e1294bc8a17e77d",
       "version_major": 2,
       "version_minor": 0
      },
      "text/plain": [
       "Predicting:   0%|          | 0/42 [00:00<?, ?it/s]"
      ]
     },
     "metadata": {},
     "output_type": "display_data"
    },
    {
     "name": "stdout",
     "output_type": "stream",
     "text": [
      "Training:   >> Physionet MMIDB | DSID: None | 19 people | 798 trials | 90 channels | 1536 samples/trial | 256Hz | 0 transforms\n",
      "Validation: Person S014 - 42 trials | 0 transforms\n",
      "Test:       Person S015 - 42 trials | 0 transforms\n"
     ]
    },
    {
     "data": {
      "application/vnd.jupyter.widget-view+json": {
       "model_id": "6d25541b56ff449495d2ed130ac25b5a",
       "version_major": 2,
       "version_minor": 0
      },
      "text/plain": [
       "Predicting:   0%|          | 0/42 [00:00<?, ?it/s]"
      ]
     },
     "metadata": {},
     "output_type": "display_data"
    },
    {
     "name": "stdout",
     "output_type": "stream",
     "text": [
      "Training:   >> Physionet MMIDB | DSID: None | 19 people | 798 trials | 90 channels | 1536 samples/trial | 256Hz | 0 transforms\n",
      "Validation: Person S015 - 42 trials | 0 transforms\n",
      "Test:       Person S016 - 42 trials | 0 transforms\n"
     ]
    },
    {
     "data": {
      "application/vnd.jupyter.widget-view+json": {
       "model_id": "1222ed2a63704e22aeaf85659c08e9a9",
       "version_major": 2,
       "version_minor": 0
      },
      "text/plain": [
       "Predicting:   0%|          | 0/42 [00:00<?, ?it/s]"
      ]
     },
     "metadata": {},
     "output_type": "display_data"
    },
    {
     "name": "stdout",
     "output_type": "stream",
     "text": [
      "Training:   >> Physionet MMIDB | DSID: None | 19 people | 798 trials | 90 channels | 1536 samples/trial | 256Hz | 0 transforms\n",
      "Validation: Person S016 - 42 trials | 0 transforms\n",
      "Test:       Person S017 - 42 trials | 0 transforms\n"
     ]
    },
    {
     "data": {
      "application/vnd.jupyter.widget-view+json": {
       "model_id": "6dfe31a1d0d74e10bc659bba7709dfdb",
       "version_major": 2,
       "version_minor": 0
      },
      "text/plain": [
       "Predicting:   0%|          | 0/42 [00:00<?, ?it/s]"
      ]
     },
     "metadata": {},
     "output_type": "display_data"
    },
    {
     "name": "stdout",
     "output_type": "stream",
     "text": [
      "Training:   >> Physionet MMIDB | DSID: None | 19 people | 798 trials | 90 channels | 1536 samples/trial | 256Hz | 0 transforms\n",
      "Validation: Person S017 - 42 trials | 0 transforms\n",
      "Test:       Person S018 - 42 trials | 0 transforms\n"
     ]
    },
    {
     "data": {
      "application/vnd.jupyter.widget-view+json": {
       "model_id": "3668b1cafea84b2f9183c498559dad79",
       "version_major": 2,
       "version_minor": 0
      },
      "text/plain": [
       "Predicting:   0%|          | 0/42 [00:00<?, ?it/s]"
      ]
     },
     "metadata": {},
     "output_type": "display_data"
    },
    {
     "name": "stdout",
     "output_type": "stream",
     "text": [
      "Training:   >> Physionet MMIDB | DSID: None | 19 people | 798 trials | 90 channels | 1536 samples/trial | 256Hz | 0 transforms\n",
      "Validation: Person S018 - 42 trials | 0 transforms\n",
      "Test:       Person S019 - 42 trials | 0 transforms\n"
     ]
    },
    {
     "data": {
      "application/vnd.jupyter.widget-view+json": {
       "model_id": "b670559c65df41d09e88431d38912982",
       "version_major": 2,
       "version_minor": 0
      },
      "text/plain": [
       "Predicting:   0%|          | 0/42 [00:00<?, ?it/s]"
      ]
     },
     "metadata": {},
     "output_type": "display_data"
    },
    {
     "name": "stdout",
     "output_type": "stream",
     "text": [
      "Training:   >> Physionet MMIDB | DSID: None | 19 people | 798 trials | 90 channels | 1536 samples/trial | 256Hz | 0 transforms\n",
      "Validation: Person S019 - 42 trials | 0 transforms\n",
      "Test:       Person S020 - 42 trials | 0 transforms\n"
     ]
    },
    {
     "data": {
      "application/vnd.jupyter.widget-view+json": {
       "model_id": "e663bc46692e4171ba80a0c262de3c54",
       "version_major": 2,
       "version_minor": 0
      },
      "text/plain": [
       "Predicting:   0%|          | 0/42 [00:00<?, ?it/s]"
      ]
     },
     "metadata": {},
     "output_type": "display_data"
    },
    {
     "name": "stdout",
     "output_type": "stream",
     "text": [
      "Training:   >> Physionet MMIDB | DSID: None | 19 people | 798 trials | 90 channels | 1536 samples/trial | 256Hz | 0 transforms\n",
      "Validation: Person S020 - 42 trials | 0 transforms\n",
      "Test:       Person S021 - 42 trials | 0 transforms\n"
     ]
    },
    {
     "data": {
      "application/vnd.jupyter.widget-view+json": {
       "model_id": "349f8535ad7049b7ad6c0dd6948a4817",
       "version_major": 2,
       "version_minor": 0
      },
      "text/plain": [
       "Predicting:   0%|          | 0/42 [00:00<?, ?it/s]"
      ]
     },
     "metadata": {},
     "output_type": "display_data"
    },
    {
     "name": "stdout",
     "output_type": "stream",
     "text": [
      "Training:   >> Physionet MMIDB | DSID: None | 63 people | 2644 trials | 90 channels | 1536 samples/trial | 256Hz | 0 transforms\n",
      "Validation: >> Physionet MMIDB | DSID: None | 21 people | 882 trials | 90 channels | 1536 samples/trial | 256Hz | 0 transforms\n",
      "Test:       >> Physionet MMIDB | DSID: None | 21 people | 882 trials | 90 channels | 1536 samples/trial | 256Hz | 0 transforms\n",
      "Creating TIDNet using: 90 channels x 1536 samples at 256Hz | 2 targets\n",
      "Apple M-series GPU detected: training and model execution will be performed on MPS.\n",
      "Loading data with 0 additional workers\n"
     ]
    },
    {
     "data": {
      "application/vnd.jupyter.widget-view+json": {
       "model_id": "4bc436b2a4c8446985f633a122b0262b",
       "version_major": 2,
       "version_minor": 0
      },
      "text/plain": [
       "Epoch:  14%|#4        | 1/7 [00:00<?, ?epoch/s]"
      ]
     },
     "metadata": {},
     "output_type": "display_data"
    },
    {
     "data": {
      "application/vnd.jupyter.widget-view+json": {
       "model_id": "54e762157ecc49628201edc69208b3be",
       "version_major": 2,
       "version_minor": 0
      },
      "text/plain": [
       "Iteration:   0%|          | 1/661 [00:00<?, ?batches/s]"
      ]
     },
     "metadata": {},
     "output_type": "display_data"
    },
    {
     "name": "stdout",
     "output_type": "stream",
     "text": [
      "Training: End of Epoch 1 | Accuracy: 63.01% | loss: 0.705 | lr: 3.539e-05 | momentum: 0.917 | epoch: 1.000 |\n"
     ]
    },
    {
     "data": {
      "application/vnd.jupyter.widget-view+json": {
       "model_id": "7be891b3176243acbc2301f79edcecfb",
       "version_major": 2,
       "version_minor": 0
      },
      "text/plain": [
       "Predicting:   0%|          | 0/221 [00:00<?, ?it/s]"
      ]
     },
     "metadata": {},
     "output_type": "display_data"
    },
    {
     "name": "stdout",
     "output_type": "stream",
     "text": [
      "Validation: End of Epoch 1 | Accuracy: 51.25% | loss: 0.679 |\n",
      "Best loss. Retaining checkpoint...\n"
     ]
    },
    {
     "data": {
      "application/vnd.jupyter.widget-view+json": {
       "model_id": "3228643102c74265b5f90cc6b35a84c9",
       "version_major": 2,
       "version_minor": 0
      },
      "text/plain": [
       "Iteration:   0%|          | 1/661 [00:00<?, ?batches/s]"
      ]
     },
     "metadata": {},
     "output_type": "display_data"
    },
    {
     "name": "stdout",
     "output_type": "stream",
     "text": [
      "Training: End of Epoch 2 | Accuracy: 82.34% | loss: 0.392 | lr: 9.699e-05 | momentum: 0.853 | epoch: 2.000 |\n"
     ]
    },
    {
     "data": {
      "application/vnd.jupyter.widget-view+json": {
       "model_id": "e20c549101d045d0a4d3e7e49ee22d3b",
       "version_major": 2,
       "version_minor": 0
      },
      "text/plain": [
       "Predicting:   0%|          | 0/221 [00:00<?, ?it/s]"
      ]
     },
     "metadata": {},
     "output_type": "display_data"
    },
    {
     "name": "stdout",
     "output_type": "stream",
     "text": [
      "Validation: End of Epoch 2 | Accuracy: 61.00% | loss: 0.588 |\n",
      "Best loss. Retaining checkpoint...\n"
     ]
    },
    {
     "data": {
      "application/vnd.jupyter.widget-view+json": {
       "model_id": "796d92eee5ab4a598f9be41b7e6c6310",
       "version_major": 2,
       "version_minor": 0
      },
      "text/plain": [
       "Iteration:   0%|          | 1/661 [00:00<?, ?batches/s]"
      ]
     },
     "metadata": {},
     "output_type": "display_data"
    },
    {
     "name": "stdout",
     "output_type": "stream",
     "text": [
      "Training: End of Epoch 3 | Accuracy: 84.57% | loss: 0.355 | lr: 9.021e-05 | momentum: 0.860 | epoch: 3.000 |\n"
     ]
    },
    {
     "data": {
      "application/vnd.jupyter.widget-view+json": {
       "model_id": "a86b63ba05b649e0be3fd17decca2925",
       "version_major": 2,
       "version_minor": 0
      },
      "text/plain": [
       "Predicting:   0%|          | 0/221 [00:00<?, ?it/s]"
      ]
     },
     "metadata": {},
     "output_type": "display_data"
    },
    {
     "name": "stdout",
     "output_type": "stream",
     "text": [
      "Validation: End of Epoch 3 | Accuracy: 75.74% | loss: 0.523 |\n",
      "Best loss. Retaining checkpoint...\n"
     ]
    },
    {
     "data": {
      "application/vnd.jupyter.widget-view+json": {
       "model_id": "12251156d94440f59c5ad7e4e26f3094",
       "version_major": 2,
       "version_minor": 0
      },
      "text/plain": [
       "Iteration:   0%|          | 1/661 [00:00<?, ?batches/s]"
      ]
     },
     "metadata": {},
     "output_type": "display_data"
    },
    {
     "name": "stdout",
     "output_type": "stream",
     "text": [
      "Training: End of Epoch 4 | Accuracy: 87.25% | loss: 0.310 | lr: 6.883e-05 | momentum: 0.881 | epoch: 4.000 |\n"
     ]
    },
    {
     "data": {
      "application/vnd.jupyter.widget-view+json": {
       "model_id": "0958724a456e47a8a1c07feb1d1f206f",
       "version_major": 2,
       "version_minor": 0
      },
      "text/plain": [
       "Predicting:   0%|          | 0/221 [00:00<?, ?it/s]"
      ]
     },
     "metadata": {},
     "output_type": "display_data"
    },
    {
     "name": "stdout",
     "output_type": "stream",
     "text": [
      "Validation: End of Epoch 4 | Accuracy: 87.76% | loss: 0.490 |\n",
      "Best loss. Retaining checkpoint...\n"
     ]
    },
    {
     "data": {
      "application/vnd.jupyter.widget-view+json": {
       "model_id": "4297676f744848cead396d8f0ef28b94",
       "version_major": 2,
       "version_minor": 0
      },
      "text/plain": [
       "Iteration:   0%|          | 1/661 [00:00<?, ?batches/s]"
      ]
     },
     "metadata": {},
     "output_type": "display_data"
    },
    {
     "name": "stdout",
     "output_type": "stream",
     "text": [
      "Training: End of Epoch 5 | Accuracy: 88.50% | loss: 0.283 | lr: 4.167e-05 | momentum: 0.908 | epoch: 5.000 |\n"
     ]
    },
    {
     "data": {
      "application/vnd.jupyter.widget-view+json": {
       "model_id": "a8027fdf04a44bdb8569accc98cd9f73",
       "version_major": 2,
       "version_minor": 0
      },
      "text/plain": [
       "Predicting:   0%|          | 0/221 [00:00<?, ?it/s]"
      ]
     },
     "metadata": {},
     "output_type": "display_data"
    },
    {
     "name": "stdout",
     "output_type": "stream",
     "text": [
      "Validation: End of Epoch 5 | Accuracy: 63.72% | loss: 0.552 |\n"
     ]
    },
    {
     "data": {
      "application/vnd.jupyter.widget-view+json": {
       "model_id": "095879c8c0844f01adf2fb15063e0b92",
       "version_major": 2,
       "version_minor": 0
      },
      "text/plain": [
       "Iteration:   0%|          | 1/661 [00:00<?, ?batches/s]"
      ]
     },
     "metadata": {},
     "output_type": "display_data"
    },
    {
     "name": "stdout",
     "output_type": "stream",
     "text": [
      "Training: End of Epoch 6 | Accuracy: 88.88% | loss: 0.266 | lr: 1.707e-05 | momentum: 0.933 | epoch: 6.000 |\n"
     ]
    },
    {
     "data": {
      "application/vnd.jupyter.widget-view+json": {
       "model_id": "cf04f2de10dc4c34877bbbf83666e2fe",
       "version_major": 2,
       "version_minor": 0
      },
      "text/plain": [
       "Predicting:   0%|          | 0/221 [00:00<?, ?it/s]"
      ]
     },
     "metadata": {},
     "output_type": "display_data"
    },
    {
     "name": "stdout",
     "output_type": "stream",
     "text": [
      "Validation: End of Epoch 6 | Accuracy: 69.73% | loss: 0.525 |\n"
     ]
    },
    {
     "data": {
      "application/vnd.jupyter.widget-view+json": {
       "model_id": "1fa77a44facb450fbf763b758bced6f9",
       "version_major": 2,
       "version_minor": 0
      },
      "text/plain": [
       "Iteration:   0%|          | 1/661 [00:00<?, ?batches/s]"
      ]
     },
     "metadata": {},
     "output_type": "display_data"
    },
    {
     "name": "stdout",
     "output_type": "stream",
     "text": [
      "Training: End of Epoch 7 | Accuracy: 89.90% | loss: 0.240 | lr: 2.565e-06 | momentum: 0.947 | epoch: 7.000 |\n"
     ]
    },
    {
     "data": {
      "application/vnd.jupyter.widget-view+json": {
       "model_id": "1b400d0ab0fc47b9a431e9f9125bdba6",
       "version_major": 2,
       "version_minor": 0
      },
      "text/plain": [
       "Predicting:   0%|          | 0/221 [00:00<?, ?it/s]"
      ]
     },
     "metadata": {},
     "output_type": "display_data"
    },
    {
     "name": "stdout",
     "output_type": "stream",
     "text": [
      "Validation: End of Epoch 7 | Accuracy: 77.21% | loss: 0.508 |\n",
      "Loading best model...\n",
      "Training:   >> Physionet MMIDB | DSID: None | 19 people | 798 trials | 90 channels | 1536 samples/trial | 256Hz | 0 transforms\n",
      "Validation: Person S042 - 42 trials | 0 transforms\n",
      "Test:       Person S022 - 42 trials | 0 transforms\n"
     ]
    },
    {
     "data": {
      "application/vnd.jupyter.widget-view+json": {
       "model_id": "653439c5b2cf4068963a87e0e49172b2",
       "version_major": 2,
       "version_minor": 0
      },
      "text/plain": [
       "Predicting:   0%|          | 0/42 [00:00<?, ?it/s]"
      ]
     },
     "metadata": {},
     "output_type": "display_data"
    },
    {
     "name": "stdout",
     "output_type": "stream",
     "text": [
      "Training:   >> Physionet MMIDB | DSID: None | 19 people | 798 trials | 90 channels | 1536 samples/trial | 256Hz | 0 transforms\n",
      "Validation: Person S022 - 42 trials | 0 transforms\n",
      "Test:       Person S023 - 42 trials | 0 transforms\n"
     ]
    },
    {
     "data": {
      "application/vnd.jupyter.widget-view+json": {
       "model_id": "c036a1e3d42d4ec9a0d216a914a4df95",
       "version_major": 2,
       "version_minor": 0
      },
      "text/plain": [
       "Predicting:   0%|          | 0/42 [00:00<?, ?it/s]"
      ]
     },
     "metadata": {},
     "output_type": "display_data"
    },
    {
     "name": "stdout",
     "output_type": "stream",
     "text": [
      "Training:   >> Physionet MMIDB | DSID: None | 19 people | 798 trials | 90 channels | 1536 samples/trial | 256Hz | 0 transforms\n",
      "Validation: Person S023 - 42 trials | 0 transforms\n",
      "Test:       Person S024 - 42 trials | 0 transforms\n"
     ]
    },
    {
     "data": {
      "application/vnd.jupyter.widget-view+json": {
       "model_id": "b69eabe82bee499f8a845bf1fe1e9502",
       "version_major": 2,
       "version_minor": 0
      },
      "text/plain": [
       "Predicting:   0%|          | 0/42 [00:00<?, ?it/s]"
      ]
     },
     "metadata": {},
     "output_type": "display_data"
    },
    {
     "name": "stdout",
     "output_type": "stream",
     "text": [
      "Training:   >> Physionet MMIDB | DSID: None | 19 people | 798 trials | 90 channels | 1536 samples/trial | 256Hz | 0 transforms\n",
      "Validation: Person S024 - 42 trials | 0 transforms\n",
      "Test:       Person S025 - 42 trials | 0 transforms\n"
     ]
    },
    {
     "data": {
      "application/vnd.jupyter.widget-view+json": {
       "model_id": "7734d6e0f4b943f8a251f4a4a64de4f2",
       "version_major": 2,
       "version_minor": 0
      },
      "text/plain": [
       "Predicting:   0%|          | 0/42 [00:00<?, ?it/s]"
      ]
     },
     "metadata": {},
     "output_type": "display_data"
    },
    {
     "name": "stdout",
     "output_type": "stream",
     "text": [
      "Training:   >> Physionet MMIDB | DSID: None | 19 people | 798 trials | 90 channels | 1536 samples/trial | 256Hz | 0 transforms\n",
      "Validation: Person S025 - 42 trials | 0 transforms\n",
      "Test:       Person S026 - 42 trials | 0 transforms\n"
     ]
    },
    {
     "data": {
      "application/vnd.jupyter.widget-view+json": {
       "model_id": "ba6ea779e60240d4ba4e07a029b4d14d",
       "version_major": 2,
       "version_minor": 0
      },
      "text/plain": [
       "Predicting:   0%|          | 0/42 [00:00<?, ?it/s]"
      ]
     },
     "metadata": {},
     "output_type": "display_data"
    },
    {
     "name": "stdout",
     "output_type": "stream",
     "text": [
      "Training:   >> Physionet MMIDB | DSID: None | 19 people | 798 trials | 90 channels | 1536 samples/trial | 256Hz | 0 transforms\n",
      "Validation: Person S026 - 42 trials | 0 transforms\n",
      "Test:       Person S027 - 42 trials | 0 transforms\n"
     ]
    },
    {
     "data": {
      "application/vnd.jupyter.widget-view+json": {
       "model_id": "c35689203d964c3f9e8eb4c27305d6bb",
       "version_major": 2,
       "version_minor": 0
      },
      "text/plain": [
       "Predicting:   0%|          | 0/42 [00:00<?, ?it/s]"
      ]
     },
     "metadata": {},
     "output_type": "display_data"
    },
    {
     "name": "stdout",
     "output_type": "stream",
     "text": [
      "Training:   >> Physionet MMIDB | DSID: None | 19 people | 798 trials | 90 channels | 1536 samples/trial | 256Hz | 0 transforms\n",
      "Validation: Person S027 - 42 trials | 0 transforms\n",
      "Test:       Person S028 - 42 trials | 0 transforms\n"
     ]
    },
    {
     "data": {
      "application/vnd.jupyter.widget-view+json": {
       "model_id": "5973e8c2836146ae8702a337c1c4fe7a",
       "version_major": 2,
       "version_minor": 0
      },
      "text/plain": [
       "Predicting:   0%|          | 0/42 [00:00<?, ?it/s]"
      ]
     },
     "metadata": {},
     "output_type": "display_data"
    },
    {
     "name": "stdout",
     "output_type": "stream",
     "text": [
      "Training:   >> Physionet MMIDB | DSID: None | 19 people | 798 trials | 90 channels | 1536 samples/trial | 256Hz | 0 transforms\n",
      "Validation: Person S028 - 42 trials | 0 transforms\n",
      "Test:       Person S029 - 42 trials | 0 transforms\n"
     ]
    },
    {
     "data": {
      "application/vnd.jupyter.widget-view+json": {
       "model_id": "721e4d6ff5b84b85bbb5817ca0f96e77",
       "version_major": 2,
       "version_minor": 0
      },
      "text/plain": [
       "Predicting:   0%|          | 0/42 [00:00<?, ?it/s]"
      ]
     },
     "metadata": {},
     "output_type": "display_data"
    },
    {
     "name": "stdout",
     "output_type": "stream",
     "text": [
      "Training:   >> Physionet MMIDB | DSID: None | 19 people | 798 trials | 90 channels | 1536 samples/trial | 256Hz | 0 transforms\n",
      "Validation: Person S029 - 42 trials | 0 transforms\n",
      "Test:       Person S030 - 42 trials | 0 transforms\n"
     ]
    },
    {
     "data": {
      "application/vnd.jupyter.widget-view+json": {
       "model_id": "f5d0e765c12c493ea07d55fb7d27be5d",
       "version_major": 2,
       "version_minor": 0
      },
      "text/plain": [
       "Predicting:   0%|          | 0/42 [00:00<?, ?it/s]"
      ]
     },
     "metadata": {},
     "output_type": "display_data"
    },
    {
     "name": "stdout",
     "output_type": "stream",
     "text": [
      "Training:   >> Physionet MMIDB | DSID: None | 19 people | 798 trials | 90 channels | 1536 samples/trial | 256Hz | 0 transforms\n",
      "Validation: Person S030 - 42 trials | 0 transforms\n",
      "Test:       Person S031 - 42 trials | 0 transforms\n"
     ]
    },
    {
     "data": {
      "application/vnd.jupyter.widget-view+json": {
       "model_id": "ec6154f056a449c6a271d3c50f6895bb",
       "version_major": 2,
       "version_minor": 0
      },
      "text/plain": [
       "Predicting:   0%|          | 0/42 [00:00<?, ?it/s]"
      ]
     },
     "metadata": {},
     "output_type": "display_data"
    },
    {
     "name": "stdout",
     "output_type": "stream",
     "text": [
      "Training:   >> Physionet MMIDB | DSID: None | 19 people | 798 trials | 90 channels | 1536 samples/trial | 256Hz | 0 transforms\n",
      "Validation: Person S031 - 42 trials | 0 transforms\n",
      "Test:       Person S032 - 42 trials | 0 transforms\n"
     ]
    },
    {
     "data": {
      "application/vnd.jupyter.widget-view+json": {
       "model_id": "75840589291c46e3a960cc9b8e491514",
       "version_major": 2,
       "version_minor": 0
      },
      "text/plain": [
       "Predicting:   0%|          | 0/42 [00:00<?, ?it/s]"
      ]
     },
     "metadata": {},
     "output_type": "display_data"
    },
    {
     "name": "stdout",
     "output_type": "stream",
     "text": [
      "Training:   >> Physionet MMIDB | DSID: None | 19 people | 798 trials | 90 channels | 1536 samples/trial | 256Hz | 0 transforms\n",
      "Validation: Person S032 - 42 trials | 0 transforms\n",
      "Test:       Person S033 - 42 trials | 0 transforms\n"
     ]
    },
    {
     "data": {
      "application/vnd.jupyter.widget-view+json": {
       "model_id": "1c8647774e994ce4a9ec9d2251abc752",
       "version_major": 2,
       "version_minor": 0
      },
      "text/plain": [
       "Predicting:   0%|          | 0/42 [00:00<?, ?it/s]"
      ]
     },
     "metadata": {},
     "output_type": "display_data"
    },
    {
     "name": "stdout",
     "output_type": "stream",
     "text": [
      "Training:   >> Physionet MMIDB | DSID: None | 19 people | 798 trials | 90 channels | 1536 samples/trial | 256Hz | 0 transforms\n",
      "Validation: Person S033 - 42 trials | 0 transforms\n",
      "Test:       Person S034 - 42 trials | 0 transforms\n"
     ]
    },
    {
     "data": {
      "application/vnd.jupyter.widget-view+json": {
       "model_id": "acea2c3bef3947488625af1030c6f321",
       "version_major": 2,
       "version_minor": 0
      },
      "text/plain": [
       "Predicting:   0%|          | 0/42 [00:00<?, ?it/s]"
      ]
     },
     "metadata": {},
     "output_type": "display_data"
    },
    {
     "name": "stdout",
     "output_type": "stream",
     "text": [
      "Training:   >> Physionet MMIDB | DSID: None | 19 people | 798 trials | 90 channels | 1536 samples/trial | 256Hz | 0 transforms\n",
      "Validation: Person S034 - 42 trials | 0 transforms\n",
      "Test:       Person S035 - 42 trials | 0 transforms\n"
     ]
    },
    {
     "data": {
      "application/vnd.jupyter.widget-view+json": {
       "model_id": "228b997622b742dd95d5cf5cc35c76d8",
       "version_major": 2,
       "version_minor": 0
      },
      "text/plain": [
       "Predicting:   0%|          | 0/42 [00:00<?, ?it/s]"
      ]
     },
     "metadata": {},
     "output_type": "display_data"
    },
    {
     "name": "stdout",
     "output_type": "stream",
     "text": [
      "Training:   >> Physionet MMIDB | DSID: None | 19 people | 798 trials | 90 channels | 1536 samples/trial | 256Hz | 0 transforms\n",
      "Validation: Person S035 - 42 trials | 0 transforms\n",
      "Test:       Person S036 - 42 trials | 0 transforms\n"
     ]
    },
    {
     "data": {
      "application/vnd.jupyter.widget-view+json": {
       "model_id": "4e93cde25c4d4cfa84d4f167eb2f6444",
       "version_major": 2,
       "version_minor": 0
      },
      "text/plain": [
       "Predicting:   0%|          | 0/42 [00:00<?, ?it/s]"
      ]
     },
     "metadata": {},
     "output_type": "display_data"
    },
    {
     "name": "stdout",
     "output_type": "stream",
     "text": [
      "Training:   >> Physionet MMIDB | DSID: None | 19 people | 798 trials | 90 channels | 1536 samples/trial | 256Hz | 0 transforms\n",
      "Validation: Person S036 - 42 trials | 0 transforms\n",
      "Test:       Person S037 - 42 trials | 0 transforms\n"
     ]
    },
    {
     "data": {
      "application/vnd.jupyter.widget-view+json": {
       "model_id": "9a3c18741f6647089fbd41b202c5fb26",
       "version_major": 2,
       "version_minor": 0
      },
      "text/plain": [
       "Predicting:   0%|          | 0/42 [00:00<?, ?it/s]"
      ]
     },
     "metadata": {},
     "output_type": "display_data"
    },
    {
     "name": "stdout",
     "output_type": "stream",
     "text": [
      "Training:   >> Physionet MMIDB | DSID: None | 19 people | 798 trials | 90 channels | 1536 samples/trial | 256Hz | 0 transforms\n",
      "Validation: Person S037 - 42 trials | 0 transforms\n",
      "Test:       Person S038 - 42 trials | 0 transforms\n"
     ]
    },
    {
     "data": {
      "application/vnd.jupyter.widget-view+json": {
       "model_id": "7761a90147e84d93af70e18970b54344",
       "version_major": 2,
       "version_minor": 0
      },
      "text/plain": [
       "Predicting:   0%|          | 0/42 [00:00<?, ?it/s]"
      ]
     },
     "metadata": {},
     "output_type": "display_data"
    },
    {
     "name": "stdout",
     "output_type": "stream",
     "text": [
      "Training:   >> Physionet MMIDB | DSID: None | 19 people | 798 trials | 90 channels | 1536 samples/trial | 256Hz | 0 transforms\n",
      "Validation: Person S038 - 42 trials | 0 transforms\n",
      "Test:       Person S039 - 42 trials | 0 transforms\n"
     ]
    },
    {
     "data": {
      "application/vnd.jupyter.widget-view+json": {
       "model_id": "abf17970d894484bb5b00bece4aeaaab",
       "version_major": 2,
       "version_minor": 0
      },
      "text/plain": [
       "Predicting:   0%|          | 0/42 [00:00<?, ?it/s]"
      ]
     },
     "metadata": {},
     "output_type": "display_data"
    },
    {
     "name": "stdout",
     "output_type": "stream",
     "text": [
      "Training:   >> Physionet MMIDB | DSID: None | 19 people | 798 trials | 90 channels | 1536 samples/trial | 256Hz | 0 transforms\n",
      "Validation: Person S039 - 42 trials | 0 transforms\n",
      "Test:       Person S040 - 42 trials | 0 transforms\n"
     ]
    },
    {
     "data": {
      "application/vnd.jupyter.widget-view+json": {
       "model_id": "ec28552b2480474c8a3e751bb09c9d8f",
       "version_major": 2,
       "version_minor": 0
      },
      "text/plain": [
       "Predicting:   0%|          | 0/42 [00:00<?, ?it/s]"
      ]
     },
     "metadata": {},
     "output_type": "display_data"
    },
    {
     "name": "stdout",
     "output_type": "stream",
     "text": [
      "Training:   >> Physionet MMIDB | DSID: None | 19 people | 798 trials | 90 channels | 1536 samples/trial | 256Hz | 0 transforms\n",
      "Validation: Person S040 - 42 trials | 0 transforms\n",
      "Test:       Person S041 - 42 trials | 0 transforms\n"
     ]
    },
    {
     "data": {
      "application/vnd.jupyter.widget-view+json": {
       "model_id": "2ebe7dfa51684079a54a2b050b7c3f40",
       "version_major": 2,
       "version_minor": 0
      },
      "text/plain": [
       "Predicting:   0%|          | 0/42 [00:00<?, ?it/s]"
      ]
     },
     "metadata": {},
     "output_type": "display_data"
    },
    {
     "name": "stdout",
     "output_type": "stream",
     "text": [
      "Training:   >> Physionet MMIDB | DSID: None | 19 people | 798 trials | 90 channels | 1536 samples/trial | 256Hz | 0 transforms\n",
      "Validation: Person S041 - 42 trials | 0 transforms\n",
      "Test:       Person S042 - 42 trials | 0 transforms\n"
     ]
    },
    {
     "data": {
      "application/vnd.jupyter.widget-view+json": {
       "model_id": "61331e9eb8f54ad6bd60aa47a97253c3",
       "version_major": 2,
       "version_minor": 0
      },
      "text/plain": [
       "Predicting:   0%|          | 0/42 [00:00<?, ?it/s]"
      ]
     },
     "metadata": {},
     "output_type": "display_data"
    },
    {
     "name": "stdout",
     "output_type": "stream",
     "text": [
      "Training:   >> Physionet MMIDB | DSID: None | 63 people | 2644 trials | 90 channels | 1536 samples/trial | 256Hz | 0 transforms\n",
      "Validation: >> Physionet MMIDB | DSID: None | 21 people | 882 trials | 90 channels | 1536 samples/trial | 256Hz | 0 transforms\n",
      "Test:       >> Physionet MMIDB | DSID: None | 21 people | 882 trials | 90 channels | 1536 samples/trial | 256Hz | 0 transforms\n",
      "Creating TIDNet using: 90 channels x 1536 samples at 256Hz | 2 targets\n",
      "Apple M-series GPU detected: training and model execution will be performed on MPS.\n",
      "Loading data with 0 additional workers\n"
     ]
    },
    {
     "data": {
      "application/vnd.jupyter.widget-view+json": {
       "model_id": "a17bec55ed1841c89eb5a3cca776b946",
       "version_major": 2,
       "version_minor": 0
      },
      "text/plain": [
       "Epoch:  14%|#4        | 1/7 [00:00<?, ?epoch/s]"
      ]
     },
     "metadata": {},
     "output_type": "display_data"
    },
    {
     "data": {
      "application/vnd.jupyter.widget-view+json": {
       "model_id": "d78f7c5c692a44a09b35ac41b4e09a84",
       "version_major": 2,
       "version_minor": 0
      },
      "text/plain": [
       "Iteration:   0%|          | 1/661 [00:00<?, ?batches/s]"
      ]
     },
     "metadata": {},
     "output_type": "display_data"
    },
    {
     "name": "stdout",
     "output_type": "stream",
     "text": [
      "Training: End of Epoch 1 | Accuracy: 64.71% | loss: 0.669 | lr: 3.539e-05 | momentum: 0.917 | epoch: 1.000 |\n"
     ]
    },
    {
     "data": {
      "application/vnd.jupyter.widget-view+json": {
       "model_id": "3b77ca684e864e7eafc20bf2fb18f770",
       "version_major": 2,
       "version_minor": 0
      },
      "text/plain": [
       "Predicting:   0%|          | 0/221 [00:00<?, ?it/s]"
      ]
     },
     "metadata": {},
     "output_type": "display_data"
    },
    {
     "name": "stdout",
     "output_type": "stream",
     "text": [
      "Validation: End of Epoch 1 | Accuracy: 54.20% | loss: 0.642 |\n",
      "Best loss. Retaining checkpoint...\n"
     ]
    },
    {
     "data": {
      "application/vnd.jupyter.widget-view+json": {
       "model_id": "838902459cf3454eb0769cc818866ba1",
       "version_major": 2,
       "version_minor": 0
      },
      "text/plain": [
       "Iteration:   0%|          | 1/661 [00:00<?, ?batches/s]"
      ]
     },
     "metadata": {},
     "output_type": "display_data"
    },
    {
     "name": "stdout",
     "output_type": "stream",
     "text": [
      "Training: End of Epoch 2 | Accuracy: 81.69% | loss: 0.410 | lr: 9.699e-05 | momentum: 0.853 | epoch: 2.000 |\n"
     ]
    },
    {
     "data": {
      "application/vnd.jupyter.widget-view+json": {
       "model_id": "a8734f23a62f4ac0a5f2af922e1d72e8",
       "version_major": 2,
       "version_minor": 0
      },
      "text/plain": [
       "Predicting:   0%|          | 0/221 [00:00<?, ?it/s]"
      ]
     },
     "metadata": {},
     "output_type": "display_data"
    },
    {
     "name": "stdout",
     "output_type": "stream",
     "text": [
      "Validation: End of Epoch 2 | Accuracy: 69.95% | loss: 0.563 |\n",
      "Best loss. Retaining checkpoint...\n"
     ]
    },
    {
     "data": {
      "application/vnd.jupyter.widget-view+json": {
       "model_id": "68393710e3fd4b68ac6ddfa91ee34952",
       "version_major": 2,
       "version_minor": 0
      },
      "text/plain": [
       "Iteration:   0%|          | 1/661 [00:00<?, ?batches/s]"
      ]
     },
     "metadata": {},
     "output_type": "display_data"
    },
    {
     "name": "stdout",
     "output_type": "stream",
     "text": [
      "Training: End of Epoch 3 | Accuracy: 85.44% | loss: 0.341 | lr: 9.021e-05 | momentum: 0.860 | epoch: 3.000 |\n"
     ]
    },
    {
     "data": {
      "application/vnd.jupyter.widget-view+json": {
       "model_id": "5cbe60b4d0564a7f8412d2c97da2437e",
       "version_major": 2,
       "version_minor": 0
      },
      "text/plain": [
       "Predicting:   0%|          | 0/221 [00:00<?, ?it/s]"
      ]
     },
     "metadata": {},
     "output_type": "display_data"
    },
    {
     "name": "stdout",
     "output_type": "stream",
     "text": [
      "Validation: End of Epoch 3 | Accuracy: 70.29% | loss: 0.535 |\n",
      "Best loss. Retaining checkpoint...\n"
     ]
    },
    {
     "data": {
      "application/vnd.jupyter.widget-view+json": {
       "model_id": "cc0dbc9c4982461cafc6d0523036c9fc",
       "version_major": 2,
       "version_minor": 0
      },
      "text/plain": [
       "Iteration:   0%|          | 1/661 [00:00<?, ?batches/s]"
      ]
     },
     "metadata": {},
     "output_type": "display_data"
    },
    {
     "name": "stdout",
     "output_type": "stream",
     "text": [
      "Training: End of Epoch 4 | Accuracy: 85.70% | loss: 0.341 | lr: 6.883e-05 | momentum: 0.881 | epoch: 4.000 |\n"
     ]
    },
    {
     "data": {
      "application/vnd.jupyter.widget-view+json": {
       "model_id": "6b4d7f6ccd384349bc6099ecb19c73d4",
       "version_major": 2,
       "version_minor": 0
      },
      "text/plain": [
       "Predicting:   0%|          | 0/221 [00:00<?, ?it/s]"
      ]
     },
     "metadata": {},
     "output_type": "display_data"
    },
    {
     "name": "stdout",
     "output_type": "stream",
     "text": [
      "Validation: End of Epoch 4 | Accuracy: 60.54% | loss: 0.577 |\n"
     ]
    },
    {
     "data": {
      "application/vnd.jupyter.widget-view+json": {
       "model_id": "2a47909d5b9d4ea0a5314f68b71b15fd",
       "version_major": 2,
       "version_minor": 0
      },
      "text/plain": [
       "Iteration:   0%|          | 1/661 [00:00<?, ?batches/s]"
      ]
     },
     "metadata": {},
     "output_type": "display_data"
    },
    {
     "name": "stdout",
     "output_type": "stream",
     "text": [
      "Training: End of Epoch 5 | Accuracy: 88.24% | loss: 0.295 | lr: 4.167e-05 | momentum: 0.908 | epoch: 5.000 |\n"
     ]
    },
    {
     "data": {
      "application/vnd.jupyter.widget-view+json": {
       "model_id": "7b113872799d435fb71451b32221b6cf",
       "version_major": 2,
       "version_minor": 0
      },
      "text/plain": [
       "Predicting:   0%|          | 0/221 [00:00<?, ?it/s]"
      ]
     },
     "metadata": {},
     "output_type": "display_data"
    },
    {
     "name": "stdout",
     "output_type": "stream",
     "text": [
      "Validation: End of Epoch 5 | Accuracy: 59.07% | loss: 0.601 |\n"
     ]
    },
    {
     "data": {
      "application/vnd.jupyter.widget-view+json": {
       "model_id": "bc20b10ac6164b2b8f3274d426e4dee5",
       "version_major": 2,
       "version_minor": 0
      },
      "text/plain": [
       "Iteration:   0%|          | 1/661 [00:00<?, ?batches/s]"
      ]
     },
     "metadata": {},
     "output_type": "display_data"
    },
    {
     "name": "stdout",
     "output_type": "stream",
     "text": [
      "Training: End of Epoch 6 | Accuracy: 88.84% | loss: 0.266 | lr: 1.707e-05 | momentum: 0.933 | epoch: 6.000 |\n"
     ]
    },
    {
     "data": {
      "application/vnd.jupyter.widget-view+json": {
       "model_id": "70bf4c2fda554cad955c90331a3fb0ad",
       "version_major": 2,
       "version_minor": 0
      },
      "text/plain": [
       "Predicting:   0%|          | 0/221 [00:00<?, ?it/s]"
      ]
     },
     "metadata": {},
     "output_type": "display_data"
    },
    {
     "name": "stdout",
     "output_type": "stream",
     "text": [
      "Validation: End of Epoch 6 | Accuracy: 59.52% | loss: 0.599 |\n"
     ]
    },
    {
     "data": {
      "application/vnd.jupyter.widget-view+json": {
       "model_id": "3486c10b8772410fa0eb584c857c185b",
       "version_major": 2,
       "version_minor": 0
      },
      "text/plain": [
       "Iteration:   0%|          | 1/661 [00:00<?, ?batches/s]"
      ]
     },
     "metadata": {},
     "output_type": "display_data"
    },
    {
     "name": "stdout",
     "output_type": "stream",
     "text": [
      "Training: End of Epoch 7 | Accuracy: 90.32% | loss: 0.242 | lr: 2.565e-06 | momentum: 0.947 | epoch: 7.000 |\n"
     ]
    },
    {
     "data": {
      "application/vnd.jupyter.widget-view+json": {
       "model_id": "019669347a944403b358fbd9c98c8964",
       "version_major": 2,
       "version_minor": 0
      },
      "text/plain": [
       "Predicting:   0%|          | 0/221 [00:00<?, ?it/s]"
      ]
     },
     "metadata": {},
     "output_type": "display_data"
    },
    {
     "name": "stdout",
     "output_type": "stream",
     "text": [
      "Validation: End of Epoch 7 | Accuracy: 61.45% | loss: 0.580 |\n",
      "Loading best model...\n",
      "Training:   >> Physionet MMIDB | DSID: None | 19 people | 798 trials | 90 channels | 1536 samples/trial | 256Hz | 0 transforms\n",
      "Validation: Person S063 - 42 trials | 0 transforms\n",
      "Test:       Person S043 - 42 trials | 0 transforms\n"
     ]
    },
    {
     "data": {
      "application/vnd.jupyter.widget-view+json": {
       "model_id": "627dabc3cd50494aaf52a2c687d1b3aa",
       "version_major": 2,
       "version_minor": 0
      },
      "text/plain": [
       "Predicting:   0%|          | 0/42 [00:00<?, ?it/s]"
      ]
     },
     "metadata": {},
     "output_type": "display_data"
    },
    {
     "name": "stdout",
     "output_type": "stream",
     "text": [
      "Training:   >> Physionet MMIDB | DSID: None | 19 people | 798 trials | 90 channels | 1536 samples/trial | 256Hz | 0 transforms\n",
      "Validation: Person S043 - 42 trials | 0 transforms\n",
      "Test:       Person S044 - 42 trials | 0 transforms\n"
     ]
    },
    {
     "data": {
      "application/vnd.jupyter.widget-view+json": {
       "model_id": "a3a524be53124c27986cc24bd5fd6aab",
       "version_major": 2,
       "version_minor": 0
      },
      "text/plain": [
       "Predicting:   0%|          | 0/42 [00:00<?, ?it/s]"
      ]
     },
     "metadata": {},
     "output_type": "display_data"
    },
    {
     "name": "stdout",
     "output_type": "stream",
     "text": [
      "Training:   >> Physionet MMIDB | DSID: None | 19 people | 798 trials | 90 channels | 1536 samples/trial | 256Hz | 0 transforms\n",
      "Validation: Person S044 - 42 trials | 0 transforms\n",
      "Test:       Person S045 - 42 trials | 0 transforms\n"
     ]
    },
    {
     "data": {
      "application/vnd.jupyter.widget-view+json": {
       "model_id": "0f01708539424c20af7d6a4bba2ebd7f",
       "version_major": 2,
       "version_minor": 0
      },
      "text/plain": [
       "Predicting:   0%|          | 0/42 [00:00<?, ?it/s]"
      ]
     },
     "metadata": {},
     "output_type": "display_data"
    },
    {
     "name": "stdout",
     "output_type": "stream",
     "text": [
      "Training:   >> Physionet MMIDB | DSID: None | 19 people | 798 trials | 90 channels | 1536 samples/trial | 256Hz | 0 transforms\n",
      "Validation: Person S045 - 42 trials | 0 transforms\n",
      "Test:       Person S046 - 42 trials | 0 transforms\n"
     ]
    },
    {
     "data": {
      "application/vnd.jupyter.widget-view+json": {
       "model_id": "1c5ab2a79e634eb197edc1f0ba6630c5",
       "version_major": 2,
       "version_minor": 0
      },
      "text/plain": [
       "Predicting:   0%|          | 0/42 [00:00<?, ?it/s]"
      ]
     },
     "metadata": {},
     "output_type": "display_data"
    },
    {
     "name": "stdout",
     "output_type": "stream",
     "text": [
      "Training:   >> Physionet MMIDB | DSID: None | 19 people | 798 trials | 90 channels | 1536 samples/trial | 256Hz | 0 transforms\n",
      "Validation: Person S046 - 42 trials | 0 transforms\n",
      "Test:       Person S047 - 42 trials | 0 transforms\n"
     ]
    },
    {
     "data": {
      "application/vnd.jupyter.widget-view+json": {
       "model_id": "3e60991e36604be3857eaa5815d367e1",
       "version_major": 2,
       "version_minor": 0
      },
      "text/plain": [
       "Predicting:   0%|          | 0/42 [00:00<?, ?it/s]"
      ]
     },
     "metadata": {},
     "output_type": "display_data"
    },
    {
     "name": "stdout",
     "output_type": "stream",
     "text": [
      "Training:   >> Physionet MMIDB | DSID: None | 19 people | 798 trials | 90 channels | 1536 samples/trial | 256Hz | 0 transforms\n",
      "Validation: Person S047 - 42 trials | 0 transforms\n",
      "Test:       Person S048 - 42 trials | 0 transforms\n"
     ]
    },
    {
     "data": {
      "application/vnd.jupyter.widget-view+json": {
       "model_id": "04a4b5bbffdf40fcbd6ae1e262849629",
       "version_major": 2,
       "version_minor": 0
      },
      "text/plain": [
       "Predicting:   0%|          | 0/42 [00:00<?, ?it/s]"
      ]
     },
     "metadata": {},
     "output_type": "display_data"
    },
    {
     "name": "stdout",
     "output_type": "stream",
     "text": [
      "Training:   >> Physionet MMIDB | DSID: None | 19 people | 798 trials | 90 channels | 1536 samples/trial | 256Hz | 0 transforms\n",
      "Validation: Person S048 - 42 trials | 0 transforms\n",
      "Test:       Person S049 - 42 trials | 0 transforms\n"
     ]
    },
    {
     "data": {
      "application/vnd.jupyter.widget-view+json": {
       "model_id": "e6b4b1eab05e4df88943914b2d57bde5",
       "version_major": 2,
       "version_minor": 0
      },
      "text/plain": [
       "Predicting:   0%|          | 0/42 [00:00<?, ?it/s]"
      ]
     },
     "metadata": {},
     "output_type": "display_data"
    },
    {
     "name": "stdout",
     "output_type": "stream",
     "text": [
      "Training:   >> Physionet MMIDB | DSID: None | 19 people | 798 trials | 90 channels | 1536 samples/trial | 256Hz | 0 transforms\n",
      "Validation: Person S049 - 42 trials | 0 transforms\n",
      "Test:       Person S050 - 42 trials | 0 transforms\n"
     ]
    },
    {
     "data": {
      "application/vnd.jupyter.widget-view+json": {
       "model_id": "467033c404c447e4a1af32b2d56b5674",
       "version_major": 2,
       "version_minor": 0
      },
      "text/plain": [
       "Predicting:   0%|          | 0/42 [00:00<?, ?it/s]"
      ]
     },
     "metadata": {},
     "output_type": "display_data"
    },
    {
     "name": "stdout",
     "output_type": "stream",
     "text": [
      "Training:   >> Physionet MMIDB | DSID: None | 19 people | 798 trials | 90 channels | 1536 samples/trial | 256Hz | 0 transforms\n",
      "Validation: Person S050 - 42 trials | 0 transforms\n",
      "Test:       Person S051 - 42 trials | 0 transforms\n"
     ]
    },
    {
     "data": {
      "application/vnd.jupyter.widget-view+json": {
       "model_id": "8ce242c8ea4940f8850908b6a09cdc0f",
       "version_major": 2,
       "version_minor": 0
      },
      "text/plain": [
       "Predicting:   0%|          | 0/42 [00:00<?, ?it/s]"
      ]
     },
     "metadata": {},
     "output_type": "display_data"
    },
    {
     "name": "stdout",
     "output_type": "stream",
     "text": [
      "Training:   >> Physionet MMIDB | DSID: None | 19 people | 798 trials | 90 channels | 1536 samples/trial | 256Hz | 0 transforms\n",
      "Validation: Person S051 - 42 trials | 0 transforms\n",
      "Test:       Person S052 - 42 trials | 0 transforms\n"
     ]
    },
    {
     "data": {
      "application/vnd.jupyter.widget-view+json": {
       "model_id": "faf290abb00549738cdd7c3d78fbe033",
       "version_major": 2,
       "version_minor": 0
      },
      "text/plain": [
       "Predicting:   0%|          | 0/42 [00:00<?, ?it/s]"
      ]
     },
     "metadata": {},
     "output_type": "display_data"
    },
    {
     "name": "stdout",
     "output_type": "stream",
     "text": [
      "Training:   >> Physionet MMIDB | DSID: None | 19 people | 798 trials | 90 channels | 1536 samples/trial | 256Hz | 0 transforms\n",
      "Validation: Person S052 - 42 trials | 0 transforms\n",
      "Test:       Person S053 - 42 trials | 0 transforms\n"
     ]
    },
    {
     "data": {
      "application/vnd.jupyter.widget-view+json": {
       "model_id": "07df744639994f40a676b509795d9057",
       "version_major": 2,
       "version_minor": 0
      },
      "text/plain": [
       "Predicting:   0%|          | 0/42 [00:00<?, ?it/s]"
      ]
     },
     "metadata": {},
     "output_type": "display_data"
    },
    {
     "name": "stdout",
     "output_type": "stream",
     "text": [
      "Training:   >> Physionet MMIDB | DSID: None | 19 people | 798 trials | 90 channels | 1536 samples/trial | 256Hz | 0 transforms\n",
      "Validation: Person S053 - 42 trials | 0 transforms\n",
      "Test:       Person S054 - 42 trials | 0 transforms\n"
     ]
    },
    {
     "data": {
      "application/vnd.jupyter.widget-view+json": {
       "model_id": "fb2597abfc024298bb1a804c486d867d",
       "version_major": 2,
       "version_minor": 0
      },
      "text/plain": [
       "Predicting:   0%|          | 0/42 [00:00<?, ?it/s]"
      ]
     },
     "metadata": {},
     "output_type": "display_data"
    },
    {
     "name": "stdout",
     "output_type": "stream",
     "text": [
      "Training:   >> Physionet MMIDB | DSID: None | 19 people | 798 trials | 90 channels | 1536 samples/trial | 256Hz | 0 transforms\n",
      "Validation: Person S054 - 42 trials | 0 transforms\n",
      "Test:       Person S055 - 42 trials | 0 transforms\n"
     ]
    },
    {
     "data": {
      "application/vnd.jupyter.widget-view+json": {
       "model_id": "583364e4026f4da29a62c0b16b81ecb9",
       "version_major": 2,
       "version_minor": 0
      },
      "text/plain": [
       "Predicting:   0%|          | 0/42 [00:00<?, ?it/s]"
      ]
     },
     "metadata": {},
     "output_type": "display_data"
    },
    {
     "name": "stdout",
     "output_type": "stream",
     "text": [
      "Training:   >> Physionet MMIDB | DSID: None | 19 people | 798 trials | 90 channels | 1536 samples/trial | 256Hz | 0 transforms\n",
      "Validation: Person S055 - 42 trials | 0 transforms\n",
      "Test:       Person S056 - 42 trials | 0 transforms\n"
     ]
    },
    {
     "data": {
      "application/vnd.jupyter.widget-view+json": {
       "model_id": "8d76d17bff8f43bc91b261a9ec6055f7",
       "version_major": 2,
       "version_minor": 0
      },
      "text/plain": [
       "Predicting:   0%|          | 0/42 [00:00<?, ?it/s]"
      ]
     },
     "metadata": {},
     "output_type": "display_data"
    },
    {
     "name": "stdout",
     "output_type": "stream",
     "text": [
      "Training:   >> Physionet MMIDB | DSID: None | 19 people | 798 trials | 90 channels | 1536 samples/trial | 256Hz | 0 transforms\n",
      "Validation: Person S056 - 42 trials | 0 transforms\n",
      "Test:       Person S057 - 42 trials | 0 transforms\n"
     ]
    },
    {
     "data": {
      "application/vnd.jupyter.widget-view+json": {
       "model_id": "db8352c48e944cdf929f70e431ce8196",
       "version_major": 2,
       "version_minor": 0
      },
      "text/plain": [
       "Predicting:   0%|          | 0/42 [00:00<?, ?it/s]"
      ]
     },
     "metadata": {},
     "output_type": "display_data"
    },
    {
     "name": "stdout",
     "output_type": "stream",
     "text": [
      "Training:   >> Physionet MMIDB | DSID: None | 19 people | 798 trials | 90 channels | 1536 samples/trial | 256Hz | 0 transforms\n",
      "Validation: Person S057 - 42 trials | 0 transforms\n",
      "Test:       Person S058 - 42 trials | 0 transforms\n"
     ]
    },
    {
     "data": {
      "application/vnd.jupyter.widget-view+json": {
       "model_id": "31011037855a445193f11a4ef6367458",
       "version_major": 2,
       "version_minor": 0
      },
      "text/plain": [
       "Predicting:   0%|          | 0/42 [00:00<?, ?it/s]"
      ]
     },
     "metadata": {},
     "output_type": "display_data"
    },
    {
     "name": "stdout",
     "output_type": "stream",
     "text": [
      "Training:   >> Physionet MMIDB | DSID: None | 19 people | 798 trials | 90 channels | 1536 samples/trial | 256Hz | 0 transforms\n",
      "Validation: Person S058 - 42 trials | 0 transforms\n",
      "Test:       Person S059 - 42 trials | 0 transforms\n"
     ]
    },
    {
     "data": {
      "application/vnd.jupyter.widget-view+json": {
       "model_id": "81cc2f8c0b2b4c2484a986bae3493e29",
       "version_major": 2,
       "version_minor": 0
      },
      "text/plain": [
       "Predicting:   0%|          | 0/42 [00:00<?, ?it/s]"
      ]
     },
     "metadata": {},
     "output_type": "display_data"
    },
    {
     "name": "stdout",
     "output_type": "stream",
     "text": [
      "Training:   >> Physionet MMIDB | DSID: None | 19 people | 798 trials | 90 channels | 1536 samples/trial | 256Hz | 0 transforms\n",
      "Validation: Person S059 - 42 trials | 0 transforms\n",
      "Test:       Person S060 - 42 trials | 0 transforms\n"
     ]
    },
    {
     "data": {
      "application/vnd.jupyter.widget-view+json": {
       "model_id": "8decf28f557d48a9bc0471d61deada19",
       "version_major": 2,
       "version_minor": 0
      },
      "text/plain": [
       "Predicting:   0%|          | 0/42 [00:00<?, ?it/s]"
      ]
     },
     "metadata": {},
     "output_type": "display_data"
    },
    {
     "name": "stdout",
     "output_type": "stream",
     "text": [
      "Training:   >> Physionet MMIDB | DSID: None | 19 people | 798 trials | 90 channels | 1536 samples/trial | 256Hz | 0 transforms\n",
      "Validation: Person S060 - 42 trials | 0 transforms\n",
      "Test:       Person S061 - 42 trials | 0 transforms\n"
     ]
    },
    {
     "data": {
      "application/vnd.jupyter.widget-view+json": {
       "model_id": "aedc30d7584a496cbc3bd25fb2e3eb35",
       "version_major": 2,
       "version_minor": 0
      },
      "text/plain": [
       "Predicting:   0%|          | 0/42 [00:00<?, ?it/s]"
      ]
     },
     "metadata": {},
     "output_type": "display_data"
    },
    {
     "name": "stdout",
     "output_type": "stream",
     "text": [
      "Training:   >> Physionet MMIDB | DSID: None | 19 people | 798 trials | 90 channels | 1536 samples/trial | 256Hz | 0 transforms\n",
      "Validation: Person S061 - 42 trials | 0 transforms\n",
      "Test:       Person S062 - 42 trials | 0 transforms\n"
     ]
    },
    {
     "data": {
      "application/vnd.jupyter.widget-view+json": {
       "model_id": "29cff9cc4aed49dfa276a48a5ee68582",
       "version_major": 2,
       "version_minor": 0
      },
      "text/plain": [
       "Predicting:   0%|          | 0/42 [00:00<?, ?it/s]"
      ]
     },
     "metadata": {},
     "output_type": "display_data"
    },
    {
     "name": "stdout",
     "output_type": "stream",
     "text": [
      "Training:   >> Physionet MMIDB | DSID: None | 19 people | 798 trials | 90 channels | 1536 samples/trial | 256Hz | 0 transforms\n",
      "Validation: Person S062 - 42 trials | 0 transforms\n",
      "Test:       Person S063 - 42 trials | 0 transforms\n"
     ]
    },
    {
     "data": {
      "application/vnd.jupyter.widget-view+json": {
       "model_id": "722686327164449faef44d028fd12ea7",
       "version_major": 2,
       "version_minor": 0
      },
      "text/plain": [
       "Predicting:   0%|          | 0/42 [00:00<?, ?it/s]"
      ]
     },
     "metadata": {},
     "output_type": "display_data"
    },
    {
     "name": "stdout",
     "output_type": "stream",
     "text": [
      "Training:   >> Physionet MMIDB | DSID: None | 63 people | 2644 trials | 90 channels | 1536 samples/trial | 256Hz | 0 transforms\n",
      "Validation: >> Physionet MMIDB | DSID: None | 21 people | 882 trials | 90 channels | 1536 samples/trial | 256Hz | 0 transforms\n",
      "Test:       >> Physionet MMIDB | DSID: None | 21 people | 882 trials | 90 channels | 1536 samples/trial | 256Hz | 0 transforms\n",
      "Creating TIDNet using: 90 channels x 1536 samples at 256Hz | 2 targets\n",
      "Apple M-series GPU detected: training and model execution will be performed on MPS.\n",
      "Loading data with 0 additional workers\n"
     ]
    },
    {
     "data": {
      "application/vnd.jupyter.widget-view+json": {
       "model_id": "106b32b71f784b2ba4443c32acc4c787",
       "version_major": 2,
       "version_minor": 0
      },
      "text/plain": [
       "Epoch:  14%|#4        | 1/7 [00:00<?, ?epoch/s]"
      ]
     },
     "metadata": {},
     "output_type": "display_data"
    },
    {
     "data": {
      "application/vnd.jupyter.widget-view+json": {
       "model_id": "baa20dee87104bc3a6d80fcfe7014356",
       "version_major": 2,
       "version_minor": 0
      },
      "text/plain": [
       "Iteration:   0%|          | 1/661 [00:00<?, ?batches/s]"
      ]
     },
     "metadata": {},
     "output_type": "display_data"
    },
    {
     "name": "stdout",
     "output_type": "stream",
     "text": [
      "Training: End of Epoch 1 | Accuracy: 65.13% | loss: 0.689 | lr: 3.539e-05 | momentum: 0.917 | epoch: 1.000 |\n"
     ]
    },
    {
     "data": {
      "application/vnd.jupyter.widget-view+json": {
       "model_id": "16cb5330108a4f0aa88929053c4385e4",
       "version_major": 2,
       "version_minor": 0
      },
      "text/plain": [
       "Predicting:   0%|          | 0/221 [00:00<?, ?it/s]"
      ]
     },
     "metadata": {},
     "output_type": "display_data"
    },
    {
     "name": "stdout",
     "output_type": "stream",
     "text": [
      "Validation: End of Epoch 1 | Accuracy: 72.68% | loss: 0.607 |\n",
      "Best loss. Retaining checkpoint...\n"
     ]
    },
    {
     "data": {
      "application/vnd.jupyter.widget-view+json": {
       "model_id": "2ef3620397c044ec9efc3e31f4678032",
       "version_major": 2,
       "version_minor": 0
      },
      "text/plain": [
       "Iteration:   0%|          | 1/661 [00:00<?, ?batches/s]"
      ]
     },
     "metadata": {},
     "output_type": "display_data"
    },
    {
     "name": "stdout",
     "output_type": "stream",
     "text": [
      "Training: End of Epoch 2 | Accuracy: 81.85% | loss: 0.402 | lr: 9.699e-05 | momentum: 0.853 | epoch: 2.000 |\n"
     ]
    },
    {
     "data": {
      "application/vnd.jupyter.widget-view+json": {
       "model_id": "57894a18ef614f9288f226de3ab3751f",
       "version_major": 2,
       "version_minor": 0
      },
      "text/plain": [
       "Predicting:   0%|          | 0/221 [00:00<?, ?it/s]"
      ]
     },
     "metadata": {},
     "output_type": "display_data"
    },
    {
     "name": "stdout",
     "output_type": "stream",
     "text": [
      "Validation: End of Epoch 2 | Accuracy: 83.33% | loss: 0.542 |\n",
      "Best loss. Retaining checkpoint...\n"
     ]
    },
    {
     "data": {
      "application/vnd.jupyter.widget-view+json": {
       "model_id": "b1afd3a5024e42f2af801d6a1235b190",
       "version_major": 2,
       "version_minor": 0
      },
      "text/plain": [
       "Iteration:   0%|          | 1/661 [00:00<?, ?batches/s]"
      ]
     },
     "metadata": {},
     "output_type": "display_data"
    },
    {
     "name": "stdout",
     "output_type": "stream",
     "text": [
      "Training: End of Epoch 3 | Accuracy: 85.93% | loss: 0.321 | lr: 9.021e-05 | momentum: 0.860 | epoch: 3.000 |\n"
     ]
    },
    {
     "data": {
      "application/vnd.jupyter.widget-view+json": {
       "model_id": "52b33482afdf4057ad24a29369c3a493",
       "version_major": 2,
       "version_minor": 0
      },
      "text/plain": [
       "Predicting:   0%|          | 0/221 [00:00<?, ?it/s]"
      ]
     },
     "metadata": {},
     "output_type": "display_data"
    },
    {
     "name": "stdout",
     "output_type": "stream",
     "text": [
      "Validation: End of Epoch 3 | Accuracy: 51.59% | loss: 0.697 |\n"
     ]
    },
    {
     "data": {
      "application/vnd.jupyter.widget-view+json": {
       "model_id": "b0edcfc601eb4d109ed0e9259fb48afb",
       "version_major": 2,
       "version_minor": 0
      },
      "text/plain": [
       "Iteration:   0%|          | 1/661 [00:00<?, ?batches/s]"
      ]
     },
     "metadata": {},
     "output_type": "display_data"
    },
    {
     "name": "stdout",
     "output_type": "stream",
     "text": [
      "Training: End of Epoch 4 | Accuracy: 86.95% | loss: 0.308 | lr: 6.883e-05 | momentum: 0.881 | epoch: 4.000 |\n"
     ]
    },
    {
     "data": {
      "application/vnd.jupyter.widget-view+json": {
       "model_id": "810084f4ce184e19bee6eb02114a6c3f",
       "version_major": 2,
       "version_minor": 0
      },
      "text/plain": [
       "Predicting:   0%|          | 0/221 [00:00<?, ?it/s]"
      ]
     },
     "metadata": {},
     "output_type": "display_data"
    },
    {
     "name": "stdout",
     "output_type": "stream",
     "text": [
      "Validation: End of Epoch 4 | Accuracy: 74.38% | loss: 0.510 |\n",
      "Best loss. Retaining checkpoint...\n"
     ]
    },
    {
     "data": {
      "application/vnd.jupyter.widget-view+json": {
       "model_id": "b564b071e47e44e0bd09ded5b00a6298",
       "version_major": 2,
       "version_minor": 0
      },
      "text/plain": [
       "Iteration:   0%|          | 1/661 [00:00<?, ?batches/s]"
      ]
     },
     "metadata": {},
     "output_type": "display_data"
    },
    {
     "name": "stdout",
     "output_type": "stream",
     "text": [
      "Training: End of Epoch 5 | Accuracy: 87.67% | loss: 0.290 | lr: 4.167e-05 | momentum: 0.908 | epoch: 5.000 |\n"
     ]
    },
    {
     "data": {
      "application/vnd.jupyter.widget-view+json": {
       "model_id": "7999096449114b36bc59bb8113a9d8fa",
       "version_major": 2,
       "version_minor": 0
      },
      "text/plain": [
       "Predicting:   0%|          | 0/221 [00:00<?, ?it/s]"
      ]
     },
     "metadata": {},
     "output_type": "display_data"
    },
    {
     "name": "stdout",
     "output_type": "stream",
     "text": [
      "Validation: End of Epoch 5 | Accuracy: 76.42% | loss: 0.505 |\n",
      "Best loss. Retaining checkpoint...\n"
     ]
    },
    {
     "data": {
      "application/vnd.jupyter.widget-view+json": {
       "model_id": "e1385af0c2004008af9ca0fbe67193bc",
       "version_major": 2,
       "version_minor": 0
      },
      "text/plain": [
       "Iteration:   0%|          | 1/661 [00:00<?, ?batches/s]"
      ]
     },
     "metadata": {},
     "output_type": "display_data"
    },
    {
     "name": "stdout",
     "output_type": "stream",
     "text": [
      "Training: End of Epoch 6 | Accuracy: 88.88% | loss: 0.259 | lr: 1.707e-05 | momentum: 0.933 | epoch: 6.000 |\n"
     ]
    },
    {
     "data": {
      "application/vnd.jupyter.widget-view+json": {
       "model_id": "809db673767c491581c8b6063b6da3e7",
       "version_major": 2,
       "version_minor": 0
      },
      "text/plain": [
       "Predicting:   0%|          | 0/221 [00:00<?, ?it/s]"
      ]
     },
     "metadata": {},
     "output_type": "display_data"
    },
    {
     "name": "stdout",
     "output_type": "stream",
     "text": [
      "Validation: End of Epoch 6 | Accuracy: 69.95% | loss: 0.515 |\n"
     ]
    },
    {
     "data": {
      "application/vnd.jupyter.widget-view+json": {
       "model_id": "a3388c4d17ee4d098bf2476ea02f3751",
       "version_major": 2,
       "version_minor": 0
      },
      "text/plain": [
       "Iteration:   0%|          | 1/661 [00:00<?, ?batches/s]"
      ]
     },
     "metadata": {},
     "output_type": "display_data"
    },
    {
     "name": "stdout",
     "output_type": "stream",
     "text": [
      "Training: End of Epoch 7 | Accuracy: 90.43% | loss: 0.237 | lr: 2.565e-06 | momentum: 0.947 | epoch: 7.000 |\n"
     ]
    },
    {
     "data": {
      "application/vnd.jupyter.widget-view+json": {
       "model_id": "4a3fc15958454828a758cce5ef764250",
       "version_major": 2,
       "version_minor": 0
      },
      "text/plain": [
       "Predicting:   0%|          | 0/221 [00:00<?, ?it/s]"
      ]
     },
     "metadata": {},
     "output_type": "display_data"
    },
    {
     "name": "stdout",
     "output_type": "stream",
     "text": [
      "Validation: End of Epoch 7 | Accuracy: 65.87% | loss: 0.529 |\n",
      "Loading best model...\n",
      "Training:   >> Physionet MMIDB | DSID: None | 19 people | 798 trials | 90 channels | 1536 samples/trial | 256Hz | 0 transforms\n",
      "Validation: Person S084 - 42 trials | 0 transforms\n",
      "Test:       Person S064 - 42 trials | 0 transforms\n"
     ]
    },
    {
     "data": {
      "application/vnd.jupyter.widget-view+json": {
       "model_id": "1774c38a1a384c188ce0c85679f6f60e",
       "version_major": 2,
       "version_minor": 0
      },
      "text/plain": [
       "Predicting:   0%|          | 0/42 [00:00<?, ?it/s]"
      ]
     },
     "metadata": {},
     "output_type": "display_data"
    },
    {
     "name": "stdout",
     "output_type": "stream",
     "text": [
      "Training:   >> Physionet MMIDB | DSID: None | 19 people | 798 trials | 90 channels | 1536 samples/trial | 256Hz | 0 transforms\n",
      "Validation: Person S064 - 42 trials | 0 transforms\n",
      "Test:       Person S065 - 42 trials | 0 transforms\n"
     ]
    },
    {
     "data": {
      "application/vnd.jupyter.widget-view+json": {
       "model_id": "2ec224199ab149c9979cb7a00d50bf6f",
       "version_major": 2,
       "version_minor": 0
      },
      "text/plain": [
       "Predicting:   0%|          | 0/42 [00:00<?, ?it/s]"
      ]
     },
     "metadata": {},
     "output_type": "display_data"
    },
    {
     "name": "stdout",
     "output_type": "stream",
     "text": [
      "Training:   >> Physionet MMIDB | DSID: None | 19 people | 798 trials | 90 channels | 1536 samples/trial | 256Hz | 0 transforms\n",
      "Validation: Person S065 - 42 trials | 0 transforms\n",
      "Test:       Person S066 - 42 trials | 0 transforms\n"
     ]
    },
    {
     "data": {
      "application/vnd.jupyter.widget-view+json": {
       "model_id": "8cdfc1c3a4d849b29fe261006a0dc655",
       "version_major": 2,
       "version_minor": 0
      },
      "text/plain": [
       "Predicting:   0%|          | 0/42 [00:00<?, ?it/s]"
      ]
     },
     "metadata": {},
     "output_type": "display_data"
    },
    {
     "name": "stdout",
     "output_type": "stream",
     "text": [
      "Training:   >> Physionet MMIDB | DSID: None | 19 people | 798 trials | 90 channels | 1536 samples/trial | 256Hz | 0 transforms\n",
      "Validation: Person S066 - 42 trials | 0 transforms\n",
      "Test:       Person S067 - 42 trials | 0 transforms\n"
     ]
    },
    {
     "data": {
      "application/vnd.jupyter.widget-view+json": {
       "model_id": "aacba6cc97404458b40633443aa3e34b",
       "version_major": 2,
       "version_minor": 0
      },
      "text/plain": [
       "Predicting:   0%|          | 0/42 [00:00<?, ?it/s]"
      ]
     },
     "metadata": {},
     "output_type": "display_data"
    },
    {
     "name": "stdout",
     "output_type": "stream",
     "text": [
      "Training:   >> Physionet MMIDB | DSID: None | 19 people | 798 trials | 90 channels | 1536 samples/trial | 256Hz | 0 transforms\n",
      "Validation: Person S067 - 42 trials | 0 transforms\n",
      "Test:       Person S068 - 42 trials | 0 transforms\n"
     ]
    },
    {
     "data": {
      "application/vnd.jupyter.widget-view+json": {
       "model_id": "924211e11c6c4e6eb2ba5434fed3a2ca",
       "version_major": 2,
       "version_minor": 0
      },
      "text/plain": [
       "Predicting:   0%|          | 0/42 [00:00<?, ?it/s]"
      ]
     },
     "metadata": {},
     "output_type": "display_data"
    },
    {
     "name": "stdout",
     "output_type": "stream",
     "text": [
      "Training:   >> Physionet MMIDB | DSID: None | 19 people | 798 trials | 90 channels | 1536 samples/trial | 256Hz | 0 transforms\n",
      "Validation: Person S068 - 42 trials | 0 transforms\n",
      "Test:       Person S069 - 42 trials | 0 transforms\n"
     ]
    },
    {
     "data": {
      "application/vnd.jupyter.widget-view+json": {
       "model_id": "5edc35778fc143f0b12bc8e57d8e6478",
       "version_major": 2,
       "version_minor": 0
      },
      "text/plain": [
       "Predicting:   0%|          | 0/42 [00:00<?, ?it/s]"
      ]
     },
     "metadata": {},
     "output_type": "display_data"
    },
    {
     "name": "stdout",
     "output_type": "stream",
     "text": [
      "Training:   >> Physionet MMIDB | DSID: None | 19 people | 798 trials | 90 channels | 1536 samples/trial | 256Hz | 0 transforms\n",
      "Validation: Person S069 - 42 trials | 0 transforms\n",
      "Test:       Person S070 - 42 trials | 0 transforms\n"
     ]
    },
    {
     "data": {
      "application/vnd.jupyter.widget-view+json": {
       "model_id": "a4b6c8ec93884e7b9dd976bd8a88a19d",
       "version_major": 2,
       "version_minor": 0
      },
      "text/plain": [
       "Predicting:   0%|          | 0/42 [00:00<?, ?it/s]"
      ]
     },
     "metadata": {},
     "output_type": "display_data"
    },
    {
     "name": "stdout",
     "output_type": "stream",
     "text": [
      "Training:   >> Physionet MMIDB | DSID: None | 19 people | 798 trials | 90 channels | 1536 samples/trial | 256Hz | 0 transforms\n",
      "Validation: Person S070 - 42 trials | 0 transforms\n",
      "Test:       Person S071 - 42 trials | 0 transforms\n"
     ]
    },
    {
     "data": {
      "application/vnd.jupyter.widget-view+json": {
       "model_id": "109679532a8a44668a8ed03fd77ddb82",
       "version_major": 2,
       "version_minor": 0
      },
      "text/plain": [
       "Predicting:   0%|          | 0/42 [00:00<?, ?it/s]"
      ]
     },
     "metadata": {},
     "output_type": "display_data"
    },
    {
     "name": "stdout",
     "output_type": "stream",
     "text": [
      "Training:   >> Physionet MMIDB | DSID: None | 19 people | 798 trials | 90 channels | 1536 samples/trial | 256Hz | 0 transforms\n",
      "Validation: Person S071 - 42 trials | 0 transforms\n",
      "Test:       Person S072 - 42 trials | 0 transforms\n"
     ]
    },
    {
     "data": {
      "application/vnd.jupyter.widget-view+json": {
       "model_id": "a8194c0deb3449f78964e80450c00837",
       "version_major": 2,
       "version_minor": 0
      },
      "text/plain": [
       "Predicting:   0%|          | 0/42 [00:00<?, ?it/s]"
      ]
     },
     "metadata": {},
     "output_type": "display_data"
    },
    {
     "name": "stdout",
     "output_type": "stream",
     "text": [
      "Training:   >> Physionet MMIDB | DSID: None | 19 people | 798 trials | 90 channels | 1536 samples/trial | 256Hz | 0 transforms\n",
      "Validation: Person S072 - 42 trials | 0 transforms\n",
      "Test:       Person S073 - 42 trials | 0 transforms\n"
     ]
    },
    {
     "data": {
      "application/vnd.jupyter.widget-view+json": {
       "model_id": "ec69cea3a17e418998bc25a2fbcf8027",
       "version_major": 2,
       "version_minor": 0
      },
      "text/plain": [
       "Predicting:   0%|          | 0/42 [00:00<?, ?it/s]"
      ]
     },
     "metadata": {},
     "output_type": "display_data"
    },
    {
     "name": "stdout",
     "output_type": "stream",
     "text": [
      "Training:   >> Physionet MMIDB | DSID: None | 19 people | 798 trials | 90 channels | 1536 samples/trial | 256Hz | 0 transforms\n",
      "Validation: Person S073 - 42 trials | 0 transforms\n",
      "Test:       Person S074 - 42 trials | 0 transforms\n"
     ]
    },
    {
     "data": {
      "application/vnd.jupyter.widget-view+json": {
       "model_id": "4845a2b9f7244baabfb99cd5b81601b3",
       "version_major": 2,
       "version_minor": 0
      },
      "text/plain": [
       "Predicting:   0%|          | 0/42 [00:00<?, ?it/s]"
      ]
     },
     "metadata": {},
     "output_type": "display_data"
    },
    {
     "name": "stdout",
     "output_type": "stream",
     "text": [
      "Training:   >> Physionet MMIDB | DSID: None | 19 people | 798 trials | 90 channels | 1536 samples/trial | 256Hz | 0 transforms\n",
      "Validation: Person S074 - 42 trials | 0 transforms\n",
      "Test:       Person S075 - 42 trials | 0 transforms\n"
     ]
    },
    {
     "data": {
      "application/vnd.jupyter.widget-view+json": {
       "model_id": "382ede9d01dd4411afd53b6ea0959f53",
       "version_major": 2,
       "version_minor": 0
      },
      "text/plain": [
       "Predicting:   0%|          | 0/42 [00:00<?, ?it/s]"
      ]
     },
     "metadata": {},
     "output_type": "display_data"
    },
    {
     "name": "stdout",
     "output_type": "stream",
     "text": [
      "Training:   >> Physionet MMIDB | DSID: None | 19 people | 798 trials | 90 channels | 1536 samples/trial | 256Hz | 0 transforms\n",
      "Validation: Person S075 - 42 trials | 0 transforms\n",
      "Test:       Person S076 - 42 trials | 0 transforms\n"
     ]
    },
    {
     "data": {
      "application/vnd.jupyter.widget-view+json": {
       "model_id": "709fbe8476594c6eb07578534d49b4d0",
       "version_major": 2,
       "version_minor": 0
      },
      "text/plain": [
       "Predicting:   0%|          | 0/42 [00:00<?, ?it/s]"
      ]
     },
     "metadata": {},
     "output_type": "display_data"
    },
    {
     "name": "stdout",
     "output_type": "stream",
     "text": [
      "Training:   >> Physionet MMIDB | DSID: None | 19 people | 798 trials | 90 channels | 1536 samples/trial | 256Hz | 0 transforms\n",
      "Validation: Person S076 - 42 trials | 0 transforms\n",
      "Test:       Person S077 - 42 trials | 0 transforms\n"
     ]
    },
    {
     "data": {
      "application/vnd.jupyter.widget-view+json": {
       "model_id": "4c0ca4b1206f40d2969a01be7b0c2a9d",
       "version_major": 2,
       "version_minor": 0
      },
      "text/plain": [
       "Predicting:   0%|          | 0/42 [00:00<?, ?it/s]"
      ]
     },
     "metadata": {},
     "output_type": "display_data"
    },
    {
     "name": "stdout",
     "output_type": "stream",
     "text": [
      "Training:   >> Physionet MMIDB | DSID: None | 19 people | 798 trials | 90 channels | 1536 samples/trial | 256Hz | 0 transforms\n",
      "Validation: Person S077 - 42 trials | 0 transforms\n",
      "Test:       Person S078 - 42 trials | 0 transforms\n"
     ]
    },
    {
     "data": {
      "application/vnd.jupyter.widget-view+json": {
       "model_id": "4637a74a9c8b4f84b0c5cd99c67fcbaf",
       "version_major": 2,
       "version_minor": 0
      },
      "text/plain": [
       "Predicting:   0%|          | 0/42 [00:00<?, ?it/s]"
      ]
     },
     "metadata": {},
     "output_type": "display_data"
    },
    {
     "name": "stdout",
     "output_type": "stream",
     "text": [
      "Training:   >> Physionet MMIDB | DSID: None | 19 people | 798 trials | 90 channels | 1536 samples/trial | 256Hz | 0 transforms\n",
      "Validation: Person S078 - 42 trials | 0 transforms\n",
      "Test:       Person S079 - 42 trials | 0 transforms\n"
     ]
    },
    {
     "data": {
      "application/vnd.jupyter.widget-view+json": {
       "model_id": "f7e890d99d904fea87406095666bc7d3",
       "version_major": 2,
       "version_minor": 0
      },
      "text/plain": [
       "Predicting:   0%|          | 0/42 [00:00<?, ?it/s]"
      ]
     },
     "metadata": {},
     "output_type": "display_data"
    },
    {
     "name": "stdout",
     "output_type": "stream",
     "text": [
      "Training:   >> Physionet MMIDB | DSID: None | 19 people | 798 trials | 90 channels | 1536 samples/trial | 256Hz | 0 transforms\n",
      "Validation: Person S079 - 42 trials | 0 transforms\n",
      "Test:       Person S080 - 42 trials | 0 transforms\n"
     ]
    },
    {
     "data": {
      "application/vnd.jupyter.widget-view+json": {
       "model_id": "7a281fac69054781b783510b1150b3a2",
       "version_major": 2,
       "version_minor": 0
      },
      "text/plain": [
       "Predicting:   0%|          | 0/42 [00:00<?, ?it/s]"
      ]
     },
     "metadata": {},
     "output_type": "display_data"
    },
    {
     "name": "stdout",
     "output_type": "stream",
     "text": [
      "Training:   >> Physionet MMIDB | DSID: None | 19 people | 798 trials | 90 channels | 1536 samples/trial | 256Hz | 0 transforms\n",
      "Validation: Person S080 - 42 trials | 0 transforms\n",
      "Test:       Person S081 - 42 trials | 0 transforms\n"
     ]
    },
    {
     "data": {
      "application/vnd.jupyter.widget-view+json": {
       "model_id": "f732151b3bf34091b6438974f6490f56",
       "version_major": 2,
       "version_minor": 0
      },
      "text/plain": [
       "Predicting:   0%|          | 0/42 [00:00<?, ?it/s]"
      ]
     },
     "metadata": {},
     "output_type": "display_data"
    },
    {
     "name": "stdout",
     "output_type": "stream",
     "text": [
      "Training:   >> Physionet MMIDB | DSID: None | 19 people | 798 trials | 90 channels | 1536 samples/trial | 256Hz | 0 transforms\n",
      "Validation: Person S081 - 42 trials | 0 transforms\n",
      "Test:       Person S082 - 42 trials | 0 transforms\n"
     ]
    },
    {
     "data": {
      "application/vnd.jupyter.widget-view+json": {
       "model_id": "e7244b1854284b408f90cfa739d7e8d4",
       "version_major": 2,
       "version_minor": 0
      },
      "text/plain": [
       "Predicting:   0%|          | 0/42 [00:00<?, ?it/s]"
      ]
     },
     "metadata": {},
     "output_type": "display_data"
    },
    {
     "name": "stdout",
     "output_type": "stream",
     "text": [
      "Training:   >> Physionet MMIDB | DSID: None | 19 people | 798 trials | 90 channels | 1536 samples/trial | 256Hz | 0 transforms\n",
      "Validation: Person S082 - 42 trials | 0 transforms\n",
      "Test:       Person S083 - 42 trials | 0 transforms\n"
     ]
    },
    {
     "data": {
      "application/vnd.jupyter.widget-view+json": {
       "model_id": "fa77ed4a624b4a3d84a4fb039d8ce795",
       "version_major": 2,
       "version_minor": 0
      },
      "text/plain": [
       "Predicting:   0%|          | 0/42 [00:00<?, ?it/s]"
      ]
     },
     "metadata": {},
     "output_type": "display_data"
    },
    {
     "name": "stdout",
     "output_type": "stream",
     "text": [
      "Training:   >> Physionet MMIDB | DSID: None | 19 people | 798 trials | 90 channels | 1536 samples/trial | 256Hz | 0 transforms\n",
      "Validation: Person S083 - 42 trials | 0 transforms\n",
      "Test:       Person S084 - 42 trials | 0 transforms\n"
     ]
    },
    {
     "data": {
      "application/vnd.jupyter.widget-view+json": {
       "model_id": "f7abac48b2ed4b04807c2be72f9b7aa7",
       "version_major": 2,
       "version_minor": 0
      },
      "text/plain": [
       "Predicting:   0%|          | 0/42 [00:00<?, ?it/s]"
      ]
     },
     "metadata": {},
     "output_type": "display_data"
    },
    {
     "name": "stdout",
     "output_type": "stream",
     "text": [
      "Training:   >> Physionet MMIDB | DSID: None | 63 people | 2646 trials | 90 channels | 1536 samples/trial | 256Hz | 0 transforms\n",
      "Validation: >> Physionet MMIDB | DSID: None | 21 people | 882 trials | 90 channels | 1536 samples/trial | 256Hz | 0 transforms\n",
      "Test:       >> Physionet MMIDB | DSID: None | 21 people | 880 trials | 90 channels | 1536 samples/trial | 256Hz | 0 transforms\n",
      "Creating TIDNet using: 90 channels x 1536 samples at 256Hz | 2 targets\n",
      "Apple M-series GPU detected: training and model execution will be performed on MPS.\n",
      "Loading data with 0 additional workers\n"
     ]
    },
    {
     "data": {
      "application/vnd.jupyter.widget-view+json": {
       "model_id": "e17824c35eb34399bd172221b1543693",
       "version_major": 2,
       "version_minor": 0
      },
      "text/plain": [
       "Epoch:  14%|#4        | 1/7 [00:00<?, ?epoch/s]"
      ]
     },
     "metadata": {},
     "output_type": "display_data"
    },
    {
     "data": {
      "application/vnd.jupyter.widget-view+json": {
       "model_id": "5ec74dac75814f5db3c55f3f074a24a9",
       "version_major": 2,
       "version_minor": 0
      },
      "text/plain": [
       "Iteration:   0%|          | 1/661 [00:00<?, ?batches/s]"
      ]
     },
     "metadata": {},
     "output_type": "display_data"
    },
    {
     "name": "stdout",
     "output_type": "stream",
     "text": [
      "Training: End of Epoch 1 | Accuracy: 65.47% | loss: 0.673 | lr: 3.539e-05 | momentum: 0.917 | epoch: 1.000 |\n"
     ]
    },
    {
     "data": {
      "application/vnd.jupyter.widget-view+json": {
       "model_id": "c70e8e2a5d474cb1ab9078b0f1ff9838",
       "version_major": 2,
       "version_minor": 0
      },
      "text/plain": [
       "Predicting:   0%|          | 0/221 [00:00<?, ?it/s]"
      ]
     },
     "metadata": {},
     "output_type": "display_data"
    },
    {
     "name": "stdout",
     "output_type": "stream",
     "text": [
      "Validation: End of Epoch 1 | Accuracy: 73.92% | loss: 0.605 |\n",
      "Best loss. Retaining checkpoint...\n"
     ]
    },
    {
     "data": {
      "application/vnd.jupyter.widget-view+json": {
       "model_id": "bc8391e510984a19bf3b6400571302c5",
       "version_major": 2,
       "version_minor": 0
      },
      "text/plain": [
       "Iteration:   0%|          | 1/661 [00:00<?, ?batches/s]"
      ]
     },
     "metadata": {},
     "output_type": "display_data"
    },
    {
     "name": "stdout",
     "output_type": "stream",
     "text": [
      "Training: End of Epoch 2 | Accuracy: 84.53% | loss: 0.357 | lr: 9.699e-05 | momentum: 0.853 | epoch: 2.000 |\n"
     ]
    },
    {
     "data": {
      "application/vnd.jupyter.widget-view+json": {
       "model_id": "a7033120856b4ad39cc7b00c8776ad31",
       "version_major": 2,
       "version_minor": 0
      },
      "text/plain": [
       "Predicting:   0%|          | 0/221 [00:00<?, ?it/s]"
      ]
     },
     "metadata": {},
     "output_type": "display_data"
    },
    {
     "name": "stdout",
     "output_type": "stream",
     "text": [
      "Validation: End of Epoch 2 | Accuracy: 77.21% | loss: 0.548 |\n",
      "Best loss. Retaining checkpoint...\n"
     ]
    },
    {
     "data": {
      "application/vnd.jupyter.widget-view+json": {
       "model_id": "4f293c763f0b47b484efeccd6a99141b",
       "version_major": 2,
       "version_minor": 0
      },
      "text/plain": [
       "Iteration:   0%|          | 1/661 [00:00<?, ?batches/s]"
      ]
     },
     "metadata": {},
     "output_type": "display_data"
    },
    {
     "name": "stdout",
     "output_type": "stream",
     "text": [
      "Training: End of Epoch 3 | Accuracy: 87.44% | loss: 0.307 | lr: 9.021e-05 | momentum: 0.860 | epoch: 3.000 |\n"
     ]
    },
    {
     "data": {
      "application/vnd.jupyter.widget-view+json": {
       "model_id": "510e9d49d5774f88a378a2b1a42976dc",
       "version_major": 2,
       "version_minor": 0
      },
      "text/plain": [
       "Predicting:   0%|          | 0/221 [00:00<?, ?it/s]"
      ]
     },
     "metadata": {},
     "output_type": "display_data"
    },
    {
     "name": "stdout",
     "output_type": "stream",
     "text": [
      "Validation: End of Epoch 3 | Accuracy: 82.31% | loss: 0.526 |\n",
      "Best loss. Retaining checkpoint...\n"
     ]
    },
    {
     "data": {
      "application/vnd.jupyter.widget-view+json": {
       "model_id": "116ffcdc8e3a4d39a83a5544d8bf9bdc",
       "version_major": 2,
       "version_minor": 0
      },
      "text/plain": [
       "Iteration:   0%|          | 1/661 [00:00<?, ?batches/s]"
      ]
     },
     "metadata": {},
     "output_type": "display_data"
    },
    {
     "name": "stdout",
     "output_type": "stream",
     "text": [
      "Training: End of Epoch 4 | Accuracy: 88.65% | loss: 0.271 | lr: 6.883e-05 | momentum: 0.881 | epoch: 4.000 |\n"
     ]
    },
    {
     "data": {
      "application/vnd.jupyter.widget-view+json": {
       "model_id": "ff6f9c418bd6454cb935dfc5363cc4e3",
       "version_major": 2,
       "version_minor": 0
      },
      "text/plain": [
       "Predicting:   0%|          | 0/221 [00:00<?, ?it/s]"
      ]
     },
     "metadata": {},
     "output_type": "display_data"
    },
    {
     "name": "stdout",
     "output_type": "stream",
     "text": [
      "Validation: End of Epoch 4 | Accuracy: 80.39% | loss: 0.505 |\n",
      "Best loss. Retaining checkpoint...\n"
     ]
    },
    {
     "data": {
      "application/vnd.jupyter.widget-view+json": {
       "model_id": "178c319c2a764c4a89fd9ffe973f898c",
       "version_major": 2,
       "version_minor": 0
      },
      "text/plain": [
       "Iteration:   0%|          | 1/661 [00:00<?, ?batches/s]"
      ]
     },
     "metadata": {},
     "output_type": "display_data"
    },
    {
     "name": "stdout",
     "output_type": "stream",
     "text": [
      "Training: End of Epoch 5 | Accuracy: 89.67% | loss: 0.251 | lr: 4.167e-05 | momentum: 0.908 | epoch: 5.000 |\n"
     ]
    },
    {
     "data": {
      "application/vnd.jupyter.widget-view+json": {
       "model_id": "4e8851d0bc974629a2651d865e77380f",
       "version_major": 2,
       "version_minor": 0
      },
      "text/plain": [
       "Predicting:   0%|          | 0/221 [00:00<?, ?it/s]"
      ]
     },
     "metadata": {},
     "output_type": "display_data"
    },
    {
     "name": "stdout",
     "output_type": "stream",
     "text": [
      "Validation: End of Epoch 5 | Accuracy: 57.71% | loss: 0.630 |\n"
     ]
    },
    {
     "data": {
      "application/vnd.jupyter.widget-view+json": {
       "model_id": "93684cf54817472daf11c6413fdc5273",
       "version_major": 2,
       "version_minor": 0
      },
      "text/plain": [
       "Iteration:   0%|          | 1/661 [00:00<?, ?batches/s]"
      ]
     },
     "metadata": {},
     "output_type": "display_data"
    },
    {
     "name": "stdout",
     "output_type": "stream",
     "text": [
      "Training: End of Epoch 6 | Accuracy: 91.04% | loss: 0.218 | lr: 1.707e-05 | momentum: 0.933 | epoch: 6.000 |\n"
     ]
    },
    {
     "data": {
      "application/vnd.jupyter.widget-view+json": {
       "model_id": "fae26480583949c3979fadd6c3b9caff",
       "version_major": 2,
       "version_minor": 0
      },
      "text/plain": [
       "Predicting:   0%|          | 0/221 [00:00<?, ?it/s]"
      ]
     },
     "metadata": {},
     "output_type": "display_data"
    },
    {
     "name": "stdout",
     "output_type": "stream",
     "text": [
      "Validation: End of Epoch 6 | Accuracy: 72.11% | loss: 0.531 |\n"
     ]
    },
    {
     "data": {
      "application/vnd.jupyter.widget-view+json": {
       "model_id": "ba3a5de1103e456b8d4f30437a6ea88a",
       "version_major": 2,
       "version_minor": 0
      },
      "text/plain": [
       "Iteration:   0%|          | 1/661 [00:00<?, ?batches/s]"
      ]
     },
     "metadata": {},
     "output_type": "display_data"
    },
    {
     "name": "stdout",
     "output_type": "stream",
     "text": [
      "Training: End of Epoch 7 | Accuracy: 91.38% | loss: 0.208 | lr: 2.565e-06 | momentum: 0.947 | epoch: 7.000 |\n"
     ]
    },
    {
     "data": {
      "application/vnd.jupyter.widget-view+json": {
       "model_id": "14c0db1b7169472ea727452a0ec8b40c",
       "version_major": 2,
       "version_minor": 0
      },
      "text/plain": [
       "Predicting:   0%|          | 0/221 [00:00<?, ?it/s]"
      ]
     },
     "metadata": {},
     "output_type": "display_data"
    },
    {
     "name": "stdout",
     "output_type": "stream",
     "text": [
      "Validation: End of Epoch 7 | Accuracy: 77.89% | loss: 0.510 |\n",
      "Loading best model...\n",
      "Training:   >> Physionet MMIDB | DSID: None | 19 people | 796 trials | 90 channels | 1536 samples/trial | 256Hz | 0 transforms\n",
      "Validation: Person S109 - 42 trials | 0 transforms\n",
      "Test:       Person S085 - 42 trials | 0 transforms\n"
     ]
    },
    {
     "data": {
      "application/vnd.jupyter.widget-view+json": {
       "model_id": "ec768d85fccd490fbe036ac47c9bf272",
       "version_major": 2,
       "version_minor": 0
      },
      "text/plain": [
       "Predicting:   0%|          | 0/42 [00:00<?, ?it/s]"
      ]
     },
     "metadata": {},
     "output_type": "display_data"
    },
    {
     "name": "stdout",
     "output_type": "stream",
     "text": [
      "Training:   >> Physionet MMIDB | DSID: None | 19 people | 796 trials | 90 channels | 1536 samples/trial | 256Hz | 0 transforms\n",
      "Validation: Person S085 - 42 trials | 0 transforms\n",
      "Test:       Person S086 - 42 trials | 0 transforms\n"
     ]
    },
    {
     "data": {
      "application/vnd.jupyter.widget-view+json": {
       "model_id": "ca314cab70954c68a589540b59e3251a",
       "version_major": 2,
       "version_minor": 0
      },
      "text/plain": [
       "Predicting:   0%|          | 0/42 [00:00<?, ?it/s]"
      ]
     },
     "metadata": {},
     "output_type": "display_data"
    },
    {
     "name": "stdout",
     "output_type": "stream",
     "text": [
      "Training:   >> Physionet MMIDB | DSID: None | 19 people | 796 trials | 90 channels | 1536 samples/trial | 256Hz | 0 transforms\n",
      "Validation: Person S086 - 42 trials | 0 transforms\n",
      "Test:       Person S087 - 42 trials | 0 transforms\n"
     ]
    },
    {
     "data": {
      "application/vnd.jupyter.widget-view+json": {
       "model_id": "5755ddb8608340e68e30a70daa2223fb",
       "version_major": 2,
       "version_minor": 0
      },
      "text/plain": [
       "Predicting:   0%|          | 0/42 [00:00<?, ?it/s]"
      ]
     },
     "metadata": {},
     "output_type": "display_data"
    },
    {
     "name": "stdout",
     "output_type": "stream",
     "text": [
      "Training:   >> Physionet MMIDB | DSID: None | 19 people | 796 trials | 90 channels | 1536 samples/trial | 256Hz | 0 transforms\n",
      "Validation: Person S087 - 42 trials | 0 transforms\n",
      "Test:       Person S089 - 42 trials | 0 transforms\n"
     ]
    },
    {
     "data": {
      "application/vnd.jupyter.widget-view+json": {
       "model_id": "4f5503ea20354fe9b2e70b6a27d7507a",
       "version_major": 2,
       "version_minor": 0
      },
      "text/plain": [
       "Predicting:   0%|          | 0/42 [00:00<?, ?it/s]"
      ]
     },
     "metadata": {},
     "output_type": "display_data"
    },
    {
     "name": "stdout",
     "output_type": "stream",
     "text": [
      "Training:   >> Physionet MMIDB | DSID: None | 19 people | 796 trials | 90 channels | 1536 samples/trial | 256Hz | 0 transforms\n",
      "Validation: Person S089 - 42 trials | 0 transforms\n",
      "Test:       Person S091 - 42 trials | 0 transforms\n"
     ]
    },
    {
     "data": {
      "application/vnd.jupyter.widget-view+json": {
       "model_id": "37332f28c93345cab5f375dbbc5736e0",
       "version_major": 2,
       "version_minor": 0
      },
      "text/plain": [
       "Predicting:   0%|          | 0/42 [00:00<?, ?it/s]"
      ]
     },
     "metadata": {},
     "output_type": "display_data"
    },
    {
     "name": "stdout",
     "output_type": "stream",
     "text": [
      "Training:   >> Physionet MMIDB | DSID: None | 19 people | 796 trials | 90 channels | 1536 samples/trial | 256Hz | 0 transforms\n",
      "Validation: Person S091 - 42 trials | 0 transforms\n",
      "Test:       Person S093 - 42 trials | 0 transforms\n"
     ]
    },
    {
     "data": {
      "application/vnd.jupyter.widget-view+json": {
       "model_id": "41d1baa310cd47d8a1561712d2f47eec",
       "version_major": 2,
       "version_minor": 0
      },
      "text/plain": [
       "Predicting:   0%|          | 0/42 [00:00<?, ?it/s]"
      ]
     },
     "metadata": {},
     "output_type": "display_data"
    },
    {
     "name": "stdout",
     "output_type": "stream",
     "text": [
      "Training:   >> Physionet MMIDB | DSID: None | 19 people | 796 trials | 90 channels | 1536 samples/trial | 256Hz | 0 transforms\n",
      "Validation: Person S093 - 42 trials | 0 transforms\n",
      "Test:       Person S094 - 42 trials | 0 transforms\n"
     ]
    },
    {
     "data": {
      "application/vnd.jupyter.widget-view+json": {
       "model_id": "8e8da4d2ecdf440d80a756b8814c6511",
       "version_major": 2,
       "version_minor": 0
      },
      "text/plain": [
       "Predicting:   0%|          | 0/42 [00:00<?, ?it/s]"
      ]
     },
     "metadata": {},
     "output_type": "display_data"
    },
    {
     "name": "stdout",
     "output_type": "stream",
     "text": [
      "Training:   >> Physionet MMIDB | DSID: None | 19 people | 796 trials | 90 channels | 1536 samples/trial | 256Hz | 0 transforms\n",
      "Validation: Person S094 - 42 trials | 0 transforms\n",
      "Test:       Person S095 - 42 trials | 0 transforms\n"
     ]
    },
    {
     "data": {
      "application/vnd.jupyter.widget-view+json": {
       "model_id": "d7acc921824144cf9a93144d8d4930ee",
       "version_major": 2,
       "version_minor": 0
      },
      "text/plain": [
       "Predicting:   0%|          | 0/42 [00:00<?, ?it/s]"
      ]
     },
     "metadata": {},
     "output_type": "display_data"
    },
    {
     "name": "stdout",
     "output_type": "stream",
     "text": [
      "Training:   >> Physionet MMIDB | DSID: None | 19 people | 796 trials | 90 channels | 1536 samples/trial | 256Hz | 0 transforms\n",
      "Validation: Person S095 - 42 trials | 0 transforms\n",
      "Test:       Person S096 - 42 trials | 0 transforms\n"
     ]
    },
    {
     "data": {
      "application/vnd.jupyter.widget-view+json": {
       "model_id": "e2192437ba53457e8740bbe8ddcb0cc7",
       "version_major": 2,
       "version_minor": 0
      },
      "text/plain": [
       "Predicting:   0%|          | 0/42 [00:00<?, ?it/s]"
      ]
     },
     "metadata": {},
     "output_type": "display_data"
    },
    {
     "name": "stdout",
     "output_type": "stream",
     "text": [
      "Training:   >> Physionet MMIDB | DSID: None | 19 people | 796 trials | 90 channels | 1536 samples/trial | 256Hz | 0 transforms\n",
      "Validation: Person S096 - 42 trials | 0 transforms\n",
      "Test:       Person S097 - 42 trials | 0 transforms\n"
     ]
    },
    {
     "data": {
      "application/vnd.jupyter.widget-view+json": {
       "model_id": "e58471fb7e27480895b0c88532ad5718",
       "version_major": 2,
       "version_minor": 0
      },
      "text/plain": [
       "Predicting:   0%|          | 0/42 [00:00<?, ?it/s]"
      ]
     },
     "metadata": {},
     "output_type": "display_data"
    },
    {
     "name": "stdout",
     "output_type": "stream",
     "text": [
      "Training:   >> Physionet MMIDB | DSID: None | 19 people | 796 trials | 90 channels | 1536 samples/trial | 256Hz | 0 transforms\n",
      "Validation: Person S097 - 42 trials | 0 transforms\n",
      "Test:       Person S098 - 42 trials | 0 transforms\n"
     ]
    },
    {
     "data": {
      "application/vnd.jupyter.widget-view+json": {
       "model_id": "092aabd86026479e8aac55106b0942bd",
       "version_major": 2,
       "version_minor": 0
      },
      "text/plain": [
       "Predicting:   0%|          | 0/42 [00:00<?, ?it/s]"
      ]
     },
     "metadata": {},
     "output_type": "display_data"
    },
    {
     "name": "stdout",
     "output_type": "stream",
     "text": [
      "Training:   >> Physionet MMIDB | DSID: None | 19 people | 796 trials | 90 channels | 1536 samples/trial | 256Hz | 0 transforms\n",
      "Validation: Person S098 - 42 trials | 0 transforms\n",
      "Test:       Person S099 - 42 trials | 0 transforms\n"
     ]
    },
    {
     "data": {
      "application/vnd.jupyter.widget-view+json": {
       "model_id": "6f986a672a9742848ec304b6c4e353b1",
       "version_major": 2,
       "version_minor": 0
      },
      "text/plain": [
       "Predicting:   0%|          | 0/42 [00:00<?, ?it/s]"
      ]
     },
     "metadata": {},
     "output_type": "display_data"
    },
    {
     "name": "stdout",
     "output_type": "stream",
     "text": [
      "Training:   >> Physionet MMIDB | DSID: None | 19 people | 796 trials | 90 channels | 1536 samples/trial | 256Hz | 0 transforms\n",
      "Validation: Person S099 - 42 trials | 0 transforms\n",
      "Test:       Person S101 - 42 trials | 0 transforms\n"
     ]
    },
    {
     "data": {
      "application/vnd.jupyter.widget-view+json": {
       "model_id": "d63c2c2b51644133999cc80fbf2cc392",
       "version_major": 2,
       "version_minor": 0
      },
      "text/plain": [
       "Predicting:   0%|          | 0/42 [00:00<?, ?it/s]"
      ]
     },
     "metadata": {},
     "output_type": "display_data"
    },
    {
     "name": "stdout",
     "output_type": "stream",
     "text": [
      "Training:   >> Physionet MMIDB | DSID: None | 19 people | 796 trials | 90 channels | 1536 samples/trial | 256Hz | 0 transforms\n",
      "Validation: Person S101 - 42 trials | 0 transforms\n",
      "Test:       Person S102 - 42 trials | 0 transforms\n"
     ]
    },
    {
     "data": {
      "application/vnd.jupyter.widget-view+json": {
       "model_id": "8d7eb53a900f4e6aafdbf43a9d980c8c",
       "version_major": 2,
       "version_minor": 0
      },
      "text/plain": [
       "Predicting:   0%|          | 0/42 [00:00<?, ?it/s]"
      ]
     },
     "metadata": {},
     "output_type": "display_data"
    },
    {
     "name": "stdout",
     "output_type": "stream",
     "text": [
      "Training:   >> Physionet MMIDB | DSID: None | 19 people | 796 trials | 90 channels | 1536 samples/trial | 256Hz | 0 transforms\n",
      "Validation: Person S102 - 42 trials | 0 transforms\n",
      "Test:       Person S103 - 42 trials | 0 transforms\n"
     ]
    },
    {
     "data": {
      "application/vnd.jupyter.widget-view+json": {
       "model_id": "6355073faa2749cea377bcef824d4a6e",
       "version_major": 2,
       "version_minor": 0
      },
      "text/plain": [
       "Predicting:   0%|          | 0/42 [00:00<?, ?it/s]"
      ]
     },
     "metadata": {},
     "output_type": "display_data"
    },
    {
     "name": "stdout",
     "output_type": "stream",
     "text": [
      "Training:   >> Physionet MMIDB | DSID: None | 19 people | 798 trials | 90 channels | 1536 samples/trial | 256Hz | 0 transforms\n",
      "Validation: Person S103 - 42 trials | 0 transforms\n",
      "Test:       Person S104 - 40 trials | 0 transforms\n"
     ]
    },
    {
     "data": {
      "application/vnd.jupyter.widget-view+json": {
       "model_id": "72f6a5612ec3441aa5663b0191711e6e",
       "version_major": 2,
       "version_minor": 0
      },
      "text/plain": [
       "Predicting:   0%|          | 0/40 [00:00<?, ?it/s]"
      ]
     },
     "metadata": {},
     "output_type": "display_data"
    },
    {
     "name": "stdout",
     "output_type": "stream",
     "text": [
      "Training:   >> Physionet MMIDB | DSID: None | 19 people | 798 trials | 90 channels | 1536 samples/trial | 256Hz | 0 transforms\n",
      "Validation: Person S104 - 40 trials | 0 transforms\n",
      "Test:       Person S105 - 42 trials | 0 transforms\n"
     ]
    },
    {
     "data": {
      "application/vnd.jupyter.widget-view+json": {
       "model_id": "64ddfff8bf1e470b989163a58096b53d",
       "version_major": 2,
       "version_minor": 0
      },
      "text/plain": [
       "Predicting:   0%|          | 0/42 [00:00<?, ?it/s]"
      ]
     },
     "metadata": {},
     "output_type": "display_data"
    },
    {
     "name": "stdout",
     "output_type": "stream",
     "text": [
      "Training:   >> Physionet MMIDB | DSID: None | 19 people | 796 trials | 90 channels | 1536 samples/trial | 256Hz | 0 transforms\n",
      "Validation: Person S105 - 42 trials | 0 transforms\n",
      "Test:       Person S106 - 42 trials | 0 transforms\n"
     ]
    },
    {
     "data": {
      "application/vnd.jupyter.widget-view+json": {
       "model_id": "f63b164756f8426cb2b54b7e7aba34e2",
       "version_major": 2,
       "version_minor": 0
      },
      "text/plain": [
       "Predicting:   0%|          | 0/42 [00:00<?, ?it/s]"
      ]
     },
     "metadata": {},
     "output_type": "display_data"
    },
    {
     "name": "stdout",
     "output_type": "stream",
     "text": [
      "Training:   >> Physionet MMIDB | DSID: None | 19 people | 796 trials | 90 channels | 1536 samples/trial | 256Hz | 0 transforms\n",
      "Validation: Person S106 - 42 trials | 0 transforms\n",
      "Test:       Person S107 - 42 trials | 0 transforms\n"
     ]
    },
    {
     "data": {
      "application/vnd.jupyter.widget-view+json": {
       "model_id": "26f4c4f3ce4d4a548c88feef87aa67aa",
       "version_major": 2,
       "version_minor": 0
      },
      "text/plain": [
       "Predicting:   0%|          | 0/42 [00:00<?, ?it/s]"
      ]
     },
     "metadata": {},
     "output_type": "display_data"
    },
    {
     "name": "stdout",
     "output_type": "stream",
     "text": [
      "Training:   >> Physionet MMIDB | DSID: None | 19 people | 796 trials | 90 channels | 1536 samples/trial | 256Hz | 0 transforms\n",
      "Validation: Person S107 - 42 trials | 0 transforms\n",
      "Test:       Person S108 - 42 trials | 0 transforms\n"
     ]
    },
    {
     "data": {
      "application/vnd.jupyter.widget-view+json": {
       "model_id": "069f3641cad74affa86b1e38c46080fc",
       "version_major": 2,
       "version_minor": 0
      },
      "text/plain": [
       "Predicting:   0%|          | 0/42 [00:00<?, ?it/s]"
      ]
     },
     "metadata": {},
     "output_type": "display_data"
    },
    {
     "name": "stdout",
     "output_type": "stream",
     "text": [
      "Training:   >> Physionet MMIDB | DSID: None | 19 people | 796 trials | 90 channels | 1536 samples/trial | 256Hz | 0 transforms\n",
      "Validation: Person S108 - 42 trials | 0 transforms\n",
      "Test:       Person S109 - 42 trials | 0 transforms\n"
     ]
    },
    {
     "data": {
      "application/vnd.jupyter.widget-view+json": {
       "model_id": "d316fee456484b519cc1367bda006cd8",
       "version_major": 2,
       "version_minor": 0
      },
      "text/plain": [
       "Predicting:   0%|          | 0/42 [00:00<?, ?it/s]"
      ]
     },
     "metadata": {},
     "output_type": "display_data"
    },
    {
     "name": "stdout",
     "output_type": "stream",
     "text": [
      "{'S001': OrderedDict({'Accuracy': 0.9047619104385376, 'loss': 0.406982421875}), 'S002': OrderedDict({'Accuracy': 0.7857142686843872, 'loss': 0.53369140625}), 'S003': OrderedDict({'Accuracy': 0.9047619104385376, 'loss': 0.50146484375}), 'S004': OrderedDict({'Accuracy': 0.8809523582458496, 'loss': 0.52099609375}), 'S005': OrderedDict({'Accuracy': 0.7142857313156128, 'loss': 0.58984375}), 'S006': OrderedDict({'Accuracy': 0.9523809552192688, 'loss': 0.5390625}), 'S007': OrderedDict({'Accuracy': 0.8809523582458496, 'loss': 0.587890625}), 'S008': OrderedDict({'Accuracy': 0.738095223903656, 'loss': 0.556640625}), 'S009': OrderedDict({'Accuracy': 0.8809523582458496, 'loss': 0.50048828125}), 'S010': OrderedDict({'Accuracy': 0.6904761791229248, 'loss': 0.5966796875}), 'S011': OrderedDict({'Accuracy': 0.9047619104385376, 'loss': 0.3876953125}), 'S012': OrderedDict({'Accuracy': 0.8809523582458496, 'loss': 0.486328125}), 'S013': OrderedDict({'Accuracy': 0.7142857313156128, 'loss': 0.6357421875}), 'S014': OrderedDict({'Accuracy': 0.8095238208770752, 'loss': 0.5322265625}), 'S015': OrderedDict({'Accuracy': 0.9285714030265808, 'loss': 0.5556640625}), 'S016': OrderedDict({'Accuracy': 0.6904761791229248, 'loss': 0.63134765625}), 'S017': OrderedDict({'Accuracy': 0.8095238208770752, 'loss': 0.5009765625}), 'S018': OrderedDict({'Accuracy': 1.0, 'loss': 0.419189453125}), 'S019': OrderedDict({'Accuracy': 0.6190476417541504, 'loss': 0.6240234375}), 'S020': OrderedDict({'Accuracy': 0.8095238208770752, 'loss': 0.473876953125}), 'S021': OrderedDict({'Accuracy': 0.523809552192688, 'loss': 0.69287109375}), 'S022': OrderedDict({'Accuracy': 1.0, 'loss': 0.3779296875}), 'S023': OrderedDict({'Accuracy': 0.7857142686843872, 'loss': 0.58642578125}), 'S024': OrderedDict({'Accuracy': 0.761904776096344, 'loss': 0.61181640625}), 'S025': OrderedDict({'Accuracy': 0.5714285969734192, 'loss': 0.6875}), 'S026': OrderedDict({'Accuracy': 0.6428571343421936, 'loss': 0.650390625}), 'S027': OrderedDict({'Accuracy': 0.8333333134651184, 'loss': 0.486572265625}), 'S028': OrderedDict({'Accuracy': 0.9523809552192688, 'loss': 0.341064453125}), 'S029': OrderedDict({'Accuracy': 0.8571428656578064, 'loss': 0.42236328125}), 'S030': OrderedDict({'Accuracy': 0.976190447807312, 'loss': 0.3935546875}), 'S031': OrderedDict({'Accuracy': 0.8571428656578064, 'loss': 0.57421875}), 'S032': OrderedDict({'Accuracy': 1.0, 'loss': 0.39990234375}), 'S033': OrderedDict({'Accuracy': 1.0, 'loss': 0.49072265625}), 'S034': OrderedDict({'Accuracy': 0.9047619104385376, 'loss': 0.4296875}), 'S035': OrderedDict({'Accuracy': 0.8809523582458496, 'loss': 0.60546875}), 'S036': OrderedDict({'Accuracy': 0.8333333134651184, 'loss': 0.5322265625}), 'S037': OrderedDict({'Accuracy': 0.8809523582458496, 'loss': 0.41748046875}), 'S038': OrderedDict({'Accuracy': 0.523809552192688, 'loss': 0.68603515625}), 'S039': OrderedDict({'Accuracy': 0.8333333134651184, 'loss': 0.485107421875}), 'S040': OrderedDict({'Accuracy': 0.976190447807312, 'loss': 0.290283203125}), 'S041': OrderedDict({'Accuracy': 0.9523809552192688, 'loss': 0.446044921875}), 'S042': OrderedDict({'Accuracy': 0.9047619104385376, 'loss': 0.438720703125}), 'S043': OrderedDict({'Accuracy': 0.7142857313156128, 'loss': 0.467529296875}), 'S044': OrderedDict({'Accuracy': 0.6428571343421936, 'loss': 0.53369140625}), 'S045': OrderedDict({'Accuracy': 0.523809552192688, 'loss': 0.6455078125}), 'S046': OrderedDict({'Accuracy': 0.6428571343421936, 'loss': 0.59130859375}), 'S047': OrderedDict({'Accuracy': 0.6666666865348816, 'loss': 0.51904296875}), 'S048': OrderedDict({'Accuracy': 0.9523809552192688, 'loss': 0.360595703125}), 'S049': OrderedDict({'Accuracy': 0.523809552192688, 'loss': 0.66796875}), 'S050': OrderedDict({'Accuracy': 0.6904761791229248, 'loss': 0.44482421875}), 'S051': OrderedDict({'Accuracy': 0.6666666865348816, 'loss': 0.5380859375}), 'S052': OrderedDict({'Accuracy': 0.7857142686843872, 'loss': 0.50537109375}), 'S053': OrderedDict({'Accuracy': 0.523809552192688, 'loss': 0.62939453125}), 'S054': OrderedDict({'Accuracy': 0.6904761791229248, 'loss': 0.5126953125}), 'S055': OrderedDict({'Accuracy': 0.761904776096344, 'loss': 0.497314453125}), 'S056': OrderedDict({'Accuracy': 0.5, 'loss': 0.64599609375}), 'S057': OrderedDict({'Accuracy': 0.976190447807312, 'loss': 0.30517578125}), 'S058': OrderedDict({'Accuracy': 0.8571428656578064, 'loss': 0.375}), 'S059': OrderedDict({'Accuracy': 0.7857142686843872, 'loss': 0.488525390625}), 'S060': OrderedDict({'Accuracy': 0.8333333134651184, 'loss': 0.39794921875}), 'S061': OrderedDict({'Accuracy': 0.6904761791229248, 'loss': 0.51123046875}), 'S062': OrderedDict({'Accuracy': 0.761904776096344, 'loss': 0.48583984375}), 'S063': OrderedDict({'Accuracy': 0.5, 'loss': 0.63525390625}), 'S064': OrderedDict({'Accuracy': 0.9047619104385376, 'loss': 0.45361328125}), 'S065': OrderedDict({'Accuracy': 0.8571428656578064, 'loss': 0.50634765625}), 'S066': OrderedDict({'Accuracy': 0.7857142686843872, 'loss': 0.56982421875}), 'S067': OrderedDict({'Accuracy': 0.7857142686843872, 'loss': 0.5537109375}), 'S068': OrderedDict({'Accuracy': 0.6666666865348816, 'loss': 0.53125}), 'S069': OrderedDict({'Accuracy': 0.523809552192688, 'loss': 0.6591796875}), 'S070': OrderedDict({'Accuracy': 0.8333333134651184, 'loss': 0.441650390625}), 'S071': OrderedDict({'Accuracy': 0.9047619104385376, 'loss': 0.397705078125}), 'S072': OrderedDict({'Accuracy': 0.8571428656578064, 'loss': 0.399169921875}), 'S073': OrderedDict({'Accuracy': 0.9047619104385376, 'loss': 0.478515625}), 'S074': OrderedDict({'Accuracy': 0.738095223903656, 'loss': 0.52880859375}), 'S075': OrderedDict({'Accuracy': 0.6428571343421936, 'loss': 0.68359375}), 'S076': OrderedDict({'Accuracy': 0.7857142686843872, 'loss': 0.5009765625}), 'S077': OrderedDict({'Accuracy': 0.8571428656578064, 'loss': 0.489501953125}), 'S078': OrderedDict({'Accuracy': 0.523809552192688, 'loss': 0.70849609375}), 'S079': OrderedDict({'Accuracy': 0.7857142686843872, 'loss': 0.55419921875}), 'S080': OrderedDict({'Accuracy': 0.5714285969734192, 'loss': 0.640625}), 'S081': OrderedDict({'Accuracy': 0.8571428656578064, 'loss': 0.40185546875}), 'S082': OrderedDict({'Accuracy': 0.761904776096344, 'loss': 0.45361328125}), 'S083': OrderedDict({'Accuracy': 0.5476190447807312, 'loss': 0.66943359375}), 'S084': OrderedDict({'Accuracy': 0.9285714030265808, 'loss': 0.439697265625}), 'S085': OrderedDict({'Accuracy': 0.8095238208770752, 'loss': 0.58349609375}), 'S086': OrderedDict({'Accuracy': 1.0, 'loss': 0.35205078125}), 'S087': OrderedDict({'Accuracy': 0.5714285969734192, 'loss': 0.66943359375}), 'S089': OrderedDict({'Accuracy': 0.8333333134651184, 'loss': 0.4794921875}), 'S091': OrderedDict({'Accuracy': 0.8333333134651184, 'loss': 0.56005859375}), 'S093': OrderedDict({'Accuracy': 0.9523809552192688, 'loss': 0.33544921875}), 'S094': OrderedDict({'Accuracy': 0.9523809552192688, 'loss': 0.57958984375}), 'S095': OrderedDict({'Accuracy': 0.8333333134651184, 'loss': 0.51123046875}), 'S096': OrderedDict({'Accuracy': 0.9523809552192688, 'loss': 0.458740234375}), 'S097': OrderedDict({'Accuracy': 0.738095223903656, 'loss': 0.62939453125}), 'S098': OrderedDict({'Accuracy': 0.6666666865348816, 'loss': 0.58740234375}), 'S099': OrderedDict({'Accuracy': 0.6666666865348816, 'loss': 0.64697265625}), 'S101': OrderedDict({'Accuracy': 1.0, 'loss': 0.2034912109375}), 'S102': OrderedDict({'Accuracy': 0.7857142686843872, 'loss': 0.51904296875}), 'S103': OrderedDict({'Accuracy': 0.8095238208770752, 'loss': 0.5107421875}), 'S104': OrderedDict({'Accuracy': 0.8999999761581421, 'loss': 0.469482421875}), 'S105': OrderedDict({'Accuracy': 1.0, 'loss': 0.259521484375}), 'S106': OrderedDict({'Accuracy': 0.8095238208770752, 'loss': 0.57421875}), 'S107': OrderedDict({'Accuracy': 0.7857142686843872, 'loss': 0.5654296875}), 'S108': OrderedDict({'Accuracy': 0.8571428656578064, 'loss': 0.51953125}), 'S109': OrderedDict({'Accuracy': 0.7142857313156128, 'loss': 0.5712890625})}\n"
     ]
    }
   ],
   "source": [
    "results = dict()\n",
    "for training, validation, test in dataset.lmso(ds_config.folds):\n",
    "    # Convert training, validation datasets to half precision\n",
    "    training = [(x.half(), y) for x, y in training]\n",
    "    validation = [(x.half(), y) for x, y in validation]\n",
    "    scaler = GradScaler()\n",
    "\n",
    "    process = make_model_and_process()\n",
    "\n",
    "    with autocast(device_type=device):\n",
    "        process.fit(training_dataset=training, validation_dataset=validation,\n",
    "                    epochs=ds_config.train_params.epochs,\n",
    "                    batch_size=ds_config.train_params.batch_size)\n",
    "\n",
    "    for _, _, test_thinker in test.loso():\n",
    "        results[test_thinker.person_id] = process.evaluate(test_thinker)\n",
    "\n",
    "print(results)\n",
    "print(f\"Model size: {get_model_size(process):.2f} MB\")"
   ]
  },
  {
   "cell_type": "code",
   "execution_count": null,
   "metadata": {},
   "outputs": [
    {
     "name": "stdout",
     "output_type": "stream",
     "text": [
      "Average accuracy: 79.18%\n"
     ]
    }
   ],
   "source": [
    "avg_acc = sum(v['Accuracy'] for v in results.values()) / len(results)\n",
    "print(\"Average accuracy: {:.2%}\".format(avg_acc))"
   ]
  }
 ],
 "metadata": {
  "kernelspec": {
   "display_name": "env",
   "language": "python",
   "name": "python3"
  },
  "language_info": {
   "codemirror_mode": {
    "name": "ipython",
    "version": 3
   },
   "file_extension": ".py",
   "mimetype": "text/x-python",
   "name": "python",
   "nbconvert_exporter": "python",
   "pygments_lexer": "ipython3",
   "version": "3.12.7"
  }
 },
 "nbformat": 4,
 "nbformat_minor": 0
}
